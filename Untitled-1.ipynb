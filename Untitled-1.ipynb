{
 "cells": [
  {
   "cell_type": "code",
   "execution_count": 3,
   "metadata": {},
   "outputs": [
    {
     "name": "stdout",
     "output_type": "stream",
     "text": [
      "банан: 5387 UC x 2 = 10774 UC\n",
      "груша: 5422 UC x 1 = 5422 UC\n",
      "киви : 4316 UC x 4 = 17264 UC\n",
      "лимон: 5418 UC x 3 = 16254 UC\n"
     ]
    }
   ],
   "source": [
    "from collections import Counter\n",
    "products = Counter('лимон,лимон,лимон,груша,банан,банан,киви,киви,киви,киви'.split(','))\n",
    "max_len = max([len(i) for i in products])\n",
    "for product in sorted(products):\n",
    "    price = sum([ord(i) for i in product if i != ' '])\n",
    "    print(f\"{product.ljust(max_len)}: {price} UC x {products[product]} = {price * products[product]} UC\")"
   ]
  },
  {
   "cell_type": "code",
   "execution_count": 4,
   "metadata": {},
   "outputs": [
    {
     "name": "stdout",
     "output_type": "stream",
     "text": [
      "a: 3\n",
      "b: 4\n",
      "c: 2\n",
      "e: 10\n",
      "f: 2\n",
      "g: 1\n",
      "h: 4\n",
      "i: 9\n",
      "l: 4\n",
      "m: 2\n",
      "n: 4\n",
      "o: 2\n",
      "p: 4\n",
      "r: 3\n",
      "s: 3\n",
      "t: 13\n",
      "u: 3\n",
      "x: 1\n",
      "y: 3\n",
      "z: 1\n"
     ]
    }
   ],
   "source": [
    "from collections import Counter\n",
    "file = Counter(\"\"\"The Zen of Python, by Tim Peters\n",
    "Beautiful is better than ugly.\n",
    "Explicit is better than implicit.\"\"\".lower())\n",
    "for i in sorted(file):\n",
    "    if i.isalpha():\n",
    "        print(f\"{i}: {file[i]}\")"
   ]
  },
  {
   "cell_type": "code",
   "execution_count": null,
   "metadata": {},
   "outputs": [],
   "source": []
  },
  {
   "cell_type": "code",
   "execution_count": 5,
   "metadata": {},
   "outputs": [
    {
     "name": "stdout",
     "output_type": "stream",
     "text": [
      "Максимальная сумма равна 802 + 804 + 804 = 2410\n",
      "Индексы: 187, 214, 214\n"
     ]
    }
   ],
   "source": [
    "file_address = 'a.txt'\n",
    "f = open(file_address, 'r')\n",
    "k = int(f.readline())\n",
    "n = int(f.readline())\n",
    "nums = [int(x) for x in f.readlines()]\n",
    "# max_l = maxx = max_r = 0\n",
    "maxx = max(nums[k:n-k+1])\n",
    "max_l = max(nums[:nums.index(maxx) - k])\n",
    "max_r = max(nums[nums.index(maxx) + k:])\n",
    "\n",
    "maxx_s = sum([maxx, max_l, max_r])\n",
    "\n",
    "print(f\"Максимальная сумма равна {max_l} + {maxx} + {max_r} = {maxx_s}\")\n",
    "print(f\"Индексы: {nums.index(max_l)}, {nums.index(maxx)}, {nums.index(max_r)}\")"
   ]
  },
  {
   "cell_type": "code",
   "execution_count": 6,
   "metadata": {},
   "outputs": [
    {
     "ename": "KeyboardInterrupt",
     "evalue": "",
     "output_type": "error",
     "traceback": [
      "\u001b[1;31m---------------------------------------------------------------------------\u001b[0m",
      "\u001b[1;31mKeyboardInterrupt\u001b[0m                         Traceback (most recent call last)",
      "\u001b[1;32mc:\\Users\\user\\temp\\stepic\\Untitled-1.ipynb Ячейка 4\u001b[0m line \u001b[0;36m4\n\u001b[0;32m      <a href='vscode-notebook-cell:/c%3A/Users/user/temp/stepic/Untitled-1.ipynb#W3sZmlsZQ%3D%3D?line=1'>2</a>\u001b[0m k \u001b[39m=\u001b[39m \u001b[39mint\u001b[39m(f\u001b[39m.\u001b[39mreadline())\n\u001b[0;32m      <a href='vscode-notebook-cell:/c%3A/Users/user/temp/stepic/Untitled-1.ipynb#W3sZmlsZQ%3D%3D?line=2'>3</a>\u001b[0m n \u001b[39m=\u001b[39m \u001b[39mint\u001b[39m(f\u001b[39m.\u001b[39mreadline())\n\u001b[1;32m----> <a href='vscode-notebook-cell:/c%3A/Users/user/temp/stepic/Untitled-1.ipynb#W3sZmlsZQ%3D%3D?line=3'>4</a>\u001b[0m nums \u001b[39m=\u001b[39m [\u001b[39mint\u001b[39m(x) \u001b[39mfor\u001b[39;00m x \u001b[39min\u001b[39;00m f\u001b[39m.\u001b[39mreadlines()]\n\u001b[0;32m      <a href='vscode-notebook-cell:/c%3A/Users/user/temp/stepic/Untitled-1.ipynb#W3sZmlsZQ%3D%3D?line=4'>5</a>\u001b[0m max_l \u001b[39m=\u001b[39m maxx \u001b[39m=\u001b[39m \u001b[39m0\u001b[39m\n\u001b[0;32m      <a href='vscode-notebook-cell:/c%3A/Users/user/temp/stepic/Untitled-1.ipynb#W3sZmlsZQ%3D%3D?line=5'>6</a>\u001b[0m \u001b[39mfor\u001b[39;00m i \u001b[39min\u001b[39;00m \u001b[39mrange\u001b[39m(k, n):\n\u001b[0;32m      <a href='vscode-notebook-cell:/c%3A/Users/user/temp/stepic/Untitled-1.ipynb#W3sZmlsZQ%3D%3D?line=6'>7</a>\u001b[0m   \u001b[39m# переопределяем максимум\u001b[39;00m\n\u001b[0;32m      <a href='vscode-notebook-cell:/c%3A/Users/user/temp/stepic/Untitled-1.ipynb#W3sZmlsZQ%3D%3D?line=7'>8</a>\u001b[0m   \u001b[39m# в начале последовательности\u001b[39;00m\n",
      "\u001b[1;32mc:\\Users\\user\\temp\\stepic\\Untitled-1.ipynb Ячейка 4\u001b[0m line \u001b[0;36m4\n\u001b[0;32m      <a href='vscode-notebook-cell:/c%3A/Users/user/temp/stepic/Untitled-1.ipynb#W3sZmlsZQ%3D%3D?line=1'>2</a>\u001b[0m k \u001b[39m=\u001b[39m \u001b[39mint\u001b[39m(f\u001b[39m.\u001b[39mreadline())\n\u001b[0;32m      <a href='vscode-notebook-cell:/c%3A/Users/user/temp/stepic/Untitled-1.ipynb#W3sZmlsZQ%3D%3D?line=2'>3</a>\u001b[0m n \u001b[39m=\u001b[39m \u001b[39mint\u001b[39m(f\u001b[39m.\u001b[39mreadline())\n\u001b[1;32m----> <a href='vscode-notebook-cell:/c%3A/Users/user/temp/stepic/Untitled-1.ipynb#W3sZmlsZQ%3D%3D?line=3'>4</a>\u001b[0m nums \u001b[39m=\u001b[39m [\u001b[39mint\u001b[39;49m(x) \u001b[39mfor\u001b[39;00m x \u001b[39min\u001b[39;00m f\u001b[39m.\u001b[39mreadlines()]\n\u001b[0;32m      <a href='vscode-notebook-cell:/c%3A/Users/user/temp/stepic/Untitled-1.ipynb#W3sZmlsZQ%3D%3D?line=4'>5</a>\u001b[0m max_l \u001b[39m=\u001b[39m maxx \u001b[39m=\u001b[39m \u001b[39m0\u001b[39m\n\u001b[0;32m      <a href='vscode-notebook-cell:/c%3A/Users/user/temp/stepic/Untitled-1.ipynb#W3sZmlsZQ%3D%3D?line=5'>6</a>\u001b[0m \u001b[39mfor\u001b[39;00m i \u001b[39min\u001b[39;00m \u001b[39mrange\u001b[39m(k, n):\n\u001b[0;32m      <a href='vscode-notebook-cell:/c%3A/Users/user/temp/stepic/Untitled-1.ipynb#W3sZmlsZQ%3D%3D?line=6'>7</a>\u001b[0m   \u001b[39m# переопределяем максимум\u001b[39;00m\n\u001b[0;32m      <a href='vscode-notebook-cell:/c%3A/Users/user/temp/stepic/Untitled-1.ipynb#W3sZmlsZQ%3D%3D?line=7'>8</a>\u001b[0m   \u001b[39m# в начале последовательности\u001b[39;00m\n",
      "\u001b[1;31mKeyboardInterrupt\u001b[0m: "
     ]
    }
   ],
   "source": [
    "f = open('b.txt')\n",
    "k = int(f.readline())\n",
    "n = int(f.readline())\n",
    "nums = [int(x) for x in f.readlines()]\n",
    "max_l = maxx = 0\n",
    "for i in range(k, n):\n",
    "  # переопределяем максимум\n",
    "  # в начале последовательности\n",
    "  max_l = max(max_l, nums[i-k])\n",
    "  # переопеделяем максимум если надо\n",
    "  maxx = max(maxx, nums[i] + max_l)\n",
    "print(maxx)"
   ]
  },
  {
   "cell_type": "code",
   "execution_count": null,
   "metadata": {},
   "outputs": [
    {
     "data": {
      "text/plain": [
       "5"
      ]
     },
     "execution_count": 6,
     "metadata": {},
     "output_type": "execute_result"
    }
   ],
   "source": [
    "from collections import Counter\n",
    "k = Counter(aim=2, rul=3)\n",
    "k.total()"
   ]
  },
  {
   "cell_type": "code",
   "execution_count": null,
   "metadata": {},
   "outputs": [
    {
     "name": "stdout",
     "output_type": "stream",
     "text": [
      "банан, клубника, черешня\n"
     ]
    }
   ],
   "source": [
    "from collections import Counter\n",
    "letter = Counter('Черешня Вишня Арбуз малина Малина клубникА Арбуз Банан вишня малина'.lower().split())\n",
    "minimal = letter.most_common()[::-1][0][1]\n",
    "reslt = []\n",
    "for val, nums in letter.items():\n",
    "    if nums == minimal:\n",
    "        reslt.append(val)\n",
    "print(', '.join(sorted(reslt)))"
   ]
  },
  {
   "cell_type": "code",
   "execution_count": null,
   "metadata": {},
   "outputs": [
    {
     "name": "stdout",
     "output_type": "stream",
     "text": [
      "малина\n"
     ]
    }
   ],
   "source": [
    "from collections import Counter\n",
    "letter = Counter('МаЛиНа клубника Арбуз банаН Малина Черешня вишня арбуз клубника банан'.lower().split())\n",
    "maxi = letter.most_common()[0][1]\n",
    "reslt = []\n",
    "for val, nums in letter.items():\n",
    "    if nums == maxi:\n",
    "        reslt.append(val)\n",
    "print(sorted(reslt)[-1])"
   ]
  },
  {
   "cell_type": "code",
   "execution_count": null,
   "metadata": {},
   "outputs": [
    {
     "name": "stdout",
     "output_type": "stream",
     "text": [
      "Слов длины 7: 1\n",
      "Слов длины 11: 1\n",
      "Слов длины 2: 2\n",
      "Слов длины 6: 3\n"
     ]
    }
   ],
   "source": [
    "from collections import Counter\n",
    "letter = 'Не сможет больше мальчик дотронуться до солнца'.lower()\n",
    "cc = Counter([len(i) for i in letter.split()])\n",
    "for i in (sorted(cc, key=lambda x: cc[x])):\n",
    "    print(f\"Слов длины {i}: {cc[i]}\")"
   ]
  },
  {
   "cell_type": "code",
   "execution_count": null,
   "metadata": {},
   "outputs": [
    {
     "name": "stdout",
     "output_type": "stream",
     "text": [
      "barbaraanderson@bk.ru: 3\n",
      "barbarabrown@rambler.ru: 3\n",
      "barbaradavis@aol.com: 2\n",
      "barbaragarcia@inbox.ru: 2\n",
      "barbarajackson@bk.ru: 1\n",
      "barbarajohnson@yandex.ru: 2\n",
      "barbarajones@mail.ru: 2\n",
      "barbaralee@gmail.com: 2\n",
      "barbaramartin@internet.ru: 3\n",
      "barbaramartinez@bk.ru: 2\n",
      "barbaramiller@yahoo.com: 1\n",
      "barbaramoore@yahoo.com: 2\n",
      "barbararodriguez@internet.ru: 1\n",
      "barbarasmith@gmail.com: 1\n",
      "barbarataylor@yahoo.com: 3\n",
      "barbarathomas@internet.ru: 3\n",
      "barbarathompson@bk.ru: 1\n",
      "barbarawhite@yandex.ru: 1\n",
      "barbarawilliams@aol.com: 3\n",
      "barbarawilson@yandex.ru: 3\n",
      "charlesanderson@outlook.com: 1\n",
      "charlesbrown@inbox.ru: 1\n",
      "charlesdavis@gmail.com: 2\n",
      "charlesgarcia@mail.ru: 2\n",
      "charlesjackson@gmail.com: 2\n",
      "charlesjohnson@list.ru: 1\n",
      "charlesjones@gmail.com: 1\n",
      "charleslee@yahoo.com: 3\n",
      "charlesmartin@rambler.ru: 3\n",
      "charlesmartinez@aol.com: 3\n",
      "charlesmiller@gmail.com: 1\n",
      "charlesmoore@bk.ru: 3\n",
      "charlesrodriguez@outlook.com: 3\n",
      "charlessmith@mail.ru: 3\n",
      "charlestaylor@yahoo.com: 1\n",
      "charlesthomas@yandex.ru: 1\n",
      "charlesthompson@inbox.ru: 2\n",
      "charleswhite@inbox.ru: 3\n",
      "charleswilliams@gmail.com: 1\n",
      "charleswilson@inbox.ru: 1\n",
      "danielanderson@internet.ru: 3\n",
      "danielbrown@bk.ru: 2\n",
      "danieldavis@gmail.com: 3\n",
      "danielgarcia@mail.ru: 1\n",
      "danieljackson@bk.ru: 2\n",
      "danieljohnson@inbox.ru: 1\n",
      "danieljones@aol.com: 1\n",
      "daniellee@bk.ru: 1\n",
      "danielmartin@inbox.ru: 1\n",
      "danielmartinez@gmail.com: 1\n",
      "danielmiller@aol.com: 1\n",
      "danielmoore@bk.ru: 3\n",
      "danielrodriguez@yahoo.com: 2\n",
      "danielsmith@list.ru: 2\n",
      "danieltaylor@bk.ru: 3\n",
      "danielthomas@inbox.ru: 2\n",
      "danielthompson@aol.com: 1\n",
      "danielwhite@yandex.ru: 3\n",
      "danielwilliams@iCloud.com: 1\n",
      "danielwilson@yandex.ru: 1\n",
      "davidanderson@rambler.ru: 3\n",
      "davidbrown@mail.ru: 2\n",
      "daviddavis@aol.com: 2\n",
      "davidgarcia@yahoo.com: 1\n",
      "davidjackson@bk.ru: 3\n",
      "davidjohnson@mail.ru: 2\n",
      "davidjones@list.ru: 1\n",
      "davidlee@internet.ru: 2\n",
      "davidmartin@list.ru: 1\n",
      "davidmartinez@iCloud.com: 3\n",
      "davidmiller@aol.com: 1\n",
      "davidmoore@list.ru: 1\n",
      "davidrodriguez@yandex.ru: 2\n",
      "davidsmith@gmail.com: 2\n",
      "davidtaylor@outlook.com: 2\n",
      "davidthomas@mail.ru: 3\n",
      "davidthompson@yahoo.com: 2\n",
      "davidwhite@mail.ru: 1\n",
      "davidwilliams@list.ru: 3\n",
      "davidwilson@iCloud.com: 2\n",
      "elizabethanderson@outlook.com: 3\n",
      "elizabethbrown@bk.ru: 2\n",
      "elizabethdavis@outlook.com: 3\n",
      "elizabethgarcia@inbox.ru: 3\n",
      "elizabethjackson@rambler.ru: 3\n",
      "elizabethjohnson@rambler.ru: 2\n",
      "elizabethjones@mail.ru: 2\n",
      "elizabethlee@mail.ru: 1\n",
      "elizabethmartin@gmail.com: 3\n",
      "elizabethmartinez@rambler.ru: 2\n",
      "elizabethmiller@list.ru: 2\n",
      "elizabethmoore@outlook.com: 2\n",
      "elizabethrodriguez@inbox.ru: 2\n",
      "elizabethsmith@mail.ru: 3\n",
      "elizabethtaylor@internet.ru: 1\n",
      "elizabeththomas@aol.com: 3\n",
      "elizabeththompson@outlook.com: 3\n",
      "elizabethwhite@gmail.com: 2\n",
      "elizabethwilliams@gmail.com: 1\n",
      "elizabethwilson@yandex.ru: 2\n",
      "jamesanderson@list.ru: 1\n",
      "jamesbrown@inbox.ru: 1\n",
      "jamesdavis@internet.ru: 1\n",
      "jamesgarcia@internet.ru: 1\n",
      "jamesjackson@yandex.ru: 2\n",
      "jamesjohnson@internet.ru: 1\n",
      "jamesjones@yahoo.com: 1\n",
      "jameslee@list.ru: 1\n",
      "jamesmartin@gmail.com: 1\n",
      "jamesmartinez@list.ru: 1\n",
      "jamesmiller@outlook.com: 3\n",
      "jamesmoore@gmail.com: 2\n",
      "jamesrodriguez@gmail.com: 1\n",
      "jamessmith@aol.com: 1\n",
      "jamestaylor@rambler.ru: 1\n",
      "jamesthomas@gmail.com: 2\n",
      "jamesthompson@internet.ru: 2\n",
      "jameswhite@aol.com: 1\n",
      "jameswilliams@gmail.com: 3\n",
      "jameswilson@yahoo.com: 1\n",
      "jenniferanderson@yahoo.com: 2\n",
      "jenniferbrown@iCloud.com: 1\n",
      "jenniferdavis@outlook.com: 3\n",
      "jennifergarcia@aol.com: 1\n",
      "jenniferjackson@yahoo.com: 1\n",
      "jenniferjohnson@yahoo.com: 2\n",
      "jenniferjones@yandex.ru: 3\n",
      "jenniferlee@yandex.ru: 2\n",
      "jennifermartin@mail.ru: 2\n",
      "jennifermartinez@outlook.com: 2\n",
      "jennifermiller@yahoo.com: 1\n",
      "jennifermoore@iCloud.com: 3\n",
      "jenniferrodriguez@rambler.ru: 2\n",
      "jennifersmith@yandex.ru: 1\n",
      "jennifertaylor@yandex.ru: 1\n",
      "jenniferthomas@iCloud.com: 3\n",
      "jenniferthompson@yahoo.com: 3\n",
      "jenniferwhite@yandex.ru: 1\n",
      "jenniferwilliams@outlook.com: 1\n",
      "jenniferwilson@aol.com: 2\n",
      "johnanderson@outlook.com: 3\n",
      "johnbrown@iCloud.com: 2\n",
      "johndavis@list.ru: 1\n",
      "johngarcia@mail.ru: 1\n",
      "johnjackson@gmail.com: 3\n",
      "johnjohnson@internet.ru: 1\n",
      "johnjones@aol.com: 3\n",
      "johnlee@inbox.ru: 1\n",
      "johnmartin@list.ru: 2\n",
      "johnmartinez@inbox.ru: 2\n",
      "johnmiller@bk.ru: 1\n",
      "johnmoore@iCloud.com: 3\n",
      "johnrodriguez@bk.ru: 3\n",
      "johnsmith@inbox.ru: 1\n",
      "johntaylor@internet.ru: 2\n",
      "johnthomas@bk.ru: 3\n",
      "johnthompson@inbox.ru: 3\n",
      "johnwhite@bk.ru: 3\n",
      "johnwilliams@rambler.ru: 2\n",
      "johnwilson@outlook.com: 3\n",
      "josephanderson@mail.ru: 1\n",
      "josephbrown@list.ru: 3\n",
      "josephdavis@yahoo.com: 3\n",
      "josephgarcia@iCloud.com: 1\n",
      "josephjackson@outlook.com: 2\n",
      "josephjohnson@rambler.ru: 2\n",
      "josephjones@mail.ru: 1\n",
      "josephlee@list.ru: 2\n",
      "josephmartin@internet.ru: 3\n",
      "josephmartinez@bk.ru: 1\n",
      "josephmiller@gmail.com: 1\n",
      "josephmoore@mail.ru: 2\n",
      "josephrodriguez@rambler.ru: 3\n",
      "josephsmith@mail.ru: 3\n",
      "josephtaylor@aol.com: 3\n",
      "josephthomas@gmail.com: 1\n",
      "josephthompson@gmail.com: 3\n",
      "josephwhite@bk.ru: 3\n",
      "josephwilliams@outlook.com: 3\n",
      "josephwilson@rambler.ru: 1\n",
      "lindaanderson@list.ru: 3\n",
      "lindabrown@gmail.com: 3\n",
      "lindadavis@rambler.ru: 2\n",
      "lindagarcia@outlook.com: 2\n",
      "lindajackson@list.ru: 3\n",
      "lindajohnson@gmail.com: 1\n",
      "lindajones@yahoo.com: 2\n",
      "lindalee@bk.ru: 2\n",
      "lindamartin@mail.ru: 2\n",
      "lindamartinez@aol.com: 2\n",
      "lindamiller@mail.ru: 3\n",
      "lindamoore@internet.ru: 1\n",
      "lindarodriguez@bk.ru: 1\n",
      "lindasmith@mail.ru: 2\n",
      "lindataylor@yahoo.com: 1\n",
      "lindathomas@aol.com: 1\n",
      "lindathompson@yahoo.com: 2\n",
      "lindawhite@yandex.ru: 1\n",
      "lindawilliams@list.ru: 2\n",
      "lindawilson@inbox.ru: 1\n",
      "mariaanderson@internet.ru: 1\n",
      "mariabrown@list.ru: 3\n",
      "mariadavis@mail.ru: 3\n",
      "mariagarcia@bk.ru: 3\n",
      "mariajackson@yahoo.com: 2\n",
      "mariajohnson@list.ru: 3\n",
      "mariajones@bk.ru: 2\n",
      "marialee@outlook.com: 2\n",
      "mariamartin@iCloud.com: 1\n",
      "mariamartinez@outlook.com: 2\n",
      "mariamiller@iCloud.com: 2\n",
      "mariamoore@aol.com: 1\n",
      "mariarodriguez@outlook.com: 2\n",
      "mariasmith@aol.com: 3\n",
      "mariataylor@gmail.com: 1\n",
      "mariathomas@yahoo.com: 2\n",
      "mariathompson@aol.com: 1\n",
      "mariawhite@aol.com: 2\n",
      "mariawilliams@rambler.ru: 1\n",
      "mariawilson@bk.ru: 2\n",
      "markanderson@bk.ru: 3\n",
      "markbrown@iCloud.com: 1\n",
      "markdavis@internet.ru: 3\n",
      "markgarcia@yandex.ru: 3\n",
      "markjackson@internet.ru: 1\n",
      "markjohnson@rambler.ru: 1\n",
      "markjones@internet.ru: 3\n",
      "marklee@gmail.com: 3\n",
      "markmartin@rambler.ru: 2\n",
      "markmartinez@list.ru: 3\n",
      "markmiller@gmail.com: 1\n",
      "markmoore@bk.ru: 1\n",
      "markrodriguez@iCloud.com: 1\n",
      "marksmith@yahoo.com: 2\n",
      "marktaylor@iCloud.com: 2\n",
      "markthomas@rambler.ru: 3\n",
      "markthompson@iCloud.com: 1\n",
      "markwhite@gmail.com: 1\n",
      "markwilliams@yandex.ru: 3\n",
      "markwilson@inbox.ru: 3\n",
      "maryanderson@yandex.ru: 1\n",
      "marybrown@yandex.ru: 2\n",
      "marydavis@gmail.com: 3\n",
      "marygarcia@gmail.com: 2\n",
      "maryjackson@internet.ru: 1\n",
      "maryjohnson@iCloud.com: 3\n",
      "maryjones@yandex.ru: 1\n",
      "marylee@yahoo.com: 3\n",
      "marymartin@yahoo.com: 1\n",
      "marymartinez@internet.ru: 1\n",
      "marymiller@inbox.ru: 2\n",
      "marymoore@aol.com: 1\n",
      "maryrodriguez@gmail.com: 2\n",
      "marysmith@aol.com: 1\n",
      "marytaylor@iCloud.com: 1\n",
      "marythomas@iCloud.com: 2\n",
      "marythompson@yandex.ru: 1\n",
      "marywhite@yandex.ru: 3\n",
      "marywilliams@list.ru: 2\n",
      "marywilson@list.ru: 2\n",
      "michaelanderson@mail.ru: 2\n",
      "michaelbrown@internet.ru: 1\n",
      "michaeldavis@aol.com: 2\n",
      "michaelgarcia@iCloud.com: 3\n",
      "michaeljackson@outlook.com: 1\n",
      "michaeljohnson@inbox.ru: 2\n",
      "michaeljones@gmail.com: 3\n",
      "michaellee@mail.ru: 2\n",
      "michaelmartin@internet.ru: 1\n",
      "michaelmartinez@rambler.ru: 2\n",
      "michaelmiller@aol.com: 3\n",
      "michaelmoore@bk.ru: 2\n",
      "michaelrodriguez@list.ru: 1\n",
      "michaelsmith@gmail.com: 3\n",
      "michaeltaylor@mail.ru: 3\n",
      "michaelthomas@mail.ru: 3\n",
      "michaelthompson@mail.ru: 2\n",
      "michaelwhite@rambler.ru: 3\n",
      "michaelwilliams@inbox.ru: 1\n",
      "michaelwilson@yandex.ru: 1\n",
      "patriciaanderson@yandex.ru: 1\n",
      "patriciabrown@rambler.ru: 1\n",
      "patriciadavis@mail.ru: 2\n",
      "patriciagarcia@gmail.com: 1\n",
      "patriciajackson@gmail.com: 3\n",
      "patriciajohnson@yahoo.com: 1\n",
      "patriciajones@yandex.ru: 3\n",
      "patricialee@bk.ru: 2\n",
      "patriciamartin@iCloud.com: 1\n",
      "patriciamartinez@inbox.ru: 3\n",
      "patriciamiller@list.ru: 3\n",
      "patriciamoore@gmail.com: 2\n",
      "patriciarodriguez@bk.ru: 3\n",
      "patriciasmith@bk.ru: 1\n",
      "patriciataylor@outlook.com: 2\n",
      "patriciathomas@iCloud.com: 2\n",
      "patriciathompson@aol.com: 2\n",
      "patriciawhite@bk.ru: 1\n",
      "patriciawilliams@yandex.ru: 2\n",
      "patriciawilson@mail.ru: 2\n",
      "richardanderson@iCloud.com: 1\n",
      "richardbrown@yahoo.com: 3\n",
      "richarddavis@gmail.com: 1\n",
      "richardgarcia@inbox.ru: 2\n",
      "richardjackson@bk.ru: 2\n",
      "richardjohnson@mail.ru: 2\n",
      "richardjones@inbox.ru: 2\n",
      "richardlee@mail.ru: 2\n",
      "richardmartin@outlook.com: 2\n",
      "richardmartinez@yahoo.com: 1\n",
      "richardmiller@list.ru: 3\n",
      "richardmoore@iCloud.com: 3\n",
      "richardrodriguez@yandex.ru: 3\n",
      "richardsmith@yahoo.com: 1\n",
      "richardtaylor@gmail.com: 2\n",
      "richardthomas@internet.ru: 3\n",
      "richardthompson@gmail.com: 2\n",
      "richardwhite@gmail.com: 3\n",
      "richardwilliams@bk.ru: 3\n",
      "richardwilson@inbox.ru: 2\n",
      "robertanderson@yandex.ru: 2\n",
      "robertbrown@internet.ru: 3\n",
      "robertdavis@yandex.ru: 2\n",
      "robertgarcia@rambler.ru: 2\n",
      "robertjackson@mail.ru: 2\n",
      "robertjohnson@rambler.ru: 1\n",
      "robertjones@yahoo.com: 1\n",
      "robertlee@outlook.com: 1\n",
      "robertmartin@mail.ru: 2\n",
      "robertmartinez@internet.ru: 3\n",
      "robertmiller@outlook.com: 3\n",
      "robertmoore@mail.ru: 3\n",
      "robertrodriguez@gmail.com: 1\n",
      "robertsmith@list.ru: 3\n",
      "roberttaylor@inbox.ru: 2\n",
      "robertthomas@mail.ru: 3\n",
      "robertthompson@outlook.com: 2\n",
      "robertwhite@outlook.com: 1\n",
      "robertwilliams@list.ru: 2\n",
      "robertwilson@iCloud.com: 3\n",
      "susananderson@aol.com: 2\n",
      "susanbrown@yahoo.com: 3\n",
      "susandavis@outlook.com: 2\n",
      "susangarcia@rambler.ru: 1\n",
      "susanjackson@mail.ru: 1\n",
      "susanjohnson@mail.ru: 2\n",
      "susanjones@mail.ru: 3\n",
      "susanlee@internet.ru: 2\n",
      "susanmartin@gmail.com: 2\n",
      "susanmartinez@yahoo.com: 2\n",
      "susanmiller@outlook.com: 3\n",
      "susanmoore@outlook.com: 3\n",
      "susanrodriguez@inbox.ru: 2\n",
      "susansmith@yahoo.com: 2\n",
      "susantaylor@aol.com: 1\n",
      "susanthomas@mail.ru: 3\n",
      "susanthompson@inbox.ru: 3\n",
      "susanwhite@inbox.ru: 1\n",
      "susanwilliams@yandex.ru: 1\n",
      "susanwilson@bk.ru: 1\n",
      "thomasanderson@internet.ru: 1\n",
      "thomasbrown@yandex.ru: 2\n",
      "thomasdavis@gmail.com: 2\n",
      "thomasgarcia@internet.ru: 2\n",
      "thomasjackson@yahoo.com: 2\n",
      "thomasjohnson@bk.ru: 3\n",
      "thomasjones@outlook.com: 3\n",
      "thomaslee@iCloud.com: 2\n",
      "thomasmartin@outlook.com: 1\n",
      "thomasmartinez@outlook.com: 2\n",
      "thomasmiller@aol.com: 2\n",
      "thomasmoore@list.ru: 2\n",
      "thomasrodriguez@bk.ru: 3\n",
      "thomassmith@yahoo.com: 2\n",
      "thomastaylor@internet.ru: 3\n",
      "thomasthomas@aol.com: 3\n",
      "thomasthompson@rambler.ru: 2\n",
      "thomaswhite@iCloud.com: 3\n",
      "thomaswilliams@iCloud.com: 3\n",
      "thomaswilson@yahoo.com: 3\n",
      "williamanderson@inbox.ru: 1\n",
      "williambrown@outlook.com: 1\n",
      "williamdavis@internet.ru: 2\n",
      "williamgarcia@inbox.ru: 2\n",
      "williamjackson@bk.ru: 3\n",
      "williamjohnson@internet.ru: 2\n",
      "williamjones@bk.ru: 3\n",
      "williamlee@yandex.ru: 3\n",
      "williammartin@iCloud.com: 2\n",
      "williammartinez@inbox.ru: 3\n",
      "williammiller@aol.com: 2\n",
      "williammoore@yandex.ru: 3\n",
      "williamrodriguez@gmail.com: 1\n",
      "williamsmith@yahoo.com: 3\n",
      "williamtaylor@yandex.ru: 1\n",
      "williamthomas@internet.ru: 2\n",
      "williamthompson@bk.ru: 1\n",
      "williamwhite@outlook.com: 2\n",
      "williamwilliams@iCloud.com: 3\n",
      "williamwilson@list.ru: 2\n"
     ]
    }
   ],
   "source": [
    "from collections import Counter\n",
    "with open('name_log.csv', 'r') as f:\n",
    "    f.readline()\n",
    "    mails = Counter([i.split(',')[1] for i in f.readlines()])\n",
    "for mail, num in sorted(mails.items()):\n",
    "    print(f\"{mail}: {num}\")"
   ]
  },
  {
   "cell_type": "code",
   "execution_count": null,
   "metadata": {},
   "outputs": [
    {
     "data": {
      "text/plain": [
       "False"
      ]
     },
     "execution_count": 11,
     "metadata": {},
     "output_type": "execute_result"
    }
   ],
   "source": [
    "from collections import Counter\n",
    "\n",
    "def scrabble(symbols, word):\n",
    "    return Counter(symbols.lower()) >= Counter(word.lower())\n",
    "scrabble('bbbbbeeeeegggggggeeeeeekkkkk', 'Bceegeek')"
   ]
  },
  {
   "cell_type": "code",
   "execution_count": null,
   "metadata": {},
   "outputs": [
    {
     "name": "stdout",
     "output_type": "stream",
     "text": [
      "e |++++\n",
      "b |+\n",
      "g |+\n",
      "k |+\n",
      "java      |####\n",
      "C++       |###\n",
      "pascal    |##\n",
      "python    |#\n",
      "assembler |#\n",
      "C         |#\n"
     ]
    }
   ],
   "source": [
    "from collections import  Counter\n",
    "\n",
    "def print_bar_chart(data, mark):\n",
    "    data = Counter(data)\n",
    "    max_len = max((len(i) for i in data))\n",
    "    for val, num in data.most_common():\n",
    "        print(f'{val.ljust(max_len)} |{mark * num}')\n",
    "\n",
    "print_bar_chart('beegeek', '+')\n",
    "languages = ['java', 'java', 'python', 'C++', 'assembler', 'java', 'C++', 'C', 'pascal', 'C++', 'pascal', 'java']\n",
    "print_bar_chart(languages, '#')\n"
   ]
  },
  {
   "cell_type": "code",
   "execution_count": null,
   "metadata": {},
   "outputs": [
    {
     "name": "stdout",
     "output_type": "stream",
     "text": [
      "924593\n"
     ]
    }
   ],
   "source": [
    "import json\n",
    "from collections import Counter, defaultdict\n",
    "\n",
    "reslt = defaultdict(int)\n",
    "for quarter in range(1, 5):\n",
    "    with open(f'quarter{quarter}.csv', encoding='utf-8') as f:\n",
    "        f.readline()\n",
    "        for line in f.readlines():\n",
    "            line = line.split(',')\n",
    "            reslt[line[0]] += sum(map(int, line[1:]))\n",
    "f = json.loads(open('prices.json', encoding='utf-8').read())\n",
    "for item in reslt:\n",
    "    reslt[item] *= f[item]\n",
    "print(sum(reslt.values()))"
   ]
  },
  {
   "cell_type": "code",
   "execution_count": null,
   "metadata": {},
   "outputs": [],
   "source": [
    "from collections import Counter\n",
    "import sys\n",
    "\n",
    "inp = sys.stdin.read()\n",
    "avail_books = Counter(inp.splitlines()[0].split())\n",
    "result_sum = 0\n",
    "for book in inp.splitlines()[2:]:\n",
    "    book, summ = book.split()\n",
    "    if avail_books[book] > 0:\n",
    "        result_sum += int(summ)\n",
    "        avail_books[book] -= 1\n",
    "print(result_sum)"
   ]
  },
  {
   "cell_type": "code",
   "execution_count": null,
   "metadata": {},
   "outputs": [
    {
     "name": "stdout",
     "output_type": "stream",
     "text": [
      "7\n"
     ]
    }
   ],
   "source": [
    "from collections import ChainMap\n",
    "\n",
    "animals = ChainMap({'alligator': 3, 'jaguar': 2},\n",
    "                   {'eagle': 5, 'zebra': 2},\n",
    "                   {'bear': 2, 'alligator': 1},\n",
    "                   {'lemur': 7, 'elephant': 3})\n",
    "\n",
    "print(len(animals))"
   ]
  },
  {
   "cell_type": "code",
   "execution_count": null,
   "metadata": {},
   "outputs": [
    {
     "name": "stdout",
     "output_type": "stream",
     "text": [
      "443\n"
     ]
    }
   ],
   "source": [
    "from collections import ChainMap\n",
    "import json\n",
    "\n",
    "zoo = ChainMap(*(i for i in json.loads(open('zoo.json', 'r').read())))\n",
    "print(sum(zoo.values()))"
   ]
  },
  {
   "cell_type": "code",
   "execution_count": 5,
   "metadata": {},
   "outputs": [
    {
     "name": "stdout",
     "output_type": "stream",
     "text": [
      "cnzxcfgn x 1\n"
     ]
    },
    {
     "ename": "KeyError",
     "evalue": "'cnzxcfgn'",
     "output_type": "error",
     "traceback": [
      "\u001b[1;31m---------------------------------------------------------------------------\u001b[0m",
      "\u001b[1;31mKeyError\u001b[0m                                  Traceback (most recent call last)",
      "\u001b[1;32mc:\\Users\\user\\temp\\stepic\\Untitled-1.ipynb Ячейка 16\u001b[0m line \u001b[0;36m1\n\u001b[0;32m     <a href='vscode-notebook-cell:/c%3A/Users/user/temp/stepic/Untitled-1.ipynb#X21sZmlsZQ%3D%3D?line=13'>14</a>\u001b[0m     string_len \u001b[39m=\u001b[39m \u001b[39mlen\u001b[39m(\u001b[39mf\u001b[39m\u001b[39m\"\u001b[39m\u001b[39m{\u001b[39;00mitem\u001b[39m.\u001b[39mljust(max_len)\u001b[39m}\u001b[39;00m\u001b[39m x \u001b[39m\u001b[39m{\u001b[39;00mval\u001b[39m}\u001b[39;00m\u001b[39m\"\u001b[39m)\n\u001b[0;32m     <a href='vscode-notebook-cell:/c%3A/Users/user/temp/stepic/Untitled-1.ipynb#X21sZmlsZQ%3D%3D?line=14'>15</a>\u001b[0m     \u001b[39mprint\u001b[39m(\u001b[39mf\u001b[39m\u001b[39m\"\u001b[39m\u001b[39m{\u001b[39;00mitem\u001b[39m.\u001b[39mljust(max_len)\u001b[39m}\u001b[39;00m\u001b[39m x \u001b[39m\u001b[39m{\u001b[39;00mval\u001b[39m}\u001b[39;00m\u001b[39m\"\u001b[39m)\n\u001b[1;32m---> <a href='vscode-notebook-cell:/c%3A/Users/user/temp/stepic/Untitled-1.ipynb#X21sZmlsZQ%3D%3D?line=15'>16</a>\u001b[0m     total \u001b[39m+\u001b[39m\u001b[39m=\u001b[39m val \u001b[39m*\u001b[39m price[item]\n\u001b[0;32m     <a href='vscode-notebook-cell:/c%3A/Users/user/temp/stepic/Untitled-1.ipynb#X21sZmlsZQ%3D%3D?line=16'>17</a>\u001b[0m result_string \u001b[39m=\u001b[39m \u001b[39mf\u001b[39m\u001b[39m'\u001b[39m\u001b[39mИТОГ: \u001b[39m\u001b[39m{\u001b[39;00mtotal\u001b[39m}\u001b[39;00m\u001b[39mр\u001b[39m\u001b[39m'\u001b[39m\n\u001b[0;32m     <a href='vscode-notebook-cell:/c%3A/Users/user/temp/stepic/Untitled-1.ipynb#X21sZmlsZQ%3D%3D?line=17'>18</a>\u001b[0m string_len \u001b[39m=\u001b[39m \u001b[39mmax\u001b[39m(string_len, \u001b[39mlen\u001b[39m(result_string))\n",
      "File \u001b[1;32mc:\\Users\\user\\AppData\\Local\\Programs\\Python\\Python310\\lib\\collections\\__init__.py:986\u001b[0m, in \u001b[0;36mChainMap.__getitem__\u001b[1;34m(self, key)\u001b[0m\n\u001b[0;32m    984\u001b[0m     \u001b[39mexcept\u001b[39;00m \u001b[39mKeyError\u001b[39;00m:\n\u001b[0;32m    985\u001b[0m         \u001b[39mpass\u001b[39;00m\n\u001b[1;32m--> 986\u001b[0m \u001b[39mreturn\u001b[39;00m \u001b[39mself\u001b[39;49m\u001b[39m.\u001b[39;49m\u001b[39m__missing__\u001b[39;49m(key)\n",
      "File \u001b[1;32mc:\\Users\\user\\AppData\\Local\\Programs\\Python\\Python310\\lib\\collections\\__init__.py:978\u001b[0m, in \u001b[0;36mChainMap.__missing__\u001b[1;34m(self, key)\u001b[0m\n\u001b[0;32m    977\u001b[0m \u001b[39mdef\u001b[39;00m \u001b[39m__missing__\u001b[39m(\u001b[39mself\u001b[39m, key):\n\u001b[1;32m--> 978\u001b[0m     \u001b[39mraise\u001b[39;00m \u001b[39mKeyError\u001b[39;00m(key)\n",
      "\u001b[1;31mKeyError\u001b[0m: 'cnzxcfgn'"
     ]
    }
   ],
   "source": [
    "from collections import ChainMap, Counter    \n",
    "\n",
    "inp = input().split(',')\n",
    "bread = {'булочка с кунжутом': 15, 'обычная булочка': 10, 'ржаная булочка': 15}\n",
    "meat = {'куриный бифштекс': 50, 'говяжий бифштекс': 70, 'рыбный бифштекс': 40}\n",
    "sauce = {'сливочно-чесночный': 15, 'кетчуп': 10, 'горчица': 10, 'барбекю': 15, 'чили': 15}\n",
    "vegetables = {'лук': 10, 'салат': 15, 'помидор': 15, 'огурцы': 10}\n",
    "toppings = {'сыр': 25, 'яйцо': 15, 'бекон': 30}\n",
    "price = ChainMap(bread, meat, sauce, vegetables, toppings)\n",
    "reslt = Counter(inp)\n",
    "max_len = max([len(i) for i in reslt])\n",
    "total = 0\n",
    "for item, val in sorted(reslt.items()):\n",
    "    string_len = len(f\"{item.ljust(max_len)} x {val}\")\n",
    "    print(f\"{item.ljust(max_len)} x {val}\")\n",
    "    total += val * price[item]\n",
    "result_string = f'ИТОГ: {total}р'\n",
    "string_len = max(string_len, len(result_string))\n",
    "print('-' * string_len)\n",
    "print(result_string)"
   ]
  },
  {
   "cell_type": "code",
   "execution_count": null,
   "metadata": {},
   "outputs": [
    {
     "name": "stdout",
     "output_type": "stream",
     "text": [
      "{'name': 'Anri', 'city': 'Saint-Petersburg'} {'name': 'Arthur', 'city': 'Almetyevsk'}\n",
      "True\n"
     ]
    }
   ],
   "source": [
    "from collections import ChainMap\n",
    "\n",
    "team = ChainMap({'name': 'Timur', 'city': 'Moscow'},\n",
    "                {'name': 'Anri', 'city': 'Saint-Petersburg'},\n",
    "                {'name': 'Arthur', 'city': 'Almetyevsk'})\n",
    "\n",
    "print(*team.maps[1:])\n",
    "print(team.parents == ChainMap(*team.maps[1:]))"
   ]
  },
  {
   "cell_type": "code",
   "execution_count": null,
   "metadata": {},
   "outputs": [
    {
     "name": "stdout",
     "output_type": "stream",
     "text": [
      "Man сказал: Hello\n"
     ]
    }
   ],
   "source": [
    "class Text:\n",
    "    def __init__(self, text) -> None:\n",
    "        self.text = text\n",
    "    \n",
    "    def __str__(self) -> str:\n",
    "        return f'{self.text}'\n",
    "        \n",
    "class Comment(Text):\n",
    "    def __init__(self, text, author) -> None:\n",
    "        super().__init__(text)\n",
    "        self.author = author\n",
    "        \n",
    "    def __str__(self) -> str:\n",
    "        return f'{self.author} сказал: {self.text}'\n",
    "        \n",
    "        \n",
    "t = Comment('Hello', 'Man')\n",
    "print(t)"
   ]
  },
  {
   "cell_type": "code",
   "execution_count": null,
   "metadata": {},
   "outputs": [
    {
     "name": "stdout",
     "output_type": "stream",
     "text": [
      "Arthur Timur\n",
      "set()\n"
     ]
    }
   ],
   "source": [
    "from collections import ChainMap\n",
    "\n",
    "def get_all_values(d, key):\n",
    "    return set(dd[key] for dd in d.maps if key in dd)\n",
    "\n",
    "chainmap = ChainMap({'name': 'Arthur'}, {'name': 'Timur'})\n",
    "result = get_all_values(chainmap, 'name')\n",
    "print(*sorted(result))\n",
    "\n",
    "chainmap = ChainMap({'name': 'Arthur'}, {'name': 'Timur'})\n",
    "result = get_all_values(chainmap, 'age')\n",
    "\n",
    "print(result)"
   ]
  },
  {
   "cell_type": "code",
   "execution_count": null,
   "metadata": {},
   "outputs": [
    {
     "name": "stdout",
     "output_type": "stream",
     "text": [
      "ChainMap({'city': 'Moscow'}, {'name': 'Dima'}, {'name': 'Dima'})\n",
      "ChainMap({'name': 'Arthur', 'age': 20}, {'name': 'Timur'})\n"
     ]
    }
   ],
   "source": [
    "from collections import ChainMap\n",
    "\n",
    "def deep_update(chainmap, key, value):\n",
    "    if key in chainmap:\n",
    "        for dd in chainmap.maps:\n",
    "            if key in dd:\n",
    "                dd[key] = value\n",
    "    else:\n",
    "        chainmap.maps[0][key] = value\n",
    "        \n",
    "\n",
    "chainmap = ChainMap({'city': 'Moscow'}, {'name': 'Arthur'}, {'name': 'Timur'})\n",
    "deep_update(chainmap, 'name', 'Dima')\n",
    "\n",
    "print(chainmap)\n",
    "\n",
    "chainmap = ChainMap({'name': 'Arthur'}, {'name': 'Timur'})\n",
    "deep_update(chainmap, 'age', 20)\n",
    "\n",
    "print(chainmap)"
   ]
  },
  {
   "cell_type": "code",
   "execution_count": null,
   "metadata": {},
   "outputs": [
    {
     "name": "stdout",
     "output_type": "stream",
     "text": [
      "Arthur\n",
      "Timur\n"
     ]
    }
   ],
   "source": [
    "from collections import ChainMap\n",
    "\n",
    "def get_value(chainmap, key, from_left=True):\n",
    "    if not from_left:\n",
    "        chainmap = chainmap.maps[::-1]\n",
    "    else:\n",
    "        chainmap = chainmap.maps\n",
    "    for dd in chainmap:\n",
    "        if key in dd:\n",
    "            return dd[key]\n",
    "    return None\n",
    "\n",
    "chainmap = ChainMap({'name': 'Arthur'}, {'name': 'Timur'})\n",
    "\n",
    "print(get_value(chainmap, 'name'))\n",
    "\n",
    "chainmap = ChainMap({'name': 'Arthur'}, {'name': 'Timur'})\n",
    "\n",
    "print(get_value(chainmap, 'name', False))"
   ]
  },
  {
   "cell_type": "code",
   "execution_count": null,
   "metadata": {},
   "outputs": [
    {
     "name": "stdout",
     "output_type": "stream",
     "text": [
      "[5, 6]\n"
     ]
    }
   ],
   "source": [
    "a = int(input())\n",
    "b = int(input())\n",
    "numbers = []\n",
    "\n",
    "for i in range(a, b + 1):\n",
    "    if i // 7 == 0:\n",
    "        numbers.append(i)\n",
    "\n",
    "print(numbers)"
   ]
  },
  {
   "cell_type": "code",
   "execution_count": null,
   "metadata": {},
   "outputs": [
    {
     "name": "stdout",
     "output_type": "stream",
     "text": [
      "['1', '2']\n"
     ]
    }
   ],
   "source": [
    "print(list(filter(int, ['1', '2'])))"
   ]
  },
  {
   "cell_type": "code",
   "execution_count": null,
   "metadata": {},
   "outputs": [
    {
     "name": "stdout",
     "output_type": "stream",
     "text": [
      "Введено число из недопустимого диапазона\n"
     ]
    }
   ],
   "source": [
    "import calendar\n",
    "\n",
    "try:\n",
    "    inp = int(input())\n",
    "    if inp <= 0:\n",
    "        raise IndexError\n",
    "    print (calendar.month_name[inp])\n",
    "except IndexError:\n",
    "    print('Введено число из недопустимого диапазона')\n",
    "except ValueError:\n",
    "    print('Введено некорректное значение')"
   ]
  },
  {
   "cell_type": "code",
   "execution_count": null,
   "metadata": {},
   "outputs": [
    {
     "name": "stdout",
     "output_type": "stream",
     "text": [
      "{'a': [1, 2, 3], 'b': [7]}\n"
     ]
    }
   ],
   "source": [
    "def add_to_list_in_dict(data, key, element):\n",
    "    try:\n",
    "        data[key].append(element)\n",
    "    except KeyError:\n",
    "        data[key] = [element]\n",
    "\n",
    "nested_dicts = {'a': [1, 2, 3], 'b': [4, 5, 6]}\n",
    "add_to_list_in_dict(nested_dicts, 'b', 7)\n",
    "\n",
    "print(nested_dicts)"
   ]
  },
  {
   "cell_type": "code",
   "execution_count": null,
   "metadata": {},
   "outputs": [
    {
     "name": "stdout",
     "output_type": "stream",
     "text": [
      "Файл не найден\n"
     ]
    }
   ],
   "source": [
    "try:\n",
    "    f = open('file.txt', 'r')\n",
    "    print(f.read())\n",
    "except FileNotFoundError:\n",
    "    print('Файл не найден')"
   ]
  },
  {
   "cell_type": "code",
   "execution_count": null,
   "metadata": {},
   "outputs": [
    {
     "ename": "ValueError",
     "evalue": "Аргумент не принадлежит требуемому диапазону",
     "output_type": "error",
     "traceback": [
      "\u001b[1;31m---------------------------------------------------------------------------\u001b[0m",
      "\u001b[1;31mValueError\u001b[0m                                Traceback (most recent call last)",
      "\u001b[1;32mc:\\Users\\user\\temp\\stepic\\Untitled-1.ipynb Ячейка 27\u001b[0m line \u001b[0;36m1\n\u001b[0;32m      <a href='vscode-notebook-cell:/c%3A/Users/user/temp/stepic/Untitled-1.ipynb#X35sZmlsZQ%3D%3D?line=5'>6</a>\u001b[0m         \u001b[39mraise\u001b[39;00m  \u001b[39mValueError\u001b[39;00m(\u001b[39m'\u001b[39m\u001b[39mАргумент не принадлежит требуемому диапазону\u001b[39m\u001b[39m'\u001b[39m)\n\u001b[0;32m      <a href='vscode-notebook-cell:/c%3A/Users/user/temp/stepic/Untitled-1.ipynb#X35sZmlsZQ%3D%3D?line=6'>7</a>\u001b[0m     \u001b[39mreturn\u001b[39;00m week[number]\n\u001b[1;32m---> <a href='vscode-notebook-cell:/c%3A/Users/user/temp/stepic/Untitled-1.ipynb#X35sZmlsZQ%3D%3D?line=9'>10</a>\u001b[0m get_weekday(\u001b[39m10\u001b[39;49m)\n",
      "\u001b[1;32mc:\\Users\\user\\temp\\stepic\\Untitled-1.ipynb Ячейка 27\u001b[0m line \u001b[0;36m6\n\u001b[0;32m      <a href='vscode-notebook-cell:/c%3A/Users/user/temp/stepic/Untitled-1.ipynb#X35sZmlsZQ%3D%3D?line=3'>4</a>\u001b[0m     \u001b[39mraise\u001b[39;00m \u001b[39mTypeError\u001b[39;00m(\u001b[39m'\u001b[39m\u001b[39mАргумент не является целым числом\u001b[39m\u001b[39m'\u001b[39m)\n\u001b[0;32m      <a href='vscode-notebook-cell:/c%3A/Users/user/temp/stepic/Untitled-1.ipynb#X35sZmlsZQ%3D%3D?line=4'>5</a>\u001b[0m \u001b[39melif\u001b[39;00m number \u001b[39mnot\u001b[39;00m \u001b[39min\u001b[39;00m \u001b[39mrange\u001b[39m(\u001b[39m1\u001b[39m, \u001b[39m8\u001b[39m):\n\u001b[1;32m----> <a href='vscode-notebook-cell:/c%3A/Users/user/temp/stepic/Untitled-1.ipynb#X35sZmlsZQ%3D%3D?line=5'>6</a>\u001b[0m     \u001b[39mraise\u001b[39;00m  \u001b[39mValueError\u001b[39;00m(\u001b[39m'\u001b[39m\u001b[39mАргумент не принадлежит требуемому диапазону\u001b[39m\u001b[39m'\u001b[39m)\n\u001b[0;32m      <a href='vscode-notebook-cell:/c%3A/Users/user/temp/stepic/Untitled-1.ipynb#X35sZmlsZQ%3D%3D?line=6'>7</a>\u001b[0m \u001b[39mreturn\u001b[39;00m week[number]\n",
      "\u001b[1;31mValueError\u001b[0m: Аргумент не принадлежит требуемому диапазону"
     ]
    }
   ],
   "source": [
    "def get_weekday(number):\n",
    "    week = { 1: \"Понедельник\", 2: \"Вторник\", 3: \"Среда\", 4: \"Четверг\", 5: \"Пятница\", 6: \"Суббота\", 7: \"Воскресенье\", }\n",
    "    if not isinstance(number, int):\n",
    "        raise TypeError('Аргумент не является целым числом')\n",
    "    elif number not in range(1, 8):\n",
    "        raise  ValueError('Аргумент не принадлежит требуемому диапазону')\n",
    "    return week[number]\n",
    "        \n",
    "        \n",
    "get_weekday(10)"
   ]
  },
  {
   "cell_type": "code",
   "execution_count": null,
   "metadata": {},
   "outputs": [
    {
     "name": "stdout",
     "output_type": "stream",
     "text": [
      "10\n"
     ]
    }
   ],
   "source": [
    "def get_id(names, name):\n",
    "    if type(name) == str and name.isalpha() and name.istitle():\n",
    "        # if name in names:\n",
    "        #     return names.index(name) + 1\n",
    "        # else:\n",
    "        names.append(name)\n",
    "        return len(names)\n",
    "    elif type(name) != str:\n",
    "        return TypeError('Имя не является строкой')\n",
    "    else:\n",
    "        return ValueError('Имя не является корректным')\n",
    "\n",
    "names = ['Timur', 'Anri', 'Dima', 'Roma', 'Gvido', 'Rosy', 'Soslan', 'Natasha', 'Arthur']\n",
    "name = 'Arthur'\n",
    "print(get_id(names = names, name = name))"
   ]
  },
  {
   "cell_type": "code",
   "execution_count": null,
   "metadata": {},
   "outputs": [
    {
     "name": "stdout",
     "output_type": "stream",
     "text": [
      "Файл не найден\n"
     ]
    }
   ],
   "source": [
    "import json\n",
    "from json import JSONDecodeError\n",
    "\n",
    "try:\n",
    "    inp = input('')\n",
    "    j = json.loads(open(inp, 'r').read())\n",
    "    print(j)\n",
    "except JSONDecodeError:\n",
    "    print('Ошибка при десериализации')\n",
    "except OSError:\n",
    "    print('Файл не найден')"
   ]
  },
  {
   "cell_type": "code",
   "execution_count": null,
   "metadata": {},
   "outputs": [
    {
     "name": "stdout",
     "output_type": "stream",
     "text": [
      "False\n",
      "False\n",
      "True\n"
     ]
    }
   ],
   "source": [
    "def is_good_password(password):\n",
    "    good_password = True\n",
    "    if not any(i.isdigit() for i in password):\n",
    "        good_password = False\n",
    "    if password.lower() == password or password.upper() == password:\n",
    "        good_password = False\n",
    "    if len(password) < 9:\n",
    "        good_password = False\n",
    "    return good_password\n",
    "    \n",
    "print(is_good_password('41157082'))\n",
    "print(is_good_password('мойпарольсамыйлучший'))\n",
    "print(is_good_password('МойПарольСамыйЛучший111'))\n"
   ]
  },
  {
   "cell_type": "code",
   "execution_count": null,
   "metadata": {},
   "outputs": [],
   "source": [
    "def is_good_password(string):\n",
    "    if len(string) < 9:\n",
    "        return LengthError\n",
    "    if string.lower() == string or string.upper() == string:\n",
    "        return LetterError\n",
    "    if not any(i.isdigit() for i in string):\n",
    "        return DigitError\n",
    "    return good_password\n",
    "    \n",
    "print(is_good_password('41157082'))\n",
    "print(is_good_password('мойпарольсамыйлучший'))\n",
    "print(is_good_password('МойПарольСамыйЛучший111'))\n"
   ]
  },
  {
   "cell_type": "code",
   "execution_count": null,
   "metadata": {},
   "outputs": [
    {
     "data": {
      "text/plain": [
       "['line1', 'line2']"
      ]
     },
     "execution_count": 1,
     "metadata": {},
     "output_type": "execute_result"
    }
   ],
   "source": [
    "from sys import stdin\n",
    "l = \"\"\"line1\n",
    "line2\"\"\"\n",
    "l.splitlines()"
   ]
  },
  {
   "cell_type": "code",
   "execution_count": 8,
   "metadata": {},
   "outputs": [
    {
     "name": "stdout",
     "output_type": "stream",
     "text": [
      "Не парковаться\n",
      "Не парковаться\n",
      "Не парковаться\n"
     ]
    }
   ],
   "source": [
    "def traffic(n):\n",
    "    def tr(num):\n",
    "        while num < n:\n",
    "            print('Не парковаться')\n",
    "            tr(num + 1)\n",
    "            return\n",
    "    tr(0)\n",
    "        \n",
    "\n",
    "traffic(3)"
   ]
  },
  {
   "cell_type": "code",
   "execution_count": 10,
   "metadata": {},
   "outputs": [
    {
     "name": "stdout",
     "output_type": "stream",
     "text": [
      "1\n",
      "2\n",
      "3\n",
      "4\n",
      "5\n",
      "6\n",
      "7\n",
      "8\n",
      "9\n",
      "10\n",
      "11\n",
      "12\n",
      "13\n",
      "14\n",
      "15\n",
      "16\n",
      "17\n",
      "18\n",
      "19\n",
      "20\n",
      "21\n",
      "22\n",
      "23\n",
      "24\n",
      "25\n",
      "26\n",
      "27\n",
      "28\n",
      "29\n",
      "30\n",
      "31\n",
      "32\n",
      "33\n",
      "34\n",
      "35\n",
      "36\n",
      "37\n",
      "38\n",
      "39\n",
      "40\n",
      "41\n",
      "42\n",
      "43\n",
      "44\n",
      "45\n",
      "46\n",
      "47\n",
      "48\n",
      "49\n",
      "50\n",
      "51\n",
      "52\n",
      "53\n",
      "54\n",
      "55\n",
      "56\n",
      "57\n",
      "58\n",
      "59\n",
      "60\n",
      "61\n",
      "62\n",
      "63\n",
      "64\n",
      "65\n",
      "66\n",
      "67\n",
      "68\n",
      "69\n",
      "70\n",
      "71\n",
      "72\n",
      "73\n",
      "74\n",
      "75\n",
      "76\n",
      "77\n",
      "78\n",
      "79\n",
      "80\n",
      "81\n",
      "82\n",
      "83\n",
      "84\n",
      "85\n",
      "86\n",
      "87\n",
      "88\n",
      "89\n",
      "90\n",
      "91\n",
      "92\n",
      "93\n",
      "94\n",
      "95\n",
      "96\n",
      "97\n",
      "98\n",
      "99\n",
      "100\n"
     ]
    }
   ],
   "source": [
    "def rec(n):\n",
    "    while n <= 100:\n",
    "        print(n)\n",
    "        rec(n + 1)\n",
    "        return\n",
    "rec(1)"
   ]
  },
  {
   "cell_type": "code",
   "execution_count": 17,
   "metadata": {},
   "outputs": [
    {
     "name": "stdout",
     "output_type": "stream",
     "text": [
      "Элемент 0: 243\n",
      "Элемент 1: -279\n",
      "Элемент 2: 395\n",
      "Элемент 3: 130\n",
      "Элемент 4: 89\n",
      "Элемент 5: 269\n",
      "Элемент 6: 861\n",
      "Элемент 7: 669\n",
      "Элемент 8: 939\n",
      "Элемент 9: 367\n",
      "Элемент 10: -46\n",
      "Элемент 11: 710\n",
      "Элемент 12: 841\n",
      "Элемент 13: -280\n",
      "Элемент 14: -244\n",
      "Элемент 15: 274\n",
      "Элемент 16: -132\n",
      "Элемент 17: 273\n",
      "Элемент 18: 418\n",
      "Элемент 19: 432\n",
      "Элемент 20: -341\n",
      "Элемент 21: 437\n",
      "Элемент 22: 360\n",
      "Элемент 23: 960\n",
      "Элемент 24: 195\n",
      "Элемент 25: 792\n",
      "Элемент 26: 106\n",
      "Элемент 27: 461\n",
      "Элемент 28: -35\n",
      "Элемент 29: 980\n",
      "Элемент 30: -80\n",
      "Элемент 31: 540\n",
      "Элемент 32: -358\n",
      "Элемент 33: 69\n",
      "Элемент 34: -26\n",
      "Элемент 35: -416\n",
      "Элемент 36: 597\n",
      "Элемент 37: 96\n",
      "Элемент 38: 533\n",
      "Элемент 39: 232\n",
      "Элемент 40: 755\n",
      "Элемент 41: 894\n",
      "Элемент 42: 331\n",
      "Элемент 43: 323\n",
      "Элемент 44: -383\n",
      "Элемент 45: -386\n",
      "Элемент 46: 231\n",
      "Элемент 47: 436\n",
      "Элемент 48: 553\n",
      "Элемент 49: 967\n",
      "Элемент 50: 166\n",
      "Элемент 51: -151\n",
      "Элемент 52: 772\n",
      "Элемент 53: 434\n",
      "Элемент 54: 325\n",
      "Элемент 55: 301\n",
      "Элемент 56: 275\n",
      "Элемент 57: 431\n",
      "Элемент 58: 556\n",
      "Элемент 59: 728\n",
      "Элемент 60: 558\n",
      "Элемент 61: 702\n",
      "Элемент 62: 463\n",
      "Элемент 63: 127\n",
      "Элемент 64: 984\n",
      "Элемент 65: 212\n",
      "Элемент 66: 876\n",
      "Элемент 67: -287\n",
      "Элемент 68: -16\n",
      "Элемент 69: -177\n",
      "Элемент 70: 577\n",
      "Элемент 71: 604\n",
      "Элемент 72: 116\n",
      "Элемент 73: 500\n",
      "Элемент 74: 653\n",
      "Элемент 75: 669\n",
      "Элемент 76: 916\n",
      "Элемент 77: 802\n",
      "Элемент 78: 817\n",
      "Элемент 79: 762\n",
      "Элемент 80: -210\n",
      "Элемент 81: -353\n",
      "Элемент 82: 144\n",
      "Элемент 83: -351\n",
      "Элемент 84: 777\n",
      "Элемент 85: 805\n",
      "Элемент 86: 692\n",
      "Элемент 87: 22\n",
      "Элемент 88: -303\n",
      "Элемент 89: 249\n",
      "Элемент 90: 190\n",
      "Элемент 91: 411\n",
      "Элемент 92: 236\n",
      "Элемент 93: -274\n",
      "Элемент 94: 174\n",
      "Элемент 95: 380\n",
      "Элемент 96: 71\n",
      "Элемент 97: 124\n",
      "Элемент 98: -85\n",
      "Элемент 99: 430\n"
     ]
    }
   ],
   "source": [
    "numbers = [243, -279, 395, 130, 89, 269, 861, 669, 939, 367, -46, 710, 841, -280, -244, 274, -132, 273, 418, 432, -341, 437, 360, 960, 195, 792, 106, 461, -35, 980, -80, 540, -358, 69, -26, -416, 597, 96, 533, 232, 755, 894, 331, 323, -383, -386, 231, 436, 553, 967, 166, -151, 772, 434, 325, 301, 275, 431, 556, 728, 558, 702, 463, 127, 984, 212, 876, -287, -16, -177, 577, 604, 116, 500, 653, 669, 916, 802, 817, 762, -210, -353, 144, -351, 777, 805, 692, 22, -303, 249, 190, 411, 236, -274, 174, 380, 71, 124, -85, 430]\n",
    "\n",
    "def shows(nums):\n",
    "    def show_2(start, nums):\n",
    "        if start < len(nums):\n",
    "            print(f'Элемент {start}: {nums[start]}')\n",
    "            show_2(start + 1, nums)\n",
    "    start = 0\n",
    "    show_2(start, nums)\n",
    "\n",
    "shows(numbers)"
   ]
  },
  {
   "cell_type": "code",
   "execution_count": 1,
   "metadata": {},
   "outputs": [
    {
     "name": "stdout",
     "output_type": "stream",
     "text": [
      "*****\n",
      "****\n",
      "***\n",
      "**\n",
      "*\n"
     ]
    }
   ],
   "source": [
    "def triangle(num):\n",
    "    def shows(start, num):\n",
    "        if start < num:\n",
    "            print('*' * (num - start))\n",
    "            shows(start + 1, num)\n",
    "    start = 0\n",
    "    shows(start, num)\n",
    "    \n",
    "triangle(5)"
   ]
  },
  {
   "cell_type": "code",
   "execution_count": 3,
   "metadata": {},
   "outputs": [
    {
     "name": "stdout",
     "output_type": "stream",
     "text": [
      "*\n",
      "**\n",
      "***\n",
      "****\n",
      "*****\n"
     ]
    }
   ],
   "source": [
    "def triangle(num):\n",
    "    def shows(start, num):\n",
    "        if start <= num:\n",
    "            print('*' * start)\n",
    "            shows(start + 1, num)\n",
    "    start = 1\n",
    "    shows(start, num)\n",
    "    \n",
    "triangle(5)"
   ]
  },
  {
   "cell_type": "code",
   "execution_count": 10,
   "metadata": {},
   "outputs": [
    {
     "name": "stdout",
     "output_type": "stream",
     "text": [
      "1111111111111111\n",
      "  222222222222  \n",
      "    33333333    \n",
      "      4444      \n",
      "    33333333    \n",
      "  222222222222  \n",
      "1111111111111111\n"
     ]
    }
   ],
   "source": [
    "# 11_2\n",
    "def hours():\n",
    "    def hh(start, end, width):\n",
    "        if start > end / 2:\n",
    "            p_text = end - start\n",
    "        elif start <= end / 2:\n",
    "            p_text = start\n",
    "        p_text = str(p_text) * (16 - (p_text - 1) * 4)\n",
    "        if start < end:\n",
    "            print(p_text.center(width))\n",
    "            hh(start + 1, end, width)\n",
    "            \n",
    "    start = 1\n",
    "    end = 8\n",
    "    width = 16\n",
    "    hh(start, end, width)\n",
    "\n",
    "hours()\n",
    "# print('16'.center(16))"
   ]
  },
  {
   "cell_type": "code",
   "execution_count": 19,
   "metadata": {},
   "outputs": [
    {
     "name": "stdout",
     "output_type": "stream",
     "text": [
      "3\n",
      "2\n",
      "1\n"
     ]
    }
   ],
   "source": [
    "# 12_2\n",
    "def print_digits(number):\n",
    "    def rp(start):\n",
    "        print(str(number)[start])\n",
    "        if start > 0:\n",
    "            rp(start - 1)\n",
    "    if number:\n",
    "        start = len(str(number)) - 1\n",
    "        rp(start)\n",
    "    \n",
    "print_digits(123)\n",
    "print_digits('')"
   ]
  },
  {
   "cell_type": "code",
   "execution_count": 21,
   "metadata": {},
   "outputs": [
    {
     "name": "stdout",
     "output_type": "stream",
     "text": [
      "1\n",
      "2\n",
      "3\n"
     ]
    }
   ],
   "source": [
    "# 13_2\n",
    "def print_digits(number):\n",
    "    def rp(start):\n",
    "        if start < len(str(number)):\n",
    "            print(str(number)[start])\n",
    "            rp(start + 1)\n",
    "    if number:\n",
    "        start = 0\n",
    "        rp(start)\n",
    "    \n",
    "print_digits(123)\n",
    "print_digits('')"
   ]
  },
  {
   "cell_type": "code",
   "execution_count": 42,
   "metadata": {},
   "outputs": [
    {
     "ename": "KeyboardInterrupt",
     "evalue": "",
     "output_type": "error",
     "traceback": [
      "\u001b[1;31m---------------------------------------------------------------------------\u001b[0m",
      "\u001b[1;31mKeyboardInterrupt\u001b[0m                         Traceback (most recent call last)",
      "\u001b[1;32mc:\\Users\\user\\temp\\stepic\\Untitled-1.ipynb Ячейка 41\u001b[0m line \u001b[0;36m7\n\u001b[0;32m      <a href='vscode-notebook-cell:/c%3A/Users/user/temp/stepic/Untitled-1.ipynb#X55sZmlsZQ%3D%3D?line=3'>4</a>\u001b[0m     \u001b[39melse\u001b[39;00m:\n\u001b[0;32m      <a href='vscode-notebook-cell:/c%3A/Users/user/temp/stepic/Untitled-1.ipynb#X55sZmlsZQ%3D%3D?line=4'>5</a>\u001b[0m         \u001b[39mreturn\u001b[39;00m fib(n \u001b[39m-\u001b[39m \u001b[39m1\u001b[39m) \u001b[39m+\u001b[39m fib(n \u001b[39m-\u001b[39m \u001b[39m2\u001b[39m)\n\u001b[1;32m----> <a href='vscode-notebook-cell:/c%3A/Users/user/temp/stepic/Untitled-1.ipynb#X55sZmlsZQ%3D%3D?line=6'>7</a>\u001b[0m \u001b[39mprint\u001b[39m(fib(\u001b[39m45\u001b[39;49m))\n",
      "\u001b[1;32mc:\\Users\\user\\temp\\stepic\\Untitled-1.ipynb Ячейка 41\u001b[0m line \u001b[0;36m5\n\u001b[0;32m      <a href='vscode-notebook-cell:/c%3A/Users/user/temp/stepic/Untitled-1.ipynb#X55sZmlsZQ%3D%3D?line=2'>3</a>\u001b[0m     \u001b[39mreturn\u001b[39;00m \u001b[39m1\u001b[39m\n\u001b[0;32m      <a href='vscode-notebook-cell:/c%3A/Users/user/temp/stepic/Untitled-1.ipynb#X55sZmlsZQ%3D%3D?line=3'>4</a>\u001b[0m \u001b[39melse\u001b[39;00m:\n\u001b[1;32m----> <a href='vscode-notebook-cell:/c%3A/Users/user/temp/stepic/Untitled-1.ipynb#X55sZmlsZQ%3D%3D?line=4'>5</a>\u001b[0m     \u001b[39mreturn\u001b[39;00m fib(n \u001b[39m-\u001b[39;49m \u001b[39m1\u001b[39;49m) \u001b[39m+\u001b[39m fib(n \u001b[39m-\u001b[39m \u001b[39m2\u001b[39m)\n",
      "\u001b[1;32mc:\\Users\\user\\temp\\stepic\\Untitled-1.ipynb Ячейка 41\u001b[0m line \u001b[0;36m5\n\u001b[0;32m      <a href='vscode-notebook-cell:/c%3A/Users/user/temp/stepic/Untitled-1.ipynb#X55sZmlsZQ%3D%3D?line=2'>3</a>\u001b[0m     \u001b[39mreturn\u001b[39;00m \u001b[39m1\u001b[39m\n\u001b[0;32m      <a href='vscode-notebook-cell:/c%3A/Users/user/temp/stepic/Untitled-1.ipynb#X55sZmlsZQ%3D%3D?line=3'>4</a>\u001b[0m \u001b[39melse\u001b[39;00m:\n\u001b[1;32m----> <a href='vscode-notebook-cell:/c%3A/Users/user/temp/stepic/Untitled-1.ipynb#X55sZmlsZQ%3D%3D?line=4'>5</a>\u001b[0m     \u001b[39mreturn\u001b[39;00m fib(n \u001b[39m-\u001b[39;49m \u001b[39m1\u001b[39;49m) \u001b[39m+\u001b[39m fib(n \u001b[39m-\u001b[39m \u001b[39m2\u001b[39m)\n",
      "    \u001b[1;31m[... skipping similar frames: fib at line 5 (29 times)]\u001b[0m\n",
      "\u001b[1;32mc:\\Users\\user\\temp\\stepic\\Untitled-1.ipynb Ячейка 41\u001b[0m line \u001b[0;36m5\n\u001b[0;32m      <a href='vscode-notebook-cell:/c%3A/Users/user/temp/stepic/Untitled-1.ipynb#X55sZmlsZQ%3D%3D?line=2'>3</a>\u001b[0m     \u001b[39mreturn\u001b[39;00m \u001b[39m1\u001b[39m\n\u001b[0;32m      <a href='vscode-notebook-cell:/c%3A/Users/user/temp/stepic/Untitled-1.ipynb#X55sZmlsZQ%3D%3D?line=3'>4</a>\u001b[0m \u001b[39melse\u001b[39;00m:\n\u001b[1;32m----> <a href='vscode-notebook-cell:/c%3A/Users/user/temp/stepic/Untitled-1.ipynb#X55sZmlsZQ%3D%3D?line=4'>5</a>\u001b[0m     \u001b[39mreturn\u001b[39;00m fib(n \u001b[39m-\u001b[39;49m \u001b[39m1\u001b[39;49m) \u001b[39m+\u001b[39m fib(n \u001b[39m-\u001b[39m \u001b[39m2\u001b[39m)\n",
      "\u001b[1;32mc:\\Users\\user\\temp\\stepic\\Untitled-1.ipynb Ячейка 41\u001b[0m line \u001b[0;36m1\n\u001b[1;32m----> <a href='vscode-notebook-cell:/c%3A/Users/user/temp/stepic/Untitled-1.ipynb#X55sZmlsZQ%3D%3D?line=0'>1</a>\u001b[0m \u001b[39mdef\u001b[39;00m \u001b[39mfib\u001b[39m(n):\n\u001b[0;32m      <a href='vscode-notebook-cell:/c%3A/Users/user/temp/stepic/Untitled-1.ipynb#X55sZmlsZQ%3D%3D?line=1'>2</a>\u001b[0m     \u001b[39mif\u001b[39;00m n \u001b[39m<\u001b[39m\u001b[39m=\u001b[39m \u001b[39m2\u001b[39m:\n\u001b[0;32m      <a href='vscode-notebook-cell:/c%3A/Users/user/temp/stepic/Untitled-1.ipynb#X55sZmlsZQ%3D%3D?line=2'>3</a>\u001b[0m         \u001b[39mreturn\u001b[39;00m \u001b[39m1\u001b[39m\n",
      "\u001b[1;31mKeyboardInterrupt\u001b[0m: "
     ]
    }
   ],
   "source": [
    "def trib(n):\n",
    "    if n <= 2:\n",
    "        return 1\n",
    "    else:\n",
    "        return trib(n - 1) + trib(n - 2)\n",
    "    \n",
    "print(trib(45))"
   ]
  },
  {
   "cell_type": "code",
   "execution_count": null,
   "metadata": {},
   "outputs": [
    {
     "ename": "",
     "evalue": "",
     "output_type": "error",
     "traceback": [
      "\u001b[1;31mПри выполнении кода в текущей ячейке или предыдущей ячейке ядро аварийно завершило работу. Проверьте код в ячейках, чтобы определить возможную причину сбоя. Щелкните <a href=\"https://aka.ms/vscodeJupyterKernelCrash\">здесь</a> для получения дополнительных сведений. Подробнее см. в <a href='command:jupyter.viewOutput'>журнале Jupyter</a>."
     ]
    }
   ],
   "source": [
    "cache = {1: 1, 2: 1}\n",
    "\n",
    "def trib(n):\n",
    "    result = cache.get(n)\n",
    "    if result is None:\n",
    "        result = trib(n - 1) + trib(n - 2)\n",
    "        cache[n] = result\n",
    "    return result\n",
    "    \n",
    "print(trib(10000))"
   ]
  },
  {
   "cell_type": "code",
   "execution_count": 2,
   "metadata": {},
   "outputs": [
    {
     "name": "stdout",
     "output_type": "stream",
     "text": [
      "3\n"
     ]
    }
   ],
   "source": [
    "# 6_3\n",
    "def foo(num):\n",
    "    def rec(start, num):\n",
    "        if num == 0:\n",
    "            return 0\n",
    "        else:\n",
    "            num = int(num / 10)\n",
    "            return 1 + rec(start, num)\n",
    "    start = 0\n",
    "    print(rec(start, num))\n",
    "    \n",
    "    \n",
    "foo(555)"
   ]
  },
  {
   "cell_type": "code",
   "execution_count": 4,
   "metadata": {},
   "outputs": [
    {
     "name": "stdout",
     "output_type": "stream",
     "text": [
      "3\n"
     ]
    }
   ],
   "source": [
    "# 7_3\n",
    "def foo(num):\n",
    "    num = list(map(int, list(str(num))))\n",
    "    def rec(start, num):\n",
    "        if start < len(num):\n",
    "            return num[start] + rec(start+1, num)\n",
    "        return 0\n",
    "    start = 0\n",
    "    return rec(start, num)\n",
    "    \n",
    "    \n",
    "foo(3555)\n",
    "print(10 // 3)"
   ]
  },
  {
   "cell_type": "code",
   "execution_count": 7,
   "metadata": {},
   "outputs": [
    {
     "data": {
      "text/plain": [
       "629901"
      ]
     },
     "execution_count": 7,
     "metadata": {},
     "output_type": "execute_result"
    }
   ],
   "source": [
    "#8_3\n",
    "def number_of_frogs(year):\n",
    "    def rec(year):\n",
    "        if year == 1:\n",
    "            return 77\n",
    "        elif year > 0:\n",
    "            return 3 * (rec(year-1) - 30)\n",
    "        \n",
    "    return rec(year)\n",
    "    \n",
    "number_of_frogs(10)"
   ]
  },
  {
   "cell_type": "code",
   "execution_count": 1,
   "metadata": {},
   "outputs": [
    {
     "name": "stdout",
     "output_type": "stream",
     "text": [
      "30\n"
     ]
    }
   ],
   "source": [
    "# 9_3\n",
    "def range_sum(numbers, start, end):\n",
    "    def rec(start):\n",
    "        if start == end:\n",
    "            return numbers[start]\n",
    "        else:\n",
    "            return numbers[start] + rec(start+1)\n",
    "    # n = start\n",
    "    return rec(start)\n",
    "\n",
    "# range_sum([1, 2, 3, 4, 5], 1, 3)\n",
    "print(range_sum([1, 2, 3, 4, 5, 6, 7, 8, 9], 3, 7))"
   ]
  },
  {
   "cell_type": "code",
   "execution_count": 15,
   "metadata": {},
   "outputs": [
    {
     "data": {
      "text/plain": [
       "9"
      ]
     },
     "execution_count": 15,
     "metadata": {},
     "output_type": "execute_result"
    }
   ],
   "source": [
    "# 10_3\n",
    "def get_pow(a, n):\n",
    "    def rec(start):\n",
    "        if start == n:\n",
    "            return a\n",
    "        else:\n",
    "            return a * rec(start + 1)\n",
    "    start = 1\n",
    "    return rec(start)\n",
    "\n",
    "get_pow(3, 2)"
   ]
  },
  {
   "cell_type": "code",
   "execution_count": 2,
   "metadata": {},
   "outputs": [],
   "source": [
    "def get_fast_pow(a, n):\n",
    "    if n == 0:\n",
    "        return 1\n",
    "    elif n % 2\n",
    "\n",
    "print(get_fast_pow(2, 10))"
   ]
  },
  {
   "cell_type": "code",
   "execution_count": 1,
   "metadata": {},
   "outputs": [
    {
     "data": {
      "text/plain": [
       "23"
      ]
     },
     "execution_count": 1,
     "metadata": {},
     "output_type": "execute_result"
    }
   ],
   "source": [
    "#12_3\n",
    "def recursive_sum(a, b):\n",
    "    if b == 0:\n",
    "        return a\n",
    "    else:\n",
    "        return recursive_sum(a+1, b-1)\n",
    "        \n",
    "recursive_sum(13,10)"
   ]
  },
  {
   "cell_type": "code",
   "execution_count": 7,
   "metadata": {},
   "outputs": [
    {
     "data": {
      "text/plain": [
       "False"
      ]
     },
     "execution_count": 7,
     "metadata": {},
     "output_type": "execute_result"
    }
   ],
   "source": [
    "#13_3\n",
    "def is_power(number):\n",
    "    if number == 1:\n",
    "        return True\n",
    "    elif number > 1:\n",
    "        return is_power(number / 2)\n",
    "    else:\n",
    "        return False\n",
    "    \n",
    "is_power(258)"
   ]
  },
  {
   "cell_type": "code",
   "execution_count": 15,
   "metadata": {},
   "outputs": [
    {
     "name": "stdout",
     "output_type": "stream",
     "text": [
      "1056569942836970422279284954750098236519342255152919675406067018213960747393817667095588725995948973722417422227477589614070393820954716814070302286673551230293560940674846367367520224538342482630207080905846768675790903553645664897731604869996342518016379904334431\n"
     ]
    }
   ],
   "source": [
    "# 14_3\n",
    "cache = {1: 1, 2: 1, 3: 1}\n",
    "\n",
    "def tribonacci(n):\n",
    "    result = cache.get(n)\n",
    "    if result is None:\n",
    "        result = tribonacci(n - 1) + tribonacci(n - 2) + tribonacci(n - 3)\n",
    "        cache[n] = result\n",
    "    return result\n",
    "    \n",
    "print(tribonacci(1000))"
   ]
  },
  {
   "cell_type": "code",
   "execution_count": 2,
   "metadata": {},
   "outputs": [
    {
     "name": "stdout",
     "output_type": "stream",
     "text": [
      "True\n"
     ]
    }
   ],
   "source": [
    "# 15_3\n",
    "def is_palindrome(string):\n",
    "    if len(string) <= 1:\n",
    "        return True\n",
    "    else:\n",
    "        return string[0] == string[-1] and is_palindrome(string[1:-1])\n",
    "        \n",
    "\n",
    "print(is_palindrome('level'))"
   ]
  },
  {
   "cell_type": "code",
   "execution_count": 45,
   "metadata": {},
   "outputs": [
    {
     "data": {
      "text/plain": [
       "'10000000000'"
      ]
     },
     "execution_count": 45,
     "metadata": {},
     "output_type": "execute_result"
    }
   ],
   "source": [
    "def to_binary(number):\n",
    "    if number <= 1:\n",
    "        return number\n",
    "    else:\n",
    "        return f'{to_binary(number // 2)}{to_binary(number % 2)}'\n",
    "    \n",
    "to_binary(1024)"
   ]
  },
  {
   "cell_type": "code",
   "execution_count": 1,
   "metadata": {},
   "outputs": [
    {
     "name": "stdout",
     "output_type": "stream",
     "text": [
      "16\n",
      "11\n",
      "6\n",
      "1\n",
      "-4\n",
      "1\n",
      "6\n",
      "11\n",
      "16\n"
     ]
    }
   ],
   "source": [
    "number = 16\n",
    "\n",
    "def linear(number):\n",
    "    def rec(start, reverse):\n",
    "        if start <= 0:\n",
    "            print(start)\n",
    "            reverse = -5\n",
    "            rec(start - reverse, reverse)\n",
    "        elif start <= number:\n",
    "            print(start)\n",
    "            rec(start - reverse, reverse)\n",
    "    start = number\n",
    "    reverse = 5\n",
    "    rec(start, reverse)\n",
    "            \n",
    "linear(number)"
   ]
  },
  {
   "cell_type": "code",
   "execution_count": 15,
   "metadata": {},
   "outputs": [
    {
     "data": {
      "text/plain": [
       "24"
      ]
     },
     "execution_count": 15,
     "metadata": {},
     "output_type": "execute_result"
    }
   ],
   "source": [
    "# 4_4\n",
    "\n",
    "def recursive_sum(nested_lists):\n",
    "    reslt = 0\n",
    "    if not nested_lists:\n",
    "        return 0\n",
    "    elif type(nested_lists) == int:\n",
    "        return nested_lists\n",
    "    elif type(nested_lists) == list:\n",
    "        for i in nested_lists:\n",
    "            reslt += recursive_sum(i)\n",
    "        return reslt\n",
    "\n",
    "\n",
    "my_list = [1, [4, 4], 2, [1, [2, 10]]]\n",
    "recursive_sum(my_list)"
   ]
  },
  {
   "cell_type": "code",
   "execution_count": 4,
   "metadata": {},
   "outputs": [
    {
     "name": "stdout",
     "output_type": "stream",
     "text": [
      "[3, 4, 5, 6, 7, 8]\n"
     ]
    }
   ],
   "source": [
    "# 5_4\n",
    "\n",
    "def linear(nested_lists):\n",
    "    reslt = []\n",
    "    if type(nested_lists) == int:\n",
    "        return [nested_lists]\n",
    "    elif type(nested_lists) == list:\n",
    "        for i in nested_lists:\n",
    "            reslt = reslt + linear(i)\n",
    "        return reslt\n",
    "\n",
    "\n",
    "my_list = [3, [4], [5, [6, [7, 8]]]]\n",
    "print(linear(my_list))"
   ]
  },
  {
   "cell_type": "code",
   "execution_count": 5,
   "metadata": {},
   "outputs": [
    {
     "name": "stdout",
     "output_type": "stream",
     "text": [
      "Москва\n"
     ]
    }
   ],
   "source": [
    "# 6_4\n",
    "def get_value(nested_dicts, key):\n",
    "    reslt = None\n",
    "    if key in nested_dicts:\n",
    "        return nested_dicts.get(key)\n",
    "    elif type(nested_dicts) == dict:\n",
    "        for k in nested_dicts:\n",
    "            if type(nested_dicts[k]) == dict:\n",
    "                reslt = get_value(nested_dicts[k], key)\n",
    "            if reslt:\n",
    "                return reslt\n",
    "\n",
    "\n",
    "data = {'firstName': 'Тимур',\n",
    "        'lastName': 'Гуев',\n",
    "        'birthDate': {'day': 10, 'month': 'October', 'year': 1993},\n",
    "        'address': {'streetAddress': 'Часовая 25, кв. 127', \n",
    "                    'city': {'region': 'Московская область', 'type': 'город', 'cityName': 'Москва'},\n",
    "                    'postalCode': '125315'\n",
    "                }\n",
    "    }\n",
    "print(get_value(data, 'cityName'))"
   ]
  },
  {
   "cell_type": "code",
   "execution_count": 8,
   "metadata": {},
   "outputs": [
    {
     "name": "stdout",
     "output_type": "stream",
     "text": [
      "{4, 5}\n"
     ]
    }
   ],
   "source": [
    "# 7_4\n",
    "def get_all_values(nested_dicts, key):\n",
    "    def rr_dict(nested_dicts, key):\n",
    "        reslt = []\n",
    "        if key in nested_dicts:\n",
    "            return nested_dicts.get(key)\n",
    "        elif type(nested_dicts) == dict:\n",
    "            for k in nested_dicts:\n",
    "                if type(nested_dicts[k]) == dict:\n",
    "                    reslt.append(rr_dict(nested_dicts[k], key))\n",
    "        return rr_lin(reslt)\n",
    "    \n",
    "    def rr_lin(nested_lists):\n",
    "        reslt = []\n",
    "        if type(nested_lists) == int:\n",
    "            return [nested_lists]\n",
    "        elif type(nested_lists) == list:\n",
    "            for i in nested_lists:\n",
    "                reslt = reslt + linear(i)\n",
    "            return reslt\n",
    "    \n",
    "    return set(rr_dict(nested_dicts, key))\n",
    "\n",
    "\n",
    "\n",
    "my_dict = {\n",
    "    'users': {\n",
    "        'Arthur': {\n",
    "            'grades': [4, 4, 3], 'top_grade': 4\n",
    "        },\n",
    "        'Timur': {\n",
    "            'grades': [5, 5, 5], 'top_grade': 5\n",
    "        }\n",
    "    }\n",
    "}\n",
    "result = get_all_values(my_dict, 'top_grade')\n",
    "print(result)"
   ]
  },
  {
   "cell_type": "code",
   "execution_count": 24,
   "metadata": {},
   "outputs": [
    {
     "name": "stdout",
     "output_type": "stream",
     "text": [
      "a: 1\n",
      "b.a: 10\n",
      "b.b: 20\n",
      "b.c: 30\n",
      "\n",
      "b.a: 10\n",
      "b.b.d: 40\n",
      "b.b.e: 50\n",
      "b.c: 30\n"
     ]
    }
   ],
   "source": [
    "# 8_4\n",
    "def dict_travel(nested_dicts):\n",
    "    reslt_dict = dict()\n",
    "    \n",
    "    def rr_dict(nested_dicts, key=None):\n",
    "        if type(nested_dicts) != dict:\n",
    "            reslt_dict[key] = nested_dicts\n",
    "        else:\n",
    "            for k in nested_dicts:\n",
    "                kk = '.'.join([i for i in [key, k] if i])\n",
    "                rr_dict(nested_dicts[k], kk)\n",
    "    \n",
    "    rr_dict(nested_dicts)\n",
    "    for key, val in sorted(reslt_dict.items()):\n",
    "        print(f'{key}: {val}')\n",
    "\n",
    "\n",
    "data = {\n",
    "    'a': 1,\n",
    "    'b': {\n",
    "        'c': 30,\n",
    "        'a': 10,\n",
    "        'b': 20\n",
    "    }\n",
    "}\n",
    "dict_travel(data)\n",
    "print()\n",
    "data = {'b': {'c': 30, 'a': 10, 'b': {'d': 40, 'e': 50}}}\n",
    "dict_travel(data)"
   ]
  },
  {
   "cell_type": "code",
   "execution_count": 21,
   "metadata": {},
   "outputs": [
    {
     "data": {
      "text/plain": [
       "'s'"
      ]
     },
     "execution_count": 21,
     "metadata": {},
     "output_type": "execute_result"
    }
   ],
   "source": [
    "','.join(['s'])"
   ]
  },
  {
   "cell_type": "code",
   "execution_count": null,
   "metadata": {},
   "outputs": [],
   "source": []
  },
  {
   "cell_type": "code",
   "execution_count": 2,
   "metadata": {},
   "outputs": [
    {
     "name": "stdout",
     "output_type": "stream",
     "text": [
      "25\n"
     ]
    }
   ],
   "source": [
    "def power(degree):\n",
    "    def square(x):\n",
    "        return x ** degree\n",
    "    \n",
    "    return square\n",
    "\n",
    "square = power(2)\n",
    "print(square(5))"
   ]
  },
  {
   "cell_type": "code",
   "execution_count": 1,
   "metadata": {},
   "outputs": [
    {
     "name": "stdout",
     "output_type": "stream",
     "text": [
      "36\n"
     ]
    }
   ],
   "source": [
    "def generator_square_polynom(a, b, c):\n",
    "    def gen(x):\n",
    "        return a * x ** 2 + b * x + c\n",
    "    \n",
    "    return gen\n",
    "\n",
    "f = generator_square_polynom(1, 2, 1)\n",
    "print(f(5))"
   ]
  },
  {
   "cell_type": "code",
   "execution_count": 8,
   "metadata": {},
   "outputs": [
    {
     "name": "stdout",
     "output_type": "stream",
     "text": [
      "https://beegeek.ru?name=timur\n"
     ]
    }
   ],
   "source": [
    "def sourcetemplate(url):\n",
    "    def ret(**kwargs):\n",
    "        names = '&'.join([f\"{k}={v}\" for k, v in kwargs.items()])\n",
    "        if names != '':\n",
    "            return f'{url}?' + names\n",
    "        return f'{url}'\n",
    "    \n",
    "    return ret\n",
    "\n",
    "url = 'https://beegeek.ru'\n",
    "load = sourcetemplate(url)\n",
    "print(load(name='timur'))"
   ]
  },
  {
   "cell_type": "code",
   "execution_count": 2,
   "metadata": {},
   "outputs": [
    {
     "name": "stdout",
     "output_type": "stream",
     "text": [
      "2015-12-07\n"
     ]
    }
   ],
   "source": [
    "from datetime import date\n",
    "\n",
    "def date_formatter(code):\n",
    "    d = {'ru': '%d.%m.%Y',\n",
    "     'us': '%m-%d-%Y',\n",
    "     'ca': '%Y-%m-%d',\n",
    "     'br': '%d/%m/%Y',\n",
    "     'fr': '%d.%m.%Y',\n",
    "     'pt': '%d-%m-%Y',}\n",
    "    def ret(date):\n",
    "        return date.strftime(d[code])\n",
    "    return ret\n",
    "\n",
    "date_ru = date_formatter('ca')\n",
    "today = date(2015, 12, 7)\n",
    "print(date_ru(today))"
   ]
  },
  {
   "cell_type": "code",
   "execution_count": 6,
   "metadata": {},
   "outputs": [
    {
     "name": "stdout",
     "output_type": "stream",
     "text": [
      "[2, 3, 5, 7, 1, 4, 6, 8]\n",
      "[200, 300, 50, 150, 1000, 20000]\n"
     ]
    }
   ],
   "source": [
    "def sort_priority(values, group):\n",
    "    values.sort(key=lambda x: (x not in group, x))\n",
    "\n",
    "\n",
    "numbers = [8, 3, 1, 2, 5, 4, 7, 6]\n",
    "group = {5, 7, 2, 3}\n",
    "sort_priority(numbers, group)\n",
    "\n",
    "print(numbers)\n",
    "numbers = [150, 200, 300, 1000, 50, 20000]\n",
    "sort_priority(numbers, [300, 100, 200])\n",
    "\n",
    "print(numbers)"
   ]
  },
  {
   "cell_type": "code",
   "execution_count": 12,
   "metadata": {},
   "outputs": [
    {
     "name": "stdout",
     "output_type": "stream",
     "text": [
      "{'number': int | float, 'return': list[int]}\n",
      "[1, 3, 9, 0, 9, 9, 3, 4]\n"
     ]
    }
   ],
   "source": [
    "def get_digits(number: int | float) -> list[int]:\n",
    "    return [int(x) for x in str(number) if x.isdigit()]\n",
    "\n",
    "print(get_digits.__annotations__)\n",
    "print(get_digits(13.909934))"
   ]
  },
  {
   "cell_type": "code",
   "execution_count": 7,
   "metadata": {},
   "outputs": [
    {
     "name": "stdout",
     "output_type": "stream",
     "text": [
      "dict[str, str | list[int]] dict[str, str | int]\n"
     ]
    }
   ],
   "source": [
    "def top_grade(grades: dict[str, str | list[int]]) -> dict[str, str | int]:\n",
    "    return {'name': grades['name'], 'top_grade':max(grades['grades'])}\n",
    "\n",
    "print(*top_grade.__annotations__.values())\n",
    "# dict[str, str | list[int]] dict[str, str | int]"
   ]
  },
  {
   "cell_type": "code",
   "execution_count": 8,
   "metadata": {},
   "outputs": [
    {
     "data": {
      "text/plain": [
       "[5, 3]"
      ]
     },
     "execution_count": 8,
     "metadata": {},
     "output_type": "execute_result"
    }
   ],
   "source": [
    "[5] + [3]"
   ]
  },
  {
   "cell_type": "code",
   "execution_count": 34,
   "metadata": {},
   "outputs": [
    {
     "name": "stdout",
     "output_type": "stream",
     "text": [
      "[2, 3, 4, 5, 1]\n",
      "[234, 235]\n",
      "[235, 234]\n"
     ]
    }
   ],
   "source": [
    "from collections import deque\n",
    "def cyclic_shift(numbers: list[float | int], step: int) -> None:\n",
    "    temp = deque(numbers)\n",
    "    temp.rotate(step)\n",
    "    numbers[:] = [i for i in temp]\n",
    "\n",
    "numbers = [1, 2, 3, 4, 5]\n",
    "cyclic_shift(numbers, -1)\n",
    "\n",
    "print(numbers)\n",
    "\n",
    "numbers = [234, 235]\n",
    "cyclic_shift(numbers, -22)\n",
    "\n",
    "print(numbers)\n",
    "\n",
    "numbers = [234, 235]\n",
    "cyclic_shift(numbers, 15)\n",
    "\n",
    "print(numbers)"
   ]
  },
  {
   "cell_type": "code",
   "execution_count": 40,
   "metadata": {},
   "outputs": [
    {
     "name": "stdout",
     "output_type": "stream",
     "text": [
      "{1: [1, 2], 2: [3, 4], 3: [5, 6], 4: [7, 8]}\n"
     ]
    },
    {
     "ename": "",
     "evalue": "",
     "output_type": "error",
     "traceback": [
      "\u001b[1;31mThe Kernel crashed while executing code in the the current cell or a previous cell. Please review the code in the cell(s) to identify a possible cause of the failure. Click <a href='https://aka.ms/vscodeJupyterKernelCrash'>here</a> for more info. View Jupyter <a href='command:jupyter.viewOutput'>log</a> for further details."
     ]
    }
   ],
   "source": [
    "# matrix = \n",
    "def matrix_to_dict(matrix: list[list[int | float]]) -> dict[int, list[int | float]]:\n",
    "    return dict((i + 1, k) for i, k in enumerate(matrix))\n",
    "\n",
    "def matrix_to_dict(matrix: list[list[int | float]]) -> dict[int, list[int | float]]:\n",
    "    return dict(enumerate(matrix, 1))\n",
    "\n",
    "matrix = [[1, 2], [3, 4], [5, 6], [7, 8]]\n",
    "\n",
    "print(matrix_to_dict(matrix))"
   ]
  },
  {
   "cell_type": "code",
   "execution_count": 2,
   "metadata": {},
   "outputs": [
    {
     "name": "stdout",
     "output_type": "stream",
     "text": [
      "---- Верхний ломтик хлеба ----\n",
      "томат | салат | сыр | бекон\n",
      "---- Нижний ломтик хлеба ----\n",
      "---- Верхний ломтик хлеба ----\n",
      "---- Нижний ломтик хлеба ----\n",
      "beegeek\n"
     ]
    }
   ],
   "source": [
    "def sandwich(func):\n",
    "    def wrapper(*args, **kwargs):\n",
    "        print('---- Верхний ломтик хлеба ----')\n",
    "        a = func(*args, **kwargs)\n",
    "        print('---- Нижний ломтик хлеба ----')\n",
    "        return a\n",
    "    return wrapper\n",
    "\n",
    "@sandwich\n",
    "def add_ingredients(ingredients):\n",
    "    print(' | '.join(ingredients))\n",
    "\n",
    "add_ingredients(['томат', 'салат', 'сыр', 'бекон'])\n",
    "\n",
    "@sandwich\n",
    "def beegeek():\n",
    "    return 'beegeek'\n",
    "    \n",
    "print(beegeek())"
   ]
  },
  {
   "cell_type": "code",
   "execution_count": 5,
   "metadata": {},
   "outputs": [
    {
     "name": "stdout",
     "output_type": "stream",
     "text": [
      "HI THERE!"
     ]
    }
   ],
   "source": [
    "def upper(func):\n",
    "    def wrapper(*args, **kwargs):\n",
    "        args = [i.upper() if type(i)==str else i for i in args ]\n",
    "        kwargs = dict((i, kwargs[i].upper() if type(kwargs[i])==str else kwargs[i]) for i in kwargs)\n",
    "        a = func(*args, **kwargs)\n",
    "        return a\n",
    "    return wrapper\n",
    "\n",
    "old_print = print\n",
    "\n",
    "@upper\n",
    "def print(*args, **kwargs):\n",
    "    old_print(*args, **kwargs)\n",
    "\n",
    "print('hi', 'there', end='!')"
   ]
  },
  {
   "cell_type": "code",
   "execution_count": 8,
   "metadata": {},
   "outputs": [
    {
     "name": "stdout",
     "output_type": "stream",
     "text": [
      "beegeek\n",
      "beegeek\n",
      "None\n",
      "beegeek\n",
      "beegeek\n",
      "13\n",
      "13\n"
     ]
    }
   ],
   "source": [
    "def do_twice(func):\n",
    "    def wrapper(*args, **kwargs):\n",
    "        a = func(*args,**kwargs)\n",
    "        a = func(*args,**kwargs)\n",
    "        return a\n",
    "    return wrapper\n",
    "    \n",
    "\n",
    "@do_twice\n",
    "def beegeek():\n",
    "    print('beegeek')\n",
    "    \n",
    "print(beegeek())\n",
    "\n",
    "@do_twice\n",
    "def beegeek():\n",
    "    print('beegeek')\n",
    "    \n",
    "beegeek()\n",
    "\n",
    "\n",
    "@do_twice\n",
    "def beegeek(a, b, sep):\n",
    "    print(a + b + sep)\n",
    "    \n",
    "beegeek(1, 2, sep=10)"
   ]
  },
  {
   "cell_type": "code",
   "execution_count": 18,
   "metadata": {},
   "outputs": [
    {
     "name": "stdout",
     "output_type": "stream",
     "text": [
      "meloncherryapple\n"
     ]
    }
   ],
   "source": [
    "def reverse_args(func):\n",
    "    def wrapper(*args, **kwargs):\n",
    "        if args:\n",
    "            args = list(reversed(args))\n",
    "        a = func(*args, **kwargs)\n",
    "        return a\n",
    "    return wrapper\n",
    "\n",
    "\n",
    "@reverse_args\n",
    "def concat(a, b, c):\n",
    "    return a + b + c\n",
    "    \n",
    "print(concat('apple', 'cherry', 'melon'))"
   ]
  },
  {
   "cell_type": "code",
   "execution_count": 18,
   "metadata": {},
   "outputs": [
    {
     "name": "stdout",
     "output_type": "stream",
     "text": [
      "60\n"
     ]
    }
   ],
   "source": [
    "def takes_positive(func):\n",
    "    def wrapper(*args, **kwargs):\n",
    "        values = list(args) + list(kwargs.values())\n",
    "        if len(list(filter(lambda x: type(x) != int, values))):\n",
    "            return TypeError\n",
    "        if len(list(filter(lambda x: x <= 0, values))):\n",
    "            return ValueError\n",
    "        return func(*args, **kwargs)\n",
    "    return wrapper\n",
    "\n",
    "\n",
    "@takes_positive\n",
    "def positive_sum(*args, **kwargs):\n",
    "    return sum(args) + sum(kwargs.values())\n",
    "    \n",
    "print(positive_sum(1, 2, 3, 4, 5, 6, 7, 8, 9, 10, par1=1, sep=4))"
   ]
  },
  {
   "cell_type": "code",
   "execution_count": 23,
   "metadata": {},
   "outputs": [
    {
     "name": "stdout",
     "output_type": "stream",
     "text": [
      "beegeekbeegeek\n"
     ]
    }
   ],
   "source": [
    "def double(func):\n",
    "    def wrapper():\n",
    "        return func() * 2\n",
    "    return wrapper\n",
    "\n",
    "def del_first_char(func):\n",
    "    def wrapper():\n",
    "        return func()[1:]\n",
    "    return wrapper\n",
    "\n",
    "@double\n",
    "# @del_first_char\n",
    "def beegeek():\n",
    "    return 'beegeek'\n",
    "\n",
    "print(beegeek())"
   ]
  },
  {
   "cell_type": "code",
   "execution_count": 24,
   "metadata": {},
   "outputs": [
    {
     "ename": "TypeError",
     "evalue": "add_dollar_prefix.<locals>.wrapper() takes 0 positional arguments but 1 was given",
     "output_type": "error",
     "traceback": [
      "\u001b[1;31m---------------------------------------------------------------------------\u001b[0m",
      "\u001b[1;31mTypeError\u001b[0m                                 Traceback (most recent call last)",
      "Cell \u001b[1;32mIn[24], line 12\u001b[0m\n\u001b[0;32m      9\u001b[0m     prices \u001b[38;5;241m=\u001b[39m {\u001b[38;5;124m'\u001b[39m\u001b[38;5;124mcomic book\u001b[39m\u001b[38;5;124m'\u001b[39m: \u001b[38;5;241m5\u001b[39m, \u001b[38;5;124m'\u001b[39m\u001b[38;5;124mpuzzle\u001b[39m\u001b[38;5;124m'\u001b[39m: \u001b[38;5;241m15\u001b[39m}\n\u001b[0;32m     10\u001b[0m     \u001b[38;5;28;01mreturn\u001b[39;00m prices[item]\n\u001b[1;32m---> 12\u001b[0m \u001b[38;5;28mprint\u001b[39m(\u001b[43mget_price\u001b[49m\u001b[43m(\u001b[49m\u001b[38;5;124;43m'\u001b[39;49m\u001b[38;5;124;43mcomic book\u001b[39;49m\u001b[38;5;124;43m'\u001b[39;49m\u001b[43m)\u001b[49m)\n",
      "\u001b[1;31mTypeError\u001b[0m: add_dollar_prefix.<locals>.wrapper() takes 0 positional arguments but 1 was given"
     ]
    }
   ],
   "source": [
    "def add_dollar_prefix(func):\n",
    "    def wrapper():\n",
    "        result = str(func())\n",
    "        return '$' + result\n",
    "    return wrapper\n",
    "\n",
    "@add_dollar_prefix\n",
    "def get_price(item):\n",
    "    prices = {'comic book': 5, 'puzzle': 15}\n",
    "    return prices[item]\n",
    "\n",
    "print(get_price('comic book'))"
   ]
  },
  {
   "cell_type": "code",
   "execution_count": 35,
   "metadata": {},
   "outputs": [
    {
     "name": "stdout",
     "output_type": "stream",
     "text": [
      "100\n"
     ]
    }
   ],
   "source": [
    "import functools\n",
    "def square(func):\n",
    "    @functools.wraps(func)\n",
    "    def wrapper(*args, **kwargs):\n",
    "        return func(*args, **kwargs) ** 2\n",
    "    return wrapper\n",
    "\n",
    "@square\n",
    "def add(a, b):\n",
    "    return a + b\n",
    "\n",
    "print(add(3, 7))"
   ]
  },
  {
   "cell_type": "code",
   "execution_count": 40,
   "metadata": {},
   "outputs": [
    {
     "name": "stdout",
     "output_type": "stream",
     "text": [
      "nothing\n",
      "None\n",
      "<class 'TypeError'>\n"
     ]
    }
   ],
   "source": [
    "import functools\n",
    "\n",
    "def returns_string(func):\n",
    "    @functools.wraps(func)\n",
    "    def wrapper(*args, **kwargs):\n",
    "        val = func(*args, **kwargs)\n",
    "        if type(val) is not str:\n",
    "            raise TypeError\n",
    "        return val\n",
    "    return wrapper\n",
    "\n",
    "\n",
    "@returns_string\n",
    "def nothing():\n",
    "    return\n",
    "\n",
    "print(nothing.__name__)\n",
    "print(nothing.__doc__)\n",
    "\n",
    "try:\n",
    "    nothing()\n",
    "except TypeError as e:\n",
    "    print(type(e))"
   ]
  },
  {
   "cell_type": "code",
   "execution_count": 46,
   "metadata": {},
   "outputs": [
    {
     "name": "stdout",
     "output_type": "stream",
     "text": [
      "TRACE: вызов say() с аргументами: ('Jane', 'Hello, World'), {}\n",
      "TRACE: возвращаемое значение say(): 'Jane: Hello, World'\n",
      "sub\n",
      "прекрасная функция\n",
      "TRACE: вызов sub() с аргументами: (20, 5), {'c': 10}\n",
      "TRACE: возвращаемое значение sub(): '25'\n"
     ]
    },
    {
     "data": {
      "text/plain": [
       "25"
      ]
     },
     "execution_count": 46,
     "metadata": {},
     "output_type": "execute_result"
    }
   ],
   "source": [
    "import functools\n",
    "def trace(func):\n",
    "    @functools.wraps(func)\n",
    "    def wrapper(*args, **kwargs):\n",
    "        val = func(*args, **kwargs)\n",
    "        print(f\"TRACE: вызов {func.__name__}() с аргументами: {args}, {kwargs}\")\n",
    "        print(f\"TRACE: возвращаемое значение {func.__name__}(): {repr(val)}\")\n",
    "        return val\n",
    "    return wrapper\n",
    "\n",
    "@trace\n",
    "def say(name, line):\n",
    "    return f'{name}: {line}'\n",
    "\n",
    "say('Jane', 'Hello, World')\n",
    "\n",
    "@trace\n",
    "def sub(a, b, c):\n",
    "    '''прекрасная функция'''\n",
    "    return a - b + c\n",
    "    \n",
    "print(sub.__name__)\n",
    "print(sub.__doc__)\n",
    "sub(20, 5, c=10)"
   ]
  },
  {
   "cell_type": "code",
   "execution_count": 9,
   "metadata": {},
   "outputs": [
    {
     "name": "stdout",
     "output_type": "stream",
     "text": [
      "beegeek\n",
      "beegeek docs\n",
      "beegeek online-school\n"
     ]
    }
   ],
   "source": [
    "from functools import wraps\n",
    "def prefix(string, to_the_end=False):\n",
    "    def decorator(func):\n",
    "        @wraps(func)\n",
    "        def wrapper(*args, **kwargs):\n",
    "            if to_the_end:\n",
    "                return f'{func(*args, **kwargs)}{string}'\n",
    "            return f'{string}{func(*args, **kwargs)}'\n",
    "        return wrapper\n",
    "    return decorator\n",
    "\n",
    "@prefix(' online-school', to_the_end=True)\n",
    "def beegeek():\n",
    "    '''beegeek docs'''\n",
    "    return 'beegeek'\n",
    "       \n",
    "\n",
    "print(beegeek.__name__)\n",
    "print(beegeek.__doc__)\n",
    "print(beegeek())"
   ]
  },
  {
   "cell_type": "code",
   "execution_count": 11,
   "metadata": {},
   "outputs": [
    {
     "name": "stdout",
     "output_type": "stream",
     "text": [
      "<del>Python</del>\n"
     ]
    }
   ],
   "source": [
    "from functools import wraps\n",
    "def make_html(tag):\n",
    "    def decorator(func):\n",
    "        @wraps(func)\n",
    "        def wrapper(*args, **kwargs):\n",
    "            return f'<{tag}>{func(*args, **kwargs)}</{tag}>'\n",
    "        return wrapper\n",
    "    return decorator\n",
    "\n",
    "@make_html('del')\n",
    "def get_text(text):\n",
    "    return text\n",
    "    \n",
    "print(get_text('Python'))"
   ]
  },
  {
   "cell_type": "code",
   "execution_count": 15,
   "metadata": {},
   "outputs": [
    {
     "name": "stdout",
     "output_type": "stream",
     "text": [
      "add\n",
      "sum of two numbers\n",
      "30\n"
     ]
    }
   ],
   "source": [
    "from functools import wraps\n",
    "def repeat(times):\n",
    "    def decorator(func):\n",
    "        @wraps(func)\n",
    "        def wrapper(*args, **kwargs):\n",
    "            for _ in range(times):\n",
    "                res = func(*args, **kwargs)\n",
    "                # print(res)\n",
    "            return res\n",
    "        return wrapper\n",
    "    return decorator\n",
    "\n",
    "@repeat(10)\n",
    "def add(a, b):\n",
    "    '''sum of two numbers'''\n",
    "    return a + b\n",
    "    \n",
    "print(add.__name__)\n",
    "print(add.__doc__)\n",
    "print(add(10, b=20))"
   ]
  },
  {
   "cell_type": "code",
   "execution_count": 20,
   "metadata": {},
   "outputs": [
    {
     "name": "stdout",
     "output_type": "stream",
     "text": [
      "bee..ek\n"
     ]
    }
   ],
   "source": [
    "from functools import wraps\n",
    "def strip_range(start,end,char='.'):\n",
    "    def decorator(func):\n",
    "        @wraps(func)\n",
    "        def wrapper(*args, **kwargs):\n",
    "            wr = func(*args, **kwargs)\n",
    "            res = ''.join([char if i in range(start, end) else wr[i] for i in range(len(wr))])\n",
    "            return res\n",
    "        return wrapper\n",
    "    return decorator\n",
    "\n",
    "@strip_range(3, 5)\n",
    "def beegeek():\n",
    "    return 'beegeek'\n",
    "    \n",
    "print(beegeek())"
   ]
  },
  {
   "cell_type": "code",
   "execution_count": 3,
   "metadata": {},
   "outputs": [
    {
     "name": "stdout",
     "output_type": "stream",
     "text": [
      "15\n"
     ]
    }
   ],
   "source": [
    "from functools import wraps\n",
    "def returns(datatype):\n",
    "    def decorator(func):\n",
    "        @wraps(func)\n",
    "        def wrapper(*args, **kwargs):\n",
    "            res = func(*args, **kwargs)\n",
    "            if type(res) != datatype:\n",
    "                return TypeError\n",
    "            return res\n",
    "        return wrapper\n",
    "    return decorator\n",
    "\n",
    "@returns(int)\n",
    "def add(a, b):\n",
    "    return a + b\n",
    "\n",
    "print(add(10, 5))"
   ]
  },
  {
   "cell_type": "code",
   "execution_count": 74,
   "metadata": {},
   "outputs": [
    {
     "name": "stdout",
     "output_type": "stream",
     "text": [
      "add\n",
      "add docs\n",
      "<class 'str'>\n",
      "(<class 'list'>, <class 'int'>, <class 'tuple'>, <class 'str'>)\n",
      "<class 'TypeError'>\n"
     ]
    }
   ],
   "source": [
    "from functools import wraps\n",
    "\n",
    "def takes(*args):\n",
    "    types = args\n",
    "    def decorator(func):\n",
    "        @wraps(func)\n",
    "        def wrapper(*args, **kwargs):\n",
    "            for i in map(type, args + tuple(kwargs.values())):\n",
    "                if i not in types:\n",
    "                    return TypeError\n",
    "            return (func(*args, **kwargs))\n",
    "        return wrapper\n",
    "    return decorator\n",
    "\n",
    "@takes(list, int, tuple, str)\n",
    "def add(a, b):\n",
    "    '''add docs'''\n",
    "    return a + b\n",
    "\n",
    "print(add.__name__)\n",
    "print(add.__doc__)\n",
    "\n",
    "try:\n",
    "    print(add(a='a', b='c'))\n",
    "except TypeError as e:\n",
    "    print(type(e))\n",
    "\n"
   ]
  },
  {
   "cell_type": "code",
   "execution_count": 84,
   "metadata": {},
   "outputs": [
    {
     "name": "stdout",
     "output_type": "stream",
     "text": [
      "bee\n",
      "geek\n",
      "10\n",
      "20\n",
      "30\n",
      "add\n",
      "add docs\n",
      "3\n",
      "25\n",
      "40\n",
      "50\n"
     ]
    }
   ],
   "source": [
    "from functools import wraps\n",
    "\n",
    "def add_attrs(*args, **kwargs):\n",
    "    def decorator(func):\n",
    "        for k, v in kwargs.items():\n",
    "            func.__dict__[k] = v\n",
    "        @wraps(func)\n",
    "        def wrapper(*args, **kwargs):\n",
    "                return func(*args, **kwargs)\n",
    "        return wrapper\n",
    "    return decorator\n",
    "\n",
    "@add_attrs(attr1='bee', attr2='geek')\n",
    "def beegeek():\n",
    "    return 'beegeek'\n",
    "    \n",
    "print(beegeek.attr1)\n",
    "print(beegeek.attr2)\n",
    "\n",
    "@add_attrs(at1=10, at2=20, at3=30, at4=40, atf=50)\n",
    "def add(a, b):\n",
    "    '''add docs'''\n",
    "    return a + b\n",
    "    \n",
    "print(add.at1)\n",
    "print(add.at2)\n",
    "print(add.at3)\n",
    "print(add.__name__)\n",
    "print(add.__doc__)\n",
    "print(add(1, 2))\n",
    "print(add(b=12, a=13))\n",
    "print(add.at4)\n",
    "print(add.atf)"
   ]
  },
  {
   "cell_type": "code",
   "execution_count": 10,
   "metadata": {},
   "outputs": [
    {
     "name": "stdout",
     "output_type": "stream",
     "text": [
      "Исключение ZeroDivisionError обработано\n",
      "<class 'TypeError'>\n"
     ]
    }
   ],
   "source": [
    "from functools import wraps\n",
    "\n",
    "def ignore_exception(*args):\n",
    "    exts = args\n",
    "    def decorator(func):\n",
    "        @wraps(func)\n",
    "        def wrapper(*args, **kwargs):\n",
    "            try:\n",
    "                return func(*args, **kwargs)\n",
    "            except exts as ex:\n",
    "                print(f'Исключение {type(ex).__name__} обработано')\n",
    "            else:\n",
    "                return func(*args, **kwargs)\n",
    "        return wrapper\n",
    "    return decorator\n",
    "\n",
    "\n",
    "\n",
    "@ignore_exception(ZeroDivisionError, TypeError, ValueError)\n",
    "def f(x):\n",
    "    return 1 / x\n",
    "    \n",
    "f(0)\n",
    "\n",
    "min = ignore_exception(ZeroDivisionError)(min)\n",
    "\n",
    "try:\n",
    "    print(min(1, '2', 3, [4, 5]))\n",
    "except Exception as e:\n",
    "    print(type(e))"
   ]
  },
  {
   "cell_type": "code",
   "execution_count": 20,
   "metadata": {},
   "outputs": [
    {
     "name": "stdout",
     "output_type": "stream",
     "text": [
      "<class '__main__.MaxRetryException'>\n"
     ]
    }
   ],
   "source": [
    "from functools import wraps\n",
    "\n",
    "class MaxRetriesException(Exception):\n",
    "    pass\n",
    "\n",
    "def retry(times):\n",
    "    def decorator(func):\n",
    "        @wraps(func)\n",
    "        def wrapper(*args, **kwargs):\n",
    "            nonlocal times\n",
    "            for _ in range(times):\n",
    "                try:\n",
    "                    return func(*args, **kwargs)\n",
    "                except:\n",
    "                    pass\n",
    "            raise MaxRetriesException\n",
    "        return wrapper\n",
    "    return decorator\n",
    "\n",
    "@retry(3)\n",
    "def no_way():\n",
    "    raise ValueError\n",
    "   \n",
    "try:\n",
    "    no_way()\n",
    "except Exception as e:\n",
    "    print(type(e))"
   ]
  },
  {
   "cell_type": "code",
   "execution_count": 7,
   "metadata": {},
   "outputs": [
    {
     "name": "stdout",
     "output_type": "stream",
     "text": [
      "9\n"
     ]
    }
   ],
   "source": [
    "from functools import lru_cache\n",
    "\n",
    "def ways(n):\n",
    "    @lru_cache\n",
    "    def recurse(num):\n",
    "        if num < 0:\n",
    "            return 0\n",
    "        elif num == 1:\n",
    "            return 1\n",
    "        else:\n",
    "            return recurse(num - 1) + recurse(num - 3) + recurse(num - 4)\n",
    "    return recurse(n)\n",
    "\n",
    "print(ways(7))\n"
   ]
  },
  {
   "cell_type": "code",
   "execution_count": 8,
   "metadata": {},
   "outputs": [
    {
     "name": "stdout",
     "output_type": "stream",
     "text": [
      "1\n"
     ]
    }
   ],
   "source": [
    "numbers = filter(None, [0, 1, 2, 3])\n",
    "\n",
    "print(next(numbers))"
   ]
  },
  {
   "cell_type": "code",
   "execution_count": 12,
   "metadata": {},
   "outputs": [
    {
     "name": "stdout",
     "output_type": "stream",
     "text": [
      "45\n"
     ]
    }
   ],
   "source": [
    "numbers = [100, 70, 34, 45, 30, 83, 12, 83, -28, 49, -8, -2, 6, 62, 64, -22, -19, 61, 13, 5, 80, -17, 7, 3, 21, 73, 88, -11, 16, -22]\n",
    "nums = iter(numbers)\n",
    "next(nums)\n",
    "next(nums)\n",
    "next(nums)\n",
    "print(next(nums))"
   ]
  },
  {
   "cell_type": "code",
   "execution_count": 13,
   "metadata": {},
   "outputs": [
    {
     "name": "stdout",
     "output_type": "stream",
     "text": [
      "-22\n"
     ]
    },
    {
     "ename": "",
     "evalue": "",
     "output_type": "error",
     "traceback": [
      "\u001b[1;31mThe Kernel crashed while executing code in the current cell or a previous cell. \n",
      "\u001b[1;31mPlease review the code in the cell(s) to identify a possible cause of the failure. \n",
      "\u001b[1;31mClick <a href='https://aka.ms/vscodeJupyterKernelCrash'>here</a> for more info. \n",
      "\u001b[1;31mView Jupyter <a href='command:jupyter.viewOutput'>log</a> for further details."
     ]
    }
   ],
   "source": [
    "numbers = [100, 70, 34, 45, 30, 83, 12, 83, -28, 49, -8, -2, 6, 62, 64, -22, -19, 61, 13, 5, 80, -17, 7, 3, 21, 73, 88, -11, 16, -22]\n",
    "print(next(reversed(numbers)))"
   ]
  },
  {
   "cell_type": "code",
   "execution_count": 2,
   "metadata": {},
   "outputs": [
    {
     "name": "stdout",
     "output_type": "stream",
     "text": [
      "True\n",
      "False\n"
     ]
    }
   ],
   "source": [
    "def is_iterable(obj):\n",
    "    if '__iter__' in dir(obj):\n",
    "        return True\n",
    "    return False\n",
    "\n",
    "print(is_iterable('18731'))\n",
    "print(is_iterable(18731))\n"
   ]
  },
  {
   "cell_type": "code",
   "execution_count": 8,
   "metadata": {},
   "outputs": [
    {
     "name": "stdout",
     "output_type": "stream",
     "text": [
      "['__add__', '__class__', '__class_getitem__', '__contains__', '__delattr__', '__delitem__', '__dir__', '__doc__', '__eq__', '__format__', '__ge__', '__getattribute__', '__getitem__', '__gt__', '__hash__', '__iadd__', '__imul__', '__init__', '__init_subclass__', '__iter__', '__le__', '__len__', '__lt__', '__mul__', '__ne__', '__new__', '__reduce__', '__reduce_ex__', '__repr__', '__reversed__', '__rmul__', '__setattr__', '__setitem__', '__sizeof__', '__str__', '__subclasshook__', 'append', 'clear', 'copy', 'count', 'extend', 'index', 'insert', 'pop', 'remove', 'reverse', 'sort']\n",
      "False\n",
      "['__class__', '__delattr__', '__dir__', '__doc__', '__eq__', '__format__', '__ge__', '__getattribute__', '__gt__', '__hash__', '__init__', '__init_subclass__', '__iter__', '__le__', '__lt__', '__ne__', '__new__', '__next__', '__reduce__', '__reduce_ex__', '__repr__', '__setattr__', '__sizeof__', '__str__', '__subclasshook__']\n",
      "True\n"
     ]
    }
   ],
   "source": [
    "def is_iterator(obj):\n",
    "    return '__next__' in dir(obj)\n",
    "\n",
    "print(is_iterator([1, 2, 3, 4, 5]))\n",
    "\n",
    "beegeek = map(str.upper, 'beegeek')\n",
    "print(is_iterator(beegeek))"
   ]
  },
  {
   "cell_type": "code",
   "execution_count": 11,
   "metadata": {},
   "outputs": [
    {
     "name": "stdout",
     "output_type": "stream",
     "text": [
      "True\n",
      "True\n",
      "True\n"
     ]
    }
   ],
   "source": [
    "import random\n",
    "def random_numbers(left, right):\n",
    "    return iter(lambda: random.randint(left, right), False)\n",
    "\n",
    "iterator = random_numbers(1, 10)\n",
    "\n",
    "print(next(iterator) in range(1, 11))\n",
    "print(next(iterator) in range(1, 11))\n",
    "print(next(iterator) in range(1, 11))"
   ]
  },
  {
   "cell_type": "code",
   "execution_count": 14,
   "metadata": {},
   "outputs": [
    {
     "name": "stdout",
     "output_type": "stream",
     "text": [
      "geek\n",
      "geek\n",
      "geek\n"
     ]
    }
   ],
   "source": [
    "class Repeater:\n",
    "    def __init__(self, obj) -> None:\n",
    "        self.obj = obj\n",
    "\n",
    "    def __iter__(self):\n",
    "        return iter(lambda: self.obj, True)\n",
    "    \n",
    "    def __next__(self):\n",
    "        return self.obj\n",
    "    \n",
    "\n",
    "\n",
    "geek = Repeater('geek')\n",
    "\n",
    "print(next(geek))\n",
    "print(next(geek))\n",
    "print(next(geek))"
   ]
  },
  {
   "cell_type": "code",
   "execution_count": 16,
   "metadata": {},
   "outputs": [
    {
     "name": "stdout",
     "output_type": "stream",
     "text": [
      "geek\n",
      "geek\n",
      "geek\n",
      "Error\n"
     ]
    }
   ],
   "source": [
    "class BoundedRepeater:\n",
    "    def __init__(self, obj, times) -> None:\n",
    "        self.obj = obj\n",
    "        self.times = times\n",
    "\n",
    "    def __iter__(self):\n",
    "        return self\n",
    "    \n",
    "    def __next__(self):\n",
    "        if self.times == 0:\n",
    "            raise StopIteration\n",
    "        else:\n",
    "            self.times -= 1\n",
    "            return self.obj\n",
    "        \n",
    "geek = BoundedRepeater('geek', 3)\n",
    "\n",
    "print(next(geek))\n",
    "print(next(geek))\n",
    "print(next(geek))\n",
    "\n",
    "try:\n",
    "    print(next(geek))\n",
    "except StopIteration:\n",
    "    print('Error')"
   ]
  },
  {
   "cell_type": "code",
   "execution_count": 22,
   "metadata": {},
   "outputs": [
    {
     "name": "stdout",
     "output_type": "stream",
     "text": [
      "1\n",
      "4\n"
     ]
    }
   ],
   "source": [
    "class Square:\n",
    "    def __init__(self, n) -> None:\n",
    "        self.n = n\n",
    "        self.start = 0\n",
    "\n",
    "    def __iter__(self):\n",
    "        return self\n",
    "    \n",
    "    def __next__(self):\n",
    "        if self.start == self.n:\n",
    "            raise StopIteration\n",
    "        self.start += 1\n",
    "        return self.start ** 2\n",
    "    \n",
    "squares = Square(2)\n",
    "\n",
    "print(next(squares))\n",
    "print(next(squares))"
   ]
  },
  {
   "cell_type": "code",
   "execution_count": 25,
   "metadata": {},
   "outputs": [
    {
     "name": "stdout",
     "output_type": "stream",
     "text": [
      "1\n",
      "1\n",
      "2\n",
      "3\n"
     ]
    }
   ],
   "source": [
    "class Fibonacci:\n",
    "    def __init__(self) -> None:\n",
    "        self.prev = 0\n",
    "        self.now = 1\n",
    "\n",
    "    def __iter__(self):\n",
    "        return self\n",
    "    \n",
    "    def __next__(self):\n",
    "        ret = self.now + self.prev\n",
    "        self.prev, self.now = self.now, ret\n",
    "        return self.prev\n",
    "    \n",
    "fibonacci = Fibonacci()\n",
    "\n",
    "print(next(fibonacci))\n",
    "print(next(fibonacci))\n",
    "print(next(fibonacci))\n",
    "print(next(fibonacci))"
   ]
  },
  {
   "cell_type": "code",
   "execution_count": 27,
   "metadata": {},
   "outputs": [
    {
     "name": "stdout",
     "output_type": "stream",
     "text": [
      "1\n",
      "2\n",
      "4\n",
      "8\n"
     ]
    }
   ],
   "source": [
    "class PowerOf:\n",
    "    def __init__(self, number):\n",
    "        self.number = number\n",
    "        self.pw = -1\n",
    "    \n",
    "    def __iter__(self):\n",
    "        return self\n",
    "    \n",
    "    def __next__(self):\n",
    "        self.pw += 1\n",
    "        return self.number ** self.pw\n",
    "\n",
    " \n",
    "power_of_two = PowerOf(2)\n",
    "\n",
    "print(next(power_of_two))\n",
    "print(next(power_of_two))\n",
    "print(next(power_of_two))\n",
    "print(next(power_of_two))"
   ]
  },
  {
   "cell_type": "code",
   "execution_count": 42,
   "metadata": {},
   "outputs": [
    {
     "name": "stdout",
     "output_type": "stream",
     "text": [
      "(('a', 1), ('b', 2), ('c', 3), ('d', 4), ('e', 5), ('f', 6), ('g', 7))\n",
      "Error\n"
     ]
    }
   ],
   "source": [
    "class DictItemsIterator:\n",
    "    def __init__(self, data):\n",
    "        self.data = data\n",
    "        self.index = -1\n",
    "\n",
    "    def __iter__(self):\n",
    "        self.index = len(self.data) - 1\n",
    "        return iter(self.data.items())\n",
    "\n",
    "    def __next__(self):\n",
    "        if self.index == len(self.data) - 1:\n",
    "            raise StopIteration\n",
    "        self.index += 1\n",
    "        return tuple(self.data.items())[self.index]\n",
    "\n",
    "\n",
    "data = {'Arthur': [100, 5], 'Timur': [100, 6], 'Dima': [100, 7, 8], \n",
    "        'Anri': [100, 101], 'Roma': [99]}\n",
    "\n",
    "\n",
    "data = {'a': 1, 'b': 2, 'c': 3, 'd': 4, 'e': 5, 'f': 6, 'g': 7}\n",
    "\n",
    "pairs = DictItemsIterator(data)\n",
    "\n",
    "print(tuple(pairs))\n",
    "\n",
    "try:\n",
    "    print(next(pairs))\n",
    "except StopIteration:\n",
    "    print('Error')"
   ]
  },
  {
   "cell_type": "code",
   "execution_count": 2,
   "metadata": {},
   "outputs": [
    {
     "name": "stdout",
     "output_type": "stream",
     "text": [
      "['aabb', 'bbaa']\n",
      "['iamlordvoldemort']\n"
     ]
    }
   ],
   "source": [
    "def filter_anagrams(word, words):\n",
    "    return [i for i in words if sorted(word) == sorted(i)]\n",
    "\n",
    "word = 'abba'\n",
    "anagrams = ['aabb', 'abcd', 'bbaa', 'dada']\n",
    "print(filter_anagrams(word, anagrams))\n",
    "print(filter_anagrams('tommarvoloriddle', ['iamlordvoldemort', 'iamdevolremort', 'mortmortmortmort', 'remortvolremort']))"
   ]
  },
  {
   "cell_type": "code",
   "execution_count": 3,
   "metadata": {},
   "outputs": [
    {
     "name": "stdout",
     "output_type": "stream",
     "text": [
      "Никто не оценил\n",
      "Тимур оценил(а)\n",
      "Тимур и Артур оценили\n",
      "Тимур, Артур и Руслан оценили\n",
      "Тимур, Артур и 2 других оценили\n",
      "Тимур, Артур и 3 других оценили\n",
      "Тимур, Артур и 6 других оценили\n"
     ]
    }
   ],
   "source": [
    "def likes(names):\n",
    "    n = len(names)\n",
    "    if len(names) >= 4:\n",
    "        n = 4\n",
    "    return eval(\n",
    "        ('f\"Никто не оценил\"',\n",
    "        \"f'{names[0]} оценил(а)'\",\n",
    "        \"f'{names[0]} и {names[1]} оценили'\",\n",
    "        \"f'{names[0]}, {names[1]} и {names[2]} оценили'\",\n",
    "        \"f'{names[0]}, {names[1]} и {len(names) - 2} других оценили'\")[n]\n",
    "    ) + ' данную запись'\n",
    "\n",
    "print(likes([]))\n",
    "print(likes(['Тимур']))\n",
    "print(likes(['Тимур', 'Артур']))\n",
    "print(likes(['Тимур', 'Артур', 'Руслан']))\n",
    "print(likes(['Тимур', 'Артур', 'Руслан', 'Анри']))\n",
    "print(likes(['Тимур', 'Артур', 'Руслан', 'Анри', 'Дима']))\n",
    "print(likes(['Тимур', 'Артур', 'Руслан', 'Анри', 'Дима', 'Рома', 'Гвидо', 'Марк']))"
   ]
  },
  {
   "cell_type": "code",
   "execution_count": 7,
   "metadata": {},
   "outputs": [
    {
     "name": "stdout",
     "output_type": "stream",
     "text": [
      "2\n"
     ]
    }
   ],
   "source": [
    "def index_of_nearest(numbers, number):\n",
    "    if not numbers:\n",
    "        return -1\n",
    "    reslt = list(map(lambda x: abs(x - number), numbers)).index(min(map(lambda x: abs(x - number), numbers)))\n",
    "    return reslt\n",
    "\n",
    "\n",
    "print(index_of_nearest([7, 13, 3, 5, 18], 0))"
   ]
  },
  {
   "cell_type": "code",
   "execution_count": 25,
   "metadata": {},
   "outputs": [
    {
     "name": "stdout",
     "output_type": "stream",
     "text": [
      "['КИТай', 'Россия', 'Австрия', 'РумыниЯ', 'Украина', 'Австралия', 'УЗБЕКИСТАН']\n",
      "{'к': 5, 'р': 7, 'а': 9, 'у': 10}\n",
      "['fruit', 'forest', 'Family', 'football', 'February']\n",
      "{'f': 8}\n"
     ]
    }
   ],
   "source": [
    "def spell(*args):\n",
    "    # print(sorted(args, key=lambda x: len(x)))\n",
    "    reslt = {i.lower()[0]: len(i) for i in sorted(args, key=lambda x: len(x))}\n",
    "    return reslt\n",
    "\n",
    "words = ['Россия', 'Австрия', 'Австралия', 'РумыниЯ', 'Украина', 'КИТай', 'УЗБЕКИСТАН']\n",
    "print(spell(*words))\n",
    "words = ['fruit', 'football', 'February', 'forest', 'Family']\n",
    "print(spell(*words))"
   ]
  },
  {
   "cell_type": "code",
   "execution_count": 83,
   "metadata": {},
   "outputs": [
    {
     "name": "stdout",
     "output_type": "stream",
     "text": [
      "21 пример\n",
      "92 гвоздя\n",
      "8 яблок\n",
      "111223 копейки\n",
      "2 примера\n"
     ]
    }
   ],
   "source": [
    "def choose_plural(amount, declensions):\n",
    "    suffixes = {\n",
    "        1: 0, 2: 1, 3: 1, 4: 1, 5: 2, 6: 2, 7: 2, 8: 2, 9: 2, 10: 2,\n",
    "        11: 2, 12: 2, 13: 2, 14: 2, 15: 2, 16: 2, 17: 2, 18: 2, 19: 2, 20: 2, 0: 2,\n",
    "    }\n",
    "    amount = str(amount)\n",
    "    for k, v in suffixes.items():\n",
    "        k = str(k)\n",
    "        if all((len(amount) >= len(k), amount.rfind(k) == len(amount) - len(k))):\n",
    "            reslt = v\n",
    "    # for k, v in suffixes.items():\n",
    "    #     if not amount % k:\n",
    "    #         reslt = v\n",
    "\n",
    "    return f'{amount} {declensions[reslt]}'\n",
    "\n",
    "print(choose_plural(21, ('пример', 'примера', 'примеров')))\n",
    "print(choose_plural(92, ('гвоздь', 'гвоздя', 'гвоздей')))\n",
    "print(choose_plural(8, ('яблоко', 'яблока', 'яблок')))\n",
    "print(choose_plural(111223, ('копейка', 'копейки', 'копеек')))\n",
    "print(choose_plural(2, ('пример', 'примера', 'примеров')))\n"
   ]
  },
  {
   "cell_type": "code",
   "execution_count": 115,
   "metadata": {},
   "outputs": [
    {
     "name": "stdout",
     "output_type": "stream",
     "text": [
      "321\n",
      "77271\n",
      "0\n"
     ]
    }
   ],
   "source": [
    "def get_biggest(numbers):\n",
    "    if not numbers:\n",
    "        return -1\n",
    "    l = len(str(max(numbers)))\n",
    "    # print(l)\n",
    "    return int(''.join(sorted(map(str, numbers), key= lambda x: x * l, reverse=True)))\n",
    "\n",
    "\n",
    "print(get_biggest([1, 2, 3]))\n",
    "print(get_biggest([7, 71, 72]))\n",
    "print(get_biggest([0, 0, 0, 0, 0, 0]))"
   ]
  },
  {
   "cell_type": "code",
   "execution_count": 109,
   "metadata": {},
   "outputs": [
    {
     "name": "stdout",
     "output_type": "stream",
     "text": [
      "['7', '71', '72']\n"
     ]
    }
   ],
   "source": [
    "print(sorted(map(str, [7, 71, 72]), key=lambda x: (x[0], len(x))))"
   ]
  },
  {
   "cell_type": "code",
   "execution_count": 4,
   "metadata": {},
   "outputs": [],
   "source": [
    "from sys import stdin\n",
    "a, b, c = list(map(int, \"\"\"777\n",
    "777\n",
    "777\"\"\".splitlines()))\n",
    "if a + b <= c:\n",
    "    print(a * 2 + b * 2)\n",
    "elif a >= b + c:\n",
    "    print(b * 2 + c * 2)\n",
    "elif b >= a + c:\n",
    "    print(a * 2 + c * 2)\n",
    "else:\n",
    "    print(a + b + c)"
   ]
  },
  {
   "cell_type": "code",
   "execution_count": 9,
   "metadata": {},
   "outputs": [
    {
     "name": "stdout",
     "output_type": "stream",
     "text": [
      "mix\n"
     ]
    }
   ],
   "source": [
    "from sys import stdin\n",
    "en = 'AaBCcEeHKMOoPpTXxy'\n",
    "ru = 'АаВСсЕеНКМОоРрТХху'\n",
    "a = \"\"\"о\n",
    "K\n",
    "M\"\"\".splitlines()\n",
    "if all([i in en for i in a]):\n",
    "    print('en')\n",
    "elif all([i in ru for i in a]):\n",
    "    print('ru')\n",
    "elif all([i in en + ru for i in a]):\n",
    "    print('mix')"
   ]
  },
  {
   "cell_type": "code",
   "execution_count": 30,
   "metadata": {},
   "outputs": [
    {
     "name": "stdout",
     "output_type": "stream",
     "text": [
      "[1, 2, 3, 4, 5] 1 3 4 5\n",
      "3 2 1 5 4\n",
      "[1]\n",
      "3 2 1 5 4\n"
     ]
    }
   ],
   "source": [
    "line = '5 1 3 4 5'\n",
    "n, x, y, a, b = map(int, line.split())\n",
    "n = list(range(1, n + 1))\n",
    "print(n, x, y, a, b)\n",
    "n = n[:x-1] + n[x-1:y][::-1] + n[y:]\n",
    "n = n[:a-1] + n[a-1:b:][::-1] + n[b:]\n",
    "print(*n)\n",
    "print([1, 2, 3][:1])\n",
    "\n",
    "n, x, y, a, b = map(int, line.split())\n",
    "n = list(range(1, n + 1))\n",
    "n[x-1:y] = reversed(n[x-1:y])\n",
    "n[a-1:b] = reversed(n[a-1:b])\n",
    "print(*n)"
   ]
  },
  {
   "cell_type": "code",
   "execution_count": 33,
   "metadata": {},
   "outputs": [
    {
     "name": "stdout",
     "output_type": "stream",
     "text": [
      "0 3 4\n"
     ]
    }
   ],
   "source": [
    "line = list(map(int, '4 8 0 3 4 2 0 3'.split()))\n",
    "print(*filter(lambda x: line.count(x) > 1, set(line)))"
   ]
  },
  {
   "cell_type": "code",
   "execution_count": 14,
   "metadata": {},
   "outputs": [
    {
     "name": "stdout",
     "output_type": "stream",
     "text": [
      "41\n"
     ]
    }
   ],
   "source": [
    "from collections import defaultdict\n",
    "reslt = defaultdict(int)\n",
    "for i in range(1, int(input())+1):\n",
    "    reslt[sum(map(int, list(str(i))))] += 1\n",
    "print(sorted(reslt.values())[-1])"
   ]
  },
  {
   "cell_type": "code",
   "execution_count": 17,
   "metadata": {},
   "outputs": [
    {
     "name": "stdout",
     "output_type": "stream",
     "text": [
      "машина\n",
      "['21', '212121', '212121', '121', '212121', '1221121', '212121', '212121']\n"
     ]
    }
   ],
   "source": [
    "from sys import stdin\n",
    "lin = [i for i in \"\"\"машина\n",
    "8\n",
    "сеть\n",
    "машинист\n",
    "дорога\n",
    "урок\n",
    "работа\n",
    "аксиома\n",
    "железо\n",
    "ветеран\"\"\".splitlines()]\n",
    "main_word = lin[0]\n",
    "other_words = lin[2:]\n",
    "for letters, repl_letter in (('а', 'у', 'о', 'ы', 'и', 'э', 'я', 'ю', 'ё', 'е'), '1'), (('б', 'в', 'г', 'д', 'ж', 'з', 'й', 'к', 'л', 'м', 'н', 'п', 'р', 'с', 'т', 'ф', 'х', 'ц', 'ч', 'ш', 'щ', 'ь', 'ъ'), '2'):\n",
    "    for letter in letters:\n",
    "        main_word = main_word.replace(letter, repl_letter).rstrip('2')\n",
    "        for i in range(len(other_words)):\n",
    "            other_words[i] = other_words[i].replace(letter, repl_letter)\n",
    "            other_words[i] = other_words[i].rstrip('2')\n",
    "print(main_word)\n",
    "print(other_words)\n",
    "# if main_word == other_words:"
   ]
  }
 ],
 "metadata": {
  "kernelspec": {
   "display_name": "Python 3",
   "language": "python",
   "name": "python3"
  },
  "language_info": {
   "codemirror_mode": {
    "name": "ipython",
    "version": 3
   },
   "file_extension": ".py",
   "mimetype": "text/x-python",
   "name": "python",
   "nbconvert_exporter": "python",
   "pygments_lexer": "ipython3",
   "version": "3.10.12"
  }
 },
 "nbformat": 4,
 "nbformat_minor": 2
}
