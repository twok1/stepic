{
 "cells": [
  {
   "cell_type": "code",
   "execution_count": 3,
   "metadata": {},
   "outputs": [
    {
     "name": "stdout",
     "output_type": "stream",
     "text": [
      "банан: 5387 UC x 2 = 10774 UC\n",
      "груша: 5422 UC x 1 = 5422 UC\n",
      "киви : 4316 UC x 4 = 17264 UC\n",
      "лимон: 5418 UC x 3 = 16254 UC\n"
     ]
    }
   ],
   "source": [
    "from collections import Counter\n",
    "products = Counter('лимон,лимон,лимон,груша,банан,банан,киви,киви,киви,киви'.split(','))\n",
    "max_len = max([len(i) for i in products])\n",
    "for product in sorted(products):\n",
    "    price = sum([ord(i) for i in product if i != ' '])\n",
    "    print(f\"{product.ljust(max_len)}: {price} UC x {products[product]} = {price * products[product]} UC\")"
   ]
  },
  {
   "cell_type": "code",
   "execution_count": null,
   "metadata": {},
   "outputs": [
    {
     "name": "stdout",
     "output_type": "stream",
     "text": [
      "машина\n",
      "['21', '212121', '212121', '121', '212121', '1221121', '212121', '212121']\n"
     ]
    }
   ],
   "source": [
    "from sys import stdin\n",
    "lin = [i for i in \"\"\"машина\n",
    "8\n",
    "сеть\n",
    "машинист\n",
    "дорога\n",
    "урок\n",
    "работа\n",
    "аксиома\n",
    "железо\n",
    "ветеран\"\"\".splitlines()]\n",
    "main_word = lin[0]\n",
    "other_words = lin[2:]\n",
    "for letters, repl_letter in (('а', 'у', 'о', 'ы', 'и', 'э', 'я', 'ю', 'ё', 'е'), '1'), (('б', 'в', 'г', 'д', 'ж', 'з', 'й', 'к', 'л', 'м', 'н', 'п', 'р', 'с', 'т', 'ф', 'х', 'ц', 'ч', 'ш', 'щ', 'ь', 'ъ'), '2'):\n",
    "    for letter in letters:\n",
    "        main_word = main_word.replace(letter, repl_letter).rstrip('2')\n",
    "        for i in range(len(other_words)):\n",
    "            other_words[i] = other_words[i].replace(letter, repl_letter)\n",
    "            other_words[i] = other_words[i].rstrip('2')\n",
    "print(main_word)\n",
    "print(other_words)\n",
    "# if main_word == other_words:"
   ]
  },
  {
   "cell_type": "code",
   "execution_count": 4,
   "metadata": {},
   "outputs": [
    {
     "name": "stdout",
     "output_type": "stream",
     "text": [
      "a: 3\n",
      "b: 4\n",
      "c: 2\n",
      "e: 10\n",
      "f: 2\n",
      "g: 1\n",
      "h: 4\n",
      "i: 9\n",
      "l: 4\n",
      "m: 2\n",
      "n: 4\n",
      "o: 2\n",
      "p: 4\n",
      "r: 3\n",
      "s: 3\n",
      "t: 13\n",
      "u: 3\n",
      "x: 1\n",
      "y: 3\n",
      "z: 1\n"
     ]
    }
   ],
   "source": [
    "from collections import Counter\n",
    "file = Counter(\"\"\"The Zen of Python, by Tim Peters\n",
    "Beautiful is better than ugly.\n",
    "Explicit is better than implicit.\"\"\".lower())\n",
    "for i in sorted(file):\n",
    "    if i.isalpha():\n",
    "        print(f\"{i}: {file[i]}\")"
   ]
  },
  {
   "cell_type": "code",
   "execution_count": 5,
   "metadata": {},
   "outputs": [
    {
     "name": "stdout",
     "output_type": "stream",
     "text": [
      "Максимальная сумма равна 802 + 804 + 804 = 2410\n",
      "Индексы: 187, 214, 214\n"
     ]
    }
   ],
   "source": [
    "file_address = 'a.txt'\n",
    "f = open(file_address, 'r')\n",
    "k = int(f.readline())\n",
    "n = int(f.readline())\n",
    "nums = [int(x) for x in f.readlines()]\n",
    "# max_l = maxx = max_r = 0\n",
    "maxx = max(nums[k:n-k+1])\n",
    "max_l = max(nums[:nums.index(maxx) - k])\n",
    "max_r = max(nums[nums.index(maxx) + k:])\n",
    "\n",
    "maxx_s = sum([maxx, max_l, max_r])\n",
    "\n",
    "print(f\"Максимальная сумма равна {max_l} + {maxx} + {max_r} = {maxx_s}\")\n",
    "print(f\"Индексы: {nums.index(max_l)}, {nums.index(maxx)}, {nums.index(max_r)}\")"
   ]
  },
  {
   "cell_type": "code",
   "execution_count": 6,
   "metadata": {},
   "outputs": [
    {
     "ename": "KeyboardInterrupt",
     "evalue": "",
     "output_type": "error",
     "traceback": [
      "\u001b[1;31m---------------------------------------------------------------------------\u001b[0m",
      "\u001b[1;31mKeyboardInterrupt\u001b[0m                         Traceback (most recent call last)",
      "\u001b[1;32mc:\\Users\\user\\temp\\stepic\\Untitled-1.ipynb Ячейка 4\u001b[0m line \u001b[0;36m4\n\u001b[0;32m      <a href='vscode-notebook-cell:/c%3A/Users/user/temp/stepic/Untitled-1.ipynb#W3sZmlsZQ%3D%3D?line=1'>2</a>\u001b[0m k \u001b[39m=\u001b[39m \u001b[39mint\u001b[39m(f\u001b[39m.\u001b[39mreadline())\n\u001b[0;32m      <a href='vscode-notebook-cell:/c%3A/Users/user/temp/stepic/Untitled-1.ipynb#W3sZmlsZQ%3D%3D?line=2'>3</a>\u001b[0m n \u001b[39m=\u001b[39m \u001b[39mint\u001b[39m(f\u001b[39m.\u001b[39mreadline())\n\u001b[1;32m----> <a href='vscode-notebook-cell:/c%3A/Users/user/temp/stepic/Untitled-1.ipynb#W3sZmlsZQ%3D%3D?line=3'>4</a>\u001b[0m nums \u001b[39m=\u001b[39m [\u001b[39mint\u001b[39m(x) \u001b[39mfor\u001b[39;00m x \u001b[39min\u001b[39;00m f\u001b[39m.\u001b[39mreadlines()]\n\u001b[0;32m      <a href='vscode-notebook-cell:/c%3A/Users/user/temp/stepic/Untitled-1.ipynb#W3sZmlsZQ%3D%3D?line=4'>5</a>\u001b[0m max_l \u001b[39m=\u001b[39m maxx \u001b[39m=\u001b[39m \u001b[39m0\u001b[39m\n\u001b[0;32m      <a href='vscode-notebook-cell:/c%3A/Users/user/temp/stepic/Untitled-1.ipynb#W3sZmlsZQ%3D%3D?line=5'>6</a>\u001b[0m \u001b[39mfor\u001b[39;00m i \u001b[39min\u001b[39;00m \u001b[39mrange\u001b[39m(k, n):\n\u001b[0;32m      <a href='vscode-notebook-cell:/c%3A/Users/user/temp/stepic/Untitled-1.ipynb#W3sZmlsZQ%3D%3D?line=6'>7</a>\u001b[0m   \u001b[39m# переопределяем максимум\u001b[39;00m\n\u001b[0;32m      <a href='vscode-notebook-cell:/c%3A/Users/user/temp/stepic/Untitled-1.ipynb#W3sZmlsZQ%3D%3D?line=7'>8</a>\u001b[0m   \u001b[39m# в начале последовательности\u001b[39;00m\n",
      "\u001b[1;32mc:\\Users\\user\\temp\\stepic\\Untitled-1.ipynb Ячейка 4\u001b[0m line \u001b[0;36m4\n\u001b[0;32m      <a href='vscode-notebook-cell:/c%3A/Users/user/temp/stepic/Untitled-1.ipynb#W3sZmlsZQ%3D%3D?line=1'>2</a>\u001b[0m k \u001b[39m=\u001b[39m \u001b[39mint\u001b[39m(f\u001b[39m.\u001b[39mreadline())\n\u001b[0;32m      <a href='vscode-notebook-cell:/c%3A/Users/user/temp/stepic/Untitled-1.ipynb#W3sZmlsZQ%3D%3D?line=2'>3</a>\u001b[0m n \u001b[39m=\u001b[39m \u001b[39mint\u001b[39m(f\u001b[39m.\u001b[39mreadline())\n\u001b[1;32m----> <a href='vscode-notebook-cell:/c%3A/Users/user/temp/stepic/Untitled-1.ipynb#W3sZmlsZQ%3D%3D?line=3'>4</a>\u001b[0m nums \u001b[39m=\u001b[39m [\u001b[39mint\u001b[39;49m(x) \u001b[39mfor\u001b[39;00m x \u001b[39min\u001b[39;00m f\u001b[39m.\u001b[39mreadlines()]\n\u001b[0;32m      <a href='vscode-notebook-cell:/c%3A/Users/user/temp/stepic/Untitled-1.ipynb#W3sZmlsZQ%3D%3D?line=4'>5</a>\u001b[0m max_l \u001b[39m=\u001b[39m maxx \u001b[39m=\u001b[39m \u001b[39m0\u001b[39m\n\u001b[0;32m      <a href='vscode-notebook-cell:/c%3A/Users/user/temp/stepic/Untitled-1.ipynb#W3sZmlsZQ%3D%3D?line=5'>6</a>\u001b[0m \u001b[39mfor\u001b[39;00m i \u001b[39min\u001b[39;00m \u001b[39mrange\u001b[39m(k, n):\n\u001b[0;32m      <a href='vscode-notebook-cell:/c%3A/Users/user/temp/stepic/Untitled-1.ipynb#W3sZmlsZQ%3D%3D?line=6'>7</a>\u001b[0m   \u001b[39m# переопределяем максимум\u001b[39;00m\n\u001b[0;32m      <a href='vscode-notebook-cell:/c%3A/Users/user/temp/stepic/Untitled-1.ipynb#W3sZmlsZQ%3D%3D?line=7'>8</a>\u001b[0m   \u001b[39m# в начале последовательности\u001b[39;00m\n",
      "\u001b[1;31mKeyboardInterrupt\u001b[0m: "
     ]
    }
   ],
   "source": [
    "f = open('b.txt')\n",
    "k = int(f.readline())\n",
    "n = int(f.readline())\n",
    "nums = [int(x) for x in f.readlines()]\n",
    "max_l = maxx = 0\n",
    "for i in range(k, n):\n",
    "  # переопределяем максимум\n",
    "  # в начале последовательности\n",
    "  max_l = max(max_l, nums[i-k])\n",
    "  # переопеделяем максимум если надо\n",
    "  maxx = max(maxx, nums[i] + max_l)\n",
    "print(maxx)"
   ]
  },
  {
   "cell_type": "code",
   "execution_count": null,
   "metadata": {},
   "outputs": [
    {
     "data": {
      "text/plain": [
       "5"
      ]
     },
     "execution_count": 6,
     "metadata": {},
     "output_type": "execute_result"
    }
   ],
   "source": [
    "from collections import Counter\n",
    "k = Counter(aim=2, rul=3)\n",
    "k.total()"
   ]
  },
  {
   "cell_type": "code",
   "execution_count": null,
   "metadata": {},
   "outputs": [
    {
     "name": "stdout",
     "output_type": "stream",
     "text": [
      "банан, клубника, черешня\n"
     ]
    }
   ],
   "source": [
    "from collections import Counter\n",
    "letter = Counter('Черешня Вишня Арбуз малина Малина клубникА Арбуз Банан вишня малина'.lower().split())\n",
    "minimal = letter.most_common()[::-1][0][1]\n",
    "reslt = []\n",
    "for val, nums in letter.items():\n",
    "    if nums == minimal:\n",
    "        reslt.append(val)\n",
    "print(', '.join(sorted(reslt)))"
   ]
  },
  {
   "cell_type": "code",
   "execution_count": null,
   "metadata": {},
   "outputs": [
    {
     "name": "stdout",
     "output_type": "stream",
     "text": [
      "малина\n"
     ]
    }
   ],
   "source": [
    "from collections import Counter\n",
    "letter = Counter('МаЛиНа клубника Арбуз банаН Малина Черешня вишня арбуз клубника банан'.lower().split())\n",
    "maxi = letter.most_common()[0][1]\n",
    "reslt = []\n",
    "for val, nums in letter.items():\n",
    "    if nums == maxi:\n",
    "        reslt.append(val)\n",
    "print(sorted(reslt)[-1])"
   ]
  },
  {
   "cell_type": "code",
   "execution_count": null,
   "metadata": {},
   "outputs": [
    {
     "name": "stdout",
     "output_type": "stream",
     "text": [
      "Слов длины 7: 1\n",
      "Слов длины 11: 1\n",
      "Слов длины 2: 2\n",
      "Слов длины 6: 3\n"
     ]
    }
   ],
   "source": [
    "from collections import Counter\n",
    "letter = 'Не сможет больше мальчик дотронуться до солнца'.lower()\n",
    "cc = Counter([len(i) for i in letter.split()])\n",
    "for i in (sorted(cc, key=lambda x: cc[x])):\n",
    "    print(f\"Слов длины {i}: {cc[i]}\")"
   ]
  },
  {
   "cell_type": "code",
   "execution_count": null,
   "metadata": {},
   "outputs": [
    {
     "name": "stdout",
     "output_type": "stream",
     "text": [
      "barbaraanderson@bk.ru: 3\n",
      "barbarabrown@rambler.ru: 3\n",
      "barbaradavis@aol.com: 2\n",
      "barbaragarcia@inbox.ru: 2\n",
      "barbarajackson@bk.ru: 1\n",
      "barbarajohnson@yandex.ru: 2\n",
      "barbarajones@mail.ru: 2\n",
      "barbaralee@gmail.com: 2\n",
      "barbaramartin@internet.ru: 3\n",
      "barbaramartinez@bk.ru: 2\n",
      "barbaramiller@yahoo.com: 1\n",
      "barbaramoore@yahoo.com: 2\n",
      "barbararodriguez@internet.ru: 1\n",
      "barbarasmith@gmail.com: 1\n",
      "barbarataylor@yahoo.com: 3\n",
      "barbarathomas@internet.ru: 3\n",
      "barbarathompson@bk.ru: 1\n",
      "barbarawhite@yandex.ru: 1\n",
      "barbarawilliams@aol.com: 3\n",
      "barbarawilson@yandex.ru: 3\n",
      "charlesanderson@outlook.com: 1\n",
      "charlesbrown@inbox.ru: 1\n",
      "charlesdavis@gmail.com: 2\n",
      "charlesgarcia@mail.ru: 2\n",
      "charlesjackson@gmail.com: 2\n",
      "charlesjohnson@list.ru: 1\n",
      "charlesjones@gmail.com: 1\n",
      "charleslee@yahoo.com: 3\n",
      "charlesmartin@rambler.ru: 3\n",
      "charlesmartinez@aol.com: 3\n",
      "charlesmiller@gmail.com: 1\n",
      "charlesmoore@bk.ru: 3\n",
      "charlesrodriguez@outlook.com: 3\n",
      "charlessmith@mail.ru: 3\n",
      "charlestaylor@yahoo.com: 1\n",
      "charlesthomas@yandex.ru: 1\n",
      "charlesthompson@inbox.ru: 2\n",
      "charleswhite@inbox.ru: 3\n",
      "charleswilliams@gmail.com: 1\n",
      "charleswilson@inbox.ru: 1\n",
      "danielanderson@internet.ru: 3\n",
      "danielbrown@bk.ru: 2\n",
      "danieldavis@gmail.com: 3\n",
      "danielgarcia@mail.ru: 1\n",
      "danieljackson@bk.ru: 2\n",
      "danieljohnson@inbox.ru: 1\n",
      "danieljones@aol.com: 1\n",
      "daniellee@bk.ru: 1\n",
      "danielmartin@inbox.ru: 1\n",
      "danielmartinez@gmail.com: 1\n",
      "danielmiller@aol.com: 1\n",
      "danielmoore@bk.ru: 3\n",
      "danielrodriguez@yahoo.com: 2\n",
      "danielsmith@list.ru: 2\n",
      "danieltaylor@bk.ru: 3\n",
      "danielthomas@inbox.ru: 2\n",
      "danielthompson@aol.com: 1\n",
      "danielwhite@yandex.ru: 3\n",
      "danielwilliams@iCloud.com: 1\n",
      "danielwilson@yandex.ru: 1\n",
      "davidanderson@rambler.ru: 3\n",
      "davidbrown@mail.ru: 2\n",
      "daviddavis@aol.com: 2\n",
      "davidgarcia@yahoo.com: 1\n",
      "davidjackson@bk.ru: 3\n",
      "davidjohnson@mail.ru: 2\n",
      "davidjones@list.ru: 1\n",
      "davidlee@internet.ru: 2\n",
      "davidmartin@list.ru: 1\n",
      "davidmartinez@iCloud.com: 3\n",
      "davidmiller@aol.com: 1\n",
      "davidmoore@list.ru: 1\n",
      "davidrodriguez@yandex.ru: 2\n",
      "davidsmith@gmail.com: 2\n",
      "davidtaylor@outlook.com: 2\n",
      "davidthomas@mail.ru: 3\n",
      "davidthompson@yahoo.com: 2\n",
      "davidwhite@mail.ru: 1\n",
      "davidwilliams@list.ru: 3\n",
      "davidwilson@iCloud.com: 2\n",
      "elizabethanderson@outlook.com: 3\n",
      "elizabethbrown@bk.ru: 2\n",
      "elizabethdavis@outlook.com: 3\n",
      "elizabethgarcia@inbox.ru: 3\n",
      "elizabethjackson@rambler.ru: 3\n",
      "elizabethjohnson@rambler.ru: 2\n",
      "elizabethjones@mail.ru: 2\n",
      "elizabethlee@mail.ru: 1\n",
      "elizabethmartin@gmail.com: 3\n",
      "elizabethmartinez@rambler.ru: 2\n",
      "elizabethmiller@list.ru: 2\n",
      "elizabethmoore@outlook.com: 2\n",
      "elizabethrodriguez@inbox.ru: 2\n",
      "elizabethsmith@mail.ru: 3\n",
      "elizabethtaylor@internet.ru: 1\n",
      "elizabeththomas@aol.com: 3\n",
      "elizabeththompson@outlook.com: 3\n",
      "elizabethwhite@gmail.com: 2\n",
      "elizabethwilliams@gmail.com: 1\n",
      "elizabethwilson@yandex.ru: 2\n",
      "jamesanderson@list.ru: 1\n",
      "jamesbrown@inbox.ru: 1\n",
      "jamesdavis@internet.ru: 1\n",
      "jamesgarcia@internet.ru: 1\n",
      "jamesjackson@yandex.ru: 2\n",
      "jamesjohnson@internet.ru: 1\n",
      "jamesjones@yahoo.com: 1\n",
      "jameslee@list.ru: 1\n",
      "jamesmartin@gmail.com: 1\n",
      "jamesmartinez@list.ru: 1\n",
      "jamesmiller@outlook.com: 3\n",
      "jamesmoore@gmail.com: 2\n",
      "jamesrodriguez@gmail.com: 1\n",
      "jamessmith@aol.com: 1\n",
      "jamestaylor@rambler.ru: 1\n",
      "jamesthomas@gmail.com: 2\n",
      "jamesthompson@internet.ru: 2\n",
      "jameswhite@aol.com: 1\n",
      "jameswilliams@gmail.com: 3\n",
      "jameswilson@yahoo.com: 1\n",
      "jenniferanderson@yahoo.com: 2\n",
      "jenniferbrown@iCloud.com: 1\n",
      "jenniferdavis@outlook.com: 3\n",
      "jennifergarcia@aol.com: 1\n",
      "jenniferjackson@yahoo.com: 1\n",
      "jenniferjohnson@yahoo.com: 2\n",
      "jenniferjones@yandex.ru: 3\n",
      "jenniferlee@yandex.ru: 2\n",
      "jennifermartin@mail.ru: 2\n",
      "jennifermartinez@outlook.com: 2\n",
      "jennifermiller@yahoo.com: 1\n",
      "jennifermoore@iCloud.com: 3\n",
      "jenniferrodriguez@rambler.ru: 2\n",
      "jennifersmith@yandex.ru: 1\n",
      "jennifertaylor@yandex.ru: 1\n",
      "jenniferthomas@iCloud.com: 3\n",
      "jenniferthompson@yahoo.com: 3\n",
      "jenniferwhite@yandex.ru: 1\n",
      "jenniferwilliams@outlook.com: 1\n",
      "jenniferwilson@aol.com: 2\n",
      "johnanderson@outlook.com: 3\n",
      "johnbrown@iCloud.com: 2\n",
      "johndavis@list.ru: 1\n",
      "johngarcia@mail.ru: 1\n",
      "johnjackson@gmail.com: 3\n",
      "johnjohnson@internet.ru: 1\n",
      "johnjones@aol.com: 3\n",
      "johnlee@inbox.ru: 1\n",
      "johnmartin@list.ru: 2\n",
      "johnmartinez@inbox.ru: 2\n",
      "johnmiller@bk.ru: 1\n",
      "johnmoore@iCloud.com: 3\n",
      "johnrodriguez@bk.ru: 3\n",
      "johnsmith@inbox.ru: 1\n",
      "johntaylor@internet.ru: 2\n",
      "johnthomas@bk.ru: 3\n",
      "johnthompson@inbox.ru: 3\n",
      "johnwhite@bk.ru: 3\n",
      "johnwilliams@rambler.ru: 2\n",
      "johnwilson@outlook.com: 3\n",
      "josephanderson@mail.ru: 1\n",
      "josephbrown@list.ru: 3\n",
      "josephdavis@yahoo.com: 3\n",
      "josephgarcia@iCloud.com: 1\n",
      "josephjackson@outlook.com: 2\n",
      "josephjohnson@rambler.ru: 2\n",
      "josephjones@mail.ru: 1\n",
      "josephlee@list.ru: 2\n",
      "josephmartin@internet.ru: 3\n",
      "josephmartinez@bk.ru: 1\n",
      "josephmiller@gmail.com: 1\n",
      "josephmoore@mail.ru: 2\n",
      "josephrodriguez@rambler.ru: 3\n",
      "josephsmith@mail.ru: 3\n",
      "josephtaylor@aol.com: 3\n",
      "josephthomas@gmail.com: 1\n",
      "josephthompson@gmail.com: 3\n",
      "josephwhite@bk.ru: 3\n",
      "josephwilliams@outlook.com: 3\n",
      "josephwilson@rambler.ru: 1\n",
      "lindaanderson@list.ru: 3\n",
      "lindabrown@gmail.com: 3\n",
      "lindadavis@rambler.ru: 2\n",
      "lindagarcia@outlook.com: 2\n",
      "lindajackson@list.ru: 3\n",
      "lindajohnson@gmail.com: 1\n",
      "lindajones@yahoo.com: 2\n",
      "lindalee@bk.ru: 2\n",
      "lindamartin@mail.ru: 2\n",
      "lindamartinez@aol.com: 2\n",
      "lindamiller@mail.ru: 3\n",
      "lindamoore@internet.ru: 1\n",
      "lindarodriguez@bk.ru: 1\n",
      "lindasmith@mail.ru: 2\n",
      "lindataylor@yahoo.com: 1\n",
      "lindathomas@aol.com: 1\n",
      "lindathompson@yahoo.com: 2\n",
      "lindawhite@yandex.ru: 1\n",
      "lindawilliams@list.ru: 2\n",
      "lindawilson@inbox.ru: 1\n",
      "mariaanderson@internet.ru: 1\n",
      "mariabrown@list.ru: 3\n",
      "mariadavis@mail.ru: 3\n",
      "mariagarcia@bk.ru: 3\n",
      "mariajackson@yahoo.com: 2\n",
      "mariajohnson@list.ru: 3\n",
      "mariajones@bk.ru: 2\n",
      "marialee@outlook.com: 2\n",
      "mariamartin@iCloud.com: 1\n",
      "mariamartinez@outlook.com: 2\n",
      "mariamiller@iCloud.com: 2\n",
      "mariamoore@aol.com: 1\n",
      "mariarodriguez@outlook.com: 2\n",
      "mariasmith@aol.com: 3\n",
      "mariataylor@gmail.com: 1\n",
      "mariathomas@yahoo.com: 2\n",
      "mariathompson@aol.com: 1\n",
      "mariawhite@aol.com: 2\n",
      "mariawilliams@rambler.ru: 1\n",
      "mariawilson@bk.ru: 2\n",
      "markanderson@bk.ru: 3\n",
      "markbrown@iCloud.com: 1\n",
      "markdavis@internet.ru: 3\n",
      "markgarcia@yandex.ru: 3\n",
      "markjackson@internet.ru: 1\n",
      "markjohnson@rambler.ru: 1\n",
      "markjones@internet.ru: 3\n",
      "marklee@gmail.com: 3\n",
      "markmartin@rambler.ru: 2\n",
      "markmartinez@list.ru: 3\n",
      "markmiller@gmail.com: 1\n",
      "markmoore@bk.ru: 1\n",
      "markrodriguez@iCloud.com: 1\n",
      "marksmith@yahoo.com: 2\n",
      "marktaylor@iCloud.com: 2\n",
      "markthomas@rambler.ru: 3\n",
      "markthompson@iCloud.com: 1\n",
      "markwhite@gmail.com: 1\n",
      "markwilliams@yandex.ru: 3\n",
      "markwilson@inbox.ru: 3\n",
      "maryanderson@yandex.ru: 1\n",
      "marybrown@yandex.ru: 2\n",
      "marydavis@gmail.com: 3\n",
      "marygarcia@gmail.com: 2\n",
      "maryjackson@internet.ru: 1\n",
      "maryjohnson@iCloud.com: 3\n",
      "maryjones@yandex.ru: 1\n",
      "marylee@yahoo.com: 3\n",
      "marymartin@yahoo.com: 1\n",
      "marymartinez@internet.ru: 1\n",
      "marymiller@inbox.ru: 2\n",
      "marymoore@aol.com: 1\n",
      "maryrodriguez@gmail.com: 2\n",
      "marysmith@aol.com: 1\n",
      "marytaylor@iCloud.com: 1\n",
      "marythomas@iCloud.com: 2\n",
      "marythompson@yandex.ru: 1\n",
      "marywhite@yandex.ru: 3\n",
      "marywilliams@list.ru: 2\n",
      "marywilson@list.ru: 2\n",
      "michaelanderson@mail.ru: 2\n",
      "michaelbrown@internet.ru: 1\n",
      "michaeldavis@aol.com: 2\n",
      "michaelgarcia@iCloud.com: 3\n",
      "michaeljackson@outlook.com: 1\n",
      "michaeljohnson@inbox.ru: 2\n",
      "michaeljones@gmail.com: 3\n",
      "michaellee@mail.ru: 2\n",
      "michaelmartin@internet.ru: 1\n",
      "michaelmartinez@rambler.ru: 2\n",
      "michaelmiller@aol.com: 3\n",
      "michaelmoore@bk.ru: 2\n",
      "michaelrodriguez@list.ru: 1\n",
      "michaelsmith@gmail.com: 3\n",
      "michaeltaylor@mail.ru: 3\n",
      "michaelthomas@mail.ru: 3\n",
      "michaelthompson@mail.ru: 2\n",
      "michaelwhite@rambler.ru: 3\n",
      "michaelwilliams@inbox.ru: 1\n",
      "michaelwilson@yandex.ru: 1\n",
      "patriciaanderson@yandex.ru: 1\n",
      "patriciabrown@rambler.ru: 1\n",
      "patriciadavis@mail.ru: 2\n",
      "patriciagarcia@gmail.com: 1\n",
      "patriciajackson@gmail.com: 3\n",
      "patriciajohnson@yahoo.com: 1\n",
      "patriciajones@yandex.ru: 3\n",
      "patricialee@bk.ru: 2\n",
      "patriciamartin@iCloud.com: 1\n",
      "patriciamartinez@inbox.ru: 3\n",
      "patriciamiller@list.ru: 3\n",
      "patriciamoore@gmail.com: 2\n",
      "patriciarodriguez@bk.ru: 3\n",
      "patriciasmith@bk.ru: 1\n",
      "patriciataylor@outlook.com: 2\n",
      "patriciathomas@iCloud.com: 2\n",
      "patriciathompson@aol.com: 2\n",
      "patriciawhite@bk.ru: 1\n",
      "patriciawilliams@yandex.ru: 2\n",
      "patriciawilson@mail.ru: 2\n",
      "richardanderson@iCloud.com: 1\n",
      "richardbrown@yahoo.com: 3\n",
      "richarddavis@gmail.com: 1\n",
      "richardgarcia@inbox.ru: 2\n",
      "richardjackson@bk.ru: 2\n",
      "richardjohnson@mail.ru: 2\n",
      "richardjones@inbox.ru: 2\n",
      "richardlee@mail.ru: 2\n",
      "richardmartin@outlook.com: 2\n",
      "richardmartinez@yahoo.com: 1\n",
      "richardmiller@list.ru: 3\n",
      "richardmoore@iCloud.com: 3\n",
      "richardrodriguez@yandex.ru: 3\n",
      "richardsmith@yahoo.com: 1\n",
      "richardtaylor@gmail.com: 2\n",
      "richardthomas@internet.ru: 3\n",
      "richardthompson@gmail.com: 2\n",
      "richardwhite@gmail.com: 3\n",
      "richardwilliams@bk.ru: 3\n",
      "richardwilson@inbox.ru: 2\n",
      "robertanderson@yandex.ru: 2\n",
      "robertbrown@internet.ru: 3\n",
      "robertdavis@yandex.ru: 2\n",
      "robertgarcia@rambler.ru: 2\n",
      "robertjackson@mail.ru: 2\n",
      "robertjohnson@rambler.ru: 1\n",
      "robertjones@yahoo.com: 1\n",
      "robertlee@outlook.com: 1\n",
      "robertmartin@mail.ru: 2\n",
      "robertmartinez@internet.ru: 3\n",
      "robertmiller@outlook.com: 3\n",
      "robertmoore@mail.ru: 3\n",
      "robertrodriguez@gmail.com: 1\n",
      "robertsmith@list.ru: 3\n",
      "roberttaylor@inbox.ru: 2\n",
      "robertthomas@mail.ru: 3\n",
      "robertthompson@outlook.com: 2\n",
      "robertwhite@outlook.com: 1\n",
      "robertwilliams@list.ru: 2\n",
      "robertwilson@iCloud.com: 3\n",
      "susananderson@aol.com: 2\n",
      "susanbrown@yahoo.com: 3\n",
      "susandavis@outlook.com: 2\n",
      "susangarcia@rambler.ru: 1\n",
      "susanjackson@mail.ru: 1\n",
      "susanjohnson@mail.ru: 2\n",
      "susanjones@mail.ru: 3\n",
      "susanlee@internet.ru: 2\n",
      "susanmartin@gmail.com: 2\n",
      "susanmartinez@yahoo.com: 2\n",
      "susanmiller@outlook.com: 3\n",
      "susanmoore@outlook.com: 3\n",
      "susanrodriguez@inbox.ru: 2\n",
      "susansmith@yahoo.com: 2\n",
      "susantaylor@aol.com: 1\n",
      "susanthomas@mail.ru: 3\n",
      "susanthompson@inbox.ru: 3\n",
      "susanwhite@inbox.ru: 1\n",
      "susanwilliams@yandex.ru: 1\n",
      "susanwilson@bk.ru: 1\n",
      "thomasanderson@internet.ru: 1\n",
      "thomasbrown@yandex.ru: 2\n",
      "thomasdavis@gmail.com: 2\n",
      "thomasgarcia@internet.ru: 2\n",
      "thomasjackson@yahoo.com: 2\n",
      "thomasjohnson@bk.ru: 3\n",
      "thomasjones@outlook.com: 3\n",
      "thomaslee@iCloud.com: 2\n",
      "thomasmartin@outlook.com: 1\n",
      "thomasmartinez@outlook.com: 2\n",
      "thomasmiller@aol.com: 2\n",
      "thomasmoore@list.ru: 2\n",
      "thomasrodriguez@bk.ru: 3\n",
      "thomassmith@yahoo.com: 2\n",
      "thomastaylor@internet.ru: 3\n",
      "thomasthomas@aol.com: 3\n",
      "thomasthompson@rambler.ru: 2\n",
      "thomaswhite@iCloud.com: 3\n",
      "thomaswilliams@iCloud.com: 3\n",
      "thomaswilson@yahoo.com: 3\n",
      "williamanderson@inbox.ru: 1\n",
      "williambrown@outlook.com: 1\n",
      "williamdavis@internet.ru: 2\n",
      "williamgarcia@inbox.ru: 2\n",
      "williamjackson@bk.ru: 3\n",
      "williamjohnson@internet.ru: 2\n",
      "williamjones@bk.ru: 3\n",
      "williamlee@yandex.ru: 3\n",
      "williammartin@iCloud.com: 2\n",
      "williammartinez@inbox.ru: 3\n",
      "williammiller@aol.com: 2\n",
      "williammoore@yandex.ru: 3\n",
      "williamrodriguez@gmail.com: 1\n",
      "williamsmith@yahoo.com: 3\n",
      "williamtaylor@yandex.ru: 1\n",
      "williamthomas@internet.ru: 2\n",
      "williamthompson@bk.ru: 1\n",
      "williamwhite@outlook.com: 2\n",
      "williamwilliams@iCloud.com: 3\n",
      "williamwilson@list.ru: 2\n"
     ]
    }
   ],
   "source": [
    "from collections import Counter\n",
    "with open('name_log.csv', 'r') as f:\n",
    "    f.readline()\n",
    "    mails = Counter([i.split(',')[1] for i in f.readlines()])\n",
    "for mail, num in sorted(mails.items()):\n",
    "    print(f\"{mail}: {num}\")"
   ]
  },
  {
   "cell_type": "code",
   "execution_count": null,
   "metadata": {},
   "outputs": [
    {
     "data": {
      "text/plain": [
       "False"
      ]
     },
     "execution_count": 11,
     "metadata": {},
     "output_type": "execute_result"
    }
   ],
   "source": [
    "from collections import Counter\n",
    "\n",
    "def scrabble(symbols, word):\n",
    "    return Counter(symbols.lower()) >= Counter(word.lower())\n",
    "scrabble('bbbbbeeeeegggggggeeeeeekkkkk', 'Bceegeek')"
   ]
  },
  {
   "cell_type": "code",
   "execution_count": null,
   "metadata": {},
   "outputs": [
    {
     "name": "stdout",
     "output_type": "stream",
     "text": [
      "e |++++\n",
      "b |+\n",
      "g |+\n",
      "k |+\n",
      "java      |####\n",
      "C++       |###\n",
      "pascal    |##\n",
      "python    |#\n",
      "assembler |#\n",
      "C         |#\n"
     ]
    }
   ],
   "source": [
    "from collections import  Counter\n",
    "\n",
    "def print_bar_chart(data, mark):\n",
    "    data = Counter(data)\n",
    "    max_len = max((len(i) for i in data))\n",
    "    for val, num in data.most_common():\n",
    "        print(f'{val.ljust(max_len)} |{mark * num}')\n",
    "\n",
    "print_bar_chart('beegeek', '+')\n",
    "languages = ['java', 'java', 'python', 'C++', 'assembler', 'java', 'C++', 'C', 'pascal', 'C++', 'pascal', 'java']\n",
    "print_bar_chart(languages, '#')\n"
   ]
  },
  {
   "cell_type": "code",
   "execution_count": null,
   "metadata": {},
   "outputs": [
    {
     "name": "stdout",
     "output_type": "stream",
     "text": [
      "924593\n"
     ]
    }
   ],
   "source": [
    "import json\n",
    "from collections import Counter, defaultdict\n",
    "\n",
    "reslt = defaultdict(int)\n",
    "for quarter in range(1, 5):\n",
    "    with open(f'quarter{quarter}.csv', encoding='utf-8') as f:\n",
    "        f.readline()\n",
    "        for line in f.readlines():\n",
    "            line = line.split(',')\n",
    "            reslt[line[0]] += sum(map(int, line[1:]))\n",
    "f = json.loads(open('prices.json', encoding='utf-8').read())\n",
    "for item in reslt:\n",
    "    reslt[item] *= f[item]\n",
    "print(sum(reslt.values()))"
   ]
  },
  {
   "cell_type": "code",
   "execution_count": null,
   "metadata": {},
   "outputs": [],
   "source": [
    "from collections import Counter\n",
    "import sys\n",
    "\n",
    "inp = sys.stdin.read()\n",
    "avail_books = Counter(inp.splitlines()[0].split())\n",
    "result_sum = 0\n",
    "for book in inp.splitlines()[2:]:\n",
    "    book, summ = book.split()\n",
    "    if avail_books[book] > 0:\n",
    "        result_sum += int(summ)\n",
    "        avail_books[book] -= 1\n",
    "print(result_sum)"
   ]
  },
  {
   "cell_type": "code",
   "execution_count": null,
   "metadata": {},
   "outputs": [
    {
     "name": "stdout",
     "output_type": "stream",
     "text": [
      "7\n"
     ]
    }
   ],
   "source": [
    "from collections import ChainMap\n",
    "\n",
    "animals = ChainMap({'alligator': 3, 'jaguar': 2},\n",
    "                   {'eagle': 5, 'zebra': 2},\n",
    "                   {'bear': 2, 'alligator': 1},\n",
    "                   {'lemur': 7, 'elephant': 3})\n",
    "\n",
    "print(len(animals))"
   ]
  },
  {
   "cell_type": "code",
   "execution_count": null,
   "metadata": {},
   "outputs": [
    {
     "name": "stdout",
     "output_type": "stream",
     "text": [
      "443\n"
     ]
    }
   ],
   "source": [
    "from collections import ChainMap\n",
    "import json\n",
    "\n",
    "zoo = ChainMap(*(i for i in json.loads(open('zoo.json', 'r').read())))\n",
    "print(sum(zoo.values()))"
   ]
  },
  {
   "cell_type": "code",
   "execution_count": 5,
   "metadata": {},
   "outputs": [
    {
     "name": "stdout",
     "output_type": "stream",
     "text": [
      "cnzxcfgn x 1\n"
     ]
    },
    {
     "ename": "KeyError",
     "evalue": "'cnzxcfgn'",
     "output_type": "error",
     "traceback": [
      "\u001b[1;31m---------------------------------------------------------------------------\u001b[0m",
      "\u001b[1;31mKeyError\u001b[0m                                  Traceback (most recent call last)",
      "\u001b[1;32mc:\\Users\\user\\temp\\stepic\\Untitled-1.ipynb Ячейка 16\u001b[0m line \u001b[0;36m1\n\u001b[0;32m     <a href='vscode-notebook-cell:/c%3A/Users/user/temp/stepic/Untitled-1.ipynb#X21sZmlsZQ%3D%3D?line=13'>14</a>\u001b[0m     string_len \u001b[39m=\u001b[39m \u001b[39mlen\u001b[39m(\u001b[39mf\u001b[39m\u001b[39m\"\u001b[39m\u001b[39m{\u001b[39;00mitem\u001b[39m.\u001b[39mljust(max_len)\u001b[39m}\u001b[39;00m\u001b[39m x \u001b[39m\u001b[39m{\u001b[39;00mval\u001b[39m}\u001b[39;00m\u001b[39m\"\u001b[39m)\n\u001b[0;32m     <a href='vscode-notebook-cell:/c%3A/Users/user/temp/stepic/Untitled-1.ipynb#X21sZmlsZQ%3D%3D?line=14'>15</a>\u001b[0m     \u001b[39mprint\u001b[39m(\u001b[39mf\u001b[39m\u001b[39m\"\u001b[39m\u001b[39m{\u001b[39;00mitem\u001b[39m.\u001b[39mljust(max_len)\u001b[39m}\u001b[39;00m\u001b[39m x \u001b[39m\u001b[39m{\u001b[39;00mval\u001b[39m}\u001b[39;00m\u001b[39m\"\u001b[39m)\n\u001b[1;32m---> <a href='vscode-notebook-cell:/c%3A/Users/user/temp/stepic/Untitled-1.ipynb#X21sZmlsZQ%3D%3D?line=15'>16</a>\u001b[0m     total \u001b[39m+\u001b[39m\u001b[39m=\u001b[39m val \u001b[39m*\u001b[39m price[item]\n\u001b[0;32m     <a href='vscode-notebook-cell:/c%3A/Users/user/temp/stepic/Untitled-1.ipynb#X21sZmlsZQ%3D%3D?line=16'>17</a>\u001b[0m result_string \u001b[39m=\u001b[39m \u001b[39mf\u001b[39m\u001b[39m'\u001b[39m\u001b[39mИТОГ: \u001b[39m\u001b[39m{\u001b[39;00mtotal\u001b[39m}\u001b[39;00m\u001b[39mр\u001b[39m\u001b[39m'\u001b[39m\n\u001b[0;32m     <a href='vscode-notebook-cell:/c%3A/Users/user/temp/stepic/Untitled-1.ipynb#X21sZmlsZQ%3D%3D?line=17'>18</a>\u001b[0m string_len \u001b[39m=\u001b[39m \u001b[39mmax\u001b[39m(string_len, \u001b[39mlen\u001b[39m(result_string))\n",
      "File \u001b[1;32mc:\\Users\\user\\AppData\\Local\\Programs\\Python\\Python310\\lib\\collections\\__init__.py:986\u001b[0m, in \u001b[0;36mChainMap.__getitem__\u001b[1;34m(self, key)\u001b[0m\n\u001b[0;32m    984\u001b[0m     \u001b[39mexcept\u001b[39;00m \u001b[39mKeyError\u001b[39;00m:\n\u001b[0;32m    985\u001b[0m         \u001b[39mpass\u001b[39;00m\n\u001b[1;32m--> 986\u001b[0m \u001b[39mreturn\u001b[39;00m \u001b[39mself\u001b[39;49m\u001b[39m.\u001b[39;49m\u001b[39m__missing__\u001b[39;49m(key)\n",
      "File \u001b[1;32mc:\\Users\\user\\AppData\\Local\\Programs\\Python\\Python310\\lib\\collections\\__init__.py:978\u001b[0m, in \u001b[0;36mChainMap.__missing__\u001b[1;34m(self, key)\u001b[0m\n\u001b[0;32m    977\u001b[0m \u001b[39mdef\u001b[39;00m \u001b[39m__missing__\u001b[39m(\u001b[39mself\u001b[39m, key):\n\u001b[1;32m--> 978\u001b[0m     \u001b[39mraise\u001b[39;00m \u001b[39mKeyError\u001b[39;00m(key)\n",
      "\u001b[1;31mKeyError\u001b[0m: 'cnzxcfgn'"
     ]
    }
   ],
   "source": [
    "from collections import ChainMap, Counter    \n",
    "\n",
    "inp = input().split(',')\n",
    "bread = {'булочка с кунжутом': 15, 'обычная булочка': 10, 'ржаная булочка': 15}\n",
    "meat = {'куриный бифштекс': 50, 'говяжий бифштекс': 70, 'рыбный бифштекс': 40}\n",
    "sauce = {'сливочно-чесночный': 15, 'кетчуп': 10, 'горчица': 10, 'барбекю': 15, 'чили': 15}\n",
    "vegetables = {'лук': 10, 'салат': 15, 'помидор': 15, 'огурцы': 10}\n",
    "toppings = {'сыр': 25, 'яйцо': 15, 'бекон': 30}\n",
    "price = ChainMap(bread, meat, sauce, vegetables, toppings)\n",
    "reslt = Counter(inp)\n",
    "max_len = max([len(i) for i in reslt])\n",
    "total = 0\n",
    "for item, val in sorted(reslt.items()):\n",
    "    string_len = len(f\"{item.ljust(max_len)} x {val}\")\n",
    "    print(f\"{item.ljust(max_len)} x {val}\")\n",
    "    total += val * price[item]\n",
    "result_string = f'ИТОГ: {total}р'\n",
    "string_len = max(string_len, len(result_string))\n",
    "print('-' * string_len)\n",
    "print(result_string)"
   ]
  },
  {
   "cell_type": "code",
   "execution_count": null,
   "metadata": {},
   "outputs": [
    {
     "name": "stdout",
     "output_type": "stream",
     "text": [
      "{'name': 'Anri', 'city': 'Saint-Petersburg'} {'name': 'Arthur', 'city': 'Almetyevsk'}\n",
      "True\n"
     ]
    }
   ],
   "source": [
    "from collections import ChainMap\n",
    "\n",
    "team = ChainMap({'name': 'Timur', 'city': 'Moscow'},\n",
    "                {'name': 'Anri', 'city': 'Saint-Petersburg'},\n",
    "                {'name': 'Arthur', 'city': 'Almetyevsk'})\n",
    "\n",
    "print(*team.maps[1:])\n",
    "print(team.parents == ChainMap(*team.maps[1:]))"
   ]
  },
  {
   "cell_type": "code",
   "execution_count": null,
   "metadata": {},
   "outputs": [
    {
     "name": "stdout",
     "output_type": "stream",
     "text": [
      "Man сказал: Hello\n"
     ]
    }
   ],
   "source": [
    "class Text:\n",
    "    def __init__(self, text) -> None:\n",
    "        self.text = text\n",
    "    \n",
    "    def __str__(self) -> str:\n",
    "        return f'{self.text}'\n",
    "        \n",
    "class Comment(Text):\n",
    "    def __init__(self, text, author) -> None:\n",
    "        super().__init__(text)\n",
    "        self.author = author\n",
    "        \n",
    "    def __str__(self) -> str:\n",
    "        return f'{self.author} сказал: {self.text}'\n",
    "        \n",
    "        \n",
    "t = Comment('Hello', 'Man')\n",
    "print(t)"
   ]
  },
  {
   "cell_type": "code",
   "execution_count": null,
   "metadata": {},
   "outputs": [
    {
     "name": "stdout",
     "output_type": "stream",
     "text": [
      "Arthur Timur\n",
      "set()\n"
     ]
    }
   ],
   "source": [
    "from collections import ChainMap\n",
    "\n",
    "def get_all_values(d, key):\n",
    "    return set(dd[key] for dd in d.maps if key in dd)\n",
    "\n",
    "chainmap = ChainMap({'name': 'Arthur'}, {'name': 'Timur'})\n",
    "result = get_all_values(chainmap, 'name')\n",
    "print(*sorted(result))\n",
    "\n",
    "chainmap = ChainMap({'name': 'Arthur'}, {'name': 'Timur'})\n",
    "result = get_all_values(chainmap, 'age')\n",
    "\n",
    "print(result)"
   ]
  },
  {
   "cell_type": "code",
   "execution_count": null,
   "metadata": {},
   "outputs": [
    {
     "name": "stdout",
     "output_type": "stream",
     "text": [
      "ChainMap({'city': 'Moscow'}, {'name': 'Dima'}, {'name': 'Dima'})\n",
      "ChainMap({'name': 'Arthur', 'age': 20}, {'name': 'Timur'})\n"
     ]
    }
   ],
   "source": [
    "from collections import ChainMap\n",
    "\n",
    "def deep_update(chainmap, key, value):\n",
    "    if key in chainmap:\n",
    "        for dd in chainmap.maps:\n",
    "            if key in dd:\n",
    "                dd[key] = value\n",
    "    else:\n",
    "        chainmap.maps[0][key] = value\n",
    "        \n",
    "\n",
    "chainmap = ChainMap({'city': 'Moscow'}, {'name': 'Arthur'}, {'name': 'Timur'})\n",
    "deep_update(chainmap, 'name', 'Dima')\n",
    "\n",
    "print(chainmap)\n",
    "\n",
    "chainmap = ChainMap({'name': 'Arthur'}, {'name': 'Timur'})\n",
    "deep_update(chainmap, 'age', 20)\n",
    "\n",
    "print(chainmap)"
   ]
  },
  {
   "cell_type": "code",
   "execution_count": null,
   "metadata": {},
   "outputs": [
    {
     "name": "stdout",
     "output_type": "stream",
     "text": [
      "Arthur\n",
      "Timur\n"
     ]
    }
   ],
   "source": [
    "from collections import ChainMap\n",
    "\n",
    "def get_value(chainmap, key, from_left=True):\n",
    "    if not from_left:\n",
    "        chainmap = chainmap.maps[::-1]\n",
    "    else:\n",
    "        chainmap = chainmap.maps\n",
    "    for dd in chainmap:\n",
    "        if key in dd:\n",
    "            return dd[key]\n",
    "    return None\n",
    "\n",
    "chainmap = ChainMap({'name': 'Arthur'}, {'name': 'Timur'})\n",
    "\n",
    "print(get_value(chainmap, 'name'))\n",
    "\n",
    "chainmap = ChainMap({'name': 'Arthur'}, {'name': 'Timur'})\n",
    "\n",
    "print(get_value(chainmap, 'name', False))"
   ]
  },
  {
   "cell_type": "code",
   "execution_count": null,
   "metadata": {},
   "outputs": [
    {
     "name": "stdout",
     "output_type": "stream",
     "text": [
      "[5, 6]\n"
     ]
    }
   ],
   "source": [
    "a = int(input())\n",
    "b = int(input())\n",
    "numbers = []\n",
    "\n",
    "for i in range(a, b + 1):\n",
    "    if i // 7 == 0:\n",
    "        numbers.append(i)\n",
    "\n",
    "print(numbers)"
   ]
  },
  {
   "cell_type": "code",
   "execution_count": null,
   "metadata": {},
   "outputs": [
    {
     "name": "stdout",
     "output_type": "stream",
     "text": [
      "['1', '2']\n"
     ]
    }
   ],
   "source": [
    "print(list(filter(int, ['1', '2'])))"
   ]
  },
  {
   "cell_type": "code",
   "execution_count": null,
   "metadata": {},
   "outputs": [
    {
     "name": "stdout",
     "output_type": "stream",
     "text": [
      "Введено число из недопустимого диапазона\n"
     ]
    }
   ],
   "source": [
    "import calendar\n",
    "\n",
    "try:\n",
    "    inp = int(input())\n",
    "    if inp <= 0:\n",
    "        raise IndexError\n",
    "    print (calendar.month_name[inp])\n",
    "except IndexError:\n",
    "    print('Введено число из недопустимого диапазона')\n",
    "except ValueError:\n",
    "    print('Введено некорректное значение')"
   ]
  },
  {
   "cell_type": "code",
   "execution_count": null,
   "metadata": {},
   "outputs": [
    {
     "name": "stdout",
     "output_type": "stream",
     "text": [
      "{'a': [1, 2, 3], 'b': [7]}\n"
     ]
    }
   ],
   "source": [
    "def add_to_list_in_dict(data, key, element):\n",
    "    try:\n",
    "        data[key].append(element)\n",
    "    except KeyError:\n",
    "        data[key] = [element]\n",
    "\n",
    "nested_dicts = {'a': [1, 2, 3], 'b': [4, 5, 6]}\n",
    "add_to_list_in_dict(nested_dicts, 'b', 7)\n",
    "\n",
    "print(nested_dicts)"
   ]
  },
  {
   "cell_type": "code",
   "execution_count": null,
   "metadata": {},
   "outputs": [
    {
     "name": "stdout",
     "output_type": "stream",
     "text": [
      "Файл не найден\n"
     ]
    }
   ],
   "source": [
    "try:\n",
    "    f = open('file.txt', 'r')\n",
    "    print(f.read())\n",
    "except FileNotFoundError:\n",
    "    print('Файл не найден')"
   ]
  },
  {
   "cell_type": "code",
   "execution_count": null,
   "metadata": {},
   "outputs": [
    {
     "ename": "ValueError",
     "evalue": "Аргумент не принадлежит требуемому диапазону",
     "output_type": "error",
     "traceback": [
      "\u001b[1;31m---------------------------------------------------------------------------\u001b[0m",
      "\u001b[1;31mValueError\u001b[0m                                Traceback (most recent call last)",
      "\u001b[1;32mc:\\Users\\user\\temp\\stepic\\Untitled-1.ipynb Ячейка 27\u001b[0m line \u001b[0;36m1\n\u001b[0;32m      <a href='vscode-notebook-cell:/c%3A/Users/user/temp/stepic/Untitled-1.ipynb#X35sZmlsZQ%3D%3D?line=5'>6</a>\u001b[0m         \u001b[39mraise\u001b[39;00m  \u001b[39mValueError\u001b[39;00m(\u001b[39m'\u001b[39m\u001b[39mАргумент не принадлежит требуемому диапазону\u001b[39m\u001b[39m'\u001b[39m)\n\u001b[0;32m      <a href='vscode-notebook-cell:/c%3A/Users/user/temp/stepic/Untitled-1.ipynb#X35sZmlsZQ%3D%3D?line=6'>7</a>\u001b[0m     \u001b[39mreturn\u001b[39;00m week[number]\n\u001b[1;32m---> <a href='vscode-notebook-cell:/c%3A/Users/user/temp/stepic/Untitled-1.ipynb#X35sZmlsZQ%3D%3D?line=9'>10</a>\u001b[0m get_weekday(\u001b[39m10\u001b[39;49m)\n",
      "\u001b[1;32mc:\\Users\\user\\temp\\stepic\\Untitled-1.ipynb Ячейка 27\u001b[0m line \u001b[0;36m6\n\u001b[0;32m      <a href='vscode-notebook-cell:/c%3A/Users/user/temp/stepic/Untitled-1.ipynb#X35sZmlsZQ%3D%3D?line=3'>4</a>\u001b[0m     \u001b[39mraise\u001b[39;00m \u001b[39mTypeError\u001b[39;00m(\u001b[39m'\u001b[39m\u001b[39mАргумент не является целым числом\u001b[39m\u001b[39m'\u001b[39m)\n\u001b[0;32m      <a href='vscode-notebook-cell:/c%3A/Users/user/temp/stepic/Untitled-1.ipynb#X35sZmlsZQ%3D%3D?line=4'>5</a>\u001b[0m \u001b[39melif\u001b[39;00m number \u001b[39mnot\u001b[39;00m \u001b[39min\u001b[39;00m \u001b[39mrange\u001b[39m(\u001b[39m1\u001b[39m, \u001b[39m8\u001b[39m):\n\u001b[1;32m----> <a href='vscode-notebook-cell:/c%3A/Users/user/temp/stepic/Untitled-1.ipynb#X35sZmlsZQ%3D%3D?line=5'>6</a>\u001b[0m     \u001b[39mraise\u001b[39;00m  \u001b[39mValueError\u001b[39;00m(\u001b[39m'\u001b[39m\u001b[39mАргумент не принадлежит требуемому диапазону\u001b[39m\u001b[39m'\u001b[39m)\n\u001b[0;32m      <a href='vscode-notebook-cell:/c%3A/Users/user/temp/stepic/Untitled-1.ipynb#X35sZmlsZQ%3D%3D?line=6'>7</a>\u001b[0m \u001b[39mreturn\u001b[39;00m week[number]\n",
      "\u001b[1;31mValueError\u001b[0m: Аргумент не принадлежит требуемому диапазону"
     ]
    }
   ],
   "source": [
    "def get_weekday(number):\n",
    "    week = { 1: \"Понедельник\", 2: \"Вторник\", 3: \"Среда\", 4: \"Четверг\", 5: \"Пятница\", 6: \"Суббота\", 7: \"Воскресенье\", }\n",
    "    if not isinstance(number, int):\n",
    "        raise TypeError('Аргумент не является целым числом')\n",
    "    elif number not in range(1, 8):\n",
    "        raise  ValueError('Аргумент не принадлежит требуемому диапазону')\n",
    "    return week[number]\n",
    "        \n",
    "        \n",
    "get_weekday(10)"
   ]
  },
  {
   "cell_type": "code",
   "execution_count": null,
   "metadata": {},
   "outputs": [
    {
     "name": "stdout",
     "output_type": "stream",
     "text": [
      "10\n"
     ]
    }
   ],
   "source": [
    "def get_id(names, name):\n",
    "    if type(name) == str and name.isalpha() and name.istitle():\n",
    "        # if name in names:\n",
    "        #     return names.index(name) + 1\n",
    "        # else:\n",
    "        names.append(name)\n",
    "        return len(names)\n",
    "    elif type(name) != str:\n",
    "        return TypeError('Имя не является строкой')\n",
    "    else:\n",
    "        return ValueError('Имя не является корректным')\n",
    "\n",
    "names = ['Timur', 'Anri', 'Dima', 'Roma', 'Gvido', 'Rosy', 'Soslan', 'Natasha', 'Arthur']\n",
    "name = 'Arthur'\n",
    "print(get_id(names = names, name = name))"
   ]
  },
  {
   "cell_type": "code",
   "execution_count": null,
   "metadata": {},
   "outputs": [
    {
     "name": "stdout",
     "output_type": "stream",
     "text": [
      "Файл не найден\n"
     ]
    }
   ],
   "source": [
    "import json\n",
    "from json import JSONDecodeError\n",
    "\n",
    "try:\n",
    "    inp = input('')\n",
    "    j = json.loads(open(inp, 'r').read())\n",
    "    print(j)\n",
    "except JSONDecodeError:\n",
    "    print('Ошибка при десериализации')\n",
    "except OSError:\n",
    "    print('Файл не найден')"
   ]
  },
  {
   "cell_type": "code",
   "execution_count": null,
   "metadata": {},
   "outputs": [
    {
     "name": "stdout",
     "output_type": "stream",
     "text": [
      "False\n",
      "False\n",
      "True\n"
     ]
    }
   ],
   "source": [
    "def is_good_password(password):\n",
    "    good_password = True\n",
    "    if not any(i.isdigit() for i in password):\n",
    "        good_password = False\n",
    "    if password.lower() == password or password.upper() == password:\n",
    "        good_password = False\n",
    "    if len(password) < 9:\n",
    "        good_password = False\n",
    "    return good_password\n",
    "    \n",
    "print(is_good_password('41157082'))\n",
    "print(is_good_password('мойпарольсамыйлучший'))\n",
    "print(is_good_password('МойПарольСамыйЛучший111'))\n"
   ]
  },
  {
   "cell_type": "code",
   "execution_count": null,
   "metadata": {},
   "outputs": [],
   "source": [
    "def is_good_password(string):\n",
    "    if len(string) < 9:\n",
    "        return LengthError\n",
    "    if string.lower() == string or string.upper() == string:\n",
    "        return LetterError\n",
    "    if not any(i.isdigit() for i in string):\n",
    "        return DigitError\n",
    "    return good_password\n",
    "    \n",
    "print(is_good_password('41157082'))\n",
    "print(is_good_password('мойпарольсамыйлучший'))\n",
    "print(is_good_password('МойПарольСамыйЛучший111'))\n"
   ]
  },
  {
   "cell_type": "code",
   "execution_count": null,
   "metadata": {},
   "outputs": [
    {
     "data": {
      "text/plain": [
       "['line1', 'line2']"
      ]
     },
     "execution_count": 1,
     "metadata": {},
     "output_type": "execute_result"
    }
   ],
   "source": [
    "from sys import stdin\n",
    "l = \"\"\"line1\n",
    "line2\"\"\"\n",
    "l.splitlines()"
   ]
  },
  {
   "cell_type": "code",
   "execution_count": 8,
   "metadata": {},
   "outputs": [
    {
     "name": "stdout",
     "output_type": "stream",
     "text": [
      "Не парковаться\n",
      "Не парковаться\n",
      "Не парковаться\n"
     ]
    }
   ],
   "source": [
    "def traffic(n):\n",
    "    def tr(num):\n",
    "        while num < n:\n",
    "            print('Не парковаться')\n",
    "            tr(num + 1)\n",
    "            return\n",
    "    tr(0)\n",
    "        \n",
    "\n",
    "traffic(3)"
   ]
  },
  {
   "cell_type": "code",
   "execution_count": 10,
   "metadata": {},
   "outputs": [
    {
     "name": "stdout",
     "output_type": "stream",
     "text": [
      "1\n",
      "2\n",
      "3\n",
      "4\n",
      "5\n",
      "6\n",
      "7\n",
      "8\n",
      "9\n",
      "10\n",
      "11\n",
      "12\n",
      "13\n",
      "14\n",
      "15\n",
      "16\n",
      "17\n",
      "18\n",
      "19\n",
      "20\n",
      "21\n",
      "22\n",
      "23\n",
      "24\n",
      "25\n",
      "26\n",
      "27\n",
      "28\n",
      "29\n",
      "30\n",
      "31\n",
      "32\n",
      "33\n",
      "34\n",
      "35\n",
      "36\n",
      "37\n",
      "38\n",
      "39\n",
      "40\n",
      "41\n",
      "42\n",
      "43\n",
      "44\n",
      "45\n",
      "46\n",
      "47\n",
      "48\n",
      "49\n",
      "50\n",
      "51\n",
      "52\n",
      "53\n",
      "54\n",
      "55\n",
      "56\n",
      "57\n",
      "58\n",
      "59\n",
      "60\n",
      "61\n",
      "62\n",
      "63\n",
      "64\n",
      "65\n",
      "66\n",
      "67\n",
      "68\n",
      "69\n",
      "70\n",
      "71\n",
      "72\n",
      "73\n",
      "74\n",
      "75\n",
      "76\n",
      "77\n",
      "78\n",
      "79\n",
      "80\n",
      "81\n",
      "82\n",
      "83\n",
      "84\n",
      "85\n",
      "86\n",
      "87\n",
      "88\n",
      "89\n",
      "90\n",
      "91\n",
      "92\n",
      "93\n",
      "94\n",
      "95\n",
      "96\n",
      "97\n",
      "98\n",
      "99\n",
      "100\n"
     ]
    }
   ],
   "source": [
    "def rec(n):\n",
    "    while n <= 100:\n",
    "        print(n)\n",
    "        rec(n + 1)\n",
    "        return\n",
    "rec(1)"
   ]
  },
  {
   "cell_type": "code",
   "execution_count": 17,
   "metadata": {},
   "outputs": [
    {
     "name": "stdout",
     "output_type": "stream",
     "text": [
      "Элемент 0: 243\n",
      "Элемент 1: -279\n",
      "Элемент 2: 395\n",
      "Элемент 3: 130\n",
      "Элемент 4: 89\n",
      "Элемент 5: 269\n",
      "Элемент 6: 861\n",
      "Элемент 7: 669\n",
      "Элемент 8: 939\n",
      "Элемент 9: 367\n",
      "Элемент 10: -46\n",
      "Элемент 11: 710\n",
      "Элемент 12: 841\n",
      "Элемент 13: -280\n",
      "Элемент 14: -244\n",
      "Элемент 15: 274\n",
      "Элемент 16: -132\n",
      "Элемент 17: 273\n",
      "Элемент 18: 418\n",
      "Элемент 19: 432\n",
      "Элемент 20: -341\n",
      "Элемент 21: 437\n",
      "Элемент 22: 360\n",
      "Элемент 23: 960\n",
      "Элемент 24: 195\n",
      "Элемент 25: 792\n",
      "Элемент 26: 106\n",
      "Элемент 27: 461\n",
      "Элемент 28: -35\n",
      "Элемент 29: 980\n",
      "Элемент 30: -80\n",
      "Элемент 31: 540\n",
      "Элемент 32: -358\n",
      "Элемент 33: 69\n",
      "Элемент 34: -26\n",
      "Элемент 35: -416\n",
      "Элемент 36: 597\n",
      "Элемент 37: 96\n",
      "Элемент 38: 533\n",
      "Элемент 39: 232\n",
      "Элемент 40: 755\n",
      "Элемент 41: 894\n",
      "Элемент 42: 331\n",
      "Элемент 43: 323\n",
      "Элемент 44: -383\n",
      "Элемент 45: -386\n",
      "Элемент 46: 231\n",
      "Элемент 47: 436\n",
      "Элемент 48: 553\n",
      "Элемент 49: 967\n",
      "Элемент 50: 166\n",
      "Элемент 51: -151\n",
      "Элемент 52: 772\n",
      "Элемент 53: 434\n",
      "Элемент 54: 325\n",
      "Элемент 55: 301\n",
      "Элемент 56: 275\n",
      "Элемент 57: 431\n",
      "Элемент 58: 556\n",
      "Элемент 59: 728\n",
      "Элемент 60: 558\n",
      "Элемент 61: 702\n",
      "Элемент 62: 463\n",
      "Элемент 63: 127\n",
      "Элемент 64: 984\n",
      "Элемент 65: 212\n",
      "Элемент 66: 876\n",
      "Элемент 67: -287\n",
      "Элемент 68: -16\n",
      "Элемент 69: -177\n",
      "Элемент 70: 577\n",
      "Элемент 71: 604\n",
      "Элемент 72: 116\n",
      "Элемент 73: 500\n",
      "Элемент 74: 653\n",
      "Элемент 75: 669\n",
      "Элемент 76: 916\n",
      "Элемент 77: 802\n",
      "Элемент 78: 817\n",
      "Элемент 79: 762\n",
      "Элемент 80: -210\n",
      "Элемент 81: -353\n",
      "Элемент 82: 144\n",
      "Элемент 83: -351\n",
      "Элемент 84: 777\n",
      "Элемент 85: 805\n",
      "Элемент 86: 692\n",
      "Элемент 87: 22\n",
      "Элемент 88: -303\n",
      "Элемент 89: 249\n",
      "Элемент 90: 190\n",
      "Элемент 91: 411\n",
      "Элемент 92: 236\n",
      "Элемент 93: -274\n",
      "Элемент 94: 174\n",
      "Элемент 95: 380\n",
      "Элемент 96: 71\n",
      "Элемент 97: 124\n",
      "Элемент 98: -85\n",
      "Элемент 99: 430\n"
     ]
    }
   ],
   "source": [
    "numbers = [243, -279, 395, 130, 89, 269, 861, 669, 939, 367, -46, 710, 841, -280, -244, 274, -132, 273, 418, 432, -341, 437, 360, 960, 195, 792, 106, 461, -35, 980, -80, 540, -358, 69, -26, -416, 597, 96, 533, 232, 755, 894, 331, 323, -383, -386, 231, 436, 553, 967, 166, -151, 772, 434, 325, 301, 275, 431, 556, 728, 558, 702, 463, 127, 984, 212, 876, -287, -16, -177, 577, 604, 116, 500, 653, 669, 916, 802, 817, 762, -210, -353, 144, -351, 777, 805, 692, 22, -303, 249, 190, 411, 236, -274, 174, 380, 71, 124, -85, 430]\n",
    "\n",
    "def shows(nums):\n",
    "    def show_2(start, nums):\n",
    "        if start < len(nums):\n",
    "            print(f'Элемент {start}: {nums[start]}')\n",
    "            show_2(start + 1, nums)\n",
    "    start = 0\n",
    "    show_2(start, nums)\n",
    "\n",
    "shows(numbers)"
   ]
  },
  {
   "cell_type": "code",
   "execution_count": 1,
   "metadata": {},
   "outputs": [
    {
     "name": "stdout",
     "output_type": "stream",
     "text": [
      "*****\n",
      "****\n",
      "***\n",
      "**\n",
      "*\n"
     ]
    }
   ],
   "source": [
    "def triangle(num):\n",
    "    def shows(start, num):\n",
    "        if start < num:\n",
    "            print('*' * (num - start))\n",
    "            shows(start + 1, num)\n",
    "    start = 0\n",
    "    shows(start, num)\n",
    "    \n",
    "triangle(5)"
   ]
  },
  {
   "cell_type": "code",
   "execution_count": 3,
   "metadata": {},
   "outputs": [
    {
     "name": "stdout",
     "output_type": "stream",
     "text": [
      "*\n",
      "**\n",
      "***\n",
      "****\n",
      "*****\n"
     ]
    }
   ],
   "source": [
    "def triangle(num):\n",
    "    def shows(start, num):\n",
    "        if start <= num:\n",
    "            print('*' * start)\n",
    "            shows(start + 1, num)\n",
    "    start = 1\n",
    "    shows(start, num)\n",
    "    \n",
    "triangle(5)"
   ]
  },
  {
   "cell_type": "code",
   "execution_count": 10,
   "metadata": {},
   "outputs": [
    {
     "name": "stdout",
     "output_type": "stream",
     "text": [
      "1111111111111111\n",
      "  222222222222  \n",
      "    33333333    \n",
      "      4444      \n",
      "    33333333    \n",
      "  222222222222  \n",
      "1111111111111111\n"
     ]
    }
   ],
   "source": [
    "# 11_2\n",
    "def hours():\n",
    "    def hh(start, end, width):\n",
    "        if start > end / 2:\n",
    "            p_text = end - start\n",
    "        elif start <= end / 2:\n",
    "            p_text = start\n",
    "        p_text = str(p_text) * (16 - (p_text - 1) * 4)\n",
    "        if start < end:\n",
    "            print(p_text.center(width))\n",
    "            hh(start + 1, end, width)\n",
    "            \n",
    "    start = 1\n",
    "    end = 8\n",
    "    width = 16\n",
    "    hh(start, end, width)\n",
    "\n",
    "hours()\n",
    "# print('16'.center(16))"
   ]
  },
  {
   "cell_type": "code",
   "execution_count": 19,
   "metadata": {},
   "outputs": [
    {
     "name": "stdout",
     "output_type": "stream",
     "text": [
      "3\n",
      "2\n",
      "1\n"
     ]
    }
   ],
   "source": [
    "# 12_2\n",
    "def print_digits(number):\n",
    "    def rp(start):\n",
    "        print(str(number)[start])\n",
    "        if start > 0:\n",
    "            rp(start - 1)\n",
    "    if number:\n",
    "        start = len(str(number)) - 1\n",
    "        rp(start)\n",
    "    \n",
    "print_digits(123)\n",
    "print_digits('')"
   ]
  },
  {
   "cell_type": "code",
   "execution_count": 21,
   "metadata": {},
   "outputs": [
    {
     "name": "stdout",
     "output_type": "stream",
     "text": [
      "1\n",
      "2\n",
      "3\n"
     ]
    }
   ],
   "source": [
    "# 13_2\n",
    "def print_digits(number):\n",
    "    def rp(start):\n",
    "        if start < len(str(number)):\n",
    "            print(str(number)[start])\n",
    "            rp(start + 1)\n",
    "    if number:\n",
    "        start = 0\n",
    "        rp(start)\n",
    "    \n",
    "print_digits(123)\n",
    "print_digits('')"
   ]
  },
  {
   "cell_type": "code",
   "execution_count": 22,
   "metadata": {},
   "outputs": [
    {
     "name": "stdout",
     "output_type": "stream",
     "text": [
      "5\n"
     ]
    }
   ],
   "source": [
    "def fib(n):\n",
    "    if n <= 2:\n",
    "        return 1\n",
    "    else:\n",
    "        return fib(n - 1) + fib(n - 2)\n",
    "    \n",
    "print(fib(5))"
   ]
  },
  {
   "cell_type": "code",
   "execution_count": null,
   "metadata": {},
   "outputs": [
    {
     "ename": "",
     "evalue": "",
     "output_type": "error",
     "traceback": [
      "\u001b[1;31mПри выполнении кода в текущей ячейке или предыдущей ячейке ядро аварийно завершило работу. Проверьте код в ячейках, чтобы определить возможную причину сбоя. Щелкните <a href=\"https://aka.ms/vscodeJupyterKernelCrash\">здесь</a> для получения дополнительных сведений. Подробнее см. в <a href='command:jupyter.viewOutput'>журнале Jupyter</a>."
     ]
    }
   ],
   "source": [
    "cache = {1: 1, 2: 1}\n",
    "\n",
    "def fib(n):\n",
    "    result = cache.get(n)\n",
    "    if result is None:\n",
    "        result = fib(n - 1) + fib(n - 2)\n",
    "        cache[n] = result\n",
    "    return result\n",
    "    \n",
    "print(fib(10000))"
   ]
  },
  {
   "cell_type": "code",
   "execution_count": 40,
   "metadata": {},
   "outputs": [
    {
     "name": "stdout",
     "output_type": "stream",
     "text": [
      "3\n"
     ]
    }
   ],
   "source": [
    "# 6_3\n",
    "def foo(num):\n",
    "    def rec(start, num):\n",
    "        if num == 0:\n",
    "            return 0\n",
    "        else:\n",
    "            num = int(num / 10)\n",
    "            return 1 + rec(start, num)\n",
    "    start = 0\n",
    "    print(rec(start, num))\n",
    "    \n",
    "    \n",
    "foo(555)"
   ]
  },
  {
   "cell_type": "code",
   "execution_count": 45,
   "metadata": {},
   "outputs": [
    {
     "name": "stdout",
     "output_type": "stream",
     "text": [
      "18\n"
     ]
    }
   ],
   "source": [
    "# 7_3\n",
    "def foo(num):\n",
    "    num = list(map(int, list(str(num))))\n",
    "    def rec(start, num):\n",
    "        if start < len(num):\n",
    "            return num[start] + rec(start+1, num)\n",
    "        return 0\n",
    "    start = 0\n",
    "    return rec(start, num)\n",
    "    \n",
    "    \n",
    "foo(3555)"
   ]
  },
  {
   "cell_type": "code",
   "execution_count": 7,
   "metadata": {},
   "outputs": [
    {
     "data": {
      "text/plain": [
       "629901"
      ]
     },
     "execution_count": 7,
     "metadata": {},
     "output_type": "execute_result"
    }
   ],
   "source": [
    "#8_3\n",
    "def number_of_frogs(year):\n",
    "    def rec(year):\n",
    "        if year == 1:\n",
    "            return 77\n",
    "        elif year > 0:\n",
    "            return 3 * (rec(year-1) - 30)\n",
    "        \n",
    "    return rec(year)\n",
    "    \n",
    "number_of_frogs(10)"
   ]
  },
  {
   "cell_type": "code",
   "execution_count": 11,
   "metadata": {},
   "outputs": [
    {
     "data": {
      "text/plain": [
       "6"
      ]
     },
     "execution_count": 11,
     "metadata": {},
     "output_type": "execute_result"
    }
   ],
   "source": [
    "# 9_3\n",
    "def range_sum(numbers, start, end):\n",
    "    def rec(n):\n",
    "        if start + n == end:\n",
    "            return numbers[n]\n",
    "        else:\n",
    "            return numbers[n] + rec(n+1)\n",
    "    n = 0\n",
    "    return rec(n)\n",
    "\n",
    "range_sum([1, 2, 3, 4, 5], 1, 3)"
   ]
  },
  {
   "cell_type": "code",
   "execution_count": 15,
   "metadata": {},
   "outputs": [
    {
     "data": {
      "text/plain": [
       "9"
      ]
     },
     "execution_count": 15,
     "metadata": {},
     "output_type": "execute_result"
    }
   ],
   "source": [
    "# 10_3\n",
    "def get_pow(a, n):\n",
    "    def rec(start):\n",
    "        if start == n:\n",
    "            return a\n",
    "        else:\n",
    "            return a * rec(start + 1)\n",
    "    start = 1\n",
    "    return rec(start)\n",
    "\n",
    "get_pow(3, 2)"
   ]
  },
  {
   "cell_type": "code",
   "execution_count": null,
   "metadata": {},
   "outputs": [],
   "source": [
    "def get_fast_pow(a, n):\n",
    "    def rec(start):\n",
    "        if start < n:\n",
    "            if start % 2 == 1:\n",
    "                return a * rec(start + 1)\n",
    "            else:\n",
    "                return \n",
    "    \n",
    "    start = 1\n",
    "    rec()"
   ]
  },
  {
   "cell_type": "code",
   "execution_count": 1,
   "metadata": {},
   "outputs": [
    {
     "data": {
      "text/plain": [
       "23"
      ]
     },
     "execution_count": 1,
     "metadata": {},
     "output_type": "execute_result"
    }
   ],
   "source": [
    "#12_3\n",
    "def recursive_sum(a, b):\n",
    "    if b == 0:\n",
    "        return a\n",
    "    else:\n",
    "        return recursive_sum(a+1, b-1)\n",
    "        \n",
    "recursive_sum(13,10)"
   ]
  },
  {
   "cell_type": "code",
   "execution_count": 7,
   "metadata": {},
   "outputs": [
    {
     "data": {
      "text/plain": [
       "False"
      ]
     },
     "execution_count": 7,
     "metadata": {},
     "output_type": "execute_result"
    }
   ],
   "source": [
    "#13_3\n",
    "def is_power(number):\n",
    "    if number == 1:\n",
    "        return True\n",
    "    elif number > 1:\n",
    "        return is_power(number / 2)\n",
    "    else:\n",
    "        return False\n",
    "    \n",
    "is_power(258)"
   ]
  },
  {
   "cell_type": "code",
   "execution_count": 15,
   "metadata": {},
   "outputs": [
    {
     "name": "stdout",
     "output_type": "stream",
     "text": [
      "1056569942836970422279284954750098236519342255152919675406067018213960747393817667095588725995948973722417422227477589614070393820954716814070302286673551230293560940674846367367520224538342482630207080905846768675790903553645664897731604869996342518016379904334431\n"
     ]
    }
   ],
   "source": [
    "# 14_3\n",
    "cache = {1: 1, 2: 1, 3: 1}\n",
    "\n",
    "def fib(n):\n",
    "    result = cache.get(n)\n",
    "    if result is None:\n",
    "        result = fib(n - 1) + fib(n - 2) + fib(n - 3)\n",
    "        cache[n] = result\n",
    "    return result\n",
    "    \n",
    "print(fib(1000))"
   ]
  },
  {
   "cell_type": "code",
   "execution_count": 17,
   "metadata": {},
   "outputs": [
    {
     "data": {
      "text/plain": [
       "False"
      ]
     },
     "execution_count": 17,
     "metadata": {},
     "output_type": "execute_result"
    }
   ],
   "source": [
    "# 15_3\n",
    "def is_palindrome(string):\n",
    "    if len(string) <= 1:\n",
    "        return True\n",
    "    else:\n",
    "        return string[0] == string[-1] and is_palindrome(string[1:-1])\n",
    "        \n",
    "\n",
    "is_palindrome('levels')"
   ]
  },
  {
   "cell_type": "code",
   "execution_count": 45,
   "metadata": {},
   "outputs": [
    {
     "data": {
      "text/plain": [
       "'10000000000'"
      ]
     },
     "execution_count": 45,
     "metadata": {},
     "output_type": "execute_result"
    }
   ],
   "source": [
    "def to_binary(number):\n",
    "    if number <= 1:\n",
    "        return number\n",
    "    else:\n",
    "        return f'{to_binary(number // 2)}{to_binary(number % 2)}'\n",
    "    \n",
    "to_binary(1024)"
   ]
  },
  {
   "cell_type": "code",
   "execution_count": 1,
   "metadata": {},
   "outputs": [
    {
     "name": "stdout",
     "output_type": "stream",
     "text": [
      "16\n",
      "11\n",
      "6\n",
      "1\n",
      "-4\n",
      "1\n",
      "6\n",
      "11\n",
      "16\n"
     ]
    }
   ],
   "source": [
    "number = 16\n",
    "\n",
    "def rr_lin(number):\n",
    "    def rec(start, reverse):\n",
    "        if start <= 0:\n",
    "            print(start)\n",
    "            reverse = -5\n",
    "            rec(start - reverse, reverse)\n",
    "        elif start <= number:\n",
    "            print(start)\n",
    "            rec(start - reverse, reverse)\n",
    "    start = number\n",
    "    reverse = 5\n",
    "    rec(start, reverse)\n",
    "            \n",
    "rr_lin(number)"
   ]
  },
  {
   "cell_type": "code",
   "execution_count": 15,
   "metadata": {},
   "outputs": [
    {
     "data": {
      "text/plain": [
       "24"
      ]
     },
     "execution_count": 15,
     "metadata": {},
     "output_type": "execute_result"
    }
   ],
   "source": [
    "# 4_4\n",
    "\n",
    "def recursive_sum(nested_lists):\n",
    "    reslt = 0\n",
    "    if not nested_lists:\n",
    "        return 0\n",
    "    elif type(nested_lists) == int:\n",
    "        return nested_lists\n",
    "    elif type(nested_lists) == list:\n",
    "        for i in nested_lists:\n",
    "            reslt += recursive_sum(i)\n",
    "        return reslt\n",
    "\n",
    "\n",
    "my_list = [1, [4, 4], 2, [1, [2, 10]]]\n",
    "recursive_sum(my_list)"
   ]
  },
  {
   "cell_type": "code",
   "execution_count": 4,
   "metadata": {},
   "outputs": [
    {
     "name": "stdout",
     "output_type": "stream",
     "text": [
      "[3, 4, 5, 6, 7, 8]\n"
     ]
    }
   ],
   "source": [
    "# 5_4\n",
    "\n",
    "def rr_lin(nested_lists):\n",
    "    reslt = []\n",
    "    if type(nested_lists) == int:\n",
    "        return [nested_lists]\n",
    "    elif type(nested_lists) == list:\n",
    "        for i in nested_lists:\n",
    "            reslt = reslt + rr_lin(i)\n",
    "        return reslt\n",
    "\n",
    "\n",
    "my_list = [3, [4], [5, [6, [7, 8]]]]\n",
    "print(rr_lin(my_list))"
   ]
  },
  {
   "cell_type": "code",
   "execution_count": 20,
   "metadata": {},
   "outputs": [
    {
     "name": "stdout",
     "output_type": "stream",
     "text": [
      "Москва\n"
     ]
    }
   ],
   "source": [
    "# 6_4\n",
    "def get_value(nested_dicts, key):\n",
    "    reslt = None\n",
    "    if key in nested_dicts:\n",
    "        return nested_dicts.get(key)\n",
    "    elif type(nested_dicts) == dict:\n",
    "        for k in nested_dicts:\n",
    "            if type(nested_dicts[k]) == dict:\n",
    "                reslt = get_value(nested_dicts[k], key)\n",
    "            if reslt:\n",
    "                return reslt\n",
    "\n",
    "\n",
    "data = {'firstName': 'Тимур',\n",
    "        'lastName': 'Гуев',\n",
    "        'birthDate': {'day': 10, 'month': 'October', 'year': 1993},\n",
    "        'address': {'streetAddress': 'Часовая 25, кв. 127', \n",
    "                    'city': {'region': 'Московская область', 'type': 'город', 'cityName': 'Москва'},\n",
    "                    'postalCode': '125315'\n",
    "                }\n",
    "    }\n",
    "print(get_value(data, 'cityName'))"
   ]
  },
  {
   "cell_type": "code",
   "execution_count": 4,
   "metadata": {},
   "outputs": [
    {
     "name": "stdout",
     "output_type": "stream",
     "text": [
      "4 5\n",
      "<class 'set'>\n",
      "math videogames\n"
     ]
    }
   ],
   "source": [
    "# 7_4\n",
    "def get_all_values(data, key):\n",
    "    reslt = []\n",
    "    def rr(data, key):\n",
    "        for k, v in data.items():\n",
    "            if k == key:\n",
    "                reslt.append(data[key])\n",
    "            if isinstance(v, dict):\n",
    "                rr(v, key)\n",
    "                \n",
    "    rr(data, key)\n",
    "    return set(reslt)\n",
    "\n",
    "my_dict = {'users': {'Arthur': {'grades': [4, 4, 3], 'top_grade': 4}, 'Timur': {'grades': [5, 5, 5], 'top_grade': 5}}}\n",
    "result = get_all_values(my_dict, 'top_grade')\n",
    "\n",
    "print(*sorted(result))\n",
    "print(type(result))\n",
    "\n",
    "my_dict = {'Arthur': {'hobby': 'videogames', 'drink': 'cacao'}, 'Timur': {'hobby': 'math'}}\n",
    "result = get_all_values(my_dict, 'hobby')\n",
    "\n",
    "print(*sorted(result))"
   ]
  },
  {
   "cell_type": "code",
   "execution_count": 24,
   "metadata": {},
   "outputs": [
    {
     "name": "stdout",
     "output_type": "stream",
     "text": [
      "a: 1\n",
      "b.a: 10\n",
      "b.b: 20\n",
      "b.c: 30\n",
      "\n",
      "b.a: 10\n",
      "b.b.d: 40\n",
      "b.b.e: 50\n",
      "b.c: 30\n"
     ]
    }
   ],
   "source": [
    "# 8_4\n",
    "def dict_travel(nested_dicts):\n",
    "    reslt_dict = dict()\n",
    "    \n",
    "    def rr_dict(nested_dicts, key=None):\n",
    "        if type(nested_dicts) != dict:\n",
    "            reslt_dict[key] = nested_dicts\n",
    "        else:\n",
    "            for k in nested_dicts:\n",
    "                kk = '.'.join([i for i in [key, k] if i])\n",
    "                rr_dict(nested_dicts[k], kk)\n",
    "    \n",
    "    rr_dict(nested_dicts)\n",
    "    for key, val in sorted(reslt_dict.items()):\n",
    "        print(f'{key}: {val}')\n",
    "\n",
    "\n",
    "data = {\n",
    "    'a': 1,\n",
    "    'b': {\n",
    "        'c': 30,\n",
    "        'a': 10,\n",
    "        'b': 20\n",
    "    }\n",
    "}\n",
    "dict_travel(data)\n",
    "print()\n",
    "data = {'b': {'c': 30, 'a': 10, 'b': {'d': 40, 'e': 50}}}\n",
    "dict_travel(data)"
   ]
  },
  {
   "cell_type": "code",
   "execution_count": 9,
   "metadata": {},
   "outputs": [
    {
     "data": {
      "text/plain": [
       "-4325723404657523741"
      ]
     },
     "execution_count": 9,
     "metadata": {},
     "output_type": "execute_result"
    }
   ],
   "source": [
    "'s='.__hash__()"
   ]
  },
  {
   "cell_type": "code",
   "execution_count": 18,
   "metadata": {},
   "outputs": [
    {
     "name": "stdout",
     "output_type": "stream",
     "text": [
      "{1: 1, 2: 2, 3: 3, 4: 4, 5: [5, 5]}\n",
      "{-2: [-1, -2], -3: -3, -4: -4, -5: -5}\n"
     ]
    }
   ],
   "source": [
    "# 9_2\n",
    "def hash_as_key(objects):\n",
    "    reslt = dict()\n",
    "    for key in objects:\n",
    "        hash = key.__hash__()\n",
    "        if type(reslt.get(hash)) == list:\n",
    "            reslt[hash].append(key)\n",
    "        elif reslt.get(hash):\n",
    "            reslt[hash] = [reslt[hash], key]\n",
    "        else:\n",
    "            reslt[hash] = key\n",
    "    return reslt\n",
    "\n",
    "data = [1, 2, 3, 4, 5, 5]\n",
    "print(hash_as_key(data))\n",
    "data = [-1, -2, -3, -4, -5]\n",
    "print(hash_as_key(data))"
   ]
  },
  {
   "cell_type": "code",
   "execution_count": 5,
   "metadata": {},
   "outputs": [
    {
     "name": "stdout",
     "output_type": "stream",
     "text": [
      "a\n",
      "b\n",
      "c\n",
      "d\n",
      "e\n",
      "f\n",
      "g\n",
      "h\n",
      "i\n",
      "j\n",
      "k\n",
      "l\n",
      "m\n",
      "n\n",
      "o\n",
      "p\n",
      "q\n",
      "r\n",
      "s\n",
      "t\n",
      "u\n",
      "v\n",
      "w\n",
      "x\n",
      "y\n",
      "z\n"
     ]
    }
   ],
   "source": [
    "for i in range(ord('a'), ord('z') + 1):\n",
    "    print(chr(i))"
   ]
  },
  {
   "cell_type": "code",
   "execution_count": 13,
   "metadata": {},
   "outputs": [
    {
     "name": "stdout",
     "output_type": "stream",
     "text": [
      "('-11000', '-30', '-18')\n"
     ]
    }
   ],
   "source": [
    "def convert(number):\n",
    "    return tuple(i.upper().replace('0B', '').replace('0O', '').replace('0X', '') for i in (bin(number), oct(number), hex(number)))\n",
    "\n",
    "print(convert(-24))"
   ]
  },
  {
   "cell_type": "code",
   "execution_count": 28,
   "metadata": {},
   "outputs": [
    {
     "name": "stdout",
     "output_type": "stream",
     "text": [
      "Encanto\n"
     ]
    }
   ],
   "source": [
    "films = {'Spider-Man: No Way Home': {'imdb': 8.8, 'kinopoisk': 8.3},\n",
    "         'Don\"t Look Up': {'imdb': 7.3, 'kinopoisk': 7.6},\n",
    "         'Encanto': {'imdb': 7.3, 'kinopoisk': 7.4},\n",
    "         'The Witcher': {'imdb': 8.2, 'kinopoisk': 7.3},\n",
    "         'Ghostbusters: Afterlife': {'imdb': 7.3, 'kinopoisk': 8},\n",
    "         'Harry Potter 20th Anniversary: Return to Hogwarts': {'imdb': 8.1, 'kinopoisk': 8.2},\n",
    "         'Shingeki no Kyojin': {'imdb': 9.0, 'kinopoisk': 8.3},\n",
    "         'The Matrix': {'imdb': 8.7, 'kinopoisk': 8.5},\n",
    "         'The Dark Knight': {'imdb': 9.0, 'kinopoisk': 8.5},\n",
    "         'The Shawshank Redemption': {'imdb': 9.3, 'kinopoisk': 9.1},\n",
    "         'Avengers: Endgame': {'imdb': 8.4, 'kinopoisk': 7.7}}\n",
    "\n",
    "# print (sorted([(k, sum(v.values()) / len(v)) for k, v in films.items()], key=lambda x: x[1])[0][0])\n",
    "print(min(films, key=lambda x: sum(films[x].values())))\n",
    "# print(f)"
   ]
  },
  {
   "cell_type": "code",
   "execution_count": 31,
   "metadata": {},
   "outputs": [
    {
     "data": {
      "text/plain": [
       "True"
      ]
     },
     "execution_count": 31,
     "metadata": {},
     "output_type": "execute_result"
    }
   ],
   "source": [
    "def non_negative_even(numbers):\n",
    "    return all([i >= 0 and (i + 1) % 2 for i in numbers])\n",
    "\n",
    "non_negative_even([2, 4, 6, 78])"
   ]
  },
  {
   "cell_type": "code",
   "execution_count": 32,
   "metadata": {},
   "outputs": [
    {
     "name": "stdout",
     "output_type": "stream",
     "text": [
      "True\n"
     ]
    }
   ],
   "source": [
    "def is_greater(lists, number):\n",
    "    return any(sum(i) > number for i in lists)\n",
    "\n",
    "data = [[-3, 4, 0, 1], [1, 1, -4], [0, 0], [9, 3]]\n",
    "\n",
    "print(is_greater(data, 10))"
   ]
  },
  {
   "cell_type": "code",
   "execution_count": 43,
   "metadata": {},
   "outputs": [
    {
     "name": "stdout",
     "output_type": "stream",
     "text": [
      "4\n"
     ]
    }
   ],
   "source": [
    "def custom_isinstance(objects, typeinfo):\n",
    "    return sum(isinstance(o, typeinfo) for o in objects)\n",
    "    \n",
    "    \n",
    "numbers = [1, 'two', 3.0, 'четыре', 5, 6.0]\n",
    "print(custom_isinstance(numbers, (int, str)))"
   ]
  },
  {
   "cell_type": "code",
   "execution_count": 44,
   "metadata": {},
   "outputs": [
    {
     "name": "stdout",
     "output_type": "stream",
     "text": [
      "68\n"
     ]
    }
   ],
   "source": [
    "numbers = [-7724, 5023, 3197, -102, -4129, -880, 5857, -2866, -8913, 1195, 9809, 5347, -8071, 903, 3030, -4347, -3354, 1024, 8670, 4210, -5228, 8900, 4823, -2002, 4900, 9520, -3658, 1104, -9554, 3064, 9632, -8701, 3384, 4370, 2034, 7822, -9694, 3347, 7440, -8459, 3238, -5193, -3381, 5281, 9022, 5559, 7593, -6540, -6204, -2483, 8729, 5810, -8254, -9846, -1801, 4882, 3838, -3140, 7609, -3325, 6026, 2994, -1677, 1266, -1893, -4408, -5722, -2841, 9812, 5837, -7474, 4624, -664, 6998, 7888, -971, 8810, 3812, -5396, 2593, 512, -4634, 9735, -3062, 9031, -9300, 3657, 6332, 7552, 8125, -725, 4392, 1727, 8194, -2828, -4314, -8967, -7912, -1363, -5957]\n",
    "\n",
    "print(numbers.index(max(numbers)))"
   ]
  },
  {
   "cell_type": "code",
   "execution_count": 48,
   "metadata": {},
   "outputs": [
    {
     "name": "stdout",
     "output_type": "stream",
     "text": [
      "739\n"
     ]
    }
   ],
   "source": [
    "def my_pow(number):\n",
    "    return sum(int(v) ** (k + 1) for k, v in enumerate(str(number)))\n",
    "\n",
    "print(my_pow(139))"
   ]
  },
  {
   "cell_type": "code",
   "execution_count": 58,
   "metadata": {},
   "outputs": [
    {
     "name": "stdout",
     "output_type": "stream",
     "text": [
      "Cars: 342216280$\n",
      "Coco: 627082196$\n",
      "Finding Nemo: 846335536$\n",
      "Frozen: 1130802282$\n",
      "Inside Out: 682611174$\n",
      "Moana: 493331111$\n",
      "Ratatouille: 470702951$\n",
      "Zootopia: 873784195$\n"
     ]
    }
   ],
   "source": [
    "names = ['Moana', 'Cars', 'Zootopia', 'Ratatouille', 'Coco', 'Inside Out', 'Finding Nemo', 'Frozen']\n",
    "budgets = [150000000, 120000000, 150000000, 150000000, 180000000, 175000000, 94000000, 150000000]\n",
    "box_offices = [643331111, 462216280, 1023784195, 620702951, 807082196, 857611174, 940335536, 1280802282]\n",
    "\n",
    "print ('\\n'.join(f'{f[0]}: {f[2] - f[1]}$' for f in sorted(set(zip(names, budgets, box_offices)))))"
   ]
  },
  {
   "cell_type": "code",
   "execution_count": 137,
   "metadata": {},
   "outputs": [
    {
     "name": "stdout",
     "output_type": "stream",
     "text": [
      "[(1, 'a'), (2, 'b'), (3, 'c'), (4, '_'), (5, '_')]\n"
     ]
    },
    {
     "data": {
      "text/plain": [
       "115"
      ]
     },
     "execution_count": 137,
     "metadata": {},
     "output_type": "execute_result"
    }
   ],
   "source": [
    "def zip_longest(*args, fill=None):\n",
    "    maxx = max(len(i) for i in args)\n",
    "    for i in args:\n",
    "        while len(i) < maxx:\n",
    "            i.append(fill)\n",
    "    return list(zip(*args))\n",
    "    \n",
    "def zip_longest(*args, fill=None):\n",
    "    maxx = max(map(len, args))\n",
    "    reslt = [i + [fill] * (maxx - len(i)) for i in args]\n",
    "    return list(zip(*reslt))\n",
    "\n",
    "print(zip_longest([1, 2, 3, 4, 5], ['a', 'b', 'c'], fill='_'))\n",
    "ord('s')"
   ]
  },
  {
   "cell_type": "code",
   "execution_count": 140,
   "metadata": {},
   "outputs": [
    {
     "ename": "AttributeError",
     "evalue": "'str' object has no attribute 'sort'",
     "output_type": "error",
     "traceback": [
      "\u001b[1;31m---------------------------------------------------------------------------\u001b[0m",
      "\u001b[1;31mAttributeError\u001b[0m                            Traceback (most recent call last)",
      "Cell \u001b[1;32mIn[140], line 13\u001b[0m\n\u001b[0;32m     11\u001b[0m     \u001b[38;5;28;01melif\u001b[39;00m sym\u001b[38;5;241m.\u001b[39misupper():\n\u001b[0;32m     12\u001b[0m         us\u001b[38;5;241m.\u001b[39mappend(sym)\n\u001b[1;32m---> 13\u001b[0m \u001b[38;5;124;43m'\u001b[39;49m\u001b[38;5;124;43mstr\u001b[39;49m\u001b[38;5;124;43m'\u001b[39;49m\u001b[38;5;241;43m.\u001b[39;49m\u001b[43msort\u001b[49m()\n\u001b[0;32m     15\u001b[0m \u001b[38;5;28mprint\u001b[39m(\u001b[38;5;124m'\u001b[39m\u001b[38;5;124m'\u001b[39m\u001b[38;5;241m.\u001b[39mjoin([i \u001b[38;5;28;01mfor\u001b[39;00m i \u001b[38;5;129;01min\u001b[39;00m ls \u001b[38;5;241m+\u001b[39m us \u001b[38;5;241m+\u001b[39m on \u001b[38;5;241m+\u001b[39m en]))\n",
      "\u001b[1;31mAttributeError\u001b[0m: 'str' object has no attribute 'sort'"
     ]
    }
   ],
   "source": [
    "line = 'ginortS1324'\n",
    "ls, us, en, on = [], [], [], []\n",
    "for sym in sorted(line):\n",
    "    if sym.isdigit():\n",
    "        if int(sym) % 2:\n",
    "            on.append(sym)\n",
    "        else:\n",
    "            en.append(sym)\n",
    "    elif sym.islower():\n",
    "        ls.append(sym)\n",
    "    elif sym.isupper():\n",
    "        us.append(sym)\n",
    "    \n",
    "\n",
    "print(''.join([i for i in ls + us + on + en]))"
   ]
  },
  {
   "cell_type": "code",
   "execution_count": 6,
   "metadata": {},
   "outputs": [
    {
     "name": "stdout",
     "output_type": "stream",
     "text": [
      "111\n",
      "None\n"
     ]
    }
   ],
   "source": [
    "code = 'print(100 + 10 + 1)'\n",
    "\n",
    "print(exec(code))"
   ]
  },
  {
   "cell_type": "code",
   "execution_count": 23,
   "metadata": {},
   "outputs": [
    {
     "name": "stdout",
     "output_type": "stream",
     "text": [
      "Привет из функции eval()\n",
      "None\n",
      "Привет из функции eval()\n"
     ]
    }
   ],
   "source": [
    "expression1 = \"print('Привет из функции eval()')\"\n",
    "expression2 = \"len([1, 1, 1, 1, 1])\"\n",
    "\n",
    "result1 = eval(expression1)\n",
    "# result2 = eval(expression2)\n",
    "\n",
    "print(result1)\n",
    "# print(result2)\n",
    "eval(\"print('Привет из функции eval()')\")"
   ]
  },
  {
   "cell_type": "code",
   "execution_count": 24,
   "metadata": {},
   "outputs": [
    {
     "name": "stdout",
     "output_type": "stream",
     "text": [
      "[5, 6]\n"
     ]
    }
   ],
   "source": [
    "reslt = eval(input())\n",
    "if type(reslt) == list:\n",
    "    print(reslt[-1])\n",
    "elif type(reslt) == tuple:\n",
    "    print(reslt[0])\n",
    "elif type(reslt) == set:\n",
    "    print(len(reslt))"
   ]
  },
  {
   "cell_type": "code",
   "execution_count": 10,
   "metadata": {},
   "outputs": [
    {
     "name": "stdout",
     "output_type": "stream",
     "text": [
      "-5e+18\n"
     ]
    }
   ],
   "source": [
    "import sys\n",
    "\n",
    "values = '1e18 - 2e18 * 3'.splitlines()\n",
    "maxx = eval(values[0])\n",
    "for val in values:\n",
    "    maxx = max(eval(val), maxx)\n",
    "print(maxx)\n"
   ]
  },
  {
   "cell_type": "code",
   "execution_count": 15,
   "metadata": {},
   "outputs": [
    {
     "name": "stdout",
     "output_type": "stream",
     "text": [
      "Минимальное значение функции 2*x**2 + 5*x + 7 на отрезке [-1; 6] равно 4\n",
      "Максимальное значение функции 2*x**2 + 5*x + 7 на отрезке [-1; 6] равно 82\n"
     ]
    }
   ],
   "source": [
    "import sys\n",
    "\n",
    "f, r = sys.stdin.read.splitlines()\n",
    "f, r = '''2*x**2 + 5*x + 7\n",
    "-1 5'''.splitlines()\n",
    "a, b = map(int, r.split())\n",
    "absciss = [eval(f) for x in range(a, b+1)]\n",
    "print(f'''Минимальное значение функции {f} на отрезке [{a}; {b}] равно {min(absciss)}\n",
    "Максимальное значение функции {f} на отрезке [{a}; {b}] равно {max(absciss)}''')"
   ]
  },
  {
   "cell_type": "code",
   "execution_count": 12,
   "metadata": {},
   "outputs": [
    {
     "name": "stdout",
     "output_type": "stream",
     "text": [
      "2 8 90 -40 -30\n",
      "[1, 2, 3, 5, 5, 5, 7, 8, -15, -30, -40, 90]\n",
      "1 125 8 125 343 512 729000 125 27 -64000 -27000 -3375\n"
     ]
    }
   ],
   "source": [
    "k = [1, 5, 2, 5, 7, 8, 90, 5, 3, -40, -30, -15]\n",
    "print(*filter(lambda x: not x % 2, k))\n",
    "print(sorted(k, key=abs))\n",
    "print(*map(lambda x: x ** 3, k))"
   ]
  },
  {
   "cell_type": "code",
   "execution_count": 141,
   "metadata": {},
   "outputs": [
    {
     "name": "stdout",
     "output_type": "stream",
     "text": [
      "-16\n",
      "-202\n",
      "883\n",
      "-765\n",
      "-105\n",
      "976\n",
      "-308\n",
      "458\n",
      "479\n",
      "-87\n",
      "-71\n",
      "112\n",
      "-621\n",
      "-715\n",
      "229\n",
      "729\n",
      "-358\n",
      "-974\n",
      "882\n",
      "-894\n",
      "323\n",
      "-224\n",
      "431\n",
      "170\n",
      "-343\n",
      "104\n",
      "-353\n",
      "-113\n",
      "288\n",
      "-708\n"
     ]
    }
   ],
   "source": [
    "# 13.9.3\n",
    "data = ['Timur', -16.648911695768902, 'six', -202, 883.0093275936454, -765, (3, 4), -105.10718000213546, 976, -308.96857946288094, 458, ['one', 'two'], 479.92207220345927, -87, -71, 'twelve', 112, -621, -715.0179551194733, 'seven', 229, 729, -358, [1, 2, 3], -974, 882, -894.4709033242768, '', 323.7720806756133, 'beegeek', -224, 431, 170.6353248658936, -343.0016746052049, 'number', 104.17133679352878, [], -353.5964777099863, 'zero', -113, 288, None, -708.3036176571618]\n",
    "\n",
    "# print(*filter(lambda x: type(x) in [int, float], data))\n",
    "print('\\n'.join(map(str, (map(int, filter(lambda x: type(x) in [int, float], data))))))"
   ]
  },
  {
   "cell_type": "code",
   "execution_count": 17,
   "metadata": {},
   "outputs": [
    {
     "name": "stdout",
     "output_type": "stream",
     "text": [
      "8100\n"
     ]
    }
   ],
   "source": [
    "# 14.9.3\n",
    "numbers = [4754, -4895, -364, -4764, 4683, 1639, -43, 228, -2701, -1503, 1223, 4340, -1296, 3939, -345, 623, -3275, 1003, 4367, -1739, 550, -1217, -1334, 1526, -4359, -3028, -4663, 3356, 3887, 4297, -1982, 1013, 3299, 3556, -3324, 417, 3531, -3134, 1782, 4439, 1652, -985, 4327, 1517, 1225, -915, 2808, -3851, -1005, 3396, 2842, -3879, -3824, -3805, 1609, -4741, -3072, 3573, 4680, 588, -1430, 2378, -1095, -343, 4357, -2164, -3304, 4354, 4926, -352, -1187, -3313, 2741, 4786, -2689, 741, 4558, 1442, 62, -1099, -2201, -16, -3115, 1862, 2384, 4072, -90, 204, 1158, -3134, -2512, 756, 4148, 4370, 1756, 3609, -1148, -3909, 4123, -2906, 69, 96, 1111]\n",
    "\n",
    "print(sum(map(lambda x: x ** 2, filter(lambda x: (9 < x < 100 or -100 < x < -9) and not (x % 9), numbers))))\n",
    "# 96 % 9"
   ]
  },
  {
   "cell_type": "code",
   "execution_count": 20,
   "metadata": {},
   "outputs": [
    {
     "data": {
      "text/plain": [
       "'Аделина Айлин Александр Александра Алексей Алина Алиса Алёна Амелия Анастасия Андрей Арина Арсен Артемий Артём Мадина Максим Марат Маргарита Мария Матвей Милана Мирон Мирослава'"
      ]
     },
     "execution_count": 20,
     "metadata": {},
     "output_type": "execute_result"
    }
   ],
   "source": [
    "names = [\n",
    "    'ульяна', 'арина', 'Дмитрий', 'Сергей', 'Яна', 'мила', 'Ольга', 'софья', 'семён',\n",
    "    'Никита', 'маргарита', 'Василиса', 'Кирилл', 'александр', 'александра', 'Иван',\n",
    "    'андрей', 'Родион', 'максим', 'алиса', 'Артём', 'софия', 'владимир', 'дамир', 'Валерий',\n",
    "    'степан', 'Алексей', 'Марк', 'олег', 'ирина', 'Милана', 'мия', 'денис', 'Фёдор', 'Елизавета',\n",
    "    'айлин', 'Варвара', 'валерия', 'Алёна', 'Николь', 'юлия', 'Ксения', 'пётр', 'георгий', 'Мария',\n",
    "    'глеб', 'илья', 'Захар', 'Дарья', 'Евгения', 'матвей', 'Серафим', 'екатерина', 'Тимофей', 'виктор',\n",
    "    'Егор', 'Ника', 'анна', 'даниил', 'тихон', 'вера', 'кира', 'Эмилия', 'Виктория', 'Игорь',\n",
    "    'полина', 'алина', 'Давид', 'анастасия', 'Вероника', 'ярослав', 'Руслан', 'татьяна', 'Демид',\n",
    "    'амелия', 'Элина', 'Арсен', 'евгений', 'мадина', 'дарина', 'Савелий', 'Платон', 'Аделина',\n",
    "    'диана', 'Айша', 'павел', 'Стефания', 'Тимур', 'Ева', 'Елисей', 'Артемий', 'григорий', 'Мирон',\n",
    "    'Мирослава', 'Мира', 'Марат', 'Лилия', 'роман', 'владислав', 'Леонид'\n",
    "]\n",
    "\n",
    "' '.join(sorted(filter(lambda x: len(x) > 4 and x[0] in ['А', 'М'], map(lambda x: x.capitalize(), names))))"
   ]
  },
  {
   "cell_type": "code",
   "execution_count": 44,
   "metadata": {},
   "outputs": [
    {
     "name": "stdout",
     "output_type": "stream",
     "text": [
      "1  2  3  4  5  \n",
      "2  4  6  8  10 \n",
      "3  6  9  12 15 \n",
      "4  8  12 16 20 \n",
      "5  10 15 20 25 \n"
     ]
    }
   ],
   "source": [
    "# 17.9.3\n",
    "\n",
    "def print_operation_table(operation, rows, cols):\n",
    "    max_of = len(str(rows * cols))\n",
    "    for row in range(1, rows + 1):\n",
    "        for col in range(1, cols + 1):\n",
    "            print(str(operation(row, col)).ljust(max_of), end=' ')\n",
    "        print()\n",
    "\n",
    "print_operation_table(lambda a, b: a * b, 5, 5)"
   ]
  },
  {
   "cell_type": "code",
   "execution_count": null,
   "metadata": {},
   "outputs": [],
   "source": []
  },
  {
   "cell_type": "code",
   "execution_count": 16,
   "metadata": {},
   "outputs": [
    {
     "name": "stdout",
     "output_type": "stream",
     "text": [
      "Arthur_Davletov, попробуйте снова. Текст ошибки: в пароле нет ни одной строчной буквы\n"
     ]
    }
   ],
   "source": [
    "# 18.9.3\n",
    "def verification(login, password, success, failure):\n",
    "    password = list(password)\n",
    "    text = ''\n",
    "    if not any(map(lambda x: 65 <= ord(x) <= 122, password)):\n",
    "        text = 'в пароле нет ни одной буквы'\n",
    "    elif not any(map(lambda x: x.istitle(), password)):\n",
    "        text = 'в пароле нет ни одной заглавной буквы'\n",
    "    elif not any(map(lambda x: 97 <= ord(x) <= 122, password)):\n",
    "        text = 'в пароле нет ни одной строчной буквы'\n",
    "    elif not any(map(lambda x: x.isdigit(), password)):\n",
    "        text = 'в пароле нет ни одной цифры'\n",
    "    else:\n",
    "        success(login)\n",
    "    if text:\n",
    "        failure(login, text)\n",
    "\n",
    "def success(login):\n",
    "    print(f'Здравствуйте, {login}!')\n",
    "\n",
    "\n",
    "def failure(login, text):\n",
    "    print(f'{login}, попробуйте снова. Текст ошибки: {text}')\n",
    "\n",
    "\n",
    "verification('Arthur_Davletov', 'мойпарольBEE123', success, failure)\n"
   ]
  },
  {
   "cell_type": "code",
   "execution_count": 18,
   "metadata": {},
   "outputs": [
    {
     "name": "stdout",
     "output_type": "stream",
     "text": [
      "0\n"
     ]
    }
   ],
   "source": [
    "def numbers_sum(elems):\n",
    "    '''Принимает список и возвращает сумму его чисел (int, float),\n",
    "игнорируя нечисловые объекты. 0 - если в списке чисел нет.'''\n",
    "    return sum([i for i in elems if type(i) in (float, int)])\n",
    "\n",
    "print(numbers_sum([]))"
   ]
  },
  {
   "cell_type": "code",
   "execution_count": null,
   "metadata": {},
   "outputs": [
    {
     "ename": "",
     "evalue": "",
     "output_type": "error",
     "traceback": [
      "\u001b[1;31mПри выполнении кода в текущей ячейке или предыдущей ячейке ядро аварийно завершило работу. Проверьте код в ячейках, чтобы определить возможную причину сбоя. Щелкните <a href=\"https://aka.ms/vscodeJupyterKernelCrash\">здесь</a> для получения дополнительных сведений. Подробнее см. в <a href='command:jupyter.viewOutput'>журнале Jupyter</a>."
     ]
    }
   ],
   "source": [
    "old_print = print\n",
    "def print(*args, **kwargs):\n",
    "    text = tuple(c.upper() if isinstance(c, str) else c for c in args)\n",
    "    if kwargs == dict():\n",
    "        old_print(*text)\n",
    "    else:\n",
    "        kwargs['sep'], kwargs['end'] = map(str.upper, kwargs.values())\n",
    "        old_print(*text, sep=kwargs['sep'], end=kwargs['end'])\n",
    "    \n",
    "print('beegeek', [1, 2, 3], 4)"
   ]
  },
  {
   "cell_type": "code",
   "execution_count": null,
   "metadata": {},
   "outputs": [],
   "source": []
  },
  {
   "cell_type": "code",
   "execution_count": 6,
   "metadata": {},
   "outputs": [
    {
     "name": "stdout",
     "output_type": "stream",
     "text": [
      "{'sep': ' AND ', 'end': ' WOW'}\n"
     ]
    }
   ],
   "source": [
    "kwargs = {'sep': ' and ', 'end': ' wow'}\n",
    "kwargs['sep'], kwargs['end'] = map(str.upper, kwargs.values())\n",
    "print(kwargs)"
   ]
  },
  {
   "cell_type": "code",
   "execution_count": 8,
   "metadata": {},
   "outputs": [
    {
     "name": "stdout",
     "output_type": "stream",
     "text": [
      "(64, 'Функция выполнилась без ошибок')\n",
      "((None, 'При вызове функции произошла ошибка'), 'Функция выполнилась без ошибок')\n"
     ]
    }
   ],
   "source": [
    "def exception_decorator(func):\n",
    "    def wrapper(*args, **kwargs):\n",
    "        try:\n",
    "            value = func(*args, **kwargs)\n",
    "            return (value, 'Функция выполнилась без ошибок')\n",
    "        except:\n",
    "            return (None, 'При вызове функции произошла ошибка')\n",
    "    return wrapper\n",
    "\n",
    "@exception_decorator\n",
    "def f(x):\n",
    "    return x**2 + 2*x + 1\n",
    "    \n",
    "print(f(7))\n",
    "\n",
    "sum = exception_decorator(sum)\n",
    "\n",
    "print(sum(['199', '1', 187]))"
   ]
  },
  {
   "cell_type": "code",
   "execution_count": 12,
   "metadata": {},
   "outputs": [
    {
     "data": {
      "text/plain": [
       "1"
      ]
     },
     "execution_count": 12,
     "metadata": {},
     "output_type": "execute_result"
    }
   ],
   "source": [
    "len(list(filter(lambda x: x < 0, [-1, 1, 5, 7, 9])))"
   ]
  },
  {
   "cell_type": "code",
   "execution_count": 11,
   "metadata": {},
   "outputs": [
    {
     "ename": "TypeError",
     "evalue": "takes_positive.<locals>.wrapper() got an unexpected keyword argument 'par1'",
     "output_type": "error",
     "traceback": [
      "\u001b[1;31m---------------------------------------------------------------------------\u001b[0m",
      "\u001b[1;31mTypeError\u001b[0m                                 Traceback (most recent call last)",
      "Cell \u001b[1;32mIn[11], line 15\u001b[0m\n\u001b[0;32m     11\u001b[0m \u001b[38;5;129m@takes_positive\u001b[39m\n\u001b[0;32m     12\u001b[0m \u001b[38;5;28;01mdef\u001b[39;00m \u001b[38;5;21mpositive_sum\u001b[39m(\u001b[38;5;241m*\u001b[39margs, \u001b[38;5;241m*\u001b[39m\u001b[38;5;241m*\u001b[39mkwargs):\n\u001b[0;32m     13\u001b[0m     \u001b[38;5;28;01mreturn\u001b[39;00m \u001b[38;5;28msum\u001b[39m(args) \u001b[38;5;241m+\u001b[39m \u001b[38;5;28msum\u001b[39m(kwargs\u001b[38;5;241m.\u001b[39mvalues())\n\u001b[1;32m---> 15\u001b[0m \u001b[38;5;28mprint\u001b[39m(\u001b[43mpositive_sum\u001b[49m\u001b[43m(\u001b[49m\u001b[38;5;241;43m1\u001b[39;49m\u001b[43m,\u001b[49m\u001b[43m \u001b[49m\u001b[38;5;241;43m2\u001b[39;49m\u001b[43m,\u001b[49m\u001b[43m \u001b[49m\u001b[38;5;241;43m3\u001b[39;49m\u001b[43m,\u001b[49m\u001b[43m \u001b[49m\u001b[38;5;241;43m4\u001b[39;49m\u001b[43m,\u001b[49m\u001b[43m \u001b[49m\u001b[38;5;241;43m5\u001b[39;49m\u001b[43m,\u001b[49m\u001b[43m \u001b[49m\u001b[38;5;241;43m6\u001b[39;49m\u001b[43m,\u001b[49m\u001b[43m \u001b[49m\u001b[38;5;241;43m7\u001b[39;49m\u001b[43m,\u001b[49m\u001b[43m \u001b[49m\u001b[38;5;241;43m8\u001b[39;49m\u001b[43m,\u001b[49m\u001b[43m \u001b[49m\u001b[38;5;241;43m9\u001b[39;49m\u001b[43m,\u001b[49m\u001b[43m \u001b[49m\u001b[38;5;241;43m10\u001b[39;49m\u001b[43m,\u001b[49m\u001b[43m \u001b[49m\u001b[43mpar1\u001b[49m\u001b[38;5;241;43m=\u001b[39;49m\u001b[38;5;241;43m1\u001b[39;49m\u001b[43m,\u001b[49m\u001b[43m \u001b[49m\u001b[43msep\u001b[49m\u001b[38;5;241;43m=\u001b[39;49m\u001b[38;5;241;43m4\u001b[39;49m\u001b[43m)\u001b[49m)\n\u001b[0;32m     17\u001b[0m \u001b[38;5;129m@takes_positive\u001b[39m\n\u001b[0;32m     18\u001b[0m \u001b[38;5;28;01mdef\u001b[39;00m \u001b[38;5;21mpositive_sum\u001b[39m(\u001b[38;5;241m*\u001b[39margs):\n\u001b[0;32m     19\u001b[0m     \u001b[38;5;28;01mreturn\u001b[39;00m \u001b[38;5;28msum\u001b[39m(args)\n",
      "\u001b[1;31mTypeError\u001b[0m: takes_positive.<locals>.wrapper() got an unexpected keyword argument 'par1'"
     ]
    }
   ],
   "source": [
    "def takes_positive(func):\n",
    "    def wrapper(*args, **kwargs):\n",
    "        if len(list(filter(lambda x: type(x) != int, args))):\n",
    "            return TypeError\n",
    "        if len(list(filter(lambda x: x <= 0, args))):\n",
    "            return ValueError\n",
    "        return func(*args, **kwargs)\n",
    "        \n",
    "    return wrapper\n",
    "            \n",
    "@takes_positive\n",
    "def positive_sum(*args, **kwargs):\n",
    "    return sum(args) + sum(kwargs.values())\n",
    "    \n",
    "print(positive_sum(1, 2, 3, 4, 5, 6, 7, 8, 9, 10, par1=1, sep=4))\n",
    "        \n",
    "@takes_positive\n",
    "def positive_sum(*args):\n",
    "    return sum(args)\n",
    "    \n",
    "print(positive_sum(1, 2, 3, 4, 5, 6, 7, 8, 9, 10))\n",
    "        \n",
    "@takes_positive\n",
    "def positive_sum(*args):\n",
    "    return sum(args)\n",
    "    \n",
    "try:\n",
    "    print(positive_sum(-3, -2, -1, 0, 1, 2, 3))\n",
    "except Exception as err:\n",
    "    print(type(err))\n",
    "        \n",
    "# def xxx(*args, **kwargs):\n",
    "#     return kwargs, args\n",
    "\n",
    "# print(xxx(5, a=1, v=2, c=4))"
   ]
  },
  {
   "cell_type": "code",
   "execution_count": 2,
   "metadata": {},
   "outputs": [
    {
     "name": "stdout",
     "output_type": "stream",
     "text": [
      "2000€\n"
     ]
    }
   ],
   "source": [
    "def prefix(string, to_the_end=False):\n",
    "    def decorator(func):\n",
    "        def wrapper(*args, **kwargs):\n",
    "            if to_the_end:\n",
    "                return f'{string}{func(*args, **kwargs)}'\n",
    "            return f'{func(*args, **kwargs)}{string}'\n",
    "        return wrapper\n",
    "    return decorator\n",
    "\n",
    "@prefix('€')\n",
    "def get_bonus():\n",
    "    return '2000'\n",
    "    \n",
    "print(get_bonus())"
   ]
  },
  {
   "cell_type": "code",
   "execution_count": 11,
   "metadata": {},
   "outputs": [
    {
     "name": "stdout",
     "output_type": "stream",
     "text": [
      "Исключение division by zero обработано\n"
     ]
    },
    {
     "ename": "ZeroDivisionError",
     "evalue": "division by zero",
     "output_type": "error",
     "traceback": [
      "\u001b[1;31m---------------------------------------------------------------------------\u001b[0m",
      "\u001b[1;31mZeroDivisionError\u001b[0m                         Traceback (most recent call last)",
      "Cell \u001b[1;32mIn[11], line 22\u001b[0m\n\u001b[0;32m     18\u001b[0m \u001b[38;5;129m@ignore_exception\u001b[39m(\u001b[38;5;167;01mZeroDivisionError\u001b[39;00m, \u001b[38;5;167;01mTypeError\u001b[39;00m, \u001b[38;5;167;01mValueError\u001b[39;00m)\n\u001b[0;32m     19\u001b[0m \u001b[38;5;28;01mdef\u001b[39;00m \u001b[38;5;21mf\u001b[39m(x):\n\u001b[0;32m     20\u001b[0m     \u001b[38;5;28;01mreturn\u001b[39;00m \u001b[38;5;241m1\u001b[39m \u001b[38;5;241m/\u001b[39m x\n\u001b[1;32m---> 22\u001b[0m \u001b[43mf\u001b[49m\u001b[43m(\u001b[49m\u001b[38;5;241;43m0\u001b[39;49m\u001b[43m)\u001b[49m\n",
      "Cell \u001b[1;32mIn[11], line 11\u001b[0m, in \u001b[0;36mignore_exception.<locals>.decorator.<locals>.wrapper\u001b[1;34m(*args, **kwargs)\u001b[0m\n\u001b[0;32m      9\u001b[0m \u001b[38;5;28;01mfor\u001b[39;00m ext \u001b[38;5;129;01min\u001b[39;00m exts:\n\u001b[0;32m     10\u001b[0m     \u001b[38;5;28;01mtry\u001b[39;00m:\n\u001b[1;32m---> 11\u001b[0m         \u001b[38;5;28;01mreturn\u001b[39;00m func(\u001b[38;5;241m*\u001b[39margs, \u001b[38;5;241m*\u001b[39m\u001b[38;5;241m*\u001b[39mkwargs)\n\u001b[0;32m     12\u001b[0m     \u001b[38;5;28;01mexcept\u001b[39;00m ext \u001b[38;5;28;01mas\u001b[39;00m e:\n\u001b[0;32m     13\u001b[0m         \u001b[38;5;28mprint\u001b[39m(\u001b[38;5;124mf\u001b[39m\u001b[38;5;124m'\u001b[39m\u001b[38;5;124mИсключение \u001b[39m\u001b[38;5;132;01m{\u001b[39;00me\u001b[38;5;132;01m}\u001b[39;00m\u001b[38;5;124m обработано\u001b[39m\u001b[38;5;124m'\u001b[39m)\n",
      "Cell \u001b[1;32mIn[11], line 20\u001b[0m, in \u001b[0;36mf\u001b[1;34m(x)\u001b[0m\n\u001b[0;32m     18\u001b[0m \u001b[38;5;129m@ignore_exception\u001b[39m(\u001b[38;5;167;01mZeroDivisionError\u001b[39;00m, \u001b[38;5;167;01mTypeError\u001b[39;00m, \u001b[38;5;167;01mValueError\u001b[39;00m)\n\u001b[0;32m     19\u001b[0m \u001b[38;5;28;01mdef\u001b[39;00m \u001b[38;5;21mf\u001b[39m(x):\n\u001b[1;32m---> 20\u001b[0m     \u001b[38;5;28;01mreturn\u001b[39;00m \u001b[38;5;241;43m1\u001b[39;49m\u001b[43m \u001b[49m\u001b[38;5;241;43m/\u001b[39;49m\u001b[43m \u001b[49m\u001b[43mx\u001b[49m\n",
      "\u001b[1;31mZeroDivisionError\u001b[0m: division by zero"
     ]
    }
   ],
   "source": [
    "#ПРИВЕТИКИ, СЕРЕЖКА\n",
    "from functools import wraps\n",
    "\n",
    "def ignore_exception(*args):\n",
    "    exts = args\n",
    "    def decorator(func):\n",
    "        @wraps(func)\n",
    "        def wrapper(*args, **kwargs):\n",
    "            for ext in exts:\n",
    "                try:\n",
    "                    return func(*args, **kwargs)\n",
    "                except ext as e:\n",
    "                    print(f'Исключение {e} обработано')\n",
    "        return wrapper\n",
    "    return decorator\n",
    "\n",
    "\n",
    "@ignore_exception(ZeroDivisionError, TypeError, ValueError)\n",
    "def f(x):\n",
    "    return 1 / x\n",
    "    \n",
    "f(0)"
   ]
  },
  {
   "cell_type": "code",
   "execution_count": 25,
   "metadata": {},
   "outputs": [
    {
     "name": "stdout",
     "output_type": "stream",
     "text": [
      "<class 'type'>\n"
     ]
    }
   ],
   "source": [
    "from functools import wraps\n",
    "# from base import Exception\n",
    "\n",
    "class MaxRetriesException(BaseException):\n",
    "    pass\n",
    "print(type(MaxRetriesException))\n",
    "\n",
    "def retry(times):\n",
    "    def decorator(func):\n",
    "        @wraps(func)\n",
    "        def wrapper(*args, **kwargs):\n",
    "            for _ in range(times):\n",
    "                try:\n",
    "                    return func(*args, **kwargs)\n",
    "                except:\n",
    "                    pass\n",
    "            return MaxRetriesException\n",
    "        return wrapper\n",
    "    return decorator\n",
    "\n",
    "@retry(3)\n",
    "def no_way():\n",
    "    raise ValueError\n",
    "   \n",
    "try:\n",
    "    no_way()\n",
    "except Exception as e:\n",
    "    print(type(e))"
   ]
  },
  {
   "cell_type": "code",
   "execution_count": 3,
   "metadata": {},
   "outputs": [
    {
     "name": "stdout",
     "output_type": "stream",
     "text": [
      "[-2, -1, 1, 2]\n",
      "[]\n"
     ]
    }
   ],
   "source": [
    "non_zero = filter(None, [-2, -1, 0, 1, 2])\n",
    "positive = map(abs, non_zero)\n",
    "\n",
    "print(list(non_zero))\n",
    "print(list(positive))"
   ]
  },
  {
   "cell_type": "code",
   "execution_count": 1,
   "metadata": {},
   "outputs": [
    {
     "name": "stdout",
     "output_type": "stream",
     "text": [
      "1 3\n"
     ]
    }
   ],
   "source": [
    "k = {1: 2, 3: 4}\n",
    "print(*k)"
   ]
  },
  {
   "cell_type": "code",
   "execution_count": null,
   "metadata": {},
   "outputs": [
    {
     "ename": "",
     "evalue": "",
     "output_type": "error",
     "traceback": [
      "\u001b[1;31mThe Kernel crashed while executing code in the the current cell or a previous cell. Please review the code in the cell(s) to identify a possible cause of the failure. Click <a href='https://aka.ms/vscodeJupyterKernelCrash'>here</a> for more info. View Jupyter <a href='command:jupyter.viewOutput'>log</a> for further details."
     ]
    }
   ],
   "source": [
    "from functools import lru_cache\n",
    "\n",
    "@lru_cache()\n",
    "def ways(n):\n",
    "    # result = 0\n",
    "    def recurse(num):\n",
    "        if num <= 2:\n",
    "            return 1\n",
    "        elif num >= 3:\n",
    "            return recurse(num - 1) + num\n",
    "    return recurse(n)\n",
    "\n",
    "for i in range(1, 5):\n",
    "    print(i, ways(i))"
   ]
  },
  {
   "cell_type": "code",
   "execution_count": 25,
   "metadata": {},
   "outputs": [
    {
     "name": "stdout",
     "output_type": "stream",
     "text": [
      "0 False []\n",
      "1 3 5\n",
      "1 2\n"
     ]
    }
   ],
   "source": [
    "def filterfalse(predicate, iterable):\n",
    "    if not predicate:\n",
    "        return(filter(lambda x: not x, iterable))\n",
    "    else:\n",
    "        return(filter(lambda x: not predicate(x), iterable))\n",
    "    \n",
    "\n",
    "objects = [0, 1, True, False, 17, []]\n",
    "print(*filterfalse(None, objects))\n",
    "\n",
    "numbers = (1, 2, 3, 4, 5)\n",
    "print(*filterfalse(lambda x: x % 2 == 0, numbers))\n",
    "\n",
    "numbers = [1, 2, 3, 4, 5]\n",
    "print(*filterfalse(lambda x: x >= 3, numbers))\n",
    "\n"
   ]
  },
  {
   "cell_type": "code",
   "execution_count": null,
   "metadata": {},
   "outputs": [],
   "source": [
    "def transpose(matrix):\n",
    "    result = []\n",
    "    \n",
    "    \n",
    "    \n",
    "matrix = [[1, 2, 3],\n",
    "          [4, 5, 6],\n",
    "          [7, 8, 9]]\n",
    "\n",
    "for row in transpose(matrix):\n",
    "    print(row)"
   ]
  },
  {
   "cell_type": "code",
   "execution_count": 76,
   "metadata": {},
   "outputs": [
    {
     "name": "stdout",
     "output_type": "stream",
     "text": [
      "[[1, 2, 3], [4, 5, 6], [7, 8, 9]]\n",
      "[[1, 4, 7], [2, 5, 8], [3, 6, 9]]\n"
     ]
    }
   ],
   "source": [
    "matrix = [[1, 2, 3],\n",
    "          [4, 5, 6],\n",
    "          [7, 8, 9]]\n",
    "\n",
    "new_matrix = [list(i) for i in zip(*matrix)]\n",
    "\n",
    "print(matrix)\n",
    "print(new_matrix)"
   ]
  },
  {
   "cell_type": "code",
   "execution_count": 80,
   "metadata": {},
   "outputs": [
    {
     "name": "stdout",
     "output_type": "stream",
     "text": [
      "(3, 2)\n",
      "(0, 0)\n",
      "None\n"
     ]
    }
   ],
   "source": [
    "def get_min_max(data: list):\n",
    "    if data:\n",
    "        return (data.index(min(data)), data.index(max(data)))\n",
    "    return None\n",
    "\n",
    "data = [2, 3, 8, 1, 7]\n",
    "print(get_min_max(data))\n",
    "\n",
    "data = [9]\n",
    "print(get_min_max(data))\n",
    "\n",
    "print(get_min_max([]))"
   ]
  },
  {
   "cell_type": "code",
   "execution_count": 123,
   "metadata": {},
   "outputs": [
    {
     "ename": "TypeError",
     "evalue": "<lambda>() missing 1 required positional argument: 'b'",
     "output_type": "error",
     "traceback": [
      "\u001b[1;31m---------------------------------------------------------------------------\u001b[0m",
      "\u001b[1;31mTypeError\u001b[0m                                 Traceback (most recent call last)",
      "Cell \u001b[1;32mIn[123], line 10\u001b[0m\n\u001b[0;32m      5\u001b[0m pairs \u001b[38;5;241m=\u001b[39m [(\u001b[38;5;241m1\u001b[39m, \u001b[38;5;241m3\u001b[39m), (\u001b[38;5;241m2\u001b[39m, \u001b[38;5;241m5\u001b[39m), (\u001b[38;5;241m6\u001b[39m, \u001b[38;5;241m4\u001b[39m)]\n\u001b[0;32m      7\u001b[0m \u001b[38;5;66;03m# print(*pairs)\u001b[39;00m\n\u001b[0;32m      8\u001b[0m \u001b[38;5;66;03m# print(*starmap(lambda a, b: a + b, pairs))\u001b[39;00m\n\u001b[1;32m---> 10\u001b[0m \u001b[38;5;28;01mfor\u001b[39;00m k \u001b[38;5;129;01min\u001b[39;00m \u001b[38;5;28mmap\u001b[39m(\u001b[38;5;28;01mlambda\u001b[39;00m a, b: a \u001b[38;5;241m+\u001b[39m b, \u001b[38;5;28mzip\u001b[39m(\u001b[38;5;28miter\u001b[39m([(\u001b[38;5;241m1\u001b[39m,\u001b[38;5;241m2\u001b[39m), (\u001b[38;5;241m3\u001b[39m,\u001b[38;5;241m4\u001b[39m)]))):\n\u001b[0;32m     11\u001b[0m     \u001b[38;5;28mprint\u001b[39m(k)\n",
      "\u001b[1;31mTypeError\u001b[0m: <lambda>() missing 1 required positional argument: 'b'"
     ]
    }
   ],
   "source": [
    "def starmap(func, iterable):\n",
    "    return map(func, iter(iterable))\n",
    "\n",
    "\n",
    "pairs = [(1, 3), (2, 5), (6, 4)]\n",
    "\n",
    "# print(*pairs)\n",
    "# print(*starmap(lambda a, b: a + b, pairs))\n",
    "\n",
    "for k in map(lambda a, b: a + b, zip(iter([(1,2), (3,4)]))):\n",
    "    print(k)"
   ]
  },
  {
   "cell_type": "code",
   "execution_count": 125,
   "metadata": {},
   "outputs": [
    {
     "name": "stdout",
     "output_type": "stream",
     "text": [
      "[(1, 2), (3, 4)]\n"
     ]
    }
   ],
   "source": [
    "print(list(iter([(1,2), (3,4)])))"
   ]
  },
  {
   "cell_type": "code",
   "execution_count": 1,
   "metadata": {},
   "outputs": [
    {
     "name": "stdout",
     "output_type": "stream",
     "text": [
      "[6, 0, 10, -20]\n"
     ]
    }
   ],
   "source": [
    "def same_parity(numbers):\n",
    "    return [i for i in numbers if i % 2 == numbers[0] % 2]\n",
    "\n",
    "print(same_parity([6, 0, 67, -7, 10, -20]))"
   ]
  },
  {
   "cell_type": "code",
   "execution_count": 11,
   "metadata": {},
   "outputs": [
    {
     "name": "stdout",
     "output_type": "stream",
     "text": [
      "False\n",
      "True\n",
      "False\n"
     ]
    }
   ],
   "source": [
    "def is_valid(string):\n",
    "    return all([i.isdigit() for i in string]) and 4 <= len(string) <= 6\n",
    "\n",
    "print(is_valid('89abc1'))\n",
    "print(is_valid('92134'))\n",
    "print(is_valid('49 83'))\n",
    "\n"
   ]
  },
  {
   "cell_type": "code",
   "execution_count": 12,
   "metadata": {},
   "outputs": [
    {
     "name": "stdout",
     "output_type": "stream",
     "text": [
      "1 <class 'int'>\n",
      "[1, 2, 3] <class 'list'>\n",
      "three <class 'str'>\n",
      "two 2 <class 'int'>\n"
     ]
    }
   ],
   "source": [
    "def print_given(*args, **kwargs):\n",
    "    for i in args:\n",
    "        print(f'{i} {type(i)}')\n",
    "    for k, v in sorted(kwargs.items()):\n",
    "        print(f'{k} {v} {type(v)}')\n",
    "        \n",
    "        \n",
    "print_given(1, [1, 2, 3], 'three', two=2)"
   ]
  },
  {
   "cell_type": "code",
   "execution_count": 20,
   "metadata": {},
   "outputs": [
    {
     "name": "stdout",
     "output_type": "stream",
     "text": [
      "beeessss325264\n"
     ]
    }
   ],
   "source": [
    "def convert(string):\n",
    "    # count()\n",
    "    if len([i for i in string if i.isupper()]) > len([i for i in string if i.islower()]):\n",
    "        return string.upper()\n",
    "    return string.lower()\n",
    "\n",
    "print(convert('BEEEssss325264'))"
   ]
  },
  {
   "cell_type": "code",
   "execution_count": 23,
   "metadata": {},
   "outputs": [
    {
     "name": "stdout",
     "output_type": "stream",
     "text": [
      "['сеточка', 'стоечка', 'тесачок', 'чесотка']\n",
      "['aabb', 'bbaa']\n"
     ]
    }
   ],
   "source": [
    "def filter_anagrams(word, words):\n",
    "    return [i for i in words if set(i) == set(word)]\n",
    "\n",
    "\n",
    "print(filter_anagrams('отсечка', ['сеточка', 'стоечка', 'тесачок', 'чесотка']))\n",
    "\n",
    "\n",
    "word = 'abba'\n",
    "anagrams = ['aabb', 'abcd', 'bbaa', 'dada']\n",
    "print(filter_anagrams(word, anagrams))\n"
   ]
  },
  {
   "cell_type": "code",
   "execution_count": 26,
   "metadata": {},
   "outputs": [
    {
     "name": "stdout",
     "output_type": "stream",
     "text": [
      "Никто не оценил данную запись\n",
      "Тимур оценил(а) данную запись\n",
      "Тимур и Артур оценили данную запись\n",
      "Тимур, Артур и Руслан оценили данную запись\n",
      "Тимур, Артур и 2 других оценили данную запись\n",
      "Тимур, Артур и 3 других оценили данную запись\n",
      "Тимур, Артур и 6 других оценили данную запись\n",
      "['Тимур', 'Артур', 'Руслан']\n"
     ]
    }
   ],
   "source": [
    "def likes(names):\n",
    "    if len(names) == 0:\n",
    "        return 'Никто не оценил данную запись'\n",
    "    elif len(names) == 1:\n",
    "        return f'{names[0]} оценил(а) данную запись'\n",
    "    elif len(names) == 2:\n",
    "        return f'{names[0]} и {names[1]} оценили данную запись'\n",
    "    elif len(names) == 3:\n",
    "        return f'{names[0]}, {names[1]} и {names[2]} оценили данную запись'\n",
    "    return f'{names[0]}, {names[1]} и {len(names) - 2} других оценили данную запись'\n",
    "\n",
    "print(likes([]))\n",
    "print(likes(['Тимур']))\n",
    "print(likes(['Тимур', 'Артур']))\n",
    "print(likes(['Тимур', 'Артур', 'Руслан']))\n",
    "print(likes(['Тимур', 'Артур', 'Руслан', 'Анри']))\n",
    "print(likes(['Тимур', 'Артур', 'Руслан', 'Анри', 'Дима']))\n",
    "print(likes(['Тимур', 'Артур', 'Руслан', 'Анри', 'Дима', 'Рома', 'Гвидо', 'Марк']))\n",
    "# print(['Тимур', 'Артур', 'Руслан'][:6])"
   ]
  },
  {
   "cell_type": "code",
   "execution_count": 49,
   "metadata": {},
   "outputs": [
    {
     "name": "stdout",
     "output_type": "stream",
     "text": [
      "2\n"
     ]
    }
   ],
   "source": [
    "def index_of_nearest(numbers, number):\n",
    "    if not numbers:\n",
    "        return 1\n",
    "    reslt = tuple(map(lambda x: abs(x - number), numbers))\n",
    "    return reslt.index(min(reslt))\n",
    "\n",
    "print(index_of_nearest([5, -3, 2, 5, 18], 3))"
   ]
  },
  {
   "cell_type": "code",
   "execution_count": 58,
   "metadata": {},
   "outputs": [
    {
     "name": "stdout",
     "output_type": "stream",
     "text": [
      "{'р': 7, 'а': 9, 'у': 10, 'к': 5}\n",
      "{'м': 10, 'и': 11, 'х': 5, 'б': 8}\n",
      "{'f': 8}\n"
     ]
    }
   ],
   "source": [
    "def spell(*args):\n",
    "    reslt = {k.lower()[0]: max(map(len, (filter(lambda x: x.lower()[0] == k.lower()[0], args)))) for k in args}\n",
    "    return reslt\n",
    "    \n",
    "words = ['Россия', 'Австрия', 'Австралия', 'РумыниЯ', 'Украина', 'КИТай', 'УЗБЕКИСТАН']\n",
    "print(spell(*words))\n",
    "print(spell('Математика', 'История', 'химия', 'биология', 'Информатика'))\n",
    "words = ['fruit', 'football', 'February', 'forest', 'Family']\n",
    "print(spell(*words))\n",
    "\n"
   ]
  },
  {
   "cell_type": "code",
   "execution_count": 17,
   "metadata": {},
   "outputs": [
    {
     "name": "stdout",
     "output_type": "stream",
     "text": [
      "испанский, французский, эсперанто\n"
     ]
    }
   ],
   "source": [
    "from sys import stdin\n",
    "lin = \"\"\"6\n",
    "испанский, португальский, эсперанто, французский\n",
    "французский, испанский, эсперанто\n",
    "португальский, эсперанто, французский, испанский\n",
    "французский, английский, болгарский, испанский, эсперанто\n",
    "эсперанто, английский, русский, испанский, французский\n",
    "python, испанский, эсперанто, латышский, польский, французский\"\"\".splitlines()[1:]\n",
    "reslt = set(lin[0].split(', '))\n",
    "for line in lin:\n",
    "    reslt = reslt & set(line.split(', '))\n",
    "if len(reslt):\n",
    "    print(', '.join(sorted(reslt)))\n",
    "else:\n",
    "    print('Сериал снять не удастся')"
   ]
  },
  {
   "cell_type": "code",
   "execution_count": 10,
   "metadata": {},
   "outputs": [
    {
     "name": "stdout",
     "output_type": "stream",
     "text": [
      "машинист\n",
      "дорога\n",
      "работа\n",
      "железо\n",
      "ветеран\n"
     ]
    }
   ],
   "source": [
    "from sys import stdin\n",
    "lin = [i for i in \"\"\"машина\n",
    "8\n",
    "сеть\n",
    "машинист\n",
    "дорога\n",
    "урок\n",
    "работа\n",
    "аксиома\n",
    "железо\n",
    "ветеран\"\"\".splitlines()]\n",
    "main_word = lin[0]\n",
    "other_words_firsts = lin[2:]\n",
    "other_words = other_words_firsts[:]\n",
    "reslt = set()\n",
    "a = ('а', 'у', 'о', 'ы', 'и', 'э', 'я', 'ю', 'ё', 'е')\n",
    "b = ('б', 'в', 'г', 'д', 'ж', 'з', 'й', 'к', 'л', 'м', 'н', 'п', 'р', 'с', 'т', 'ф', 'х', 'ц', 'ч', 'ш', 'щ', 'ь', 'ъ')\n",
    "for letters, repl_letter in (a, '1'), (b, '2'):\n",
    "    for letter in letters:\n",
    "        main_word = main_word.replace(letter, repl_letter).rstrip('2')\n",
    "        for i in range(len(other_words)):\n",
    "            other_words[i] = other_words[i].replace(letter, repl_letter)\n",
    "            other_words[i] = other_words[i].rstrip('2')\n",
    "            if main_word == other_words[i]:\n",
    "                reslt.add(i)\n",
    "for i in reslt:\n",
    "    print(other_words_firsts[i])"
   ]
  },
  {
   "cell_type": "code",
   "execution_count": 12,
   "metadata": {},
   "outputs": [
    {
     "name": "stdout",
     "output_type": "stream",
     "text": [
      "anri-tabuev@beegeek.bzz\n",
      "anri-tabuev2@beegeek.bzz\n",
      "arthur-kharisov@beegeek.bzz\n",
      "arthur-kharisov1@beegeek.bzz\n",
      "arthur-kharisov2@beegeek.bzz\n",
      "arthur-kharisov4@beegeek.bzz\n",
      "arthur-kharisov5@beegeek.bzz\n",
      "arthur-kharisov6@beegeek.bzz\n",
      "arthur-kharisov7@beegeek.bzz\n",
      "arthur-kharisov8@beegeek.bzz\n",
      "arthur-kharisov9@beegeek.bzz\n",
      "arthur-kharisov10@beegeek.bzz\n",
      "arthur-kharisov11@beegeek.bzz\n",
      "arthur-kharisov12@beegeek.bzz\n",
      "arthur-kharisov13@beegeek.bzz\n"
     ]
    }
   ],
   "source": [
    "from sys import stdin\n",
    "got_mails = []\n",
    "new_names = []\n",
    "# n = int(input())\n",
    "# for _ in range(n):\n",
    "#     got_mails.append(input().split['@'][0])\n",
    "# n = int(input())\n",
    "# for _ in range(n):\n",
    "#     new_names.append(input())\n",
    "    \n",
    "for line in \"\"\"2\n",
    "anri-tabuev1@beegeek.bzz\n",
    "arthur-kharisov3@beegeek.bzz\n",
    "15\n",
    "anri-tabuev\n",
    "anri-tabuev\n",
    "arthur-kharisov\n",
    "arthur-kharisov\n",
    "arthur-kharisov\n",
    "arthur-kharisov\n",
    "arthur-kharisov\n",
    "arthur-kharisov\n",
    "arthur-kharisov\n",
    "arthur-kharisov\n",
    "arthur-kharisov\n",
    "arthur-kharisov\n",
    "arthur-kharisov\n",
    "arthur-kharisov\n",
    "arthur-kharisov\"\"\".splitlines():\n",
    "    if '@' in line:\n",
    "        got_mails.append(line[:line.find('@')])\n",
    "    if not any((line.isdigit(), '@' in line)):\n",
    "        number = 0\n",
    "        inserted = False\n",
    "        while not inserted:\n",
    "            if number == 0:\n",
    "                symbol = ''\n",
    "            else:\n",
    "                symbol = str(number)\n",
    "            new_mail = line + symbol\n",
    "            if new_mail not in got_mails:\n",
    "                got_mails.append(new_mail)\n",
    "                print(new_mail + '@beegeek.bzz')\n",
    "                inserted = True\n",
    "            else:\n",
    "                number += 1\n"
   ]
  },
  {
   "cell_type": "code",
   "execution_count": 11,
   "metadata": {},
   "outputs": [
    {
     "data": {
      "text/plain": [
       "True"
      ]
     },
     "execution_count": 11,
     "metadata": {},
     "output_type": "execute_result"
    }
   ],
   "source": [
    "got_mails = ['anri-tabuev1', 'arthur-kharisov3', 'anri-tabuev', 'anri-tabuev2', 'arthur-kharisov', 'arthur-kharisov1', 'arthur-kharisov2', 'arthur-kharisov4', 'arthur-kharisov5', 'arthur-kharisov6', 'arthur-kharisov7', 'arthur-kharisov8', 'arthur-kharisov9']\n",
    "'arthur-kharisov9' in got_mails"
   ]
  },
  {
   "cell_type": "code",
   "execution_count": 8,
   "metadata": {},
   "outputs": [
    {
     "name": "stdout",
     "output_type": "stream",
     "text": [
      "classes.csv\n",
      "exam_results.csv\n",
      "grades.csv\n",
      "students.csv\n",
      "tab.csv\n",
      "----------\n",
      "Summary: 92 KB\n",
      "\n",
      "artmoney.exe\n",
      "cheats.exe\n",
      "chrome.exe\n",
      "discord.exe\n",
      "eac.exe\n",
      "god_of_war.exe\n",
      "hamachi.exe\n",
      "hollow_knight_silksong.exe\n",
      "microsoft_edge.exe\n",
      "nvidia_gf.exe\n",
      "photoshop.exe\n",
      "sony_vegas11.exe\n",
      "spiritfarer.exe\n",
      "steam.exe\n",
      "teamspeak3.exe\n",
      "telegram.exe\n",
      "uncharted4.exe\n",
      "whatsapp.exe\n",
      "yandex_browser.exe\n",
      "yandexdisc.exe\n",
      "----------\n",
      "Summary: 10 MB\n",
      "\n",
      "beauty.jpeg\n",
      "city.jpeg\n",
      "emoji_angry.jpeg\n",
      "emoji_smile.jpeg\n",
      "flowers.jpeg\n",
      "forest.jpeg\n",
      "friends.jpeg\n",
      "galaxy.jpeg\n",
      "girls.jpeg\n",
      "just_beauty.jpeg\n",
      "la.jpeg\n",
      "los_angeles.jpeg\n",
      "me.jpeg\n",
      "moon.jpeg\n",
      "new_year2020.jpeg\n",
      "night_city.jpeg\n",
      "planets.jpeg\n",
      "summer2011.jpeg\n",
      "summer2012.jpeg\n",
      "sun.jpeg\n",
      "sunlight.jpeg\n",
      "watterfall.jpeg\n",
      "winter2016.jpeg\n",
      "----------\n",
      "Summary: 13 MB\n",
      "\n",
      "backups.json\n",
      "carl_backups.json\n",
      "dhook_hw.json\n",
      "dhook_lsns.json\n",
      "----------\n",
      "Summary: 94 KB\n",
      "\n",
      "alladin.mkv\n",
      "dallass_club_byers.mkv\n",
      "harry_potter2.mkv\n",
      "jaws.mkv\n",
      "place_in_the_sun.mkv\n",
      "spider_man2.mkv\n",
      "spider_man3.mkv\n",
      "star_wars.mkv\n",
      "the_godfather.mkv\n",
      "tom_and_jerry.mkv\n",
      "toy_story3.mkv\n",
      "----------\n",
      "Summary: 33 GB\n",
      "\n",
      "bad-disease.mp3\n",
      "bones.mp3\n",
      "but-you.mp3\n",
      "cant-help-myself.mp3\n",
      "city-of-the-sun.mp3\n",
      "crying-all-the-time.mp3\n",
      "death-stranding.mp3\n",
      "gold-guns-girls.mp3\n",
      "howl.mp3\n",
      "keep-yourself-alive.mp3\n",
      "kissing-in-the-wind.mp3\n",
      "saving-grace.mp3\n",
      "send-her-back.mp3\n",
      "soft-currents.mp3\n",
      "summertime-sadness.mp3\n",
      "the-archer.mp3\n",
      "the-phantom.mp3\n",
      "what-else-is-there.mp3\n",
      "ya-videl-son.mp3\n",
      "youve-got-time.mp3\n",
      "----------\n",
      "Summary: 109 MB\n",
      "\n",
      "best_of_guev.mp4\n",
      "geometry_lesson1.mp4\n",
      "geometry_lesson2.mp4\n",
      "geometry_lesson3.mp4\n",
      "math_lesson11.mp4\n",
      "math_lesson3.mp4\n",
      "math_lesson4.mp4\n",
      "math_lesson7.mp4\n",
      "old_memories.mp4\n",
      "python_for_beg1.mp4\n",
      "python_for_pro8.mp4\n",
      "----------\n",
      "Summary: 4 GB\n",
      "\n",
      "exam.py\n",
      "homework.py\n",
      "mini_game.py\n",
      "myanalysis.py\n",
      "mygeometry.py\n",
      "mymath.py\n",
      "project_main.py\n",
      "project_module1.py\n",
      "project_module2.py\n",
      "project_module3.py\n",
      "stepik_problems.py\n",
      "test.py\n",
      "----------\n",
      "Summary: 213 KB\n",
      "\n",
      "note.xml\n",
      "nothing.xml\n",
      "plants.xml\n",
      "sample.xml\n",
      "----------\n",
      "Summary: 3 KB\n",
      "\n",
      "7z.zip\n",
      "emojis.zip\n",
      "python3.zip\n",
      "small_txt.zip\n",
      "songs.zip\n",
      "summer_vacation.zip\n",
      "wallpapers.zip\n",
      "winrar.zip\n",
      "winter_vacation.zip\n",
      "----------\n",
      "Summary: 74 MB\n",
      "\n"
     ]
    }
   ],
   "source": [
    "sizes = {'B': 1, 'KB': 1024, 'MB': 1048576, 'GB': 1073741824}\n",
    "size_priority = ('B', 'KB', 'MB', 'GB')\n",
    "sum_size = {}\n",
    "all_files = {}\n",
    "with open('files.txt', 'r') as f:\n",
    "    lines = [line.rstrip() for line in f]\n",
    "    for line in lines:\n",
    "        file, size, byte = line.split()\n",
    "        file, attr = file[:file.rfind('.')], file[file.rfind('.')+1:]\n",
    "        sum_size[attr] = sum_size.get(attr, {'size': 0, 'byte': 'B'})\n",
    "        sum_size[attr]['size'] += int(size) * sizes[byte]\n",
    "        if size_priority.index(sum_size[attr]['byte']) < size_priority.index(byte):\n",
    "            sum_size[attr]['byte'] = byte\n",
    "        all_files[attr] = all_files.get(attr, [])\n",
    "        all_files[attr].append(file)\n",
    "        \n",
    "for attr in sorted(all_files):\n",
    "    for file in sorted(all_files[attr]):\n",
    "        print(f'{file}.{attr}')\n",
    "    print('----------')\n",
    "    size, byte = sum_size[attr][\"size\"] / sizes[sum_size[attr][\"byte\"]], sum_size[attr][\"byte\"]\n",
    "    if size // 1024 > 1:\n",
    "        size = size / 1024\n",
    "        byte = size_priority[size_priority.index(byte) + 1]\n",
    "    print(f'Summary: {round(size)} {byte}\\n')\n",
    "    "
   ]
  },
  {
   "cell_type": "code",
   "execution_count": 9,
   "metadata": {},
   "outputs": [
    {
     "name": "stdout",
     "output_type": "stream",
     "text": [
      "2010Q3\n",
      "2017Q1\n",
      "2009Q4\n",
      "2010Q1\n",
      "2021Q4\n",
      "2020Q1\n",
      "2000Q3\n",
      "1999Q2\n",
      "1789Q4\n",
      "2013Q3\n",
      "1666Q2\n",
      "1968Q2\n"
     ]
    }
   ],
   "source": [
    "from datetime import date\n",
    "\n",
    "dates = [date(2010, 9, 28), date(2017, 1, 13), date(2009, 12, 25), date(2010, 2, 27), date(2021, 10, 11), date(2020, 3, 13), date(2000, 7, 7), date(1999, 4, 14), date(1789, 11, 19), date(2013, 8, 21), date(1666, 6, 6), date(1968, 5, 26)]\n",
    "\n",
    "quaters = {1: 1, 2:1, 3:1, 4: 2, 5: 2, 6: 2, 7: 3, 8: 3, 9: 3, 10: 4, 11: 4, 12: 4}\n",
    "for m in dates:\n",
    "    print(f\"{m.year}Q{quaters[m.month]}\")"
   ]
  },
  {
   "cell_type": "code",
   "execution_count": 10,
   "metadata": {},
   "outputs": [
    {
     "name": "stdout",
     "output_type": "stream",
     "text": [
      "(datetime.date(1992, 6, 10), datetime.date(2021, 10, 5))\n"
     ]
    }
   ],
   "source": [
    "def get_min_max(dates):\n",
    "    if not dates:\n",
    "        return ()\n",
    "    return (min(dates), max(dates))\n",
    "\n",
    "dates = [date(2021, 10, 5), date(1992, 6, 10), date(2012, 2, 23), date(1995, 10, 12)]\n",
    "print(get_min_max(dates))"
   ]
  },
  {
   "cell_type": "code",
   "execution_count": 16,
   "metadata": {},
   "outputs": [
    {
     "name": "stdout",
     "output_type": "stream",
     "text": [
      "2021-10-01\n",
      "2021-10-02\n",
      "2021-10-03\n",
      "2021-10-04\n",
      "2021-10-05\n"
     ]
    }
   ],
   "source": [
    "from datetime import date\n",
    "def get_date_range(start, end):\n",
    "    if start > end:\n",
    "        return []\n",
    "    return [date.fromordinal(i) for i in range(start.toordinal(), end.toordinal() + 1)]\n",
    "        \n",
    "\n",
    "date1 = date(2021, 10, 1)\n",
    "date2 = date(2021, 10, 5)\n",
    "\n",
    "print(*get_date_range(date1, date2), sep='\\n')"
   ]
  },
  {
   "cell_type": "code",
   "execution_count": 17,
   "metadata": {},
   "outputs": [
    {
     "name": "stdout",
     "output_type": "stream",
     "text": [
      "3\n"
     ]
    }
   ],
   "source": [
    "from datetime import date\n",
    "def saturdays_between_two_dates(start: date, end: date):\n",
    "    saturdays = 0\n",
    "    if start > end:\n",
    "        start, end = end, start\n",
    "    for i in [i for i in range(start.toordinal(), end.toordinal() + 1)]:\n",
    "        if date.fromordinal(i).weekday() == 5:\n",
    "            saturdays += 1\n",
    "    return saturdays\n",
    "\n",
    "date1 = date(2021, 11, 1)\n",
    "date2 = date(2021, 11, 22)\n",
    "\n",
    "print(saturdays_between_two_dates(date1, date2))"
   ]
  }
 ],
 "metadata": {
  "kernelspec": {
   "display_name": "Python 3",
   "language": "python",
   "name": "python3"
  },
  "language_info": {
   "codemirror_mode": {
    "name": "ipython",
    "version": 3
   },
   "file_extension": ".py",
   "mimetype": "text/x-python",
   "name": "python",
   "nbconvert_exporter": "python",
   "pygments_lexer": "ipython3",
   "version": "3.10.5"
  }
 },
 "nbformat": 4,
 "nbformat_minor": 2
}
