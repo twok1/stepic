{
 "cells": [
  {
   "cell_type": "code",
   "execution_count": 1,
   "metadata": {},
   "outputs": [],
   "source": [
    "# переопределяем функцию input на чтение из файла\n",
    "def input():\n",
    "    with open('input.txt', 'r', encoding='utf-8') as f:\n",
    "        try:\n",
    "            result = f.readlines()[input.num].rstrip()\n",
    "            input.num += 1\n",
    "            return result\n",
    "        except:\n",
    "            input.num = 0\n",
    "\n",
    "input.num = 0"
   ]
  },
  {
   "cell_type": "code",
   "execution_count": null,
   "metadata": {},
   "outputs": [],
   "source": [
    "from collections import Counter\n",
    "products = Counter('лимон,лимон,лимон,груша,банан,банан,киви,киви,киви,киви'.split(','))\n",
    "max_len = max([len(i) for i in products])\n",
    "for product in sorted(products):\n",
    "    price = sum([ord(i) for i in product if i != ' '])\n",
    "    print(f\"{product.ljust(max_len)}: {price} UC x {products[product]} = {price * products[product]} UC\")"
   ]
  },
  {
   "cell_type": "code",
   "execution_count": null,
   "metadata": {},
   "outputs": [],
   "source": [
    "from sys import stdin\n",
    "lin = [i for i in \"\"\"машина\n",
    "8\n",
    "сеть\n",
    "машинист\n",
    "дорога\n",
    "урок\n",
    "работа\n",
    "аксиома\n",
    "железо\n",
    "ветеран\"\"\".splitlines()]\n",
    "main_word = lin[0]\n",
    "other_words = lin[2:]\n",
    "for letters, repl_letter in (('а', 'у', 'о', 'ы', 'и', 'э', 'я', 'ю', 'ё', 'е'), '1'), (('б', 'в', 'г', 'д', 'ж', 'з', 'й', 'к', 'л', 'м', 'н', 'п', 'р', 'с', 'т', 'ф', 'х', 'ц', 'ч', 'ш', 'щ', 'ь', 'ъ'), '2'):\n",
    "    for letter in letters:\n",
    "        main_word = main_word.replace(letter, repl_letter).rstrip('2')\n",
    "        for i in range(len(other_words)):\n",
    "            other_words[i] = other_words[i].replace(letter, repl_letter)\n",
    "            other_words[i] = other_words[i].rstrip('2')\n",
    "print(main_word)\n",
    "print(other_words)\n",
    "# if main_word == other_words:"
   ]
  },
  {
   "cell_type": "code",
   "execution_count": null,
   "metadata": {},
   "outputs": [],
   "source": [
    "from collections import Counter\n",
    "file = Counter(\"\"\"The Zen of Python, by Tim Peters\n",
    "Beautiful is better than ugly.\n",
    "Explicit is better than implicit.\"\"\".lower())\n",
    "for i in sorted(file):\n",
    "    if i.isalpha():\n",
    "        print(f\"{i}: {file[i]}\")"
   ]
  },
  {
   "cell_type": "code",
   "execution_count": null,
   "metadata": {},
   "outputs": [],
   "source": [
    "file_address = 'a.txt'\n",
    "pattern = open(file_address, 'r')\n",
    "k = int(pattern.readline())\n",
    "n = int(pattern.readline())\n",
    "nums = [int(x) for x in pattern.readlines()]\n",
    "# max_l = maxx = max_r = 0\n",
    "maxx = max(nums[k:n-k+1])\n",
    "max_l = max(nums[:nums.index(maxx) - k])\n",
    "max_r = max(nums[nums.index(maxx) + k:])\n",
    "\n",
    "maxx_s = sum([maxx, max_l, max_r])\n",
    "\n",
    "print(f\"Максимальная сумма равна {max_l} + {maxx} + {max_r} = {maxx_s}\")\n",
    "print(f\"Индексы: {nums.index(max_l)}, {nums.index(maxx)}, {nums.index(max_r)}\")"
   ]
  },
  {
   "cell_type": "code",
   "execution_count": null,
   "metadata": {},
   "outputs": [],
   "source": [
    "pattern = open('b.txt')\n",
    "k = int(pattern.readline())\n",
    "n = int(pattern.readline())\n",
    "nums = [int(x) for x in pattern.readlines()]\n",
    "max_l = maxx = 0\n",
    "for i in range(k, n):\n",
    "  # переопределяем максимум\n",
    "  # в начале последовательности\n",
    "  max_l = max(max_l, nums[i-k])\n",
    "  # переопеделяем максимум если надо\n",
    "  maxx = max(maxx, nums[i] + max_l)\n",
    "print(maxx)"
   ]
  },
  {
   "cell_type": "code",
   "execution_count": null,
   "metadata": {},
   "outputs": [],
   "source": [
    "from collections import Counter\n",
    "k = Counter(aim=2, rul=3)\n",
    "k.total()"
   ]
  },
  {
   "cell_type": "code",
   "execution_count": null,
   "metadata": {},
   "outputs": [],
   "source": [
    "from collections import Counter\n",
    "letter = Counter('Черешня Вишня Арбуз малина Малина клубникА Арбуз Банан вишня малина'.lower().split())\n",
    "minimal = letter.most_common()[::-1][0][1]\n",
    "reslt = []\n",
    "for val, nums in letter.items():\n",
    "    if nums == minimal:\n",
    "        reslt.append(val)\n",
    "print(', '.join(sorted(reslt)))"
   ]
  },
  {
   "cell_type": "code",
   "execution_count": null,
   "metadata": {},
   "outputs": [],
   "source": [
    "from collections import Counter\n",
    "letter = Counter('МаЛиНа клубника Арбуз банаН Малина Черешня вишня арбуз клубника банан'.lower().split())\n",
    "maxi = letter.most_common()[0][1]\n",
    "reslt = []\n",
    "for val, nums in letter.items():\n",
    "    if nums == maxi:\n",
    "        reslt.append(val)\n",
    "print(sorted(reslt)[-1])"
   ]
  },
  {
   "cell_type": "code",
   "execution_count": null,
   "metadata": {},
   "outputs": [],
   "source": [
    "from collections import Counter\n",
    "letter = 'Не сможет больше мальчик дотронуться до солнца'.lower()\n",
    "cc = Counter([len(i) for i in letter.split()])\n",
    "for i in (sorted(cc, key=lambda x: cc[x])):\n",
    "    print(f\"Слов длины {i}: {cc[i]}\")"
   ]
  },
  {
   "cell_type": "code",
   "execution_count": null,
   "metadata": {},
   "outputs": [],
   "source": [
    "from collections import Counter\n",
    "with open('name_log.csv', 'r') as pattern:\n",
    "    pattern.readline()\n",
    "    mails = Counter([i.split(',')[1] for i in pattern.readlines()])\n",
    "for mail, num in sorted(mails.items()):\n",
    "    print(f\"{mail}: {num}\")"
   ]
  },
  {
   "cell_type": "code",
   "execution_count": null,
   "metadata": {},
   "outputs": [],
   "source": [
    "from collections import Counter\n",
    "\n",
    "def scrabble(symbols, word):\n",
    "    return Counter(symbols.lower()) >= Counter(word.lower())\n",
    "scrabble('bbbbbeeeeegggggggeeeeeekkkkk', 'Bceegeek')"
   ]
  },
  {
   "cell_type": "code",
   "execution_count": null,
   "metadata": {},
   "outputs": [],
   "source": [
    "from collections import  Counter\n",
    "\n",
    "def print_bar_chart(data, mark):\n",
    "    data = Counter(data)\n",
    "    max_len = max((len(i) for i in data))\n",
    "    for val, num in data.most_common():\n",
    "        print(f'{val.ljust(max_len)} |{mark * num}')\n",
    "\n",
    "print_bar_chart('beegeek', '+')\n",
    "languages = ['java', 'java', 'python', 'C++', 'assembler', 'java', 'C++', 'C', 'pascal', 'C++', 'pascal', 'java']\n",
    "print_bar_chart(languages, '#')\n"
   ]
  },
  {
   "cell_type": "code",
   "execution_count": null,
   "metadata": {},
   "outputs": [],
   "source": [
    "import json\n",
    "from collections import Counter, defaultdict\n",
    "\n",
    "reslt = defaultdict(int)\n",
    "for quarter in range(1, 5):\n",
    "    with open(f'quarter{quarter}.csv', encoding='utf-8') as pattern:\n",
    "        pattern.readline()\n",
    "        for line in pattern.readlines():\n",
    "            line = line.split(',')\n",
    "            reslt[line[0]] += sum(map(int, line[1:]))\n",
    "pattern = json.loads(open('prices.json', encoding='utf-8').read())\n",
    "for item in reslt:\n",
    "    reslt[item] *= pattern[item]\n",
    "print(sum(reslt.values()))"
   ]
  },
  {
   "cell_type": "code",
   "execution_count": null,
   "metadata": {},
   "outputs": [],
   "source": [
    "from collections import Counter\n",
    "import sys\n",
    "\n",
    "inp = sys.stdin.read()\n",
    "avail_books = Counter(inp.splitlines()[0].split())\n",
    "result_sum = 0\n",
    "for book in inp.splitlines()[2:]:\n",
    "    book, summ = book.split()\n",
    "    if avail_books[book] > 0:\n",
    "        result_sum += int(summ)\n",
    "        avail_books[book] -= 1\n",
    "print(result_sum)"
   ]
  },
  {
   "cell_type": "code",
   "execution_count": null,
   "metadata": {},
   "outputs": [],
   "source": [
    "from collections import ChainMap\n",
    "\n",
    "animals = ChainMap({'alligator': 3, 'jaguar': 2},\n",
    "                   {'eagle': 5, 'zebra': 2},\n",
    "                   {'bear': 2, 'alligator': 1},\n",
    "                   {'lemur': 7, 'elephant': 3})\n",
    "\n",
    "print(len(animals))"
   ]
  },
  {
   "cell_type": "code",
   "execution_count": null,
   "metadata": {},
   "outputs": [],
   "source": [
    "from collections import ChainMap\n",
    "import json\n",
    "\n",
    "zoo = ChainMap(*(i for i in json.loads(open('zoo.json', 'r').read())))\n",
    "print(sum(zoo.values()))"
   ]
  },
  {
   "cell_type": "code",
   "execution_count": null,
   "metadata": {},
   "outputs": [],
   "source": [
    "from collections import ChainMap, Counter    \n",
    "\n",
    "inp = input().split(',')\n",
    "bread = {'булочка с кунжутом': 15, 'обычная булочка': 10, 'ржаная булочка': 15}\n",
    "meat = {'куриный бифштекс': 50, 'говяжий бифштекс': 70, 'рыбный бифштекс': 40}\n",
    "sauce = {'сливочно-чесночный': 15, 'кетчуп': 10, 'горчица': 10, 'барбекю': 15, 'чили': 15}\n",
    "vegetables = {'лук': 10, 'салат': 15, 'помидор': 15, 'огурцы': 10}\n",
    "toppings = {'сыр': 25, 'яйцо': 15, 'бекон': 30}\n",
    "price = ChainMap(bread, meat, sauce, vegetables, toppings)\n",
    "reslt = Counter(inp)\n",
    "max_len = max([len(i) for i in reslt])\n",
    "total = 0\n",
    "for item, val in sorted(reslt.items()):\n",
    "    string_len = len(f\"{item.ljust(max_len)} x {val}\")\n",
    "    print(f\"{item.ljust(max_len)} x {val}\")\n",
    "    total += val * price[item]\n",
    "result_string = f'ИТОГ: {total}р'\n",
    "string_len = max(string_len, len(result_string))\n",
    "print('-' * string_len)\n",
    "print(result_string)"
   ]
  },
  {
   "cell_type": "code",
   "execution_count": null,
   "metadata": {},
   "outputs": [],
   "source": [
    "from collections import ChainMap\n",
    "\n",
    "team = ChainMap({'name': 'Timur', 'city': 'Moscow'},\n",
    "                {'name': 'Anri', 'city': 'Saint-Petersburg'},\n",
    "                {'name': 'Arthur', 'city': 'Almetyevsk'})\n",
    "\n",
    "print(*team.maps[1:])\n",
    "print(team.parents == ChainMap(*team.maps[1:]))"
   ]
  },
  {
   "cell_type": "code",
   "execution_count": null,
   "metadata": {},
   "outputs": [],
   "source": [
    "class Text:\n",
    "    def __init__(self, text) -> None:\n",
    "        self.text = text\n",
    "    \n",
    "    def __str__(self) -> str:\n",
    "        return f'{self.text}'\n",
    "        \n",
    "class Comment(Text):\n",
    "    def __init__(self, text, author) -> None:\n",
    "        super().__init__(text)\n",
    "        self.author = author\n",
    "        \n",
    "    def __str__(self) -> str:\n",
    "        return f'{self.author} сказал: {self.text}'\n",
    "        \n",
    "        \n",
    "t = Comment('Hello', 'Man')\n",
    "print(t)"
   ]
  },
  {
   "cell_type": "code",
   "execution_count": null,
   "metadata": {},
   "outputs": [],
   "source": [
    "from collections import ChainMap\n",
    "\n",
    "def get_all_values(d, key):\n",
    "    return set(dd[key] for dd in d.maps if key in dd)\n",
    "\n",
    "chainmap = ChainMap({'name': 'Arthur'}, {'name': 'Timur'})\n",
    "reslt = get_all_values(chainmap, 'name')\n",
    "print(*sorted(reslt))\n",
    "\n",
    "chainmap = ChainMap({'name': 'Arthur'}, {'name': 'Timur'})\n",
    "reslt = get_all_values(chainmap, 'age')\n",
    "\n",
    "print(reslt)"
   ]
  },
  {
   "cell_type": "code",
   "execution_count": null,
   "metadata": {},
   "outputs": [],
   "source": [
    "from collections import ChainMap\n",
    "\n",
    "def deep_update(chainmap, key, value):\n",
    "    if key in chainmap:\n",
    "        for dd in chainmap.maps:\n",
    "            if key in dd:\n",
    "                dd[key] = value\n",
    "    else:\n",
    "        chainmap.maps[0][key] = value\n",
    "        \n",
    "\n",
    "chainmap = ChainMap({'city': 'Moscow'}, {'name': 'Arthur'}, {'name': 'Timur'})\n",
    "deep_update(chainmap, 'name', 'Dima')\n",
    "\n",
    "print(chainmap)\n",
    "\n",
    "chainmap = ChainMap({'name': 'Arthur'}, {'name': 'Timur'})\n",
    "deep_update(chainmap, 'age', 20)\n",
    "\n",
    "print(chainmap)"
   ]
  },
  {
   "cell_type": "code",
   "execution_count": null,
   "metadata": {},
   "outputs": [],
   "source": [
    "from collections import ChainMap\n",
    "\n",
    "def get_value(chainmap, key, from_left=True):\n",
    "    if not from_left:\n",
    "        chainmap = chainmap.maps[::-1]\n",
    "    else:\n",
    "        chainmap = chainmap.maps\n",
    "    for dd in chainmap:\n",
    "        if key in dd:\n",
    "            return dd[key]\n",
    "    return None\n",
    "\n",
    "chainmap = ChainMap({'name': 'Arthur'}, {'name': 'Timur'})\n",
    "\n",
    "print(get_value(chainmap, 'name'))\n",
    "\n",
    "chainmap = ChainMap({'name': 'Arthur'}, {'name': 'Timur'})\n",
    "\n",
    "print(get_value(chainmap, 'name', False))"
   ]
  },
  {
   "cell_type": "code",
   "execution_count": null,
   "metadata": {},
   "outputs": [],
   "source": [
    "a = int(input())\n",
    "b = int(input())\n",
    "numbers = []\n",
    "\n",
    "for i in range(a, b + 1):\n",
    "    if i // 7 == 0:\n",
    "        numbers.append(i)\n",
    "\n",
    "print(numbers)"
   ]
  },
  {
   "cell_type": "code",
   "execution_count": null,
   "metadata": {},
   "outputs": [],
   "source": [
    "print(list(filter(int, ['1', '2'])))"
   ]
  },
  {
   "cell_type": "code",
   "execution_count": null,
   "metadata": {},
   "outputs": [],
   "source": [
    "import calendar\n",
    "\n",
    "try:\n",
    "    inp = int(input())\n",
    "    if inp <= 0:\n",
    "        raise IndexError\n",
    "    print (calendar.month_name[inp])\n",
    "except IndexError:\n",
    "    print('Введено число из недопустимого диапазона')\n",
    "except ValueError:\n",
    "    print('Введено некорректное значение')"
   ]
  },
  {
   "cell_type": "code",
   "execution_count": null,
   "metadata": {},
   "outputs": [],
   "source": [
    "def add_to_list_in_dict(data, key, element):\n",
    "    try:\n",
    "        data[key].append(element)\n",
    "    except KeyError:\n",
    "        data[key] = [element]\n",
    "\n",
    "nested_dicts = {'a': [1, 2, 3], 'b': [4, 5, 6]}\n",
    "add_to_list_in_dict(nested_dicts, 'b', 7)\n",
    "\n",
    "print(nested_dicts)"
   ]
  },
  {
   "cell_type": "code",
   "execution_count": null,
   "metadata": {},
   "outputs": [],
   "source": [
    "try:\n",
    "    pattern = open('file.txt', 'r')\n",
    "    print(pattern.read())\n",
    "except FileNotFoundError:\n",
    "    print('Файл не найден')"
   ]
  },
  {
   "cell_type": "code",
   "execution_count": null,
   "metadata": {},
   "outputs": [],
   "source": [
    "def get_weekday(number):\n",
    "    week = { 1: \"Понедельник\", 2: \"Вторник\", 3: \"Среда\", 4: \"Четверг\", 5: \"Пятница\", 6: \"Суббота\", 7: \"Воскресенье\", }\n",
    "    if not isinstance(number, int):\n",
    "        raise TypeError('Аргумент не является целым числом')\n",
    "    elif number not in range(1, 8):\n",
    "        raise  ValueError('Аргумент не принадлежит требуемому диапазону')\n",
    "    return week[number]\n",
    "        \n",
    "        \n",
    "get_weekday(3)"
   ]
  },
  {
   "cell_type": "code",
   "execution_count": null,
   "metadata": {},
   "outputs": [],
   "source": [
    "def get_id(names, name):\n",
    "    if type(name) == str and name.isalpha() and name.istitle():\n",
    "        # if name in names:\n",
    "        #     return names.index(name) + 1\n",
    "        # else:\n",
    "        names.append(name)\n",
    "        return len(names)\n",
    "    elif type(name) != str:\n",
    "        return TypeError('Имя не является строкой')\n",
    "    else:\n",
    "        return ValueError('Имя не является корректным')\n",
    "\n",
    "names = ['Timur', 'Anri', 'Dima', 'Roma', 'Gvido', 'Rosy', 'Soslan', 'Natasha', 'Arthur']\n",
    "name = 'Arthur'\n",
    "print(get_id(names = names, name = name))"
   ]
  },
  {
   "cell_type": "code",
   "execution_count": null,
   "metadata": {},
   "outputs": [],
   "source": [
    "import json\n",
    "from json import JSONDecodeError\n",
    "\n",
    "try:\n",
    "    inp = input('')\n",
    "    j = json.loads(open(inp, 'r').read())\n",
    "    print(j)\n",
    "except JSONDecodeError:\n",
    "    print('Ошибка при десериализации')\n",
    "except OSError:\n",
    "    print('Файл не найден')"
   ]
  },
  {
   "cell_type": "code",
   "execution_count": null,
   "metadata": {},
   "outputs": [],
   "source": [
    "def is_good_password(password):\n",
    "    good_password = True\n",
    "    if not any(i.isdigit() for i in password):\n",
    "        good_password = False\n",
    "    if password.lower() == password or password.upper() == password:\n",
    "        good_password = False\n",
    "    if len(password) < 9:\n",
    "        good_password = False\n",
    "    return good_password\n",
    "    \n",
    "print(is_good_password('41157082'))\n",
    "print(is_good_password('мойпарольсамыйлучший'))\n",
    "print(is_good_password('МойПарольСамыйЛучший111'))\n"
   ]
  },
  {
   "cell_type": "code",
   "execution_count": null,
   "metadata": {},
   "outputs": [],
   "source": [
    "def is_good_password(string):\n",
    "    if len(string) < 9:\n",
    "        return LengthError\n",
    "    if string.lower() == string or string.upper() == string:\n",
    "        return LetterError\n",
    "    if not any(i.isdigit() for i in string):\n",
    "        return DigitError\n",
    "    return good_password\n",
    "    \n",
    "print(is_good_password('41157082'))\n",
    "print(is_good_password('мойпарольсамыйлучший'))\n",
    "print(is_good_password('МойПарольСамыйЛучший111'))\n"
   ]
  },
  {
   "cell_type": "code",
   "execution_count": null,
   "metadata": {},
   "outputs": [],
   "source": [
    "from sys import stdin\n",
    "l = \"\"\"line1\n",
    "line2\"\"\"\n",
    "l.splitlines()"
   ]
  },
  {
   "cell_type": "code",
   "execution_count": null,
   "metadata": {},
   "outputs": [],
   "source": [
    "def traffic(n):\n",
    "    def tr(num):\n",
    "        while num < n:\n",
    "            print('Не парковаться')\n",
    "            tr(num + 1)\n",
    "            return\n",
    "    tr(0)\n",
    "        \n",
    "\n",
    "traffic(3)"
   ]
  },
  {
   "cell_type": "code",
   "execution_count": null,
   "metadata": {},
   "outputs": [],
   "source": [
    "def rec(n):\n",
    "    while n <= 100:\n",
    "        print(n)\n",
    "        rec(n + 1)\n",
    "        return\n",
    "rec(1)"
   ]
  },
  {
   "cell_type": "code",
   "execution_count": null,
   "metadata": {},
   "outputs": [],
   "source": [
    "numbers = [243, -279, 395, 130, 89, 269, 861, 669, 939, 367, -46, 710, 841, -280, -244, 274, -132, 273, 418, 432, -341, 437, 360, 960, 195, 792, 106, 461, -35, 980, -80, 540, -358, 69, -26, -416, 597, 96, 533, 232, 755, 894, 331, 323, -383, -386, 231, 436, 553, 967, 166, -151, 772, 434, 325, 301, 275, 431, 556, 728, 558, 702, 463, 127, 984, 212, 876, -287, -16, -177, 577, 604, 116, 500, 653, 669, 916, 802, 817, 762, -210, -353, 144, -351, 777, 805, 692, 22, -303, 249, 190, 411, 236, -274, 174, 380, 71, 124, -85, 430]\n",
    "\n",
    "def shows(nums):\n",
    "    def show_2(start, nums):\n",
    "        if start < len(nums):\n",
    "            print(f'Элемент {start}: {nums[start]}')\n",
    "            show_2(start + 1, nums)\n",
    "    start = 0\n",
    "    show_2(start, nums)\n",
    "\n",
    "shows(numbers)"
   ]
  },
  {
   "cell_type": "code",
   "execution_count": null,
   "metadata": {},
   "outputs": [],
   "source": [
    "def triangle(num):\n",
    "    def shows(start, num):\n",
    "        if start < num:\n",
    "            print('*' * (num - start))\n",
    "            shows(start + 1, num)\n",
    "    start = 0\n",
    "    shows(start, num)\n",
    "    \n",
    "triangle(5)"
   ]
  },
  {
   "cell_type": "code",
   "execution_count": null,
   "metadata": {},
   "outputs": [],
   "source": [
    "def triangle(num):\n",
    "    def shows(start, num):\n",
    "        if start <= num:\n",
    "            print('*' * start)\n",
    "            shows(start + 1, num)\n",
    "    start = 1\n",
    "    shows(start, num)\n",
    "    \n",
    "triangle(5)"
   ]
  },
  {
   "cell_type": "code",
   "execution_count": null,
   "metadata": {},
   "outputs": [],
   "source": [
    "# 11_2\n",
    "def hours():\n",
    "    def hh(start, end, width):\n",
    "        if start > end / 2:\n",
    "            p_text = end - start\n",
    "        elif start <= end / 2:\n",
    "            p_text = start\n",
    "        p_text = str(p_text) * (16 - (p_text - 1) * 4)\n",
    "        if start < end:\n",
    "            print(p_text.center(width))\n",
    "            hh(start + 1, end, width)\n",
    "            \n",
    "    start = 1\n",
    "    end = 8\n",
    "    width = 16\n",
    "    hh(start, end, width)\n",
    "\n",
    "hours()\n",
    "# print('16'.center(16))"
   ]
  },
  {
   "cell_type": "code",
   "execution_count": null,
   "metadata": {},
   "outputs": [],
   "source": [
    "# 12_2\n",
    "def print_digits(number):\n",
    "    def rp(start):\n",
    "        print(str(number)[start])\n",
    "        if start > 0:\n",
    "            rp(start - 1)\n",
    "    if number:\n",
    "        start = len(str(number)) - 1\n",
    "        rp(start)\n",
    "    \n",
    "print_digits(123)\n",
    "print_digits('')"
   ]
  },
  {
   "cell_type": "code",
   "execution_count": null,
   "metadata": {},
   "outputs": [],
   "source": [
    "# 13_2\n",
    "def print_digits(number):\n",
    "    def rp(start):\n",
    "        if start < len(str(number)):\n",
    "            print(str(number)[start])\n",
    "            rp(start + 1)\n",
    "    if number:\n",
    "        start = 0\n",
    "        rp(start)\n",
    "    \n",
    "print_digits(123)\n",
    "print_digits('')"
   ]
  },
  {
   "cell_type": "code",
   "execution_count": null,
   "metadata": {},
   "outputs": [],
   "source": [
    "def fib(n):\n",
    "    if n <= 2:\n",
    "        return 1\n",
    "    else:\n",
    "        return fib(n - 1) + fib(n - 2)\n",
    "    \n",
    "print(fib(5))"
   ]
  },
  {
   "cell_type": "code",
   "execution_count": null,
   "metadata": {},
   "outputs": [],
   "source": [
    "cache = {1: 1, 2: 1}\n",
    "\n",
    "def fib(n):\n",
    "    result = cache.get(n)\n",
    "    if result is None:\n",
    "        result = fib(n - 1) + fib(n - 2)\n",
    "        cache[n] = result\n",
    "    return result\n",
    "    \n",
    "print(fib(10000))"
   ]
  },
  {
   "cell_type": "code",
   "execution_count": null,
   "metadata": {},
   "outputs": [],
   "source": [
    "# 6_3\n",
    "def foo(num):\n",
    "    def rec(start, num):\n",
    "        if num == 0:\n",
    "            return 0\n",
    "        else:\n",
    "            num = int(num / 10)\n",
    "            return 1 + rec(start, num)\n",
    "    start = 0\n",
    "    print(rec(start, num))\n",
    "    \n",
    "    \n",
    "foo(555)"
   ]
  },
  {
   "cell_type": "code",
   "execution_count": null,
   "metadata": {},
   "outputs": [],
   "source": [
    "# 7_3\n",
    "def foo(num):\n",
    "    num = list(map(int, list(str(num))))\n",
    "    def rec(start, num):\n",
    "        if start < len(num):\n",
    "            return num[start] + rec(start+1, num)\n",
    "        return 0\n",
    "    start = 0\n",
    "    return rec(start, num)\n",
    "    \n",
    "    \n",
    "foo(3555)"
   ]
  },
  {
   "cell_type": "code",
   "execution_count": null,
   "metadata": {},
   "outputs": [],
   "source": [
    "#8_3\n",
    "def number_of_frogs(year):\n",
    "    def rec(year):\n",
    "        if year == 1:\n",
    "            return 77\n",
    "        elif year > 0:\n",
    "            return 3 * (rec(year-1) - 30)\n",
    "        \n",
    "    return rec(year)\n",
    "    \n",
    "number_of_frogs(10)"
   ]
  },
  {
   "cell_type": "code",
   "execution_count": null,
   "metadata": {},
   "outputs": [],
   "source": [
    "# 9_3\n",
    "def range_sum(numbers, start, end):\n",
    "    def rec(n):\n",
    "        if start + n == end:\n",
    "            return numbers[n]\n",
    "        else:\n",
    "            return numbers[n] + rec(n+1)\n",
    "    n = 0\n",
    "    return rec(n)\n",
    "\n",
    "range_sum([1, 2, 3, 4, 5], 1, 3)"
   ]
  },
  {
   "cell_type": "code",
   "execution_count": null,
   "metadata": {},
   "outputs": [],
   "source": [
    "# 10_3\n",
    "def get_pow(a, n):\n",
    "    def rec(start):\n",
    "        if start == n:\n",
    "            return a\n",
    "        else:\n",
    "            return a * rec(start + 1)\n",
    "    start = 1\n",
    "    return rec(start)\n",
    "\n",
    "get_pow(3, 2)"
   ]
  },
  {
   "cell_type": "code",
   "execution_count": null,
   "metadata": {},
   "outputs": [],
   "source": [
    "def get_fast_pow(a, n):\n",
    "    def rec(start):\n",
    "        if start < n:\n",
    "            if start % 2 == 1:\n",
    "                return a * rec(start + 1)\n",
    "            else:\n",
    "                return \n",
    "    \n",
    "    start = 1\n",
    "    rec()"
   ]
  },
  {
   "cell_type": "code",
   "execution_count": null,
   "metadata": {},
   "outputs": [],
   "source": [
    "#12_3\n",
    "def recursive_sum(a, b):\n",
    "    if b == 0:\n",
    "        return a\n",
    "    else:\n",
    "        return recursive_sum(a+1, b-1)\n",
    "        \n",
    "recursive_sum(13,10)"
   ]
  },
  {
   "cell_type": "code",
   "execution_count": null,
   "metadata": {},
   "outputs": [],
   "source": [
    "#13_3\n",
    "def is_power(number):\n",
    "    if number == 1:\n",
    "        return True\n",
    "    elif number > 1:\n",
    "        return is_power(number / 2)\n",
    "    else:\n",
    "        return False\n",
    "    \n",
    "is_power(258)"
   ]
  },
  {
   "cell_type": "code",
   "execution_count": null,
   "metadata": {},
   "outputs": [],
   "source": [
    "# 14_3\n",
    "cache = {1: 1, 2: 1, 3: 1}\n",
    "\n",
    "def fib(n):\n",
    "    result = cache.get(n)\n",
    "    if result is None:\n",
    "        result = fib(n - 1) + fib(n - 2) + fib(n - 3)\n",
    "        cache[n] = result\n",
    "    return result\n",
    "    \n",
    "print(fib(1000))"
   ]
  },
  {
   "cell_type": "code",
   "execution_count": null,
   "metadata": {},
   "outputs": [],
   "source": [
    "# 15_3\n",
    "def is_palindrome(string):\n",
    "    if len(string) <= 1:\n",
    "        return True\n",
    "    else:\n",
    "        return string[0] == string[-1] and is_palindrome(string[1:-1])\n",
    "        \n",
    "\n",
    "is_palindrome('levels')"
   ]
  },
  {
   "cell_type": "code",
   "execution_count": null,
   "metadata": {},
   "outputs": [],
   "source": [
    "def to_binary(number):\n",
    "    if number <= 1:\n",
    "        return number\n",
    "    else:\n",
    "        return f'{to_binary(number // 2)}{to_binary(number % 2)}'\n",
    "    \n",
    "to_binary(1024)"
   ]
  },
  {
   "cell_type": "code",
   "execution_count": null,
   "metadata": {},
   "outputs": [],
   "source": [
    "number = 16\n",
    "\n",
    "def rr_lin(number):\n",
    "    def rec(start, reverse):\n",
    "        if start <= 0:\n",
    "            print(start)\n",
    "            reverse = -5\n",
    "            rec(start - reverse, reverse)\n",
    "        elif start <= number:\n",
    "            print(start)\n",
    "            rec(start - reverse, reverse)\n",
    "    start = number\n",
    "    reverse = 5\n",
    "    rec(start, reverse)\n",
    "            \n",
    "rr_lin(number)"
   ]
  },
  {
   "cell_type": "code",
   "execution_count": null,
   "metadata": {},
   "outputs": [],
   "source": [
    "# 4_4\n",
    "\n",
    "def recursive_sum(nested_lists):\n",
    "    reslt = 0\n",
    "    if not nested_lists:\n",
    "        return 0\n",
    "    elif type(nested_lists) == int:\n",
    "        return nested_lists\n",
    "    elif type(nested_lists) == list:\n",
    "        for i in nested_lists:\n",
    "            reslt += recursive_sum(i)\n",
    "        return reslt\n",
    "\n",
    "\n",
    "my_list = [1, [4, 4], 2, [1, [2, 10]]]\n",
    "recursive_sum(my_list)"
   ]
  },
  {
   "cell_type": "code",
   "execution_count": null,
   "metadata": {},
   "outputs": [],
   "source": [
    "# 5_4\n",
    "\n",
    "def rr_lin(nested_lists):\n",
    "    reslt = []\n",
    "    if type(nested_lists) == int:\n",
    "        return [nested_lists]\n",
    "    elif type(nested_lists) == list:\n",
    "        for i in nested_lists:\n",
    "            reslt = reslt + rr_lin(i)\n",
    "        return reslt\n",
    "\n",
    "\n",
    "my_list = [3, [4], [5, [6, [7, 8]]]]\n",
    "print(rr_lin(my_list))"
   ]
  },
  {
   "cell_type": "code",
   "execution_count": null,
   "metadata": {},
   "outputs": [],
   "source": [
    "# 6_4\n",
    "def get_value(nested_dicts, key):\n",
    "    reslt = None\n",
    "    if key in nested_dicts:\n",
    "        return nested_dicts.get(key)\n",
    "    elif type(nested_dicts) == dict:\n",
    "        for k in nested_dicts:\n",
    "            if type(nested_dicts[k]) == dict:\n",
    "                reslt = get_value(nested_dicts[k], key)\n",
    "            if reslt:\n",
    "                return reslt\n",
    "\n",
    "\n",
    "data = {'firstName': 'Тимур',\n",
    "        'lastName': 'Гуев',\n",
    "        'birthDate': {'day': 10, 'month': 'October', 'year': 1993},\n",
    "        'address': {'streetAddress': 'Часовая 25, кв. 127', \n",
    "                    'city': {'region': 'Московская область', 'type': 'город', 'cityName': 'Москва'},\n",
    "                    'postalCode': '125315'\n",
    "                }\n",
    "    }\n",
    "print(get_value(data, 'cityName'))"
   ]
  },
  {
   "cell_type": "code",
   "execution_count": null,
   "metadata": {},
   "outputs": [],
   "source": [
    "# 7_4\n",
    "def get_all_values(data, key):\n",
    "    reslt = []\n",
    "    def rr(data, key):\n",
    "        for k, v in data.items():\n",
    "            if k == key:\n",
    "                reslt.append(data[key])\n",
    "            if isinstance(v, dict):\n",
    "                rr(v, key)\n",
    "                \n",
    "    rr(data, key)\n",
    "    return set(reslt)\n",
    "\n",
    "my_dict = {'users': {'Arthur': {'grades': [4, 4, 3], 'top_grade': 4}, 'Timur': {'grades': [5, 5, 5], 'top_grade': 5}}}\n",
    "reslt = get_all_values(my_dict, 'top_grade')\n",
    "\n",
    "print(*sorted(reslt))\n",
    "print(type(reslt))\n",
    "\n",
    "my_dict = {'Arthur': {'hobby': 'videogames', 'drink': 'cacao'}, 'Timur': {'hobby': 'math'}}\n",
    "reslt = get_all_values(my_dict, 'hobby')\n",
    "\n",
    "print(*sorted(reslt))"
   ]
  },
  {
   "cell_type": "code",
   "execution_count": null,
   "metadata": {},
   "outputs": [],
   "source": [
    "# 8_4\n",
    "def dict_travel(nested_dicts):\n",
    "    reslt_dict = dict()\n",
    "    \n",
    "    def rr_dict(nested_dicts, key=None):\n",
    "        if type(nested_dicts) != dict:\n",
    "            reslt_dict[key] = nested_dicts\n",
    "        else:\n",
    "            for k in nested_dicts:\n",
    "                kk = '.'.join([i for i in [key, k] if i])\n",
    "                rr_dict(nested_dicts[k], kk)\n",
    "    \n",
    "    rr_dict(nested_dicts)\n",
    "    for key, val in sorted(reslt_dict.items()):\n",
    "        print(f'{key}: {val}')\n",
    "\n",
    "\n",
    "data = {\n",
    "    'a': 1,\n",
    "    'b': {\n",
    "        'c': 30,\n",
    "        'a': 10,\n",
    "        'b': 20\n",
    "    }\n",
    "}\n",
    "dict_travel(data)\n",
    "print()\n",
    "data = {'b': {'c': 30, 'a': 10, 'b': {'d': 40, 'e': 50}}}\n",
    "dict_travel(data)"
   ]
  },
  {
   "cell_type": "code",
   "execution_count": null,
   "metadata": {},
   "outputs": [],
   "source": [
    "'s='.__hash__()"
   ]
  },
  {
   "cell_type": "code",
   "execution_count": null,
   "metadata": {},
   "outputs": [],
   "source": [
    "# 9_2\n",
    "def hash_as_key(objects):\n",
    "    reslt = dict()\n",
    "    for key in objects:\n",
    "        hash = key.__hash__()\n",
    "        if type(reslt.get(hash)) == list:\n",
    "            reslt[hash].append(key)\n",
    "        elif reslt.get(hash):\n",
    "            reslt[hash] = [reslt[hash], key]\n",
    "        else:\n",
    "            reslt[hash] = key\n",
    "    return reslt\n",
    "\n",
    "data = [1, 2, 3, 4, 5, 5]\n",
    "print(hash_as_key(data))\n",
    "data = [-1, -2, -3, -4, -5]\n",
    "print(hash_as_key(data))"
   ]
  },
  {
   "cell_type": "code",
   "execution_count": null,
   "metadata": {},
   "outputs": [],
   "source": [
    "for i in range(ord('a'), ord('z') + 1):\n",
    "    print(chr(i))"
   ]
  },
  {
   "cell_type": "code",
   "execution_count": null,
   "metadata": {},
   "outputs": [],
   "source": [
    "def convert(number):\n",
    "    return tuple(i.upper().replace('0B', '').replace('0O', '').replace('0X', '') for i in (bin(number), oct(number), hex(number)))\n",
    "\n",
    "print(convert(-24))"
   ]
  },
  {
   "cell_type": "code",
   "execution_count": null,
   "metadata": {},
   "outputs": [],
   "source": [
    "films = {'Spider-Man: No Way Home': {'imdb': 8.8, 'kinopoisk': 8.3},\n",
    "         'Don\"t Look Up': {'imdb': 7.3, 'kinopoisk': 7.6},\n",
    "         'Encanto': {'imdb': 7.3, 'kinopoisk': 7.4},\n",
    "         'The Witcher': {'imdb': 8.2, 'kinopoisk': 7.3},\n",
    "         'Ghostbusters: Afterlife': {'imdb': 7.3, 'kinopoisk': 8},\n",
    "         'Harry Potter 20th Anniversary: Return to Hogwarts': {'imdb': 8.1, 'kinopoisk': 8.2},\n",
    "         'Shingeki no Kyojin': {'imdb': 9.0, 'kinopoisk': 8.3},\n",
    "         'The Matrix': {'imdb': 8.7, 'kinopoisk': 8.5},\n",
    "         'The Dark Knight': {'imdb': 9.0, 'kinopoisk': 8.5},\n",
    "         'The Shawshank Redemption': {'imdb': 9.3, 'kinopoisk': 9.1},\n",
    "         'Avengers: Endgame': {'imdb': 8.4, 'kinopoisk': 7.7}}\n",
    "\n",
    "# print (sorted([(k, sum(v.values()) / len(v)) for k, v in films.items()], key=lambda x: x[1])[0][0])\n",
    "print(min(films, key=lambda x: sum(films[x].values())))\n",
    "# print(f)"
   ]
  },
  {
   "cell_type": "code",
   "execution_count": null,
   "metadata": {},
   "outputs": [],
   "source": [
    "def non_negative_even(numbers):\n",
    "    return all([i >= 0 and (i + 1) % 2 for i in numbers])\n",
    "\n",
    "non_negative_even([2, 4, 6, 78])"
   ]
  },
  {
   "cell_type": "code",
   "execution_count": null,
   "metadata": {},
   "outputs": [],
   "source": [
    "def is_greater(lists, number):\n",
    "    return any(sum(i) > number for i in lists)\n",
    "\n",
    "data = [[-3, 4, 0, 1], [1, 1, -4], [0, 0], [9, 3]]\n",
    "\n",
    "print(is_greater(data, 10))"
   ]
  },
  {
   "cell_type": "code",
   "execution_count": null,
   "metadata": {},
   "outputs": [],
   "source": [
    "def custom_isinstance(objects, typeinfo):\n",
    "    return sum(isinstance(o, typeinfo) for o in objects)\n",
    "    \n",
    "    \n",
    "numbers = [1, 'two', 3.0, 'четыре', 5, 6.0]\n",
    "print(custom_isinstance(numbers, (int, str)))"
   ]
  },
  {
   "cell_type": "code",
   "execution_count": null,
   "metadata": {},
   "outputs": [],
   "source": [
    "numbers = [-7724, 5023, 3197, -102, -4129, -880, 5857, -2866, -8913, 1195, 9809, 5347, -8071, 903, 3030, -4347, -3354, 1024, 8670, 4210, -5228, 8900, 4823, -2002, 4900, 9520, -3658, 1104, -9554, 3064, 9632, -8701, 3384, 4370, 2034, 7822, -9694, 3347, 7440, -8459, 3238, -5193, -3381, 5281, 9022, 5559, 7593, -6540, -6204, -2483, 8729, 5810, -8254, -9846, -1801, 4882, 3838, -3140, 7609, -3325, 6026, 2994, -1677, 1266, -1893, -4408, -5722, -2841, 9812, 5837, -7474, 4624, -664, 6998, 7888, -971, 8810, 3812, -5396, 2593, 512, -4634, 9735, -3062, 9031, -9300, 3657, 6332, 7552, 8125, -725, 4392, 1727, 8194, -2828, -4314, -8967, -7912, -1363, -5957]\n",
    "\n",
    "print(numbers.index(max(numbers)))"
   ]
  },
  {
   "cell_type": "code",
   "execution_count": null,
   "metadata": {},
   "outputs": [],
   "source": [
    "def my_pow(number):\n",
    "    return sum(int(v) ** (k + 1) for k, v in enumerate(str(number)))\n",
    "\n",
    "print(my_pow(139))"
   ]
  },
  {
   "cell_type": "code",
   "execution_count": null,
   "metadata": {},
   "outputs": [],
   "source": [
    "names = ['Moana', 'Cars', 'Zootopia', 'Ratatouille', 'Coco', 'Inside Out', 'Finding Nemo', 'Frozen']\n",
    "budgets = [150000000, 120000000, 150000000, 150000000, 180000000, 175000000, 94000000, 150000000]\n",
    "box_offices = [643331111, 462216280, 1023784195, 620702951, 807082196, 857611174, 940335536, 1280802282]\n",
    "\n",
    "print ('\\n'.join(f'{f[0]}: {f[2] - f[1]}$' for f in sorted(set(zip(names, budgets, box_offices)))))"
   ]
  },
  {
   "cell_type": "code",
   "execution_count": null,
   "metadata": {},
   "outputs": [],
   "source": [
    "def zip_longest(*args, fill=None):\n",
    "    maxx = max(len(i) for i in args)\n",
    "    for i in args:\n",
    "        while len(i) < maxx:\n",
    "            i.append(fill)\n",
    "    return list(zip(*args))\n",
    "    \n",
    "def zip_longest(*args, fill=None):\n",
    "    maxx = max(map(len, args))\n",
    "    reslt = [i + [fill] * (maxx - len(i)) for i in args]\n",
    "    return list(zip(*reslt))\n",
    "\n",
    "print(zip_longest([1, 2, 3, 4, 5], ['a', 'b', 'c'], fill='_'))\n",
    "ord('s')"
   ]
  },
  {
   "cell_type": "code",
   "execution_count": null,
   "metadata": {},
   "outputs": [],
   "source": [
    "line = 'ginortS1324'\n",
    "ls, us, en, on = [], [], [], []\n",
    "for sym in sorted(line):\n",
    "    if sym.isdigit():\n",
    "        if int(sym) % 2:\n",
    "            on.append(sym)\n",
    "        else:\n",
    "            en.append(sym)\n",
    "    elif sym.islower():\n",
    "        ls.append(sym)\n",
    "    elif sym.isupper():\n",
    "        us.append(sym)\n",
    "    \n",
    "\n",
    "print(''.join([i for i in ls + us + on + en]))"
   ]
  },
  {
   "cell_type": "code",
   "execution_count": null,
   "metadata": {},
   "outputs": [],
   "source": [
    "code = 'print(100 + 10 + 1)'\n",
    "\n",
    "print(exec(code))"
   ]
  },
  {
   "cell_type": "code",
   "execution_count": null,
   "metadata": {},
   "outputs": [],
   "source": [
    "expression1 = \"print('Привет из функции eval()')\"\n",
    "expression2 = \"len([1, 1, 1, 1, 1])\"\n",
    "\n",
    "result1 = eval(expression1)\n",
    "# result2 = eval(expression2)\n",
    "\n",
    "print(result1)\n",
    "# print(result2)\n",
    "eval(\"print('Привет из функции eval()')\")"
   ]
  },
  {
   "cell_type": "code",
   "execution_count": null,
   "metadata": {},
   "outputs": [],
   "source": [
    "reslt = eval(input())\n",
    "if type(reslt) == list:\n",
    "    print(reslt[-1])\n",
    "elif type(reslt) == tuple:\n",
    "    print(reslt[0])\n",
    "elif type(reslt) == set:\n",
    "    print(len(reslt))"
   ]
  },
  {
   "cell_type": "code",
   "execution_count": null,
   "metadata": {},
   "outputs": [],
   "source": [
    "import sys\n",
    "\n",
    "values = '1e18 - 2e18 * 3'.splitlines()\n",
    "maxx = eval(values[0])\n",
    "for val in values:\n",
    "    maxx = max(eval(val), maxx)\n",
    "print(maxx)\n"
   ]
  },
  {
   "cell_type": "code",
   "execution_count": null,
   "metadata": {},
   "outputs": [],
   "source": [
    "import sys\n",
    "\n",
    "pattern, r = sys.stdin.read.splitlines()\n",
    "pattern, r = '''2*x**2 + 5*x + 7\n",
    "-1 5'''.splitlines()\n",
    "a, b = map(int, r.split())\n",
    "absciss = [eval(pattern) for x in range(a, b+1)]\n",
    "print(f'''Минимальное значение функции {pattern} на отрезке [{a}; {b}] равно {min(absciss)}\n",
    "Максимальное значение функции {pattern} на отрезке [{a}; {b}] равно {max(absciss)}''')"
   ]
  },
  {
   "cell_type": "code",
   "execution_count": null,
   "metadata": {},
   "outputs": [],
   "source": [
    "k = [1, 5, 2, 5, 7, 8, 90, 5, 3, -40, -30, -15]\n",
    "print(*filter(lambda x: not x % 2, k))\n",
    "print(sorted(k, key=abs))\n",
    "print(*map(lambda x: x ** 3, k))"
   ]
  },
  {
   "cell_type": "code",
   "execution_count": null,
   "metadata": {},
   "outputs": [],
   "source": [
    "# 13.9.3\n",
    "data = ['Timur', -16.648911695768902, 'six', -202, 883.0093275936454, -765, (3, 4), -105.10718000213546, 976, -308.96857946288094, 458, ['one', 'two'], 479.92207220345927, -87, -71, 'twelve', 112, -621, -715.0179551194733, 'seven', 229, 729, -358, [1, 2, 3], -974, 882, -894.4709033242768, '', 323.7720806756133, 'beegeek', -224, 431, 170.6353248658936, -343.0016746052049, 'number', 104.17133679352878, [], -353.5964777099863, 'zero', -113, 288, None, -708.3036176571618]\n",
    "\n",
    "# print(*filter(lambda x: type(x) in [int, float], data))\n",
    "print('\\n'.join(map(str, (map(int, filter(lambda x: type(x) in [int, float], data))))))"
   ]
  },
  {
   "cell_type": "code",
   "execution_count": null,
   "metadata": {},
   "outputs": [],
   "source": [
    "# 14.9.3\n",
    "numbers = [4754, -4895, -364, -4764, 4683, 1639, -43, 228, -2701, -1503, 1223, 4340, -1296, 3939, -345, 623, -3275, 1003, 4367, -1739, 550, -1217, -1334, 1526, -4359, -3028, -4663, 3356, 3887, 4297, -1982, 1013, 3299, 3556, -3324, 417, 3531, -3134, 1782, 4439, 1652, -985, 4327, 1517, 1225, -915, 2808, -3851, -1005, 3396, 2842, -3879, -3824, -3805, 1609, -4741, -3072, 3573, 4680, 588, -1430, 2378, -1095, -343, 4357, -2164, -3304, 4354, 4926, -352, -1187, -3313, 2741, 4786, -2689, 741, 4558, 1442, 62, -1099, -2201, -16, -3115, 1862, 2384, 4072, -90, 204, 1158, -3134, -2512, 756, 4148, 4370, 1756, 3609, -1148, -3909, 4123, -2906, 69, 96, 1111]\n",
    "\n",
    "print(sum(map(lambda x: x ** 2, filter(lambda x: (9 < x < 100 or -100 < x < -9) and not (x % 9), numbers))))\n",
    "# 96 % 9"
   ]
  },
  {
   "cell_type": "code",
   "execution_count": null,
   "metadata": {},
   "outputs": [],
   "source": [
    "names = [\n",
    "    'ульяна', 'арина', 'Дмитрий', 'Сергей', 'Яна', 'мила', 'Ольга', 'софья', 'семён',\n",
    "    'Никита', 'маргарита', 'Василиса', 'Кирилл', 'александр', 'александра', 'Иван',\n",
    "    'андрей', 'Родион', 'максим', 'алиса', 'Артём', 'софия', 'владимир', 'дамир', 'Валерий',\n",
    "    'степан', 'Алексей', 'Марк', 'олег', 'ирина', 'Милана', 'мия', 'денис', 'Фёдор', 'Елизавета',\n",
    "    'айлин', 'Варвара', 'валерия', 'Алёна', 'Николь', 'юлия', 'Ксения', 'пётр', 'георгий', 'Мария',\n",
    "    'глеб', 'илья', 'Захар', 'Дарья', 'Евгения', 'матвей', 'Серафим', 'екатерина', 'Тимофей', 'виктор',\n",
    "    'Егор', 'Ника', 'анна', 'даниил', 'тихон', 'вера', 'кира', 'Эмилия', 'Виктория', 'Игорь',\n",
    "    'полина', 'алина', 'Давид', 'анастасия', 'Вероника', 'ярослав', 'Руслан', 'татьяна', 'Демид',\n",
    "    'амелия', 'Элина', 'Арсен', 'евгений', 'мадина', 'дарина', 'Савелий', 'Платон', 'Аделина',\n",
    "    'диана', 'Айша', 'павел', 'Стефания', 'Тимур', 'Ева', 'Елисей', 'Артемий', 'григорий', 'Мирон',\n",
    "    'Мирослава', 'Мира', 'Марат', 'Лилия', 'роман', 'владислав', 'Леонид'\n",
    "]\n",
    "\n",
    "' '.join(sorted(filter(lambda x: len(x) > 4 and x[0] in ['А', 'М'], map(lambda x: x.capitalize(), names))))"
   ]
  },
  {
   "cell_type": "code",
   "execution_count": null,
   "metadata": {},
   "outputs": [],
   "source": [
    "# 17.9.3\n",
    "\n",
    "def print_operation_table(operation, rows, cols):\n",
    "    max_of = len(str(rows * cols))\n",
    "    for row in range(1, rows + 1):\n",
    "        for col in range(1, cols + 1):\n",
    "            print(str(operation(row, col)).ljust(max_of), end=' ')\n",
    "        print()\n",
    "\n",
    "print_operation_table(lambda a, b: a * b, 5, 5)"
   ]
  },
  {
   "cell_type": "code",
   "execution_count": null,
   "metadata": {},
   "outputs": [],
   "source": []
  },
  {
   "cell_type": "code",
   "execution_count": null,
   "metadata": {},
   "outputs": [],
   "source": [
    "# 18.9.3\n",
    "def verification(login, password, success, failure):\n",
    "    password = list(password)\n",
    "    text = ''\n",
    "    if not any(map(lambda x: 65 <= ord(x) <= 122, password)):\n",
    "        text = 'в пароле нет ни одной буквы'\n",
    "    elif not any(map(lambda x: x.istitle(), password)):\n",
    "        text = 'в пароле нет ни одной заглавной буквы'\n",
    "    elif not any(map(lambda x: 97 <= ord(x) <= 122, password)):\n",
    "        text = 'в пароле нет ни одной строчной буквы'\n",
    "    elif not any(map(lambda x: x.isdigit(), password)):\n",
    "        text = 'в пароле нет ни одной цифры'\n",
    "    else:\n",
    "        success(login)\n",
    "    if text:\n",
    "        failure(login, text)\n",
    "\n",
    "def success(login):\n",
    "    print(f'Здравствуйте, {login}!')\n",
    "\n",
    "\n",
    "def failure(login, text):\n",
    "    print(f'{login}, попробуйте снова. Текст ошибки: {text}')\n",
    "\n",
    "\n",
    "verification('Arthur_Davletov', 'мойпарольBEE123', success, failure)\n"
   ]
  },
  {
   "cell_type": "code",
   "execution_count": null,
   "metadata": {},
   "outputs": [],
   "source": [
    "def numbers_sum(elems):\n",
    "    '''Принимает список и возвращает сумму его чисел (int, float),\n",
    "игнорируя нечисловые объекты. 0 - если в списке чисел нет.'''\n",
    "    return sum([i for i in elems if type(i) in (float, int)])\n",
    "\n",
    "print(numbers_sum([]))"
   ]
  },
  {
   "cell_type": "code",
   "execution_count": null,
   "metadata": {},
   "outputs": [],
   "source": [
    "old_print = print\n",
    "def print(*args, **kwargs):\n",
    "    text = tuple(c.upper() if isinstance(c, str) else c for c in args)\n",
    "    if kwargs == dict():\n",
    "        old_print(*text)\n",
    "    else:\n",
    "        kwargs['sep'], kwargs['end'] = map(str.upper, kwargs.values())\n",
    "        old_print(*text, sep=kwargs['sep'], end=kwargs['end'])\n",
    "    \n",
    "print('beegeek', [1, 2, 3], 4)"
   ]
  },
  {
   "cell_type": "code",
   "execution_count": null,
   "metadata": {},
   "outputs": [],
   "source": []
  },
  {
   "cell_type": "code",
   "execution_count": null,
   "metadata": {},
   "outputs": [],
   "source": [
    "kwargs = {'sep': ' and ', 'end': ' wow'}\n",
    "kwargs['sep'], kwargs['end'] = map(str.upper, kwargs.values())\n",
    "print(kwargs)"
   ]
  },
  {
   "cell_type": "code",
   "execution_count": null,
   "metadata": {},
   "outputs": [],
   "source": [
    "def exception_decorator(func):\n",
    "    def wrapper(*args, **kwargs):\n",
    "        try:\n",
    "            value = func(*args, **kwargs)\n",
    "            return (value, 'Функция выполнилась без ошибок')\n",
    "        except:\n",
    "            return (None, 'При вызове функции произошла ошибка')\n",
    "    return wrapper\n",
    "\n",
    "@exception_decorator\n",
    "def pattern(x):\n",
    "    return x**2 + 2*x + 1\n",
    "    \n",
    "print(pattern(7))\n",
    "\n",
    "sum = exception_decorator(sum)\n",
    "\n",
    "print(sum(['199', '1', 187]))"
   ]
  },
  {
   "cell_type": "code",
   "execution_count": null,
   "metadata": {},
   "outputs": [],
   "source": [
    "len(list(filter(lambda x: x < 0, [-1, 1, 5, 7, 9])))"
   ]
  },
  {
   "cell_type": "code",
   "execution_count": null,
   "metadata": {},
   "outputs": [],
   "source": [
    "def takes_positive(func):\n",
    "    def wrapper(*args, **kwargs):\n",
    "        if len(list(filter(lambda x: type(x) != int, args))):\n",
    "            return TypeError\n",
    "        if len(list(filter(lambda x: x <= 0, args))):\n",
    "            return ValueError\n",
    "        return func(*args, **kwargs)\n",
    "        \n",
    "    return wrapper\n",
    "            \n",
    "@takes_positive\n",
    "def positive_sum(*args, **kwargs):\n",
    "    return sum(args) + sum(kwargs.values())\n",
    "    \n",
    "print(positive_sum(1, 2, 3, 4, 5, 6, 7, 8, 9, 10, par1=1, sep=4))\n",
    "        \n",
    "@takes_positive\n",
    "def positive_sum(*args):\n",
    "    return sum(args)\n",
    "    \n",
    "print(positive_sum(1, 2, 3, 4, 5, 6, 7, 8, 9, 10))\n",
    "        \n",
    "@takes_positive\n",
    "def positive_sum(*args):\n",
    "    return sum(args)\n",
    "    \n",
    "try:\n",
    "    print(positive_sum(-3, -2, -1, 0, 1, 2, 3))\n",
    "except Exception as err:\n",
    "    print(type(err))\n",
    "        \n",
    "# def xxx(*args, **kwargs):\n",
    "#     return kwargs, args\n",
    "\n",
    "# print(xxx(5, a=1, v=2, c=4))"
   ]
  },
  {
   "cell_type": "code",
   "execution_count": null,
   "metadata": {},
   "outputs": [],
   "source": [
    "def prefix(string, to_the_end=False):\n",
    "    def decorator(func):\n",
    "        def wrapper(*args, **kwargs):\n",
    "            if to_the_end:\n",
    "                return f'{string}{func(*args, **kwargs)}'\n",
    "            return f'{func(*args, **kwargs)}{string}'\n",
    "        return wrapper\n",
    "    return decorator\n",
    "\n",
    "@prefix('€')\n",
    "def get_bonus():\n",
    "    return '2000'\n",
    "    \n",
    "print(get_bonus())"
   ]
  },
  {
   "cell_type": "code",
   "execution_count": null,
   "metadata": {},
   "outputs": [],
   "source": [
    "#ПРИВЕТИКИ, СЕРЕЖКА\n",
    "from functools import wraps\n",
    "\n",
    "def ignore_exception(*args):\n",
    "    exts = args\n",
    "    def decorator(func):\n",
    "        @wraps(func)\n",
    "        def wrapper(*args, **kwargs):\n",
    "            for ext in exts:\n",
    "                try:\n",
    "                    return func(*args, **kwargs)\n",
    "                except ext as e:\n",
    "                    print(f'Исключение {e} обработано')\n",
    "        return wrapper\n",
    "    return decorator\n",
    "\n",
    "\n",
    "@ignore_exception(ZeroDivisionError, TypeError, ValueError)\n",
    "def pattern(x):\n",
    "    return 1 / x\n",
    "    \n",
    "pattern(0)"
   ]
  },
  {
   "cell_type": "code",
   "execution_count": null,
   "metadata": {},
   "outputs": [],
   "source": [
    "from functools import wraps\n",
    "# from base import Exception\n",
    "\n",
    "class MaxRetriesException(BaseException):\n",
    "    pass\n",
    "print(type(MaxRetriesException))\n",
    "\n",
    "def retry(times):\n",
    "    def decorator(func):\n",
    "        @wraps(func)\n",
    "        def wrapper(*args, **kwargs):\n",
    "            for _ in range(times):\n",
    "                try:\n",
    "                    return func(*args, **kwargs)\n",
    "                except:\n",
    "                    pass\n",
    "            return MaxRetriesException\n",
    "        return wrapper\n",
    "    return decorator\n",
    "\n",
    "@retry(3)\n",
    "def no_way():\n",
    "    raise ValueError\n",
    "   \n",
    "try:\n",
    "    no_way()\n",
    "except Exception as e:\n",
    "    print(type(e))"
   ]
  },
  {
   "cell_type": "code",
   "execution_count": null,
   "metadata": {},
   "outputs": [],
   "source": [
    "non_zero = filter(None, [-2, -1, 0, 1, 2])\n",
    "positive = map(abs, non_zero)\n",
    "\n",
    "print(list(non_zero))\n",
    "print(list(positive))"
   ]
  },
  {
   "cell_type": "code",
   "execution_count": null,
   "metadata": {},
   "outputs": [],
   "source": [
    "k = {1: 2, 3: 4}\n",
    "print(*k)"
   ]
  },
  {
   "cell_type": "code",
   "execution_count": null,
   "metadata": {},
   "outputs": [],
   "source": [
    "from functools import lru_cache\n",
    "\n",
    "@lru_cache()\n",
    "def ways(n):\n",
    "    # result = 0\n",
    "    def recurse(num):\n",
    "        if num <= 2:\n",
    "            return 1\n",
    "        elif num >= 3:\n",
    "            return recurse(num - 1) + num\n",
    "    return recurse(n)\n",
    "\n",
    "for i in range(1, 5):\n",
    "    print(i, ways(i))"
   ]
  },
  {
   "cell_type": "code",
   "execution_count": null,
   "metadata": {},
   "outputs": [],
   "source": [
    "def filterfalse(predicate, iterable):\n",
    "    if not predicate:\n",
    "        return(filter(lambda x: not x, iterable))\n",
    "    else:\n",
    "        return(filter(lambda x: not predicate(x), iterable))\n",
    "    \n",
    "\n",
    "objects = [0, 1, True, False, 17, []]\n",
    "print(*filterfalse(None, objects))\n",
    "\n",
    "numbers = (1, 2, 3, 4, 5)\n",
    "print(*filterfalse(lambda x: x % 2 == 0, numbers))\n",
    "\n",
    "numbers = [1, 2, 3, 4, 5]\n",
    "print(*filterfalse(lambda x: x >= 3, numbers))\n",
    "\n"
   ]
  },
  {
   "cell_type": "code",
   "execution_count": null,
   "metadata": {},
   "outputs": [],
   "source": [
    "def transpose(matrix):\n",
    "    result = []\n",
    "    \n",
    "    \n",
    "    \n",
    "matrix = [[1, 2, 3],\n",
    "          [4, 5, 6],\n",
    "          [7, 8, 9]]\n",
    "\n",
    "for row in transpose(matrix):\n",
    "    print(row)"
   ]
  },
  {
   "cell_type": "code",
   "execution_count": null,
   "metadata": {},
   "outputs": [],
   "source": [
    "matrix = [[1, 2, 3],\n",
    "          [4, 5, 6],\n",
    "          [7, 8, 9]]\n",
    "\n",
    "new_matrix = [list(i) for i in zip(*matrix)]\n",
    "\n",
    "print(matrix)\n",
    "print(new_matrix)"
   ]
  },
  {
   "cell_type": "code",
   "execution_count": null,
   "metadata": {},
   "outputs": [],
   "source": [
    "def get_min_max(data: list):\n",
    "    if data:\n",
    "        return (data.index(min(data)), data.index(max(data)))\n",
    "    return None\n",
    "\n",
    "data = [2, 3, 8, 1, 7]\n",
    "print(get_min_max(data))\n",
    "\n",
    "data = [9]\n",
    "print(get_min_max(data))\n",
    "\n",
    "print(get_min_max([]))"
   ]
  },
  {
   "cell_type": "code",
   "execution_count": null,
   "metadata": {},
   "outputs": [],
   "source": [
    "def starmap(func, iterable):\n",
    "    return map(func, iter(iterable))\n",
    "\n",
    "\n",
    "pairs = [(1, 3), (2, 5), (6, 4)]\n",
    "\n",
    "# print(*pairs)\n",
    "# print(*starmap(lambda a, b: a + b, pairs))\n",
    "\n",
    "for k in map(lambda a, b: a + b, zip(iter([(1,2), (3,4)]))):\n",
    "    print(k)"
   ]
  },
  {
   "cell_type": "code",
   "execution_count": null,
   "metadata": {},
   "outputs": [],
   "source": [
    "print(list(iter([(1,2), (3,4)])))"
   ]
  },
  {
   "cell_type": "code",
   "execution_count": null,
   "metadata": {},
   "outputs": [],
   "source": [
    "def same_parity(numbers):\n",
    "    return [i for i in numbers if i % 2 == numbers[0] % 2]\n",
    "\n",
    "print(same_parity([6, 0, 67, -7, 10, -20]))"
   ]
  },
  {
   "cell_type": "code",
   "execution_count": null,
   "metadata": {},
   "outputs": [],
   "source": [
    "def is_valid(string):\n",
    "    return all([i.isdigit() for i in string]) and 4 <= len(string) <= 6\n",
    "\n",
    "print(is_valid('89abc1'))\n",
    "print(is_valid('92134'))\n",
    "print(is_valid('49 83'))\n",
    "\n"
   ]
  },
  {
   "cell_type": "code",
   "execution_count": null,
   "metadata": {},
   "outputs": [],
   "source": [
    "def print_given(*args, **kwargs):\n",
    "    for i in args:\n",
    "        print(f'{i} {type(i)}')\n",
    "    for k, v in sorted(kwargs.items()):\n",
    "        print(f'{k} {v} {type(v)}')\n",
    "        \n",
    "        \n",
    "print_given(1, [1, 2, 3], 'three', two=2)"
   ]
  },
  {
   "cell_type": "code",
   "execution_count": null,
   "metadata": {},
   "outputs": [],
   "source": [
    "def convert(string):\n",
    "    # count()\n",
    "    if len([i for i in string if i.isupper()]) > len([i for i in string if i.islower()]):\n",
    "        return string.upper()\n",
    "    return string.lower()\n",
    "\n",
    "print(convert('BEEEssss325264'))"
   ]
  },
  {
   "cell_type": "code",
   "execution_count": null,
   "metadata": {},
   "outputs": [],
   "source": [
    "def filter_anagrams(word, words):\n",
    "    return [i for i in words if set(i) == set(word)]\n",
    "\n",
    "\n",
    "print(filter_anagrams('отсечка', ['сеточка', 'стоечка', 'тесачок', 'чесотка']))\n",
    "\n",
    "\n",
    "word = 'abba'\n",
    "anagrams = ['aabb', 'abcd', 'bbaa', 'dada']\n",
    "print(filter_anagrams(word, anagrams))\n"
   ]
  },
  {
   "cell_type": "code",
   "execution_count": null,
   "metadata": {},
   "outputs": [],
   "source": [
    "def likes(names):\n",
    "    if len(names) == 0:\n",
    "        return 'Никто не оценил данную запись'\n",
    "    elif len(names) == 1:\n",
    "        return f'{names[0]} оценил(а) данную запись'\n",
    "    elif len(names) == 2:\n",
    "        return f'{names[0]} и {names[1]} оценили данную запись'\n",
    "    elif len(names) == 3:\n",
    "        return f'{names[0]}, {names[1]} и {names[2]} оценили данную запись'\n",
    "    return f'{names[0]}, {names[1]} и {len(names) - 2} других оценили данную запись'\n",
    "\n",
    "print(likes([]))\n",
    "print(likes(['Тимур']))\n",
    "print(likes(['Тимур', 'Артур']))\n",
    "print(likes(['Тимур', 'Артур', 'Руслан']))\n",
    "print(likes(['Тимур', 'Артур', 'Руслан', 'Анри']))\n",
    "print(likes(['Тимур', 'Артур', 'Руслан', 'Анри', 'Дима']))\n",
    "print(likes(['Тимур', 'Артур', 'Руслан', 'Анри', 'Дима', 'Рома', 'Гвидо', 'Марк']))\n",
    "# print(['Тимур', 'Артур', 'Руслан'][:6])"
   ]
  },
  {
   "cell_type": "code",
   "execution_count": null,
   "metadata": {},
   "outputs": [],
   "source": [
    "def index_of_nearest(numbers, number):\n",
    "    if not numbers:\n",
    "        return 1\n",
    "    reslt = tuple(map(lambda x: abs(x - number), numbers))\n",
    "    return reslt.index(min(reslt))\n",
    "\n",
    "print(index_of_nearest([5, -3, 2, 5, 18], 3))"
   ]
  },
  {
   "cell_type": "code",
   "execution_count": null,
   "metadata": {},
   "outputs": [],
   "source": [
    "def spell(*args):\n",
    "    reslt = {k.lower()[0]: max(map(len, (filter(lambda x: x.lower()[0] == k.lower()[0], args)))) for k in args}\n",
    "    return reslt\n",
    "    \n",
    "words = ['Россия', 'Австрия', 'Австралия', 'РумыниЯ', 'Украина', 'КИТай', 'УЗБЕКИСТАН']\n",
    "print(spell(*words))\n",
    "print(spell('Математика', 'История', 'химия', 'биология', 'Информатика'))\n",
    "words = ['fruit', 'football', 'February', 'forest', 'Family']\n",
    "print(spell(*words))\n",
    "\n"
   ]
  },
  {
   "cell_type": "code",
   "execution_count": null,
   "metadata": {},
   "outputs": [],
   "source": [
    "from sys import stdin\n",
    "lin = \"\"\"6\n",
    "испанский, португальский, эсперанто, французский\n",
    "французский, испанский, эсперанто\n",
    "португальский, эсперанто, французский, испанский\n",
    "французский, английский, болгарский, испанский, эсперанто\n",
    "эсперанто, английский, русский, испанский, французский\n",
    "python, испанский, эсперанто, латышский, польский, французский\"\"\".splitlines()[1:]\n",
    "reslt = set(lin[0].split(', '))\n",
    "for line in lin:\n",
    "    reslt = reslt & set(line.split(', '))\n",
    "if len(reslt):\n",
    "    print(', '.join(sorted(reslt)))\n",
    "else:\n",
    "    print('Сериал снять не удастся')"
   ]
  },
  {
   "cell_type": "code",
   "execution_count": null,
   "metadata": {},
   "outputs": [],
   "source": [
    "from sys import stdin\n",
    "lin = [i for i in \"\"\"машина\n",
    "8\n",
    "сеть\n",
    "машинист\n",
    "дорога\n",
    "урок\n",
    "работа\n",
    "аксиома\n",
    "железо\n",
    "ветеран\"\"\".splitlines()]\n",
    "main_word = lin[0]\n",
    "other_words_firsts = lin[2:]\n",
    "other_words = other_words_firsts[:]\n",
    "reslt = set()\n",
    "a = ('а', 'у', 'о', 'ы', 'и', 'э', 'я', 'ю', 'ё', 'е')\n",
    "b = ('б', 'в', 'г', 'д', 'ж', 'з', 'й', 'к', 'л', 'м', 'н', 'п', 'р', 'с', 'т', 'ф', 'х', 'ц', 'ч', 'ш', 'щ', 'ь', 'ъ')\n",
    "for letters, repl_letter in (a, '1'), (b, '2'):\n",
    "    for letter in letters:\n",
    "        main_word = main_word.replace(letter, repl_letter).rstrip('2')\n",
    "        for i in range(len(other_words)):\n",
    "            other_words[i] = other_words[i].replace(letter, repl_letter)\n",
    "            other_words[i] = other_words[i].rstrip('2')\n",
    "            if main_word == other_words[i]:\n",
    "                reslt.add(i)\n",
    "for i in reslt:\n",
    "    print(other_words_firsts[i])"
   ]
  },
  {
   "cell_type": "code",
   "execution_count": null,
   "metadata": {},
   "outputs": [],
   "source": [
    "from sys import stdin\n",
    "got_mails = []\n",
    "new_names = []\n",
    "# n = int(input())\n",
    "# for _ in range(n):\n",
    "#     got_mails.append(input().split['@'][0])\n",
    "# n = int(input())\n",
    "# for _ in range(n):\n",
    "#     new_names.append(input())\n",
    "    \n",
    "for line in \"\"\"2\n",
    "anri-tabuev1@beegeek.bzz\n",
    "arthur-kharisov3@beegeek.bzz\n",
    "15\n",
    "anri-tabuev\n",
    "anri-tabuev\n",
    "arthur-kharisov\n",
    "arthur-kharisov\n",
    "arthur-kharisov\n",
    "arthur-kharisov\n",
    "arthur-kharisov\n",
    "arthur-kharisov\n",
    "arthur-kharisov\n",
    "arthur-kharisov\n",
    "arthur-kharisov\n",
    "arthur-kharisov\n",
    "arthur-kharisov\n",
    "arthur-kharisov\n",
    "arthur-kharisov\"\"\".splitlines():\n",
    "    if '@' in line:\n",
    "        got_mails.append(line[:line.find('@')])\n",
    "    if not any((line.isdigit(), '@' in line)):\n",
    "        number = 0\n",
    "        inserted = False\n",
    "        while not inserted:\n",
    "            if number == 0:\n",
    "                symbol = ''\n",
    "            else:\n",
    "                symbol = str(number)\n",
    "            new_mail = line + symbol\n",
    "            if new_mail not in got_mails:\n",
    "                got_mails.append(new_mail)\n",
    "                print(new_mail + '@beegeek.bzz')\n",
    "                inserted = True\n",
    "            else:\n",
    "                number += 1\n"
   ]
  },
  {
   "cell_type": "code",
   "execution_count": null,
   "metadata": {},
   "outputs": [],
   "source": [
    "got_mails = ['anri-tabuev1', 'arthur-kharisov3', 'anri-tabuev', 'anri-tabuev2', 'arthur-kharisov', 'arthur-kharisov1', 'arthur-kharisov2', 'arthur-kharisov4', 'arthur-kharisov5', 'arthur-kharisov6', 'arthur-kharisov7', 'arthur-kharisov8', 'arthur-kharisov9']\n",
    "'arthur-kharisov9' in got_mails"
   ]
  },
  {
   "cell_type": "code",
   "execution_count": null,
   "metadata": {},
   "outputs": [],
   "source": [
    "sizes = {'B': 1, 'KB': 1024, 'MB': 1048576, 'GB': 1073741824}\n",
    "size_priority = ('B', 'KB', 'MB', 'GB')\n",
    "sum_size = {}\n",
    "all_files = {}\n",
    "with open('files.txt', 'r') as pattern:\n",
    "    lines = [line.rstrip() for line in pattern]\n",
    "    for line in lines:\n",
    "        file, size, byte = line.split()\n",
    "        file, attr = file[:file.rfind('.')], file[file.rfind('.')+1:]\n",
    "        sum_size[attr] = sum_size.get(attr, {'size': 0, 'byte': 'B'})\n",
    "        sum_size[attr]['size'] += int(size) * sizes[byte]\n",
    "        if size_priority.index(sum_size[attr]['byte']) < size_priority.index(byte):\n",
    "            sum_size[attr]['byte'] = byte\n",
    "        all_files[attr] = all_files.get(attr, [])\n",
    "        all_files[attr].append(file)\n",
    "        \n",
    "for attr in sorted(all_files):\n",
    "    for file in sorted(all_files[attr]):\n",
    "        print(f'{file}.{attr}')\n",
    "    print('----------')\n",
    "    size, byte = sum_size[attr][\"size\"] / sizes[sum_size[attr][\"byte\"]], sum_size[attr][\"byte\"]\n",
    "    if size // 1024 > 1:\n",
    "        size = size / 1024\n",
    "        byte = size_priority[size_priority.index(byte) + 1]\n",
    "    print(f'Summary: {round(size)} {byte}\\n')\n",
    "    "
   ]
  },
  {
   "cell_type": "code",
   "execution_count": null,
   "metadata": {},
   "outputs": [],
   "source": [
    "from datetime import date\n",
    "\n",
    "dates = [date(2010, 9, 28), date(2017, 1, 13), date(2009, 12, 25), date(2010, 2, 27), date(2021, 10, 11), date(2020, 3, 13), date(2000, 7, 7), date(1999, 4, 14), date(1789, 11, 19), date(2013, 8, 21), date(1666, 6, 6), date(1968, 5, 26)]\n",
    "\n",
    "quaters = {1: 1, 2:1, 3:1, 4: 2, 5: 2, 6: 2, 7: 3, 8: 3, 9: 3, 10: 4, 11: 4, 12: 4}\n",
    "for m in dates:\n",
    "    print(f\"{m.year}Q{quaters[m.month]}\")"
   ]
  },
  {
   "cell_type": "code",
   "execution_count": null,
   "metadata": {},
   "outputs": [],
   "source": [
    "def get_min_max(dates):\n",
    "    if not dates:\n",
    "        return ()\n",
    "    return (min(dates), max(dates))\n",
    "\n",
    "dates = [date(2021, 10, 5), date(1992, 6, 10), date(2012, 2, 23), date(1995, 10, 12)]\n",
    "print(get_min_max(dates))"
   ]
  },
  {
   "cell_type": "code",
   "execution_count": null,
   "metadata": {},
   "outputs": [],
   "source": [
    "from datetime import date\n",
    "def get_date_range(start, end):\n",
    "    if start > end:\n",
    "        return []\n",
    "    return [date.fromordinal(i) for i in range(start.toordinal(), end.toordinal() + 1)]\n",
    "        \n",
    "\n",
    "date1 = date(2021, 10, 1)\n",
    "date2 = date(2021, 10, 5)\n",
    "\n",
    "print(*get_date_range(date1, date2), sep='\\n')"
   ]
  },
  {
   "cell_type": "code",
   "execution_count": null,
   "metadata": {},
   "outputs": [],
   "source": [
    "from datetime import date\n",
    "def saturdays_between_two_dates(start: date, end: date):\n",
    "    saturdays = 0\n",
    "    if start > end:\n",
    "        start, end = end, start\n",
    "    for i in [i for i in range(start.toordinal(), end.toordinal() + 1)]:\n",
    "        if date.fromordinal(i).weekday() == 5:\n",
    "            saturdays += 1\n",
    "    return saturdays\n",
    "\n",
    "date1 = date(2021, 11, 1)\n",
    "date2 = date(2021, 11, 22)\n",
    "\n",
    "print(saturdays_between_two_dates(date1, date2))"
   ]
  },
  {
   "cell_type": "markdown",
   "metadata": {},
   "source": [
    "<table align=\"center\" border=\"1\" cellpadding=\"1\" cellspacing=\"1\">\n",
    "\t<thead>\n",
    "\t\t<tr>\n",
    "\t\t\t<th>Формат</th>\n",
    "\t\t\t<th>Значение</th>\n",
    "\t\t\t<th>Пример</th>\n",
    "\t\t</tr>\n",
    "\t</thead>\n",
    "\t<tbody>\n",
    "\t\t<tr>\n",
    "\t\t\t<td style=\"text-align: center;\"><code>%a</code></td>\n",
    "\t\t\t<td>Сокращенное название дня недели</td>\n",
    "\t\t\t<td>Sun, Mon, …, Sat (en_US)<br>\n",
    "\t\t\tПн, Вт, ..., Вс (ru_RU)</td>\n",
    "\t\t</tr>\n",
    "\t\t<tr>\n",
    "\t\t\t<td style=\"text-align: center;\"><code>%A</code></td>\n",
    "\t\t\t<td>Полное название дня недели</td>\n",
    "\t\t\t<td>Sunday, Monday, …, Saturday (en_US)<br>\n",
    "\t\t\tпонедельник, ..., воскресенье (ru_RU)</td>\n",
    "\t\t</tr>\n",
    "\t\t<tr>\n",
    "\t\t\t<td style=\"text-align: center;\"><code>%w</code></td>\n",
    "\t\t\t<td>Номер дня недели [0, …, 6]</td>\n",
    "\t\t\t<td>0, 1, …, 6 (0=воскресенье, 6=суббота)</td>\n",
    "\t\t</tr>\n",
    "\t\t<tr>\n",
    "\t\t\t<td style=\"text-align: center;\"><code>%d</code></td>\n",
    "\t\t\t<td>День месяца [01, …, 31]</td>\n",
    "\t\t\t<td>01, 02, …, 31</td>\n",
    "\t\t</tr>\n",
    "\t\t<tr>\n",
    "\t\t\t<td style=\"text-align: center;\"><code>%b</code></td>\n",
    "\t\t\t<td>Сокращенное название месяца</td>\n",
    "\t\t\t<td>Jan, Feb, …, Dec (en_US);<br>\n",
    "\t\t\tянв, ..., дек (ru_RU)</td>\n",
    "\t\t</tr>\n",
    "\t\t<tr>\n",
    "\t\t\t<td style=\"text-align: center;\"><code>%B</code></td>\n",
    "\t\t\t<td>Полное название месяца</td>\n",
    "\t\t\t<td>January, February, …, December (en_US);<br>\n",
    "\t\t\tЯнварь, ..., Декабрь (ru_RU)</td>\n",
    "\t\t</tr>\n",
    "\t\t<tr>\n",
    "\t\t\t<td style=\"text-align: center;\"><code>%m</code></td>\n",
    "\t\t\t<td>Номер месяца [01, …,12]</td>\n",
    "\t\t\t<td>01, 02, …, 12</td>\n",
    "\t\t</tr>\n",
    "\t\t<tr>\n",
    "\t\t\t<td style=\"text-align: center;\"><code>%y</code></td>\n",
    "\t\t\t<td>Год без века [00, …, 99]</td>\n",
    "\t\t\t<td>00, 01, …, 99</td>\n",
    "\t\t</tr>\n",
    "\t\t<tr>\n",
    "\t\t\t<td style=\"text-align: center;\"><code>%Y</code></td>\n",
    "\t\t\t<td>Год с веком</td>\n",
    "\t\t\t<td>0001, 0002, …, 2013, 2014, …, 9999<br>\n",
    "\t\t\tВ Linux год выводится без ведущих нулей:<br>\n",
    "\t\t\t1, 2, …, 2013, 2014, …, 9999</td>\n",
    "\t\t</tr>\n",
    "\t\t<tr>\n",
    "\t\t\t<td style=\"text-align: center;\"><code>%H</code></td>\n",
    "\t\t\t<td>Час (24-часовой формат) [00, …, 23]</td>\n",
    "\t\t\t<td>00, 01, …, 23</td>\n",
    "\t\t</tr>\n",
    "\t\t<tr>\n",
    "\t\t\t<td style=\"text-align: center;\"><code>%I</code></td>\n",
    "\t\t\t<td>Час (12-часовой формат) [01, …, 12]</td>\n",
    "\t\t\t<td>01, 02, …, 12</td>\n",
    "\t\t</tr>\n",
    "\t\t<tr>\n",
    "\t\t\t<td style=\"text-align: center;\"><code>%p</code></td>\n",
    "\t\t\t<td>До полудня или после (при 12-часовом формате)</td>\n",
    "\t\t\t<td>AM, PM (en_US)</td>\n",
    "\t\t</tr>\n",
    "\t\t<tr>\n",
    "\t\t\t<td style=\"text-align: center;\"><code>%M</code></td>\n",
    "\t\t\t<td>Число минут [00, …, 59]</td>\n",
    "\t\t\t<td>00, 01, …, 59</td>\n",
    "\t\t</tr>\n",
    "\t\t<tr>\n",
    "\t\t\t<td style=\"text-align: center;\"><code>%S</code></td>\n",
    "\t\t\t<td>Число секунд [00, …, 59]</td>\n",
    "\t\t\t<td>00, 01, …, 59</td>\n",
    "\t\t</tr>\n",
    "\t\t<tr>\n",
    "\t\t\t<td style=\"text-align: center;\"><code>%f</code></td>\n",
    "\t\t\t<td>Число микросекунд</td>\n",
    "\t\t\t<td>000000, 000001, …, 999999</td>\n",
    "\t\t</tr>\n",
    "\t\t<tr>\n",
    "\t\t\t<td style=\"text-align: center;\"><code>%z</code></td>\n",
    "\t\t\t<td>Разница с UTC в формате ±HHMM[SS[.ffffff]]</td>\n",
    "\t\t\t<td>+0000, -0400, +1030, +063415, ...</td>\n",
    "\t\t</tr>\n",
    "\t\t<tr>\n",
    "\t\t\t<td style=\"text-align: center;\"><code>%Z</code></td>\n",
    "\t\t\t<td>Временная зона</td>\n",
    "\t\t\t<td>UTC, EST, CST</td>\n",
    "\t\t</tr>\n",
    "\t\t<tr>\n",
    "\t\t\t<td style=\"text-align: center;\"><code>%j</code></td>\n",
    "\t\t\t<td>День года [001,366]</td>\n",
    "\t\t\t<td>001, 002, …, 366</td>\n",
    "\t\t</tr>\n",
    "\t\t<tr>\n",
    "\t\t\t<td style=\"text-align: center;\"><code>%U</code></td>\n",
    "\t\t\t<td>\n",
    "\t\t\t<p>Номер недели в году&nbsp;(неделя начинается с воскр.).Неделя, предшествующая первому воскресенью, является нулевой. [00, …, 53]</p>\n",
    "\t\t\t</td>\n",
    "\t\t\t<td>00, 01, …, 53</td>\n",
    "\t\t</tr>\n",
    "\t\t<tr>\n",
    "\t\t\t<td style=\"text-align: center;\"><code>%W</code></td>\n",
    "\t\t\t<td>\n",
    "\t\t\t<p>Номер недели в году (неделя начинается с пон.) Неделя, предшествующая первому понедельнику, является нулевой. [00, …, 53]</p>\n",
    "\t\t\t</td>\n",
    "\t\t\t<td>00, 01, …, 53</td>\n",
    "\t\t</tr>\n",
    "\t\t<tr>\n",
    "\t\t\t<td style=\"text-align: center;\"><code>%c</code></td>\n",
    "\t\t\t<td>Дата и время</td>\n",
    "\t\t\t<td>Tue Aug 16 21:30:00 1988 (en_US);<br>\n",
    "\t\t\t03.01.2019 23:18:32 (ru_RU)</td>\n",
    "\t\t</tr>\n",
    "\t\t<tr>\n",
    "\t\t\t<td style=\"text-align: center;\"><code>%x</code></td>\n",
    "\t\t\t<td>Дата</td>\n",
    "\t\t\t<td>08/16/88 (None); 08/16/1988 (en_US);<br>\n",
    "\t\t\t03.01.2019 (ru_RU)</td>\n",
    "\t\t</tr>\n",
    "\t\t<tr>\n",
    "\t\t\t<td style=\"text-align: center;\"><code>%X</code></td>\n",
    "\t\t\t<td>Время</td>\n",
    "\t\t\t<td>21:30:00</td>\n",
    "\t\t</tr>\n",
    "\t</tbody>\n",
    "</table>"
   ]
  },
  {
   "cell_type": "code",
   "execution_count": null,
   "metadata": {},
   "outputs": [],
   "source": [
    "from datetime import time\n",
    "\n",
    "alarm = time(7, 30, 25)\n",
    "\n",
    "print('Часы:', alarm.strftime('%H'))\n",
    "print('Минуты:', alarm.strftime('%M'))\n",
    "print('Секунды:', alarm.strftime('%S'))"
   ]
  },
  {
   "cell_type": "code",
   "execution_count": null,
   "metadata": {},
   "outputs": [],
   "source": [
    "input.num = 0\n",
    "\n",
    "from datetime import date\n",
    "print(min(date.fromisoformat(input()), date.fromisoformat(input())).strftime('%d-%m (%Y)'))"
   ]
  },
  {
   "cell_type": "code",
   "execution_count": null,
   "metadata": {},
   "outputs": [],
   "source": [
    "input.num = 0\n",
    "\n",
    "from datetime import date\n",
    "\n",
    "def is_correct(day, month, year):\n",
    "    try:\n",
    "        date(year, month, day)\n",
    "        return True\n",
    "    except:\n",
    "        return False\n",
    "\n",
    "num_of_true = 0\n",
    "while True:\n",
    "    line = input()\n",
    "    if line == 'end':\n",
    "        print(num_of_true)\n",
    "        break\n",
    "    if is_correct(*map(int, line.split('.'))):\n",
    "        print('Корректная')\n",
    "        num_of_true += 1\n",
    "    else:\n",
    "        print('Некорректная')"
   ]
  },
  {
   "cell_type": "code",
   "execution_count": null,
   "metadata": {},
   "outputs": [],
   "source": [
    "input.num = 0\n",
    "\n",
    "from datetime import date\n",
    "n = int(input())\n",
    "dates = sorted([date.fromisoformat(input()) for _ in range(n)])\n",
    "for i in dates:\n",
    "    print(i.strftime('%d/%m/%Y'))"
   ]
  },
  {
   "cell_type": "code",
   "execution_count": null,
   "metadata": {},
   "outputs": [],
   "source": [
    "from datetime import date\n",
    "def print_good_dates(dates):\n",
    "    for d in sorted(dates):\n",
    "        if all((d.year == 1992, d.day + d.month == 29)):\n",
    "            print(d.strftime('%B %d, %Y'))\n",
    "    \n",
    "dates = [date(1992, 10, 19), date(1991, 12, 6), date(1992, 9, 20)]\n",
    "print_good_dates(dates)"
   ]
  },
  {
   "cell_type": "code",
   "execution_count": null,
   "metadata": {},
   "outputs": [],
   "source": [
    "from datetime import date\n",
    "\n",
    "def is_correct(day, month, year):\n",
    "    try:\n",
    "        date(year, month, day)\n",
    "        return True\n",
    "    except:\n",
    "        return False\n",
    "    \n",
    "print(is_correct(31, 12, 2021))\n",
    "print(is_correct(31, 13, 2021))\n"
   ]
  },
  {
   "cell_type": "code",
   "execution_count": null,
   "metadata": {},
   "outputs": [],
   "source": [
    "from datetime import datetime\n",
    "\n",
    "print(datetime.now())"
   ]
  },
  {
   "cell_type": "code",
   "execution_count": null,
   "metadata": {},
   "outputs": [],
   "source": [
    "from datetime import datetime\n",
    "\n",
    "seconds = 2483228800\n",
    "dt = datetime(2011, 11, 4)\n",
    "\n",
    "print(datetime.fromtimestamp(seconds))\n",
    "print(dt.timestamp())"
   ]
  },
  {
   "cell_type": "code",
   "execution_count": null,
   "metadata": {},
   "outputs": [],
   "source": [
    "from datetime import datetime\n",
    "\n",
    "times_of_purchases = [datetime(2017, 10, 1, 12, 23, 25), datetime(2017, 10, 1, 15, 26, 26), \n",
    "                      datetime(2017, 10, 1, 15, 42, 57), datetime(2017, 10, 1, 17, 49, 59), \n",
    "                      datetime(2017, 10, 2, 6, 37, 10), datetime(2017, 10, 2, 6, 42, 53), \n",
    "                      datetime(2017, 10, 2, 8, 56, 45), datetime(2017, 10, 2, 9, 18, 3), \n",
    "                      datetime(2017, 10, 2, 12, 23, 48), datetime(2017, 10, 2, 12, 45, 5), \n",
    "                      datetime(2017, 10, 2, 12, 48, 8), datetime(2017, 10, 2, 12, 10, 54), \n",
    "                      datetime(2017, 10, 2, 19, 18, 10), datetime(2017, 10, 2, 12, 31, 45), \n",
    "                      datetime(2017, 10, 3, 20, 57, 10), datetime(2017, 10, 4, 7, 4, 57), \n",
    "                      datetime(2017, 10, 4, 7, 13, 31), datetime(2017, 10, 4, 7, 13, 42), \n",
    "                      datetime(2017, 10, 4, 7, 21, 54), datetime(2017, 10, 4, 14, 22, 12), \n",
    "                      datetime(2017, 10, 4, 14, 50), datetime(2017, 10, 4, 15, 7, 27), \n",
    "                      datetime(2017, 10, 4, 12, 44, 49), datetime(2017, 10, 4, 12, 46, 41), \n",
    "                      datetime(2017, 10, 4, 16, 32, 33), datetime(2017, 10, 4, 16, 34, 44), \n",
    "                      datetime(2017, 10, 4, 16, 46, 59), datetime(2017, 10, 4, 12, 26, 6)]\n",
    "\n",
    "if len(tuple(i for i in times_of_purchases if i.hour < 12)) > len(times_of_purchases):\n",
    "    print('До полудня')\n",
    "else:\n",
    "    print('После полудня')"
   ]
  },
  {
   "cell_type": "code",
   "execution_count": null,
   "metadata": {},
   "outputs": [],
   "source": [
    "from datetime import date, time, datetime\n",
    "\n",
    "dates = [date(1793, 8, 23), date(1410, 3, 11), date(804, 11, 12), date(632, 6, 4),\n",
    "         date(295, 1, 23), date(327, 8, 24), date(167, 4, 16), date(229, 1, 24), \n",
    "         date(1239, 2, 5), date(1957, 7, 14), date(197, 8, 24), date(479, 9, 6)]\n",
    "\n",
    "times = [time(7, 33, 27), time(21, 2, 10), time(17, 20, 47), time(20, 8, 59), \n",
    "         time(12, 42, 56), time(15, 9, 57), time(17, 47, 9), time(9, 40, 2), \n",
    "         time(11, 47, 1), time(17, 27, 10), time(17, 55, 40), time(9, 14, 9)]\n",
    "\n",
    "dts = []\n",
    "for d, t in zip(dates, times):\n",
    "    dts.append(datetime.combine(d, t))\n",
    "for d in sorted(dts, key=lambda x: x.second):\n",
    "    print(d)\n",
    "    "
   ]
  },
  {
   "cell_type": "code",
   "execution_count": null,
   "metadata": {},
   "outputs": [],
   "source": [
    "from datetime import datetime\n",
    "\n",
    "data = {'Дима': ('03.11.2021 09:31:18', '03.11.2021 11:41:28'), \n",
    "        'Геор': ('01.11.2021 09:03:04', '01.11.2021 12:40:35'), \n",
    "        'Анна': ('02.11.2021 04:41:54', '02.11.2021 05:39:40'), \n",
    "        'Илина': ('02.11.2021 01:36:40', '02.11.2021 04:48:27'), \n",
    "        'Герман': ('04.11.2021 07:51:19', '04.11.2021 09:53:53'), \n",
    "        'Руслан': ('01.11.2021 11:26:06', '01.11.2021 12:56:24'), \n",
    "        'Лера': ('03.11.2021 11:09:41', '03.11.2021 14:37:41'), \n",
    "        'Егор': ('03.11.2021 05:29:38', '03.11.2021 06:01:59'), \n",
    "        'Максим': ('05.11.2021 13:05:03', '05.11.2021 14:27:41'), \n",
    "        'Саша': ('03.11.2021 04:14:26', '03.11.2021 05:10:58'), \n",
    "        'Марина': ('05.11.2021 15:21:06', '05.11.2021 18:33:46')}\n",
    "\n",
    "for name, dates in data.items():\n",
    "    time_counter = datetime.strptime(dates[1], '%d.%m.%Y %H:%M:%S') - datetime.strptime(dates[0], '%d.%m.%Y %H:%M:%S')\n",
    "    data[name] = time_counter\n",
    "print(sorted(data, key=lambda x: data[x])[0])"
   ]
  },
  {
   "cell_type": "code",
   "execution_count": null,
   "metadata": {},
   "outputs": [],
   "source": [
    "from datetime import datetime\n",
    "\n",
    "with open('diary.txt', 'r', encoding='utf-8') as pattern:\n",
    "    reslt = dict()\n",
    "    writes = {datetime.strptime(i.split('\\n')[0], '%d.%m.%Y; %H:%M'): i for i in pattern.read().split('\\n\\n')}\n",
    "    writes_list = sorted(writes)\n",
    "    \n",
    "print('\\n\\n'.join([writes[i] for i in writes_list]))"
   ]
  },
  {
   "cell_type": "code",
   "execution_count": null,
   "metadata": {},
   "outputs": [],
   "source": [
    "from datetime import datetime\n",
    "\n",
    "def get_date_range(start, end):\n",
    "    if start > end:\n",
    "        return []\n",
    "    return [datetime.fromordinal(i) for i in range(start.toordinal(), end.toordinal() + 1)]\n",
    "\n",
    "def date_interval(string: list|str):\n",
    "    if '-' not in string:\n",
    "        return [datetime.strptime(string, '%d.%m.%Y')]\n",
    "    elif '-' in string:\n",
    "        return get_date_range(\n",
    "                datetime.strptime(string.split('-')[0], '%d.%m.%Y'),\n",
    "                datetime.strptime(string.split('-')[1], '%d.%m.%Y')\n",
    "            )\n",
    "    \n",
    "\n",
    "def is_available_date(booked_dates: list, date_for_booking: str):\n",
    "    booked_d_dts = []\n",
    "    date_for_booking_dts = []\n",
    "    for i in booked_dates:\n",
    "        booked_d_dts += date_interval(i)\n",
    "    date_for_booking_dts += date_interval(date_for_booking)\n",
    "    for d in date_for_booking_dts:\n",
    "        if d in booked_d_dts:\n",
    "            return False\n",
    "    return True\n",
    "\n",
    "\n",
    "dates = ['04.11.2021', '05.11.2021-09.11.2021']\n",
    "some_date = '01.11.2021-04.11.2021'\n",
    "print(is_available_date(dates, some_date))\n",
    "dates = ['04.11.2021', '05.11.2021-09.11.2021']\n",
    "some_date = '01.11.2021'\n",
    "print(is_available_date(dates, some_date))"
   ]
  },
  {
   "cell_type": "code",
   "execution_count": null,
   "metadata": {},
   "outputs": [],
   "source": [
    "from datetime import timedelta\n",
    "\n",
    "td = timedelta(weeks=-1, hours=-20, minutes=-120)\n",
    "abs_td = abs(td)\n",
    "\n",
    "print(td)\n",
    "# print(abs_td)"
   ]
  },
  {
   "cell_type": "code",
   "execution_count": null,
   "metadata": {},
   "outputs": [],
   "source": [
    "from datetime import datetime, timedelta\n",
    "\n",
    "dt = datetime(2021, 11, 4, 13, 6) + timedelta(weeks=1, hours=12)\n",
    "\n",
    "print(dt.strftime('%d.%m.%Y %H.%M.%S'))"
   ]
  },
  {
   "cell_type": "code",
   "execution_count": null,
   "metadata": {},
   "outputs": [],
   "source": [
    "from datetime import datetime, timedelta\n",
    "\n",
    "d = datetime.strptime(input(), '%d.%m.%Y')\n",
    "print((d - timedelta(days=1)).strftime('%d.%m.%Y'))\n",
    "print((d + timedelta(days=1)).strftime('%d.%m.%Y'))\n"
   ]
  },
  {
   "cell_type": "code",
   "execution_count": null,
   "metadata": {},
   "outputs": [],
   "source": []
  },
  {
   "cell_type": "code",
   "execution_count": null,
   "metadata": {},
   "outputs": [],
   "source": [
    "input.num =0\n",
    "\n",
    "from datetime import datetime\n",
    "t = datetime.strptime(input(), '%H:%M:%S')\n",
    "print(t)\n",
    "print(t.hour * 3600 + t.minute * 60 + t.second)"
   ]
  },
  {
   "cell_type": "code",
   "execution_count": null,
   "metadata": {},
   "outputs": [],
   "source": [
    "input.num =0\n",
    "\n",
    "from datetime import datetime, timedelta\n",
    "t = datetime.strptime(input(), '%H:%M:%S')\n",
    "sec = timedelta(seconds=int(input()))\n",
    "print((t + sec).strftime('%H:%M:%S'))"
   ]
  },
  {
   "cell_type": "code",
   "execution_count": null,
   "metadata": {},
   "outputs": [],
   "source": [
    "from datetime import date\n",
    "\n",
    "def num_of_sundays(year):\n",
    "    sundays = 0\n",
    "    start, end = date(year=year, month=1, day=1), date(year=year+1,month=1,day=1)\n",
    "    for i in [i for i in range(start.toordinal(), end.toordinal())]:\n",
    "        if date.fromordinal(i).weekday() == 6:\n",
    "            sundays += 1\n",
    "    return sundays\n",
    "\n",
    "print(num_of_sundays(2021))"
   ]
  },
  {
   "cell_type": "code",
   "execution_count": null,
   "metadata": {},
   "outputs": [],
   "source": [
    "input.num = 0\n",
    "\n",
    "from datetime import datetime, timedelta\n",
    "start = datetime.strptime(input(), '%d.%m.%Y')\n",
    "for i in range (1, 11):\n",
    "    print(start.strftime('%d.%m.%Y'))\n",
    "    start += timedelta(days=i+1)"
   ]
  },
  {
   "cell_type": "code",
   "execution_count": null,
   "metadata": {},
   "outputs": [],
   "source": [
    "input.num = 0\n",
    "\n",
    "from datetime import datetime\n",
    "pattern = '%d.%m.%Y'\n",
    "dates = input().split()\n",
    "reslt = []\n",
    "for i in range(len(dates) - 1):\n",
    "    reslt.append(abs((datetime.strptime(dates[i], pattern) - datetime.strptime(dates[i+1], pattern)).days))\n",
    "\n",
    "print(reslt)"
   ]
  },
  {
   "cell_type": "code",
   "execution_count": null,
   "metadata": {},
   "outputs": [],
   "source": [
    "input.num = 0\n",
    "\n",
    "from datetime import datetime\n",
    "pattern = '%d.%m.%Y'\n",
    "dates = [datetime.strptime(i, pattern) for i in input().split()]\n",
    "reslt = [abs((dates[i] - dates[i+1]).days) for i in range(len(dates) - 1)]\n",
    "\n",
    "print(reslt)"
   ]
  },
  {
   "cell_type": "code",
   "execution_count": null,
   "metadata": {},
   "outputs": [],
   "source": [
    "from datetime import datetime\n",
    "def fill_up_missing_dates(dates):\n",
    "    dates = [datetime.strptime(i, '%d.%m.%Y') for i in dates]\n",
    "    reslt = []\n",
    "    for i in range(sorted(dates)[0].toordinal(), sorted(dates)[-1].toordinal()+1):\n",
    "        reslt.append(datetime.fromordinal(i).strftime('%d.%m.%Y'))\n",
    "    return reslt\n",
    "\n",
    "\n",
    "dates = ['01.11.2021', '07.11.2021', '04.11.2021', '03.11.2021']\n",
    "\n",
    "print(fill_up_missing_dates(dates))"
   ]
  },
  {
   "cell_type": "code",
   "execution_count": null,
   "metadata": {},
   "outputs": [],
   "source": [
    "input.num = 0\n",
    "\n",
    "from datetime import datetime, timedelta\n",
    "pattern, work, slp = '%H:%M', timedelta(minutes=45), timedelta(minutes=10)\n",
    "start, end = datetime.strptime(input(), pattern), datetime.strptime(input(), pattern)\n",
    "now_time = start\n",
    "while now_time <= end:\n",
    "    now_time = start + work\n",
    "    if now_time <= end:\n",
    "        print(f'{start.strftime(pattern)} - {now_time.strftime(pattern)}')\n",
    "    start += work + slp\n"
   ]
  },
  {
   "cell_type": "code",
   "execution_count": null,
   "metadata": {},
   "outputs": [],
   "source": [
    "from datetime import date, time, datetime, timedelta\n",
    "\n",
    "data = [('07:14', '08:46'),\n",
    "        ('09:01', '09:37'),\n",
    "        ('10:00', '11:43'),\n",
    "        ('12:13', '13:49'),\n",
    "        ('15:00', '15:19'),\n",
    "        ('15:58', '17:24'),\n",
    "        ('17:57', '19:21'),\n",
    "        ('19:30', '19:59')]\n",
    "\n",
    "pattern = '%H:%M'\n",
    "reslt = timedelta(minutes=0)\n",
    "for r in data:\n",
    "    reslt += datetime.strptime(r[1], pattern) - datetime.strptime(r[0], pattern)\n",
    "\n",
    "print(reslt.seconds // 60)"
   ]
  },
  {
   "cell_type": "code",
   "execution_count": 3,
   "metadata": {},
   "outputs": [
    {
     "name": "stdout",
     "output_type": "stream",
     "text": [
      "17123\n",
      "17124\n",
      "17173\n",
      "17097\n",
      "17199\n",
      "17099\n",
      "17173\n"
     ]
    }
   ],
   "source": [
    "#01.01.0001 по 31.12.9999\n",
    "from datetime import datetime\n",
    "from collections import defaultdict\n",
    "\n",
    "reslt = {}\n",
    "for i in range(datetime(1, 1, 1).toordinal(), datetime(9999,12,31).toordinal()):\n",
    "    if datetime.fromordinal(i).day == 13:\n",
    "        reslt[datetime.fromordinal(i).weekday()] = reslt.get(datetime.fromordinal(i).weekday(), 0) + 1\n",
    "    \n",
    "for i in sorted(reslt):\n",
    "    print(reslt[i])"
   ]
  },
  {
   "cell_type": "code",
   "execution_count": 45,
   "metadata": {},
   "outputs": [
    {
     "name": "stdout",
     "output_type": "stream",
     "text": [
      "Магазин не работает\n"
     ]
    }
   ],
   "source": [
    "input.num = 0\n",
    "from datetime import datetime, timedelta\n",
    "\n",
    "pattern = '%d.%m.%Y %H:%M'\n",
    "schedule = (\n",
    "    (timedelta(hours=9), timedelta(hours=21)),\n",
    "    (timedelta(hours=9), timedelta(hours=21)),\n",
    "    (timedelta(hours=9), timedelta(hours=21)),\n",
    "    (timedelta(hours=9), timedelta(hours=21)),\n",
    "    (timedelta(hours=9), timedelta(hours=21)),\n",
    "    (timedelta(hours=10), timedelta(hours=18)),\n",
    "    (timedelta(hours=10), timedelta(hours=18))\n",
    ")\n",
    "d = datetime.strptime(input(), pattern)\n",
    "if d.hour * 60 + d.minute - schedule[d.weekday()][0].seconds // 60 >= 0 and d.hour * 60 + d.minute - schedule[d.weekday()][1].seconds // 60 < 0:\n",
    "    print(schedule[d.weekday()][1].seconds // 60 - d.hour * 60 - d.minute)\n",
    "else:\n",
    "    print('Магазин не работает')\n"
   ]
  },
  {
   "cell_type": "code",
   "execution_count": 18,
   "metadata": {},
   "outputs": [
    {
     "name": "stdout",
     "output_type": "stream",
     "text": [
      "06.11.2021\n",
      "09.11.2021\n",
      "12.11.2021\n",
      "21.11.2021\n",
      "24.11.2021\n",
      "27.11.2021\n"
     ]
    }
   ],
   "source": [
    "#ХУЙНЯ, НИЖЕ ПОПРЕТ\n",
    "input.num = 0\n",
    "\n",
    "\n",
    "from datetime import datetime, timedelta\n",
    "\n",
    "pattern = '%d.%m.%Y'\n",
    "def get_date_range(start, end):\n",
    "    counter = 0\n",
    "    result = []\n",
    "    enable = False\n",
    "    for i in range(start.toordinal(), end.toordinal() + 1):\n",
    "        data = datetime.fromordinal(i)\n",
    "        if enable and counter % 3 == 0:\n",
    "            if data.weekday() not in (0, 3):\n",
    "                result.append(data.strftime(pattern))\n",
    "        if not enable and (data.day + data.month) % 2:\n",
    "            result.append(data.strftime(pattern))\n",
    "            enable = True\n",
    "            counter = 0\n",
    "        counter += 1\n",
    "    return result\n",
    "\n",
    "start, end = datetime.strptime(input(), pattern), datetime.strptime(input(), pattern)\n",
    "print('\\n'.join(get_date_range(start, end)))"
   ]
  },
  {
   "cell_type": "code",
   "execution_count": 19,
   "metadata": {},
   "outputs": [
    {
     "name": "stdout",
     "output_type": "stream",
     "text": [
      "\n"
     ]
    }
   ],
   "source": [
    "input.num = 0\n",
    "\n",
    "from datetime import datetime, timedelta\n",
    "\n",
    "pattern = '%d.%m.%Y'\n",
    "def get_date_range(start, end):\n",
    "    td = timedelta(days=3)\n",
    "    result = []\n",
    "    enabled = False\n",
    "    i = start\n",
    "    while i <= end:\n",
    "        if enabled:\n",
    "            if i.weekday() not in (0, 3):\n",
    "                result.append(i.strftime(pattern))\n",
    "            i += td\n",
    "        if not enabled:\n",
    "            if (i.day + i.month) % 2:\n",
    "                enabled = True\n",
    "                if i.weekday() not in (0, 3):\n",
    "                    result.append(i.strftime(pattern))\n",
    "                i += td\n",
    "                continue\n",
    "            i += timedelta(days=1)\n",
    "    return result\n",
    "\n",
    "start, end = datetime.strptime(input(), pattern), datetime.strptime(input(), pattern)\n",
    "print('\\n'.join(get_date_range(start, end)))"
   ]
  },
  {
   "cell_type": "code",
   "execution_count": 21,
   "metadata": {},
   "outputs": [
    {
     "name": "stdout",
     "output_type": "stream",
     "text": [
      "02.11.2021\n",
      "05.11.2021\n"
     ]
    }
   ],
   "source": [
    "# красивое решение предыдущего\n",
    "\n",
    "input.num = 0\n",
    "\n",
    "from datetime import datetime, timedelta\n",
    "\n",
    "start, end = datetime.strptime(input(), pattern), datetime.strptime(input(), pattern)\n",
    "while (start.day + start.month) % 2 == 0:\n",
    "    start += timedelta(days=1)\n",
    "    \n",
    "while start <= end:\n",
    "    if start.weekday() not in (0, 3):\n",
    "        print(start.strftime(pattern))\n",
    "    start += timedelta(days=3)"
   ]
  },
  {
   "cell_type": "code",
   "execution_count": 13,
   "metadata": {},
   "outputs": [
    {
     "name": "stdout",
     "output_type": "stream",
     "text": [
      "29.04.1995 Петр Сергеев\n"
     ]
    }
   ],
   "source": [
    "input.num = 0\n",
    "\n",
    "from datetime import datetime\n",
    "from collections import defaultdict\n",
    "\n",
    "result = defaultdict(list)\n",
    "for _ in range(int(input())):\n",
    "    nd = input().split()\n",
    "    name = ' '.join(nd[:2])\n",
    "    result[datetime.strptime(nd[2], '%d.%m.%Y')].append(name)\n",
    "    \n",
    "print(f'{min(result).strftime(\"%d.%m.%Y\")}', end=' ')\n",
    "if len(result[min(result)]) > 1:\n",
    "    print(len(result[min(result)]))\n",
    "else:\n",
    "    print(' '.join(result[min(result)]))"
   ]
  },
  {
   "cell_type": "code",
   "execution_count": 20,
   "metadata": {},
   "outputs": [
    {
     "name": "stdout",
     "output_type": "stream",
     "text": [
      "01.05.1995\n",
      "01.01.1996\n"
     ]
    }
   ],
   "source": [
    "input.num = 0\n",
    "\n",
    "from datetime import datetime\n",
    "from collections import defaultdict\n",
    "\n",
    "result = defaultdict(int)\n",
    "for _ in range(int(input())):\n",
    "    nd = input().split()\n",
    "    name = ' '.join(nd[:2])\n",
    "    result[datetime.strptime(nd[2], '%d.%m.%Y')] += 1\n",
    "    \n",
    "print('\\n'.join([i.strftime('%d.%m.%Y') for i in sorted(result) if result[i] == max(result.values())]))\n"
   ]
  },
  {
   "cell_type": "code",
   "execution_count": 29,
   "metadata": {},
   "outputs": [
    {
     "name": "stdout",
     "output_type": "stream",
     "text": [
      "Петр Сергеев\n"
     ]
    }
   ],
   "source": [
    "input.num = 0\n",
    "\n",
    "from datetime import datetime, timedelta\n",
    "pattern = '%d.%m.%Y'\n",
    "start = datetime.strptime(input(), pattern).replace(year=1)\n",
    "result = dict()\n",
    "for _ in range(int(input())):\n",
    "    nd = input().split()\n",
    "    name = ' '.join(nd[:2])\n",
    "    result[datetime.strptime(nd[2], pattern)] = name\n",
    "\n",
    "for i in sorted(result, reverse=True):\n",
    "    k = i.replace(year=1)\n",
    "    if (k - start).days < 0:\n",
    "        k = i.replace(year=2)\n",
    "    if 0 < (k - start).days <= 7:\n",
    "        print(result[i])\n",
    "        break\n",
    "else:\n",
    "    print('Дни рождения не планируются')\n",
    "\n",
    "\n",
    "# print(result)"
   ]
  },
  {
   "cell_type": "code",
   "execution_count": 86,
   "metadata": {},
   "outputs": [
    {
     "name": "stdout",
     "output_type": "stream",
     "text": [
      "Курс уже вышел!\n"
     ]
    }
   ],
   "source": [
    "input.num = 0\n",
    "\n",
    "from datetime import datetime, timedelta\n",
    "\n",
    "inc = (\n",
    "    ('день', 'дня', 'дней'),\n",
    "    ('час', 'часа', 'часов'),\n",
    "    ('минута', 'минуты', 'минут'),\n",
    ")\n",
    "\n",
    "def choose_plural(amount, declensions):\n",
    "    suffixes = {\n",
    "        1: 0, 2: 1, 3: 1, 4: 1, 5: 2, 6: 2, 7: 2, 8: 2, 9: 2, 10: 2,\n",
    "        11: 2, 12: 2, 13: 2, 14: 2, 15: 2, 16: 2, 17: 2, 18: 2, 19: 2, 20: 2, 0: 2,\n",
    "    }\n",
    "    amount = str(amount)\n",
    "    for k, v in suffixes.items():\n",
    "        k = str(k)\n",
    "        if all((len(amount) >= len(k), amount.rfind(k) == len(amount) - len(k))):\n",
    "            reslt = v\n",
    "    return f'{amount} {declensions[reslt]}'\n",
    "\n",
    "dead = datetime(day=8, month=11, year=2022, hour=12, minute=0)\n",
    "data = datetime.strptime(input(), '%d.%m.%Y %H:%M')\n",
    "if data >= dead:\n",
    "    print('Курс уже вышел!')\n",
    "else:\n",
    "    data = dead - data\n",
    "    rlist = [data.days, data.seconds // 3600, data.seconds % 3600 // 60]\n",
    "\n",
    "    i = 0\n",
    "    while rlist[i] == 0:\n",
    "        i+=1\n",
    "    sl = min(len(rlist), i+2)\n",
    "    s1 = choose_plural(rlist[i], inc[i])\n",
    "    s2 = ''\n",
    "    if sl-1 > i:\n",
    "        if rlist[sl-1]:\n",
    "            s2 = f' и {choose_plural(rlist[sl-1], inc[sl-1])}'\n",
    "\n",
    "    print(f'До выхода курса осталось: {s1}{s2}')"
   ]
  },
  {
   "cell_type": "code",
   "execution_count": 91,
   "metadata": {},
   "outputs": [
    {
     "name": "stdout",
     "output_type": "stream",
     "text": [
      "(6, 2.999930999998469)\n"
     ]
    }
   ],
   "source": [
    "import time\n",
    "\n",
    "def calculate_it(func, *args):\n",
    "    start = time.perf_counter()\n",
    "    result = func(*args)\n",
    "    return (result, time.perf_counter() - start)\n",
    "\n",
    "def add(a, b, c):\n",
    "    time.sleep(3)\n",
    "    return a + b + c\n",
    "\n",
    "print(calculate_it(add, 1, 2, 3))"
   ]
  },
  {
   "cell_type": "code",
   "execution_count": 102,
   "metadata": {},
   "outputs": [
    {
     "data": {
      "text/plain": [
       "(<function time.sleep>, 3.00024019999546)"
      ]
     },
     "execution_count": 102,
     "metadata": {},
     "output_type": "execute_result"
    }
   ],
   "source": [
    "import time\n",
    "\n",
    "def get_the_fastest_func(funcs, arg):\n",
    "    spent_time = 0\n",
    "    for f in funcs:\n",
    "        start = time.perf_counter()\n",
    "        f(arg)\n",
    "        end = time.perf_counter()\n",
    "        if spent_time:\n",
    "            if end - start < spent_time:\n",
    "                fast_f = f\n",
    "                spent_time = end - start\n",
    "        else:\n",
    "            fast_f = f\n",
    "            spent_time = end - start\n",
    "    return fast_f, spent_time\n",
    "            \n",
    "get_the_fastest_func([time.sleep, time.sleep, time.sleep], 3)"
   ]
  },
  {
   "cell_type": "code",
   "execution_count": 96,
   "metadata": {},
   "outputs": [
    {
     "name": "stdout",
     "output_type": "stream",
     "text": [
      "<built-in function factorial>\n"
     ]
    }
   ],
   "source": [
    "from math import factorial                   # функция из модуля math     \n",
    "\n",
    "\n",
    "def factorial_recurrent(n):                  # рекурсивная функция\n",
    "    if n == 0:\n",
    "        return 1\n",
    "    return n * factorial_recurrent(n - 1)    \n",
    "\n",
    "\n",
    "def factorial_classic(n):                    # итеративная функция\n",
    "    f = 1\n",
    "    for i in range(2, n + 1):\n",
    "        f *= i\n",
    "    return f\n",
    "\n",
    "print(get_the_fastest_func([factorial, factorial_classic, factorial_recurrent], 900))"
   ]
  },
  {
   "cell_type": "code",
   "execution_count": 97,
   "metadata": {},
   "outputs": [
    {
     "name": "stdout",
     "output_type": "stream",
     "text": [
      "<function list_comprehension at 0x00000225899A7D00>\n"
     ]
    }
   ],
   "source": [
    "def for_and_append(n):                            # с использованием цикла for и метода append()\n",
    "    iterations = n\n",
    "    result = []\n",
    "    for i in range(iterations):\n",
    "        result.append(i + 1)\n",
    "    return result\n",
    "        \n",
    "\n",
    "def list_comprehension(n):                        # с использованием списочного выражения\n",
    "    iterations = n\n",
    "    return [i + 1 for i in range(iterations)]\n",
    "\n",
    "print(get_the_fastest_func([for_and_append, list_comprehension], 10_000_000))"
   ]
  },
  {
   "cell_type": "code",
   "execution_count": 104,
   "metadata": {},
   "outputs": [
    {
     "name": "stdout",
     "output_type": "stream",
     "text": [
      "(<function list_function at 0x00000225898DE9E0>, 2.699528299999656)\n"
     ]
    }
   ],
   "source": [
    "def for_and_append(iterable):             # с использованием цикла for и метода append()\n",
    "    result = []\n",
    "    for elem in iterable:\n",
    "        result.append(elem)\n",
    "    return result\n",
    "        \n",
    "\n",
    "def list_comprehension(iterable):         # с использованием списочного выражения\n",
    "    return [elem for elem in iterable]    \n",
    "    \n",
    "\n",
    "def list_function(iterable):              # с использованием встроенной функции list()\n",
    "    return list(iterable) \n",
    "\n",
    "print(get_the_fastest_func([for_and_append, list_comprehension, list_function], range(100_000_000)))"
   ]
  },
  {
   "cell_type": "code",
   "execution_count": 2,
   "metadata": {},
   "outputs": [
    {
     "name": "stdout",
     "output_type": "stream",
     "text": [
      "False\n",
      "True\n",
      "False\n"
     ]
    }
   ],
   "source": [
    "input.num = 0\n",
    "\n",
    "import calendar\n",
    "\n",
    "for _ in range(int(input())):\n",
    "    print(calendar.isleap(int(input())))"
   ]
  },
  {
   "cell_type": "code",
   "execution_count": 10,
   "metadata": {},
   "outputs": [
    {
     "ename": "TypeError",
     "evalue": "'_localized_month' object is not callable",
     "output_type": "error",
     "traceback": [
      "\u001b[1;31m---------------------------------------------------------------------------\u001b[0m",
      "\u001b[1;31mTypeError\u001b[0m                                 Traceback (most recent call last)",
      "Cell \u001b[1;32mIn[10], line 6\u001b[0m\n\u001b[0;32m      3\u001b[0m \u001b[38;5;28;01mimport\u001b[39;00m \u001b[38;5;21;01mcalendar\u001b[39;00m\n\u001b[0;32m      5\u001b[0m year, month \u001b[38;5;241m=\u001b[39m \u001b[38;5;28minput\u001b[39m()\u001b[38;5;241m.\u001b[39msplit()\n\u001b[1;32m----> 6\u001b[0m year, month \u001b[38;5;241m=\u001b[39m \u001b[38;5;28mint\u001b[39m(year), \u001b[43mcalendar\u001b[49m\u001b[38;5;241;43m.\u001b[39;49m\u001b[43mmonth_abbr\u001b[49m\u001b[43m(\u001b[49m\u001b[43m)\u001b[49m\u001b[38;5;241m.\u001b[39mindex(month)\n\u001b[0;32m      7\u001b[0m \u001b[38;5;28mprint\u001b[39m(calendar\u001b[38;5;241m.\u001b[39mmonth(year, month))\n",
      "\u001b[1;31mTypeError\u001b[0m: '_localized_month' object is not callable"
     ]
    }
   ],
   "source": [
    "input.num = 0\n",
    "\n",
    "import calendar\n",
    "\n",
    "year, month = input().split()\n",
    "year, month = int(year), list(calendar.month_abbr()).index(month)\n",
    "print(calendar.month(year, month))\n"
   ]
  }
 ],
 "metadata": {
  "kernelspec": {
   "display_name": "Python 3",
   "language": "python",
   "name": "python3"
  },
  "language_info": {
   "codemirror_mode": {
    "name": "ipython",
    "version": 3
   },
   "file_extension": ".py",
   "mimetype": "text/x-python",
   "name": "python",
   "nbconvert_exporter": "python",
   "pygments_lexer": "ipython3",
   "version": "3.10.10"
  }
 },
 "nbformat": 4,
 "nbformat_minor": 2
}
